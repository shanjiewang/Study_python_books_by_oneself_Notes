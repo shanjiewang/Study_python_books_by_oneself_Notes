{
 "cells": [
  {
   "cell_type": "code",
   "execution_count": 1,
   "id": "2ff2fd10",
   "metadata": {
    "scrolled": true
   },
   "outputs": [
    {
     "name": "stdout",
     "output_type": "stream",
     "text": [
      "dict建立字典: {'鍵1': 'a', '鍵2': 'b', '鍵3': 'c'}\n",
      "雙字元才能轉換成字典: {'鍵': 'a', 'B': '0', '#': '^'}\n",
      "\n",
      "新增字典內容: {'鍵1': 'a', '鍵2': 'b', '鍵3': 'c', '鍵4': 'd'}\n",
      "\n",
      "鍵的值相同以最後一個為主: {'鍵1': 'a', '鍵2': 'bbbb', '鍵3': 'c', '鍵4': 'd'}\n",
      "直接輸入鍵 取得指定內容: bbbb\n",
      "用get鍵 取得指定內容: bbbb\n",
      "用values取的所有值: dict_values(['a', 'bbbb', 'c', 'd'])\n",
      "\n",
      "!!重要!! 用keys取的所有鍵一定要轉成list: ['鍵1', '鍵2', '鍵3', '鍵4']\n",
      "\n"
     ]
    }
   ],
   "source": [
    "# 8-0\n",
    "##### 字典 #####\n",
    "\n",
    "# 字典是沒有順序性的 所以你無法使用index來查找字典內的資料\n",
    "\n",
    "dicts=dict(鍵1='a',鍵2='b',鍵3='c')\n",
    "print(f'dict建立字典: {dicts}')\n",
    "\n",
    "dicts1=['鍵a','B0','#^']\n",
    "print(f'雙字元才能轉換成字典: {dict(dicts1)}\\n')\n",
    "\n",
    "dicts['鍵4']='d'\n",
    "print(f'新增字典內容: {dicts}\\n')\n",
    "\n",
    "dicts['鍵2']='bbbb'\n",
    "print(f'鍵的值相同以最後一個為主: {dicts}')\n",
    "print(f'直接輸入鍵 取得指定內容: {dicts[\"鍵2\"]}')\n",
    "print(f'用get鍵 取得指定內容: {dicts.get(\"鍵2\",\"No\")}')\n",
    "print(f'用values取的所有值: {dicts.values()}\\n')\n",
    "\n",
    "#### 需呼叫list來將從dict取出的key轉換成串列 ####\n",
    "print(f'!!重要!! 用keys取的所有鍵一定要轉成list: {list(dicts.keys())}\\n')\n"
   ]
  },
  {
   "cell_type": "code",
   "execution_count": 2,
   "id": "e49d1ff8",
   "metadata": {
    "scrolled": true
   },
   "outputs": [
    {
     "name": "stdout",
     "output_type": "stream",
     "text": [
      "用**結合字典: {'鍵1': 'a', '鍵2': 'bbbb', '鍵3': 'c', '鍵4': 'd', '鍵80': 'q', '鍵81': 'w', '鍵82': 'e'}\n",
      "\n",
      "用update結合字典: {'鍵1': 'a', '鍵2': 'bbbb', '鍵3': 'c', '鍵4': 'd', '鍵100': '@@@', '鍵101': '$$$'}\n",
      "\n",
      "用update更改字典值: {'鍵1': 'aaaaaa', '鍵2': 'bbbb', '鍵3': 'c', '鍵4': 'd', '鍵100': 10000000000, '鍵101': '$$$'}\n",
      "\n",
      "用**更改字典值: {'鍵1': 'aaaaaa', '鍵2': 'bbbb', '鍵3': 'c', '鍵4': 'd', '鍵100': 10000000000, '鍵101': '我愛101$$$'}\n",
      "\n",
      "用=更改字典值: {'鍵1': '~~~@@~~~', '鍵2': 'bbbb', '鍵3': 'c', '鍵4': 'd', '鍵100': 10000000000, '鍵101': '我愛101$$$'}\n",
      "\n",
      "用for更改字典值: {'鍵1': '~~~@@~~~', '鍵2': 'bbbbbbbbbbbbbbbbb', '鍵3': 'c', '鍵4': 'd', '鍵100': 10000000000, '鍵101': '我愛101$$$'}\n",
      "\n"
     ]
    }
   ],
   "source": [
    "#### 結合或更改字典 ####\n",
    "\n",
    "dicts2=dict(鍵80='q',鍵81='w',鍵82='e')\n",
    "print('用**結合字典: {}\\n'.format({**dicts,**dicts2})) # 無法用f-string顯示\n",
    "\n",
    "dicts3=dict(鍵100='@@@',鍵101='$$$')\n",
    "dicts.update(dicts3)\n",
    "print('用update結合字典: {}\\n'.format(dicts))\n",
    "\n",
    "dicts.update({'鍵1':'aaaaaa','鍵100':10000000000})\n",
    "print('用update更改字典值: {}\\n'.format(dicts))\n",
    "\n",
    "dicts = { **dicts, '鍵101': '我愛101$$$'}\n",
    "print('用**更改字典值: {}\\n'.format(dicts))\n",
    "\n",
    "dicts[\"鍵1\"]='~~~@@~~~'\n",
    "print('用=更改字典值: {}\\n'.format(dicts))\n",
    "\n",
    "# 用for更改字典值\n",
    "for key, value in dicts .items():\n",
    "    if key == '鍵2':\n",
    "        dicts[key] = 'bbbbbbbbbbbbbbbbb'\n",
    "print(f'用for更改字典值: {dicts}\\n')\n"
   ]
  },
  {
   "cell_type": "code",
   "execution_count": 3,
   "id": "a2fa0e54",
   "metadata": {},
   "outputs": [
    {
     "name": "stdout",
     "output_type": "stream",
     "text": [
      "del刪除: {'鍵1': '~~~@@~~~', '鍵2': 'bbbbbbbbbbbbbbbbb', '鍵4': 'd', '鍵100': 10000000000, '鍵101': '我愛101$$$'}\n",
      "用pop取得項目並刪除: 我愛101$$$\n",
      "{'鍵1': '~~~@@~~~', '鍵2': 'bbbbbbbbbbbbbbbbb', '鍵4': 'd', '鍵100': 10000000000}\n",
      "檢測指定鍵在嗎??: True\n",
      "\n",
      "原本字典更動了: {'鍵1': '~~~@@~~~', '鍵2': 'bbbbbbbbbbbbbbbbb', '鍵4': '我是中文哈哈', '鍵100': 10000000000}\n",
      "複製的字典沒更動: {'鍵1': '~~~@@~~~', '鍵2': 'bbbbbbbbbbbbbbbbb', '鍵4': 'd', '鍵100': 10000000000}\n"
     ]
    }
   ],
   "source": [
    "# 刪除字典值\n",
    "del dicts['鍵3']\n",
    "print(f'del刪除: {dicts}')\n",
    "print(f'用pop取得項目並刪除: {dicts.pop(\"鍵101\")}')\n",
    "print(dicts)\n",
    "print(f'檢測指定鍵在嗎??: {\"鍵4\" in dicts}\\n')\n",
    "\n",
    "\n",
    "#### 複製字典 ####\n",
    "\n",
    "dicts_copy=dicts.copy()\n",
    "dicts[\"鍵4\"]='我是中文哈哈'\n",
    "print(f'原本字典更動了: {dicts}')\n",
    "print(f'複製的字典沒更動: {dicts_copy}')  # 但第2次執行就會更動"
   ]
  },
  {
   "cell_type": "markdown",
   "id": "a9d2a065",
   "metadata": {},
   "source": [
    "# 字典生成式 \n",
    "\n",
    "## 字典生成式只要撰寫一行程式碼，就能快速產生一個字典\n",
    "## result = {key: value for item in iterable}\n",
    "....\n",
    "### result：生成的新字典。\n",
    "### key：生成的鍵。\n",
    "### value：生成的值。\n",
    "### item：從迭代物件裡取出的項目。\n",
    "### iterable：可迭代的物件。"
   ]
  },
  {
   "cell_type": "code",
   "execution_count": 39,
   "id": "16ca5df9",
   "metadata": {
    "scrolled": true
   },
   "outputs": [
    {
     "name": "stdout",
     "output_type": "stream",
     "text": [
      "複習一下串列式生成: [1, 8, 27, 64, 125, 216, 343, 512, 729] \n",
      "\n",
      "字典式生成:\n",
      "{1: 1, 2: 8, 3: 27, 4: 64, 5: 125, 6: 216, 7: 343, 8: 512, 9: 729}\n",
      "{1: 1, 2: 8, 3: 27, 4: 64, 5: 125, 6: 216, 7: 343, 8: 512, 9: 729}\n",
      "{'a': 1, 'r': 1, 'w': 1, 's': 2, 'o': 1, 'd': 2}\n",
      "[1, 1]\n"
     ]
    }
   ],
   "source": [
    "# 複習一下串列式生成\n",
    "b = [i**3 for i in range(1,10)]\n",
    "print('複習一下串列式生成:',b,'\\n') \n",
    "\n",
    "print('字典式生成:') \n",
    "# 單純寫法\n",
    "a = {}\n",
    "b=[]\n",
    "for i in range(1,10):\n",
    "    a[i] = i**3  # 將 i*i 對應指定的鍵\n",
    "print(a)      \n",
    "\n",
    "# 使用字典生成式\n",
    "a = {i:i**3 for i in range(1,10)}\n",
    "print(a)     \n",
    "\n",
    "# 計算words內個字母出現的次數\n",
    "words='wosrdsda'\n",
    "words_dict={i:words.count(i) for i in set(words)}\n",
    "print(words_dict)\n",
    "\n",
    "# 計算words內符合vowels的字母出現的次數\n",
    "vowels='aeiou'\n",
    "vowels_dict={i:words.count(i) for i in set(words) if i in vowels}\n",
    "print(vowels_dict)"
   ]
  },
  {
   "cell_type": "code",
   "execution_count": 15,
   "id": "4f91c230",
   "metadata": {
    "scrolled": true
   },
   "outputs": [
    {
     "name": "stdout",
     "output_type": "stream",
     "text": [
      "singles.copy: {'A': 'aaaa', 'B': 'bbbb', 'C': ['cccc1111', 'sweat']}\n",
      "singles_copy.copy: {'A': 'aaaa', 'B': 'bbbb', 'C': ['cccc1111', 'sweat']}\n",
      "\n",
      "singles.deepcopy: {'A': 'aaaa', 'B': 'bbbb', 'C': ['cccc1111', 'sweat']}\n",
      "singles_copy.deepcopy: {'A': 'aaaa', 'B': 'bbbb', 'C': ['cccc1111', 'ccccc2222']}\n",
      "\n"
     ]
    },
    {
     "data": {
      "text/plain": [
       "True"
      ]
     },
     "execution_count": 15,
     "metadata": {},
     "output_type": "execute_result"
    }
   ],
   "source": [
    "# deepcopy複製所有東西\n",
    "\n",
    "singles={'A':'aaaa','B':'bbbb','C':['cccc1111','ccccc2222']}\n",
    "singles_copy=singles.copy()\n",
    "\n",
    "# 字典改法 但這種改法會讓copy的一起改\n",
    "singles['C'][1]='sweat' \n",
    "print(f'singles.copy: {singles}')\n",
    "print(f'singles_copy.copy: {singles_copy}\\n')\n",
    "\n",
    "##### 用deepcopy才不會改到copy的 #####\n",
    "import copy\n",
    "singles={'A':'aaaa','B':'bbbb','C':['cccc1111','ccccc2222']}\n",
    "singles_copy=copy.deepcopy(singles)\n",
    "singles['C'][1]='sweat' \n",
    "print(f'singles.deepcopy: {singles}')\n",
    "print(f'singles_copy.deepcopy: {singles_copy}\\n')\n",
    "\n",
    "# 比較字典內容是否一樣 順序不一樣沒差\n",
    "a={1:1,2:[1,2]}\n",
    "b={2:[1,2],1:1}\n",
    "a==b"
   ]
  },
  {
   "cell_type": "code",
   "execution_count": 29,
   "id": "490a747d",
   "metadata": {
    "scrolled": true
   },
   "outputs": [
    {
     "name": "stdout",
     "output_type": "stream",
     "text": [
      "\n",
      "字典鍵key:\n",
      "A\n",
      "B\n",
      "C\n",
      "\n",
      "字典值value:\n",
      "aaaa\n",
      "bbbb\n",
      "['cccc1111', 'sweat']\n",
      "\n",
      "整個字典鍵值items 變tuple:\n",
      "('A', 'aaaa')\n",
      "('B', 'bbbb')\n",
      "('C', ['cccc1111', 'sweat'])\n",
      "\n",
      "for key,value雙變數字典鍵值:\n",
      "A:aaaa\n",
      "B:bbbb\n",
      "C:['cccc1111', 'sweat']\n"
     ]
    }
   ],
   "source": [
    "print('\\n字典鍵key:')\n",
    "for word in singles:  # for word in singles.keys():\n",
    "    print(word)\n",
    "\n",
    "print('\\n字典值value:')\n",
    "for word in singles.values():\n",
    "    print(word)\n",
    "    \n",
    "print('\\n整個字典鍵值items 變tuple:')\n",
    "for word in singles.items():\n",
    "    print(word)\n",
    "    \n",
    "print('\\nfor key,value雙變數字典鍵值:')\n",
    "for key,value in singles.items():\n",
    "    print(f'{key}:{value}')"
   ]
  },
  {
   "cell_type": "code",
   "execution_count": 20,
   "id": "8c6f87a6",
   "metadata": {
    "scrolled": true
   },
   "outputs": [
    {
     "name": "stdout",
     "output_type": "stream",
     "text": [
      "add: {'fuck', 'orange', 'strawberry', 'apple', 'banana'}\n",
      "remove: {'orange', 'strawberry', 'apple', 'banana'}\n",
      "取得set():\n",
      "orange\n",
      "strawberry\n",
      "apple\n",
      "banana\n",
      "\n",
      "for & in 除了指定多項值外 印出值:\n",
      "NNNNOOOO!!! {'oreo', 'orange'}\n",
      "NNNNOOOO!!! {'apple', 'arbutus'}\n",
      "YYYEEESSS: {'apple', 'berry'}\n",
      "\n",
      "for & in 除了指定多項值外 印出鍵:\n",
      "NNNNOOOO!!! 歐啦\n",
      "NNNNOOOO!!! ㄟ呀\n",
      "YYYEEESSS~~~: 巴納\n",
      "NNNNOOOO!!! 低卡\n",
      "\n",
      "for & in 只找指定值在哪些鍵裡有:\n",
      "YYYEEESSS~~~: 歐啦\n",
      "YYYEEESSS~~~: ㄟ呀\n",
      "YYYEEESSS~~~: 巴納\n",
      "NNNNOOOO!!! 低卡\n"
     ]
    }
   ],
   "source": [
    "######## 集合 關於 keys. values. items ########\n",
    "\n",
    "ff=set(['orange','apple','banana','apple','fuck'])\n",
    "ff.add('strawberry')\n",
    "print(f'add: {ff}')\n",
    "ff.remove('fuck')\n",
    "print(f'remove: {ff}')\n",
    "print('取得set():')\n",
    "for i in ff:\n",
    "    print(i)\n",
    "\n",
    "print('\\nfor & in 除了指定多項值外 印出值:')\n",
    "hh={'歐啦':{'orange','oreo'},'ㄟ呀':{'apple','arbutus'},'巴納':{'apple','berry'},'低卡':{'hot dog','oreo'}}\n",
    "for key,value in hh.items():\n",
    "    if 'apple' in value and not('oreo' in value or 'arbutus' in value):     # if 'O' in key: # 找鍵\n",
    "        print('YYYEEESSS:',value)\n",
    "        break\n",
    "    else:\n",
    "        print('NNNNOOOO!!!',value)\n",
    "        \n",
    "print('\\nfor & in 除了指定多項值外 印出鍵:')       \n",
    "for key,value in hh.items():\n",
    "    if 'apple' in value and not value & {'oreo','arbutus'}:   # 更簡短的指定多項值寫法\n",
    "        print('YYYEEESSS~~~:',key)\n",
    "    else:\n",
    "        print('NNNNOOOO!!!',key)\n",
    "\n",
    "print('\\nfor & in 只找指定值在哪些鍵裡有:')       \n",
    "for key,value in hh.items():\n",
    "    if value & {'orange','apple'}:    \n",
    "        print('YYYEEESSS~~~:',key)\n",
    "    else:\n",
    "        print('NNNNOOOO!!!',key)"
   ]
  },
  {
   "cell_type": "code",
   "execution_count": 44,
   "id": "f0b604a6",
   "metadata": {
    "scrolled": false
   },
   "outputs": [
    {
     "name": "stdout",
     "output_type": "stream",
     "text": [
      "交集 &: {2}\n",
      "交集 intersection: {2} \n",
      "\n",
      "聯集 |: {1, 2, 3}\n",
      "聯集 union: {1, 2, 3} \n",
      "\n",
      "差集 -: {1}\n",
      "差集 difference: {1} \n",
      "\n",
      "互斥 ^: {1, 3}\n",
      "互斥 symmetric_difference: {1, 3} \n",
      "\n",
      "超集合 <=: True\n",
      "超集合 issubset: True \n",
      "\n",
      "真子集 <: True \n",
      "\n",
      "超集合 issubset: False\n",
      "超集合 True <=: False\n",
      "子集合 False <=: True \n",
      "\n",
      "hh交集 &: {'orange'}\n"
     ]
    }
   ],
   "source": [
    "######## 集合運算子 ########\n",
    "\n",
    "a={1,2}\n",
    "b={2,3}\n",
    "c={1,2,3}\n",
    "print('交集 &:',a & b)\n",
    "print('交集 intersection:',a.intersection(b),'\\n')\n",
    "\n",
    "# 兩個集合的所有成員\n",
    "print('聯集 |:',a | b)\n",
    "print('聯集 union:',a.union(b),'\\n')\n",
    "\n",
    "# 屬於第一個集合 但不屬於第2個集合\n",
    "print('差集 -:',a - b)  \n",
    "print('差集 difference:',a.difference(b),'\\n') \n",
    "\n",
    "print('互斥 ^:',a ^ b)  \n",
    "print('互斥 symmetric_difference:',a.symmetric_difference(b),'\\n') \n",
    "\n",
    "# 第一個集合所有成員都屬於第2個集合 True就是超集合\n",
    "print('超集合 <=:',a <= c)  \n",
    "print('超集合 issubset:',a.issubset(c),'\\n')  \n",
    "\n",
    "# 第2個集合除了擁有第一個集合的所有成員之外 也有其他成員 第一個集合就是真子集 True就是\n",
    "print('真子集 <:',a < c,'\\n') \n",
    "\n",
    "# 第2個集合所有成員都屬於第一個集合 True就是超集合\n",
    "print('超集合 issubset:',a.issuperset(c))\n",
    "print('超集合 True <=:', c <= a)  \n",
    "print('子集合 False <=:', a <= c,'\\n')  \n",
    " \n",
    "bruss=hh['歐啦']\n",
    "wruss=hh['低卡']\n",
    "print('hh差集 &:',bruss - wruss)   # 可更改測試各種集"
   ]
  },
  {
   "cell_type": "code",
   "execution_count": 70,
   "id": "acf02705",
   "metadata": {},
   "outputs": [
    {
     "name": "stdout",
     "output_type": "stream",
     "text": [
      "104 ns ± 1.04 ns per loop (mean ± std. dev. of 7 runs, 10000000 loops each)\n",
      "158 ns ± 19.3 ns per loop (mean ± std. dev. of 7 runs, 1000000 loops each)\n"
     ]
    }
   ],
   "source": [
    "# 上述都用第一個符號的算式 速度比較快 用%timeit測過\n",
    "\n",
    "%timeit a - b\n",
    "%timeit a.difference(b)"
   ]
  },
  {
   "cell_type": "markdown",
   "id": "77c7be37",
   "metadata": {},
   "source": [
    "# 集合生成式 \n",
    "## 集合生成式只要撰寫一行程式碼，就能快速產生一個集合，其語法為：\n",
    "........\n",
    "### result = {value for item in iterable}\n",
    "### result：生成的新集合。\n",
    "### value：生成的值。\n",
    "### item：從迭代物件裡取出的項目。\n",
    "### iterable：可迭代的物件。"
   ]
  },
  {
   "cell_type": "code",
   "execution_count": 68,
   "id": "c62df849",
   "metadata": {
    "scrolled": false
   },
   "outputs": [
    {
     "name": "stdout",
     "output_type": "stream",
     "text": [
      "{0, 8, 4}\n",
      "225 ns ± 7.68 ns per loop (mean ± std. dev. of 7 runs, 1000000 loops each)\n",
      "362 ns ± 5.66 ns per loop (mean ± std. dev. of 7 runs, 1000000 loops each)\n",
      "221 ns ± 2.18 ns per loop (mean ± std. dev. of 7 runs, 1000000 loops each)\n",
      "222 ns ± 1.88 ns per loop (mean ± std. dev. of 7 runs, 1000000 loops each)\n"
     ]
    }
   ],
   "source": [
    "a_set={number for number in range(0,10) if number%4==0}\n",
    "print(a_set)\n",
    "\n",
    "# 以下是四種不可變集合建立方式 觀察速度\n",
    "%timeit frozenset([3,2,1])\n",
    "%timeit frozenset(set([3,2,1]))  # 太慢了 不建議用\n",
    "%timeit frozenset([3,2,1])\n",
    "%timeit frozenset([3,2,1])"
   ]
  },
  {
   "cell_type": "code",
   "execution_count": 71,
   "id": "bd191228",
   "metadata": {
    "scrolled": true
   },
   "outputs": [
    {
     "ename": "AttributeError",
     "evalue": "'frozenset' object has no attribute 'add'",
     "output_type": "error",
     "traceback": [
      "\u001b[1;31m---------------------------------------------------------------------------\u001b[0m",
      "\u001b[1;31mAttributeError\u001b[0m                            Traceback (most recent call last)",
      "\u001b[1;32m~\\AppData\\Local\\Temp/ipykernel_13352/2520136351.py\u001b[0m in \u001b[0;36m<module>\u001b[1;34m\u001b[0m\n\u001b[0;32m      1\u001b[0m \u001b[0mfs\u001b[0m\u001b[1;33m=\u001b[0m\u001b[0mfrozenset\u001b[0m\u001b[1;33m(\u001b[0m\u001b[1;33m[\u001b[0m\u001b[1;36m3\u001b[0m\u001b[1;33m,\u001b[0m\u001b[1;36m2\u001b[0m\u001b[1;33m,\u001b[0m\u001b[1;36m1\u001b[0m\u001b[1;33m]\u001b[0m\u001b[1;33m)\u001b[0m\u001b[1;33m\u001b[0m\u001b[1;33m\u001b[0m\u001b[0m\n\u001b[1;32m----> 2\u001b[1;33m \u001b[0mfs\u001b[0m\u001b[1;33m.\u001b[0m\u001b[0madd\u001b[0m\u001b[1;33m(\u001b[0m\u001b[1;36m4\u001b[0m\u001b[1;33m)\u001b[0m\u001b[1;33m\u001b[0m\u001b[1;33m\u001b[0m\u001b[0m\n\u001b[0m\u001b[0;32m      3\u001b[0m \u001b[0mprint\u001b[0m\u001b[1;33m(\u001b[0m\u001b[0mfs\u001b[0m\u001b[1;33m)\u001b[0m\u001b[1;33m\u001b[0m\u001b[1;33m\u001b[0m\u001b[0m\n",
      "\u001b[1;31mAttributeError\u001b[0m: 'frozenset' object has no attribute 'add'"
     ]
    }
   ],
   "source": [
    "# 會出錯 因為 frozenset是不可變集合\n",
    "fs=frozenset([3,2,1])\n",
    "fs.add(4)\n",
    "print(fs)"
   ]
  },
  {
   "cell_type": "code",
   "execution_count": 85,
   "id": "6d2477e2",
   "metadata": {
    "scrolled": true
   },
   "outputs": [
    {
     "name": "stdout",
     "output_type": "stream",
     "text": [
      "串列: ['A', 'B', 'C']\n",
      "tuple: ('A', 'B', 'C')\n",
      "字典: {'A': 'a', 'B': 'b', 'C': 'c'}\n",
      "集合: {'B', 'A', 'C'}\n",
      "\n",
      "True \n",
      "\n",
      "把串列建成串列: [['py1', 'py2', 'py3', 'py4', 'py5'], ['mysql1', 'mysql2', 'mysql3'], ['js1', 'js2']]\n",
      "把串列建成字典: {'Pythons': ['py1', 'py2', 'py3', 'py4', 'py5'], 'MySQLs': ['mysql1', 'mysql2', 'mysql3'], 'Javascripts': ['js1', 'js2']}\n",
      "\n"
     ]
    }
   ],
   "source": [
    "# 第一~八章學習的四種資料結構\n",
    "\n",
    "my_list=['A','B','C']\n",
    "my_tuple=('A','B','C')\n",
    "my_dict={'A':'a','B':'b','C':'c'}\n",
    "my_set={'A','B','C'}\n",
    "\n",
    "print(f'串列: {my_list}')\n",
    "print(f'tuple: {my_tuple}')\n",
    "print(f'字典: {my_dict}')\n",
    "print(f'集合: {my_set}\\n')\n",
    "\n",
    "print('b' in my_dict.values(),'\\n')\n",
    "\n",
    "\n",
    "# 製作更大型的資料結構\n",
    "\n",
    "pythons=['py1','py2','py3','py4','py5']\n",
    "javascripts=['js1','js2']\n",
    "mysqls=['mysql1','mysql2','mysql3']\n",
    "\n",
    "# 把串列建成串列\n",
    "list_of_lists=[pythons,mysqls,javascripts]\n",
    "print(f'把串列建成串列: {list_of_lists}')\n",
    "\n",
    "# 把串列建成字典\n",
    "dict_of_lists={'Pythons':pythons,'MySQLs':mysqls,'Javascripts':javascripts}\n",
    "print(f'把串列建成字典: {dict_of_lists}\\n')\n"
   ]
  },
  {
   "cell_type": "code",
   "execution_count": 35,
   "id": "f28661a5",
   "metadata": {
    "scrolled": true
   },
   "outputs": [
    {
     "name": "stdout",
     "output_type": "stream",
     "text": [
      "1 .e2f: {'dog': 'chien', 'cat': 'chat', 'walrus': 'morse'}\n",
      "\n",
      "2. e2f['walrus']: morse\n",
      "\n",
      "3. f2e.items(): dict_items([('chien', 'dog'), ('chat', 'cat'), ('morse', 'walrus')])\n",
      "\n",
      "4. f2e['chien']: dog\n",
      "\n",
      "5. e2f_set: {'walrus', 'cat', 'dog'}\n",
      "\n",
      "6. life: {'animals': {'cats': {'Lucy', 'Henri', 'Grumpy'}, 'octopi': {}, 'emus': {}}, 'plants': {''}, 'other': {''}}\n",
      "\n",
      "7. life.keys(): dict_keys(['animals', 'plants', 'other'])\n",
      "\n",
      "8. life['canimals'].keys(): dict_keys(['cats', 'octopi', 'emus'])\n",
      "\n",
      "9. life['canimals']['cats']: {'Lucy', 'Henri', 'Grumpy'}\n",
      "\n"
     ]
    }
   ],
   "source": [
    "# 8.1待辦\n",
    "e2f={'dog':'chien','cat':'chat','walrus':'morse'}\n",
    "print(f'1 .e2f: {e2f}\\n')\n",
    "\n",
    "\n",
    "# 8.2待辦\n",
    "print(f\"2. e2f['walrus']: {e2f['walrus']}\\n\")\n",
    "\n",
    "\n",
    "# 8.3待辦\n",
    "# 使用dict來建立字典\n",
    "f2e=[['chien','dog'],['chat','cat'],['morse','walrus']]\n",
    "f2e=dict(f2e)\n",
    "print(f'3. f2e.items(): {f2e.items()}\\n')\n",
    "\n",
    "\n",
    "# 8.4待辦\n",
    "print(f\"4. f2e['chien']: {f2e['chien']}\\n\")\n",
    "\n",
    "\n",
    "# 8.5待辦 印成集合\n",
    "e2f_set=set(e2f.keys())\n",
    "print(f\"5. e2f_set: {e2f_set}\\n\")\n",
    "\n",
    "\n",
    "# 8.6待辦\n",
    "life={'animals':{'cats':{'Henri','Grumpy','Lucy'},'octopi':{},'emus':{}},'plants':{''},'other':{''}}\n",
    "print(f'6. life: {life}\\n')\n",
    "\n",
    "\n",
    "# 8.7待辦\n",
    "print(f'7. life.keys(): {life.keys()}\\n')\n",
    "\n",
    "\n",
    "# 8.8待辦\n",
    "print(f\"8. life['canimals'].keys(): {life['animals'].keys()}\\n\")\n",
    "\n",
    "\n",
    "# 8.9待辦 因最裡層不是字典 所以不用加values\n",
    "print(f\"9. life['canimals']['cats']: {life['animals']['cats']}\\n\")"
   ]
  },
  {
   "cell_type": "code",
   "execution_count": 10,
   "id": "bceffcdd",
   "metadata": {
    "scrolled": true
   },
   "outputs": [
    {
     "name": "stdout",
     "output_type": "stream",
     "text": [
      "10. squares :{0: 0, 1: 1, 2: 4, 3: 9, 4: 16, 5: 25, 6: 36, 7: 49, 8: 64, 9: 81}\n",
      "11 set(squares1.values()):{1, 9, 81, 49, 25}\n",
      "1 got: 8\n"
     ]
    }
   ],
   "source": [
    "# 8.10待辦\n",
    "squares={i:i**2 for i in range(10)}\n",
    "print(f'10. squares :{squares}')\n",
    "\n",
    "\n",
    "# 8.11待辦\n",
    "squares1={i:i**2 for i in range(10) if i%2==1}\n",
    "odd=set(squares1.values())\n",
    "print(f'11 set(squares1.values()):{odd}')\n",
    "\n",
    "\n",
    "# 8.12待辦 隨機取亂數生成式\n",
    "import random\n",
    "x = random.randint(0,9)\n",
    "got_for=[x for i in range(10)]\n",
    "got='GOT '+str(got_for)\n",
    "print(f'1 got: {got_for[x]}')"
   ]
  },
  {
   "cell_type": "code",
   "execution_count": 52,
   "id": "d884f1e7",
   "metadata": {},
   "outputs": [
    {
     "name": "stdout",
     "output_type": "stream",
     "text": [
      "用zip做字典 tuple轉list: {'optimist': 'The glass is half full', 'pessimist': 'The glass is half empty', 'troll': 'How did you get a glass'}\n",
      "\n",
      "使用zip: {'optimist': 'The glass is half full', 'pessimist': 'The glass is half empty', 'troll': 'How did you get a glass'}\n",
      "使用dict及set將list改成多層字典: {'titles': {'troll', 'optimist', 'pessimist'}, 'plots': {'The glass is half empty', 'How did you get a glass', 'The glass is half full'}}\n"
     ]
    }
   ],
   "source": [
    "# 8.13待辦 tuple轉list\n",
    "x=('optimist','pessimist','troll')\n",
    "y=('The glass is half full','The glass is half empty','How did you get a glass')\n",
    "tuple_zip=zip(x,y)\n",
    "tuple_zip=dict(tuple_zip)\n",
    "print(f'用zip做字典 tuple轉list: {tuple_zip}\\n')\n",
    "\n",
    "\n",
    "# 8.14待辦\n",
    "titles=['optimist','pessimist','troll']\n",
    "plots=['The glass is half full','The glass is half empty','How did you get a glass']\n",
    "list_zip=zip(titles,plots)\n",
    "list_zip=dict(list_zip)\n",
    "print(f'使用zip: {list_zip}')\n",
    "\n",
    "movie=dict(titles=set(titles),plots=set(plots))\n",
    "print(f'使用dict及set將list改成多層字典: {movie}')"
   ]
  }
 ],
 "metadata": {
  "kernelspec": {
   "display_name": "Python 3 (ipykernel)",
   "language": "python",
   "name": "python3"
  },
  "language_info": {
   "codemirror_mode": {
    "name": "ipython",
    "version": 3
   },
   "file_extension": ".py",
   "mimetype": "text/x-python",
   "name": "python",
   "nbconvert_exporter": "python",
   "pygments_lexer": "ipython3",
   "version": "3.8.12"
  }
 },
 "nbformat": 4,
 "nbformat_minor": 5
}
