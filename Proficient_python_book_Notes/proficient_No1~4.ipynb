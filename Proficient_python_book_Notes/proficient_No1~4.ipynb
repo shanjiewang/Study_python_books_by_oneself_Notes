{
 "cells": [
  {
   "cell_type": "code",
   "execution_count": 1,
   "id": "c9744bd7",
   "metadata": {
    "scrolled": true
   },
   "outputs": [
    {
     "name": "stdout",
     "output_type": "stream",
     "text": [
      "5\n",
      "4\n",
      "3\n",
      "2\n",
      "1\n",
      "hey!\n",
      "Vivi\n"
     ]
    }
   ],
   "source": [
    "for c in 5,4,3,2,1,\"hey!\":\n",
    "    print(c)\n",
    "    \n",
    "f=[\"Annie\",\"ShanJie\",\"+Fun\",\"Vivi\"]\n",
    "print(f[3])"
   ]
  },
  {
   "cell_type": "code",
   "execution_count": 2,
   "id": "9b24b5ab",
   "metadata": {
    "scrolled": true
   },
   "outputs": [
    {
     "name": "stdout",
     "output_type": "stream",
     "text": [
      "Annie says GO~GO!! I wanna sleep!!\n"
     ]
    }
   ],
   "source": [
    "# 1-3\n",
    "quotes={\n",
    "    \"ShanJie\":\"GO~GO!!\",\n",
    "    \"+Fun\":\"I AM A DOCTER\",\n",
    "    \"Annie\":\"I wanna sleep!!\"\n",
    "}\n",
    "e502=\"Annie\"\n",
    "print(e502,\"says\",quotes[\"ShanJie\"],quotes[e502])"
   ]
  },
  {
   "cell_type": "code",
   "execution_count": 3,
   "id": "534b6bc4",
   "metadata": {},
   "outputs": [
    {
     "name": "stdout",
     "output_type": "stream",
     "text": [
      "go\n",
      "Type a website URL:22\n",
      "Type year, month, day:gg\n",
      "sorry 22\n"
     ]
    }
   ],
   "source": [
    "# 1-4\n",
    "\n",
    "import webbrowser\n",
    "import json\n",
    "from urllib.request import urlopen\n",
    "\n",
    "print(\"go\")\n",
    "site=input(\"Type a website URL:\")\n",
    "era=input(\"Type year, month, day:\")\n",
    "url=\"https://archive.org/wayback/available?url=%s&timestamp=%s\" % (site,era)\n",
    "response=urlopen(url)\n",
    "contents=response.read()\n",
    "text=contents.decode(\"utf-8\")\n",
    "data=json.loads(text)\n",
    "try:\n",
    "    old_site=data[\"archived_snapshots\"][\"closest\"][\"url\"]\n",
    "    print(\"11:\",old_site)\n",
    "    print(\"22222\")\n",
    "    webbrowser.open(old_site)\n",
    "except:\n",
    "    print(\"sorry\",site)"
   ]
  },
  {
   "cell_type": "code",
   "execution_count": 5,
   "id": "2e1467fa",
   "metadata": {
    "scrolled": true
   },
   "outputs": [
    {
     "name": "stdout",
     "output_type": "stream",
     "text": [
      "go\n",
      "Type a website URL:111\n",
      "Type year, month, day:11\n",
      "sorry 111\n"
     ]
    }
   ],
   "source": [
    "# 1-5\n",
    "\n",
    "import webbrowser\n",
    "import requests\n",
    "\n",
    "print(\"go\")\n",
    "site=input(\"Type a website URL:\")\n",
    "era=input(\"Type year, month, day:\")\n",
    "url=\"https://archive.org/wayback/available?url=%s&timestamp=%s\" % (site,era)\n",
    "response=requests.get(url)\n",
    "data=response.json()\n",
    "try:\n",
    "    old_site=data[\"archived_snapshots\"][\"closest\"][\"url\"]\n",
    "    print(\"11:\",old_site)\n",
    "    print(\"22222\")\n",
    "    webbrowser.open(old_site)\n",
    "except:\n",
    "    print(\"sorry\",site)"
   ]
  },
  {
   "cell_type": "code",
   "execution_count": 6,
   "id": "549befa6",
   "metadata": {
    "scrolled": true
   },
   "outputs": [
    {
     "name": "stdout",
     "output_type": "stream",
     "text": [
      "[99, 4, 6]\n",
      "[99, 4, 6]\n",
      "99\n",
      "<class 'float'>\n",
      "False\n"
     ]
    }
   ],
   "source": [
    "# 2-1\n",
    "\n",
    "a=[2,4,6]\n",
    "b=a\n",
    "a[0]=99\n",
    "print(a)\n",
    "print(b)\n",
    "prince=99\n",
    "print(prince)\n",
    "print(type(5+2.0))\n",
    "print(bool(0.0000))"
   ]
  },
  {
   "cell_type": "code",
   "execution_count": 7,
   "id": "f0f7654a",
   "metadata": {
    "scrolled": true
   },
   "outputs": [
    {
     "name": "stdout",
     "output_type": "stream",
     "text": [
      "1 0 0\n",
      "1000000\n",
      "浮點數除法: 3.5\n",
      "整數除法: 3\n",
      "求餘數: 1\n",
      "次方: 49\n",
      "95\n",
      "92\n",
      "11.5\n",
      "同時產生整數除法的商數和餘數: (11, 4)\n",
      "二進制: 1 , 八進制: 8 , 十六進制: 16\n",
      "用任何一種底數將整束轉成字串: 0b1011100 0o134 0x5c\n",
      "將整數轉換成對應的單字元字串: A\n",
      "反向操作: 65\n"
     ]
    }
   ],
   "source": [
    "# 3-1\n",
    "\n",
    "print(1,000,000)  # 整數裡若加逗號會被分開\n",
    "print(1_000_000)  # 可在第一個數字後加入底線當分隔用\n",
    "\n",
    "print(\"浮點數除法:\",7/2)\n",
    "print(\"整數除法:\",7//2)\n",
    "print(\"求餘數:\",7%2)\n",
    "print(\"次方:\",7**2)\n",
    "\n",
    "a=95\n",
    "temp=a-3\n",
    "print(a)\n",
    "a=temp\n",
    "print(a)\n",
    "a/=8\n",
    "print(a)\n",
    "a=divmod(92,8)\n",
    "print(\"同時產生整數除法的商數和餘數:\",a)\n",
    "type(a)\n",
    "print(\"二進制:\",0b1,\", 八進制:\",0o10,\", 十六進制:\",0x10)\n",
    "\n",
    "# temp=92\n",
    "print(\"用任何一種底數將整束轉成字串:\",bin(temp),oct(temp),hex(temp))\n",
    "\n",
    "print(\"將整數轉換成對應的單字元字串:\",chr(65))\n",
    "print(\"反向操作:\",ord(\"A\"))"
   ]
  },
  {
   "cell_type": "code",
   "execution_count": 8,
   "id": "f06c748b",
   "metadata": {
    "scrolled": false
   },
   "outputs": [
    {
     "name": "stdout",
     "output_type": "stream",
     "text": [
      "16.666666666666668\n",
      "<class 'int'>\n",
      "直接捨去小數點: 16\n",
      "<class 'int'>\n",
      "100000000\n",
      "98.6\n",
      "161\n"
     ]
    }
   ],
   "source": [
    "##############  str.replace(',','') 去除數字間的逗號  ################\n",
    "\n",
    "b=100/6\n",
    "print(b)\n",
    "print(type(int(b)))\n",
    "print(\"直接捨去小數點:\",int(b))\n",
    "\n",
    "d='1,000,000,00'\n",
    "d=d.replace(',','')  # 去除數字間的逗號\n",
    "print(type(int(d)))  # 再轉換成整數 就變數字囉\n",
    "print(d)\n",
    "\n",
    "e='98.6'\n",
    "print(float(e))\n",
    "\n",
    "e=98.6+63\n",
    "print(int(e))"
   ]
  },
  {
   "cell_type": "code",
   "execution_count": 9,
   "id": "f5a329f9",
   "metadata": {
    "scrolled": false
   },
   "outputs": [
    {
     "name": "stdout",
     "output_type": "stream",
     "text": [
      "6\n",
      "sum: 10\n",
      "YES\n",
      "True\n"
     ]
    }
   ],
   "source": [
    "# 4-1\n",
    "\n",
    "sum=0\n",
    "sum+=1\n",
    "sum+=5\n",
    "print(sum)\n",
    "# 使用延續字元完成\n",
    "sum=sum+\\\n",
    "    4\n",
    "print(\"sum:\",sum)\n",
    "\n",
    "dis=True\n",
    "if dis:\n",
    "    print(\"YES\")\n",
    "else:\n",
    "    print(\"NO\")\n",
    "print(dis)  "
   ]
  },
  {
   "cell_type": "code",
   "execution_count": 10,
   "id": "85f378b9",
   "metadata": {
    "scrolled": true
   },
   "outputs": [
    {
     "name": "stdout",
     "output_type": "stream",
     "text": [
      "no furry rite\n",
      "x==7: False , x>5: False\n",
      "True\n",
      "x='5'\n",
      "type str\n"
     ]
    }
   ],
   "source": [
    "furry=False\n",
    "large=False\n",
    "rite=True\n",
    "\n",
    "if furry:\n",
    "    if large:\n",
    "        print(\"furry large\")\n",
    "    elif rite:\n",
    "        print(\"furry rite\")\n",
    "    else:\n",
    "        print(\"furry allNo\")\n",
    "else:\n",
    "    if large:\n",
    "        print(\"no furry large\")\n",
    "    elif rite:\n",
    "        print(\"no furry rite\")\n",
    "    else:\n",
    "        print(\"no furry allNo\")\n",
    "        \n",
    "x=5\n",
    "print(\"x==7:\",x==7,\", x>5:\",x>5)\n",
    "print(x<10 and not 6<x)\n",
    "\n",
    "x='5'\n",
    "if x==5:\n",
    "    print(\"x=5\")\n",
    "elif x=='5':\n",
    "    print(\"x='5'\")\n",
    "else:\n",
    "    print(\"x???\")\n",
    "    \n",
    "if type(x)==int:\n",
    "    print(\"type int\")\n",
    "elif type(x)==str:\n",
    "    print(\"type str\")\n",
    "else:\n",
    "    print(\"type ???\")  "
   ]
  },
  {
   "cell_type": "code",
   "execution_count": 11,
   "id": "4d10823c",
   "metadata": {
    "scrolled": true
   },
   "outputs": [
    {
     "ename": "TypeError",
     "evalue": "int() argument must be a string, a bytes-like object or a number, not 'list'",
     "output_type": "error",
     "traceback": [
      "\u001b[1;31m---------------------------------------------------------------------------\u001b[0m",
      "\u001b[1;31mTypeError\u001b[0m                                 Traceback (most recent call last)",
      "\u001b[1;32m~\\AppData\\Local\\Temp/ipykernel_9780/232432773.py\u001b[0m in \u001b[0;36m<module>\u001b[1;34m\u001b[0m\n\u001b[0;32m      1\u001b[0m \u001b[0mdd\u001b[0m\u001b[1;33m=\u001b[0m\u001b[1;33m[\u001b[0m\u001b[1;34m'v'\u001b[0m\u001b[1;33m,\u001b[0m\u001b[1;34m'2'\u001b[0m\u001b[1;33m,\u001b[0m\u001b[1;34m'l'\u001b[0m\u001b[1;33m]\u001b[0m\u001b[1;33m\u001b[0m\u001b[1;33m\u001b[0m\u001b[0m\n\u001b[1;32m----> 2\u001b[1;33m \u001b[1;32mfor\u001b[0m \u001b[0mi\u001b[0m \u001b[1;32min\u001b[0m \u001b[0mrange\u001b[0m\u001b[1;33m(\u001b[0m\u001b[0mint\u001b[0m\u001b[1;33m(\u001b[0m\u001b[0mdd\u001b[0m\u001b[1;33m)\u001b[0m\u001b[1;33m)\u001b[0m\u001b[1;33m:\u001b[0m\u001b[1;33m\u001b[0m\u001b[1;33m\u001b[0m\u001b[0m\n\u001b[0m\u001b[0;32m      3\u001b[0m     \u001b[1;32mif\u001b[0m \u001b[0mdd\u001b[0m\u001b[1;33m[\u001b[0m\u001b[0mi\u001b[0m\u001b[1;33m]\u001b[0m\u001b[1;33m:\u001b[0m\u001b[1;33m\u001b[0m\u001b[1;33m\u001b[0m\u001b[0m\n\u001b[0;32m      4\u001b[0m         \u001b[0mprint\u001b[0m\u001b[1;33m(\u001b[0m\u001b[1;34m\"True\"\u001b[0m\u001b[1;33m)\u001b[0m\u001b[1;33m\u001b[0m\u001b[1;33m\u001b[0m\u001b[0m\n\u001b[0;32m      5\u001b[0m     \u001b[1;32melse\u001b[0m\u001b[1;33m:\u001b[0m\u001b[1;33m\u001b[0m\u001b[1;33m\u001b[0m\u001b[0m\n",
      "\u001b[1;31mTypeError\u001b[0m: int() argument must be a string, a bytes-like object or a number, not 'list'"
     ]
    }
   ],
   "source": [
    "dd=['v','2','l']\n",
    "for i in range(int(dd)):\n",
    "    if dd[i]:\n",
    "        print(\"True\")\n",
    "    else:\n",
    "        print(\"False\")"
   ]
  },
  {
   "cell_type": "code",
   "execution_count": 12,
   "id": "0638e14a",
   "metadata": {
    "scrolled": true
   },
   "outputs": [
    {
     "name": "stdout",
     "output_type": "stream",
     "text": [
      "False\n"
     ]
    }
   ],
   "source": [
    "ff=[]\n",
    "if ff:\n",
    "    print(\"True\")\n",
    "else:\n",
    "    print(\"False\")"
   ]
  },
  {
   "cell_type": "code",
   "execution_count": 13,
   "id": "7385dd50",
   "metadata": {
    "scrolled": true
   },
   "outputs": [
    {
     "name": "stdout",
     "output_type": "stream",
     "text": [
      "yes\n",
      "yes\n"
     ]
    }
   ],
   "source": [
    "vowels='aeiou'\n",
    "letter='o'\n",
    "if letter in vowels:\n",
    "    print(\"yes\")\n",
    "else:\n",
    "    print(\"no\")\n",
    "    \n",
    "vowels=['a','e','i','o','u']\n",
    "letter='o'\n",
    "if letter in vowels:\n",
    "    print(\"yes\")\n",
    "else:\n",
    "    print(\"no\")    "
   ]
  },
  {
   "cell_type": "code",
   "execution_count": 14,
   "id": "7061af3f",
   "metadata": {
    "scrolled": false
   },
   "outputs": [
    {
     "name": "stdout",
     "output_type": "stream",
     "text": [
      "200\n",
      "80\n",
      "yes\n",
      "yes\n"
     ]
    }
   ],
   "source": [
    "tweet_limit=280\n",
    "tweet_string=\"Blah\"*50\n",
    "diff=tweet_limit-len(tweet_string)\n",
    "print(len(tweet_string))\n",
    "print(diff)\n",
    "if diff>=0:\n",
    "    print(\"yes\")\n",
    "else:\n",
    "    print(\"no\")\n",
    "    \n",
    "# 海象獠牙功能 :=\n",
    "tweet_limit=280\n",
    "tweet_string=\"Blah\"*50\n",
    "if diff :=tweet_limit-len(tweet_string) >=0:\n",
    "    print(\"yes\")\n",
    "else:\n",
    "    print(\"no\")"
   ]
  },
  {
   "cell_type": "code",
   "execution_count": 15,
   "id": "aea9b238",
   "metadata": {},
   "outputs": [
    {
     "name": "stdout",
     "output_type": "stream",
     "text": [
      "too large\n"
     ]
    }
   ],
   "source": [
    "# 待辦 4.1\n",
    "s=2\n",
    "g=5\n",
    "if g<s:\n",
    "    print(\"too low\")\n",
    "elif g>s:\n",
    "    print(\"too large\")\n",
    "else:\n",
    "    print(\"just right\")"
   ]
  },
  {
   "cell_type": "code",
   "execution_count": 16,
   "id": "ce68acfc",
   "metadata": {
    "scrolled": true
   },
   "outputs": [
    {
     "name": "stdout",
     "output_type": "stream",
     "text": [
      "            small  green\n",
      "cherry      False  False\n",
      "pea          True   True\n",
      "watermelon  False  False\n",
      "pumpkin     False   True\n",
      " \n",
      "    small green\n",
      "pea  True  True\n"
     ]
    }
   ],
   "source": [
    "# 待辦 4.2\n",
    "import pandas as pd\n",
    "import numpy as np\n",
    "\n",
    "index=['cherry','pea','watermelon','pumpkin']\n",
    "small=['False','True','False','False']\n",
    "green=['False','True','False','True']\n",
    "df1=pd.DataFrame({'small':small,'green':green},index=index)\n",
    "print(df1)\n",
    "\n",
    "filt = (df1['small'] == 'True')&(df1['green'] == 'True')\n",
    "print(\" \")\n",
    "print(df1.loc[filt])"
   ]
  },
  {
   "cell_type": "code",
   "execution_count": 17,
   "id": "d4da8ac4",
   "metadata": {},
   "outputs": [
    {
     "name": "stdout",
     "output_type": "stream",
     "text": [
      "             shape          color\n",
      "cherry      middle            red\n",
      "pea          small          green\n",
      "watermelon     big  green and red\n",
      "pumpkin        big          green\n",
      " \n",
      "     shape  color\n",
      "pea  small  green\n"
     ]
    }
   ],
   "source": [
    "import pandas as pd\n",
    "import numpy as np\n",
    "\n",
    "index=['cherry','pea','watermelon','pumpkin']\n",
    "shape=['middle','small','big','big']\n",
    "color=['red','green','green and red','green']\n",
    "df1=pd.DataFrame({'shape':shape,'color':color},index=index)\n",
    "print(df1)\n",
    "\n",
    "filt = (df1['shape'] == 'small')&(df1['color'] == 'green')\n",
    "print(\" \")\n",
    "print(df1.loc[filt])  # 印出符合篩選條件的內容"
   ]
  },
  {
   "cell_type": "code",
   "execution_count": 18,
   "id": "aea71259",
   "metadata": {},
   "outputs": [
    {
     "name": "stdout",
     "output_type": "stream",
     "text": [
      "        Joined date\n",
      "Hisila   2019-11-20\n",
      "Shristi  2020-01-02\n",
      "Zeppy    2020-02-05\n"
     ]
    }
   ],
   "source": [
    "import pandas as pd\n",
    "import numpy as np\n",
    "import datetime\n",
    "\n",
    "list_of_dates = ['2019-11-20', '2020-01-02', '2020-02-05','2020-03-10','2020-04-16','2020-05-01']\n",
    "employees=['Hisila', 'Shristi','Zeppy','Alina','Jerry','Kevin']\n",
    "df = pd.DataFrame({'Joined date': pd.to_datetime(list_of_dates)},index=employees)\n",
    "\n",
    "mask = (df['Joined date'] > '2019-06-1') & (df['Joined date'] <= '2020-02-05')\n",
    "filtered_df=df.loc[mask]\n",
    "print(filtered_df)"
   ]
  }
 ],
 "metadata": {
  "kernelspec": {
   "display_name": "Python 3 (ipykernel)",
   "language": "python",
   "name": "python3"
  },
  "language_info": {
   "codemirror_mode": {
    "name": "ipython",
    "version": 3
   },
   "file_extension": ".py",
   "mimetype": "text/x-python",
   "name": "python",
   "nbconvert_exporter": "python",
   "pygments_lexer": "ipython3",
   "version": "3.8.12"
  }
 },
 "nbformat": 4,
 "nbformat_minor": 5
}
