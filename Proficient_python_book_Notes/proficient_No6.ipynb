{
 "cells": [
  {
   "cell_type": "code",
   "execution_count": 2,
   "id": "d36d7b4f",
   "metadata": {
    "scrolled": true
   },
   "outputs": [
    {
     "name": "stdout",
     "output_type": "stream",
     "text": [
      "1\n",
      "2\n",
      "3\n",
      "4\n",
      "5\n",
      "\n",
      "range(起,終,間隔):\n",
      "5\n",
      "7\n",
      "9\n",
      "11\n",
      "13\n",
      "15\n",
      "17\n",
      "19\n",
      "21\n",
      "23\n",
      "\n",
      "反向range(起,終,間隔):\n",
      "25\n",
      "23\n",
      "21\n",
      "19\n",
      "17\n",
      "15\n",
      "13\n",
      "11\n",
      "9\n",
      "7\n",
      "\n",
      "用range建list: [6, 9, 12, 15, 18, 21, 24, 27, 30, 33, 36, 39, 42, 45, 48, 51, 54, 57, 60, 63]\n",
      "用range建list反向: [66, 63, 60, 57, 54, 51, 48, 45, 42, 39, 36, 33, 30, 27, 24, 21, 18, 15, 12, 9]\n"
     ]
    }
   ],
   "source": [
    "# 6-0\n",
    "\n",
    "count=1\n",
    "while count<=5:\n",
    "    print(count)\n",
    "    count+=1\n",
    "    \n",
    "print('\\nrange(起,終,間隔):')\n",
    "for i in range(5,25,2):\n",
    "    print(i)\n",
    "print('\\n反向range(起,終,間隔):')    \n",
    "for j in range(25,5,-2):\n",
    "    print(j)\n",
    "\n",
    "print('\\n用range建list: {}'.format(list(range(6,66,3))))\n",
    "print('用range建list反向: {}'.format(list(range(66,6,-3))))"
   ]
  },
  {
   "cell_type": "code",
   "execution_count": 3,
   "id": "1d65ed64",
   "metadata": {
    "scrolled": true
   },
   "outputs": [
    {
     "name": "stdout",
     "output_type": "stream",
     "text": [
      "int[type q to quit]:q\n"
     ]
    }
   ],
   "source": [
    "### break & continue ###\n",
    "\n",
    "while True:\n",
    "    value=input(\"int[type q to quit]:\")\n",
    "    if value == \"q\":\n",
    "        break\n",
    "    number=int(value)\n",
    "    if number % 2 ==0:\n",
    "        print(\"%2=0\")\n",
    "        continue  \n",
    "    else:\n",
    "        print(number,\"squared is\",number*number)"
   ]
  },
  {
   "cell_type": "code",
   "execution_count": 4,
   "id": "6f15e923",
   "metadata": {
    "scrolled": true
   },
   "outputs": [
    {
     "name": "stdout",
     "output_type": "stream",
     "text": [
      "pos:1...........num:1\n",
      "pos:2...........num:3\n",
      "pos:3...........num:5\n",
      "even num: 6\n"
     ]
    }
   ],
   "source": [
    "#### while用else來檢查break int版 ####\n",
    "\n",
    "nums=[1,3,5,6,23]\n",
    "pos=0\n",
    "while pos < len(nums):\n",
    "    num=nums[pos]\n",
    "    # 如果num/2餘數不等於0都繼續迴圈 等於0就break跳出迴圈 可用來尋找list內資料 例如文字探勘\n",
    "    if num % 2 == 0:               \n",
    "        print('even num:',num)\n",
    "        break\n",
    "    pos+=1\n",
    "    print('pos:{}...........num:{}'.format(pos,num))\n",
    "else:\n",
    "    print('no even num')  # 假如找不到符合條件的資料就到此"
   ]
  },
  {
   "cell_type": "code",
   "execution_count": 5,
   "id": "99885dc1",
   "metadata": {
    "scrolled": true
   },
   "outputs": [
    {
     "name": "stdout",
     "output_type": "stream",
     "text": [
      "pos:1...........num1:gg\n",
      "pos:2...........num1:a\n",
      "pos:3...........num1:kkk\n",
      "even num: jjjjjj\n"
     ]
    }
   ],
   "source": [
    "#### while用else來檢查break list版 ####\n",
    "\n",
    "nums1=['gg','a','kkk','jjjjjj','pp']\n",
    "pos1=0\n",
    "while pos1 < len(nums1):\n",
    "    num1=nums1[pos1]\n",
    "    # 如果num/2餘數不等於0都繼續迴圈 等於0就break跳出迴圈 可用來尋找list內資料 例如文字探勘\n",
    "    if len(num1)>5:               \n",
    "        print('even num:',num1)\n",
    "        break\n",
    "    pos1+=1\n",
    "    print('pos:{}...........num1:{}'.format(pos1,num1))\n",
    "else:\n",
    "    print('no even num1')  # 假如找不到符合條件的資料就到此"
   ]
  },
  {
   "cell_type": "code",
   "execution_count": 6,
   "id": "98f27aba",
   "metadata": {
    "scrolled": true
   },
   "outputs": [
    {
     "name": "stdout",
     "output_type": "stream",
     "text": [
      "word0: t\n",
      "word1: h\n",
      "word2: u\n",
      "word3: d\n",
      "\n",
      "字串遇到就跳出迴圈:\n",
      "t\n",
      "h\n",
      "\n",
      "list:\n",
      "wordList: Apple\n",
      "wordList: 哈哈\n",
      "wordList: 100%\n",
      "\n",
      "\n",
      "非break跳出迴圈 而是已執行完成 用else確認:\n",
      "t\n",
      "h\n",
      "u\n",
      "d\n",
      "No x in here!!\n"
     ]
    }
   ],
   "source": [
    "#### for遍歷字串的方法 ####\n",
    "\n",
    "word='thud'\n",
    "wordList=['Apple','哈哈','100%']\n",
    "offset=0\n",
    "while offset<len(word):\n",
    "    print('word{}: {}'.format(offset,word[offset]))\n",
    "    offset+=1    \n",
    "\n",
    "print('\\n字串遇到'u'就跳出迴圈:')  \n",
    "# 更好及常用的方法 字串\n",
    "for letter in word:\n",
    "    # 遇到'u'就跳出迴圈\n",
    "    if letter == 'u':\n",
    "        break\n",
    "    print(letter)\n",
    "    \n",
    "print('\\nlist:')\n",
    "# 更好及常用的方法 list\n",
    "for letter0 in wordList:\n",
    "    print('wordList: {}'.format(letter0))\n",
    "    continue\n",
    "    \n",
    "print('\\n\\n非break跳出迴圈 而是已執行完成 用else確認:')\n",
    "# 非break跳出迴圈 而是已執行完成 用else確認\n",
    "for letter in word:\n",
    "    if letter in word=='x':\n",
    "        print('I find x!!')\n",
    "        break\n",
    "    print(letter)\n",
    "else:\n",
    "    print('No x in here!!')"
   ]
  },
  {
   "cell_type": "code",
   "execution_count": 7,
   "id": "23783264",
   "metadata": {},
   "outputs": [
    {
     "name": "stdout",
     "output_type": "stream",
     "text": [
      "3\n",
      "2\n",
      "1\n",
      "0\n",
      "\n",
      "6.2\n",
      "too low:1\n",
      "too low\n",
      "too low:2\n",
      "too low\n",
      "too low:3\n",
      "too low\n",
      "too low:4\n",
      "too low\n",
      "too low:5\n",
      "too low\n",
      "too low:6\n",
      "too low\n",
      "too low:7\n",
      "found it\n",
      "7\n",
      "\n",
      "6.3\n",
      "opps負數才會跑到這\n"
     ]
    }
   ],
   "source": [
    "# 6.1待辦\n",
    "\n",
    "for i in range(3,-1,-1):\n",
    "    print(i)\n",
    "    \n",
    "    \n",
    "# 6.2待辦\n",
    "print('\\n6.2')\n",
    "guess=7\n",
    "number=1\n",
    "while True:\n",
    "    print('too low:{}'.format(number))    \n",
    "    if number > guess:\n",
    "        print('oops')\n",
    "        break\n",
    "    elif number == guess:\n",
    "        print('found it')\n",
    "        break\n",
    "    elif number < guess:\n",
    "        print('too low')\n",
    "        number+=1\n",
    "else:\n",
    "    print('no anything')\n",
    "print(number)\n",
    "  \n",
    "      \n",
    "# 6.3待辦\n",
    "print('\\n6.3') \n",
    "guess=-1\n",
    "for number in range(10):\n",
    "    if number < guess:\n",
    "        print('too low')    \n",
    "    elif number == guess:\n",
    "        print('found it')\n",
    "        break\n",
    "    elif number > guess:\n",
    "        print('opps負數才會跑到這')\n",
    "        break  \n",
    "    print(number)"
   ]
  },
  {
   "cell_type": "code",
   "execution_count": 1,
   "id": "b1c42022",
   "metadata": {
    "scrolled": true
   },
   "outputs": [
    {
     "ename": "KeyboardInterrupt",
     "evalue": "Interrupted by user",
     "output_type": "error",
     "traceback": [
      "\u001b[1;31m---------------------------------------------------------------------------\u001b[0m",
      "\u001b[1;31mKeyboardInterrupt\u001b[0m                         Traceback (most recent call last)",
      "\u001b[1;32m~\\AppData\\Local\\Temp/ipykernel_3220/2698599613.py\u001b[0m in \u001b[0;36m<module>\u001b[1;34m\u001b[0m\n\u001b[0;32m      2\u001b[0m \u001b[1;33m\u001b[0m\u001b[0m\n\u001b[0;32m      3\u001b[0m \u001b[1;32mwhile\u001b[0m \u001b[1;32mTrue\u001b[0m\u001b[1;33m:\u001b[0m\u001b[1;33m\u001b[0m\u001b[1;33m\u001b[0m\u001b[0m\n\u001b[1;32m----> 4\u001b[1;33m     \u001b[0mvalue\u001b[0m\u001b[1;33m=\u001b[0m\u001b[0minput\u001b[0m\u001b[1;33m(\u001b[0m\u001b[1;34m\"String to capitalize[type q to quit]:\"\u001b[0m\u001b[1;33m)\u001b[0m\u001b[1;33m\u001b[0m\u001b[1;33m\u001b[0m\u001b[0m\n\u001b[0m\u001b[0;32m      5\u001b[0m     \u001b[1;32mif\u001b[0m \u001b[0mvalue\u001b[0m \u001b[1;33m==\u001b[0m \u001b[1;34m\"q\"\u001b[0m\u001b[1;33m:\u001b[0m\u001b[1;33m\u001b[0m\u001b[1;33m\u001b[0m\u001b[0m\n\u001b[0;32m      6\u001b[0m         \u001b[1;32mbreak\u001b[0m\u001b[1;33m\u001b[0m\u001b[1;33m\u001b[0m\u001b[0m\n",
      "\u001b[1;32m~\\anaconda3\\envs\\LuvPython\\lib\\site-packages\\ipykernel\\kernelbase.py\u001b[0m in \u001b[0;36mraw_input\u001b[1;34m(self, prompt)\u001b[0m\n\u001b[0;32m   1004\u001b[0m                 \u001b[1;34m\"raw_input was called, but this frontend does not support input requests.\"\u001b[0m\u001b[1;33m\u001b[0m\u001b[1;33m\u001b[0m\u001b[0m\n\u001b[0;32m   1005\u001b[0m             )\n\u001b[1;32m-> 1006\u001b[1;33m         return self._input_request(\n\u001b[0m\u001b[0;32m   1007\u001b[0m             \u001b[0mstr\u001b[0m\u001b[1;33m(\u001b[0m\u001b[0mprompt\u001b[0m\u001b[1;33m)\u001b[0m\u001b[1;33m,\u001b[0m\u001b[1;33m\u001b[0m\u001b[1;33m\u001b[0m\u001b[0m\n\u001b[0;32m   1008\u001b[0m             \u001b[0mself\u001b[0m\u001b[1;33m.\u001b[0m\u001b[0m_parent_ident\u001b[0m\u001b[1;33m[\u001b[0m\u001b[1;34m\"shell\"\u001b[0m\u001b[1;33m]\u001b[0m\u001b[1;33m,\u001b[0m\u001b[1;33m\u001b[0m\u001b[1;33m\u001b[0m\u001b[0m\n",
      "\u001b[1;32m~\\anaconda3\\envs\\LuvPython\\lib\\site-packages\\ipykernel\\kernelbase.py\u001b[0m in \u001b[0;36m_input_request\u001b[1;34m(self, prompt, ident, parent, password)\u001b[0m\n\u001b[0;32m   1049\u001b[0m             \u001b[1;32mexcept\u001b[0m \u001b[0mKeyboardInterrupt\u001b[0m\u001b[1;33m:\u001b[0m\u001b[1;33m\u001b[0m\u001b[1;33m\u001b[0m\u001b[0m\n\u001b[0;32m   1050\u001b[0m                 \u001b[1;31m# re-raise KeyboardInterrupt, to truncate traceback\u001b[0m\u001b[1;33m\u001b[0m\u001b[1;33m\u001b[0m\u001b[1;33m\u001b[0m\u001b[0m\n\u001b[1;32m-> 1051\u001b[1;33m                 \u001b[1;32mraise\u001b[0m \u001b[0mKeyboardInterrupt\u001b[0m\u001b[1;33m(\u001b[0m\u001b[1;34m\"Interrupted by user\"\u001b[0m\u001b[1;33m)\u001b[0m \u001b[1;32mfrom\u001b[0m \u001b[1;32mNone\u001b[0m\u001b[1;33m\u001b[0m\u001b[1;33m\u001b[0m\u001b[0m\n\u001b[0m\u001b[0;32m   1052\u001b[0m             \u001b[1;32mexcept\u001b[0m \u001b[0mException\u001b[0m\u001b[1;33m:\u001b[0m\u001b[1;33m\u001b[0m\u001b[1;33m\u001b[0m\u001b[0m\n\u001b[0;32m   1053\u001b[0m                 \u001b[0mself\u001b[0m\u001b[1;33m.\u001b[0m\u001b[0mlog\u001b[0m\u001b[1;33m.\u001b[0m\u001b[0mwarning\u001b[0m\u001b[1;33m(\u001b[0m\u001b[1;34m\"Invalid Message:\"\u001b[0m\u001b[1;33m,\u001b[0m \u001b[0mexc_info\u001b[0m\u001b[1;33m=\u001b[0m\u001b[1;32mTrue\u001b[0m\u001b[1;33m)\u001b[0m\u001b[1;33m\u001b[0m\u001b[1;33m\u001b[0m\u001b[0m\n",
      "\u001b[1;31mKeyboardInterrupt\u001b[0m: Interrupted by user"
     ]
    }
   ],
   "source": [
    "### break ###??????????????????\n",
    "\n",
    "while True:\n",
    "    value=input(\"String to capitalize[type q to quit]:\")\n",
    "    if value == \"q\":\n",
    "        break\n",
    "    if isinstance(value, str)==True: # 如果value的型態是str\n",
    "        print(value.upper())\n",
    "    else:\n",
    "        number=int(value)\n",
    "        if number %2 ==0:\n",
    "            continue\n",
    "        print(number,\"squared is\",number*number)"
   ]
  }
 ],
 "metadata": {
  "kernelspec": {
   "display_name": "Python 3 (ipykernel)",
   "language": "python",
   "name": "python3"
  },
  "language_info": {
   "codemirror_mode": {
    "name": "ipython",
    "version": 3
   },
   "file_extension": ".py",
   "mimetype": "text/x-python",
   "name": "python",
   "nbconvert_exporter": "python",
   "pygments_lexer": "ipython3",
   "version": "3.8.12"
  }
 },
 "nbformat": 4,
 "nbformat_minor": 5
}
