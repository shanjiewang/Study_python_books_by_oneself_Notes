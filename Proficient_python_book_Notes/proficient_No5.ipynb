{
 "cells": [
  {
   "cell_type": "code",
   "execution_count": 56,
   "id": "1055d313",
   "metadata": {
    "scrolled": true
   },
   "outputs": [
    {
     "name": "stdout",
     "output_type": "stream",
     "text": [
      "klkljlhjjkhjklhljk\n",
      "klk;l\t,m,mkjkl\tk;lk;l\ty\ty\tjkhnk\n",
      "常值字串換行: ihhh\n",
      ";lklkk \n",
      "\n",
      "用'''可顯示多行字串''': ihhh\n",
      "    ;lklkk \n",
      "\n",
      "用'''可顯示多行字串''': ihhh\n",
      "    ;lkl\n",
      "kk \n",
      "\n",
      "r 原始字串: ihhh\\n;lklkk \n",
      "\n",
      "gg    kk mm\n",
      "\n",
      "aeiou \n",
      "\n",
      "jkhkkj  oopo[pl] \n",
      " fff! #lkl \n",
      "\n",
      "nananana\n",
      "nananana\n",
      "heyhey  goodbye\n"
     ]
    }
   ],
   "source": [
    "# 5-0\n",
    "\n",
    "# \\t 對齊文字\n",
    "print(\"klkljlhjjkhjklhljk\\nklk;l\\t,m,mkjkl\\tk;lk;l\\ty\\ty\\tjkhnk\")\n",
    "\n",
    "# 在一般字串打 \\n 會換行\n",
    "ooo='ihhh\\n;lklkk'\n",
    "print(\"常值字串換行:\",ooo,\"\\n\")\n",
    "\n",
    "ooo=r'''ihhh\n",
    "    ;lklkk'''    \n",
    "print(\"用'''可顯示多行字串''':\",ooo,\"\\n\")\n",
    "# 一般字串\n",
    "ooo='''ihhh\n",
    "    ;lkl\\nkk'''  \n",
    "\n",
    "print(\"用'''可顯示多行字串''':\",ooo,\"\\n\")\n",
    "\n",
    "# r 原始字串會取消 \\n 轉義\n",
    "ooo=r'ihhh\\n;lklkk'\n",
    "print(\"r 原始字串:\",ooo,\"\\n\")\n",
    "\n",
    "print(\"gg    \"+ \"kk mm\\n\")\n",
    "\n",
    "ooo=(\"a\"\n",
    "    'e' '''i'''\n",
    "    \"o\" \"\"\"u\"\"\")\n",
    "print(ooo,\"\\n\")\n",
    "\n",
    "a='jkhkkj '\n",
    "b='oopo[pl]'\n",
    "c='fff! #lkl'\n",
    "print(a, b,\"\\n\" ,c,\"\\n\")\n",
    "\n",
    "# 用 * 來重複\n",
    "start='na'*4 +'\\n'\n",
    "middle='hey'*2+' '\n",
    "end=' goodbye'\n",
    "print(start+start+middle+end)"
   ]
  },
  {
   "cell_type": "code",
   "execution_count": 3,
   "id": "c9e127a7",
   "metadata": {
    "scrolled": true
   },
   "outputs": [
    {
     "name": "stdout",
     "output_type": "stream",
     "text": [
      "av\n",
      "letters[6:-5:2]: gikmoqsu\n",
      "letters[-16:-12]: klmn\n",
      "letters[-3:]: xyz\n",
      "letters[-14::7]: mt\n",
      "letters[-5::-3]: vspmjgda\n",
      "letters[-50:]: abcdefghijklmnopqrstuvwxyz letters[:50]: abcdefghijklmnopqrstuvwxyz\n",
      "8 \n",
      "\n",
      "replace('被換的','要換的'): pppenny\n",
      "jpe \n",
      "\n",
      "money, i b foucesm b fouces b foucespple a a.\n",
      "money a, i am b fouces apple a earth.\n"
     ]
    },
    {
     "data": {
      "text/plain": [
       "(list, 2)"
      ]
     },
     "execution_count": 3,
     "metadata": {},
     "output_type": "execute_result"
    }
   ],
   "source": [
    "# 5-0 ########## slice ##############\n",
    "letters=\"abcdefghijklmnopqrstuvwxyz\"\n",
    "print(letters[0]+letters[-5])\n",
    "print(\"letters[6:-5:2]:\",letters[6:-5:2]) # [起始:結束-1:每次跳間隔2字]\n",
    "print(\"letters[-16:-12]:\",letters[-16:-12])\n",
    "print(\"letters[-3:]:\",letters[-3:]) # 從後方開始算\n",
    "print(\"letters[-14::7]:\",letters[-14::7]) # 從後方開始算到-14起始 沒寫就是到最後後 每次跳間隔7字\n",
    "print(\"letters[-5::-3]:\",letters[-5::-3]) #[-5::-3]  [-5起始:倒著回去到第一字:每次往回跳3字間隔]\n",
    "print(\"letters[-50:]:\",letters[-50:],\"letters[:50]:\",letters[:50]) # 較寬鬆的語法 未超過50也會全部顯示 正負都一樣\n",
    "letters=letters[6:-5:2]\n",
    "print(len(letters),'\\n')\n",
    "\n",
    "name=\"henny\"\n",
    "name=name.replace(\"h\",\"ppp\") # replace(\"要被替換的舊單字\",\"要替換的新單字\")\n",
    "print(\"replace('被換的','要換的'):\",name)\n",
    "name=\"j\"+name[1:4:2]  # [1:4:2] 從第2字起始 第4-1字為終 間隔2字\n",
    "print(name,'\\n')\n",
    "\n",
    "money=\"i am a apple a a.\"\n",
    "money=money.replace('a','b fouces',3)  # replace(\"要被替換的舊單字\",\"要替換的新單字\",\"要被換的次數\" 沒寫就是全部被換掉)\n",
    "print(\"money,\",money)\n",
    "money=\"i am a apple a earth.\"\n",
    "money=money.replace('a ','b fouces ',1) # 'a ' 有空格才不會把單字有a的也取代\n",
    "print(\"money a,\",money)\n",
    "\n",
    "yyy='aaa,bbb,ccc,ddd ,eee,fff'\n",
    "yyy=yyy.split(' ')\n",
    "type(yyy),len(yyy)"
   ]
  },
  {
   "cell_type": "code",
   "execution_count": 47,
   "id": "43c9ada2",
   "metadata": {
    "scrolled": true
   },
   "outputs": [
    {
     "name": "stdout",
     "output_type": "stream",
     "text": [
      "剝除的預設是空白字元: world\n",
      "剝除左邊字元: world    \n",
      "剝除右邊字元:     world\n",
      "剝除指定字元: ??.!world..??\n"
     ]
    }
   ],
   "source": [
    "######### strip ##########\n",
    "\n",
    "world='    world    '\n",
    "world1='??.!world..??!.!'\n",
    "print(\"剝除的預設是空白字元:\",world.strip())\n",
    "print(\"剝除左邊字元:\",world.lstrip()) \n",
    "print(\"剝除右邊字元:\",world.rstrip())\n",
    "print(\"剝除指定字元:\",world1.strip('.!')) # 只能移後面的??"
   ]
  },
  {
   "cell_type": "code",
   "execution_count": 48,
   "id": "db419424",
   "metadata": {},
   "outputs": [
    {
     "name": "stdout",
     "output_type": "stream",
     "text": [
      "world2[1]: tree\n",
      "sea\n",
      "tree\n",
      "hi sun !!\n",
      "['sea', 'tree', 'hi sun !!']\n"
     ]
    }
   ],
   "source": [
    "######### join split #########\n",
    "\n",
    "world2=['sea','tree','hi sun !!']\n",
    "world3='\\n'.join(world2)  # join將list變成一個字串\n",
    "print(\"world2[1]:\",world2[1])\n",
    "print(world3)\n",
    "world4=world3.split('\\n')  # split將字串變成一個list\n",
    "print(world4)"
   ]
  },
  {
   "cell_type": "code",
   "execution_count": 46,
   "id": "1b7123fb",
   "metadata": {
    "scrolled": true
   },
   "outputs": [
    {
     "name": "stdout",
     "output_type": "stream",
     "text": [
      "['Formatter', 'Template', '_ChainMap', '_TemplateMetaclass', '__all__', '__builtins__', '__cached__', '__doc__', '__file__', '__loader__', '__name__', '__package__', '__spec__', '_re', '_sentinel_dict', '_string', 'ascii_letters', 'ascii_lowercase', 'ascii_uppercase', 'capwords', 'digits', 'hexdigits', 'octdigits', 'printable', 'punctuation', 'whitespace'] \n",
      "\n",
      "所有的小寫字母: abcdefghijklmnopqrstuvwxyz\n",
      "所有的大寫字母: ABCDEFGHIJKLMNOPQRSTUVWXYZ\n",
      "所有的十六進制字符: 0123456789abcdefABCDEF\n",
      "所有的空白字符:  \t\n",
      "\r",
      "\u000b",
      "\f",
      "\n",
      "所有的標點字符: !\"#$%&'()*+,-./:;<=>?@[\\]^_`{|}~\n",
      "!\"#$%&'()*+,-./:;<=>?@[\\]^_`{|}~\n",
      "消除指定標點符號: what the\n",
      "what the\n",
      "用string模塊消除不必要的字元: what the A ttree\n"
     ]
    }
   ],
   "source": [
    "# 在对字符串操作时,如果感觉自己写的很复杂时，可以试试string模块，里面有很多实用的属性\n",
    "\n",
    "import string\n",
    "\n",
    "print(dir(string),'\\n')\n",
    "print(\"所有的小寫字母:\",string.ascii_lowercase)  \n",
    "print(\"所有的大寫字母:\",string.ascii_uppercase) \n",
    "print(\"所有的十六進制字符:\",string.hexdigits) \n",
    "print(\"所有的空白字符:\",string.whitespace)    \n",
    "print(\"所有的標點字符:\",string.punctuation)     \n",
    "\n",
    "print(string.punctuation)\n",
    "blurt='what the....!!?'\n",
    "print(\"消除指定標點符號:\",blurt.strip('.!?'))\n",
    "print(blurt.strip(string.punctuation))\n",
    "# print(string.whitespace)\n",
    "\n",
    "blurt='what the ttree A .. ..! !?'\n",
    "print(\"用string模塊消除最後不必要的字元:\",blurt.strip(string.whitespace+string.punctuation+string.ascii_uppercase))"
   ]
  },
  {
   "cell_type": "code",
   "execution_count": 87,
   "id": "4f282407",
   "metadata": {
    "scrolled": true
   },
   "outputs": [
    {
     "name": "stdout",
     "output_type": "stream",
     "text": [
      "s字串內有標點符號都轉換成空格: We met at the wrong time  but separated   at the right time  The most urgen\n",
      "t is to take the most bea   utiful scenery    the deepest wound was the most real \n",
      "emotions  \n",
      "\n",
      "s用空格split後變list: ['We', 'met', 'at', 'the', 'wrong', 'time', 'but', 'separated', 'at', 'the', 'right', 'time', 'The', 'most', 'urgen', 't', 'is', 'to', 'take', 'the', 'most', 'bea', 'utiful', 'scenery', 'the', 'deepest', 'wound', 'was', 'the', 'most', 'real', 'emotions'] \n",
      "\n",
      "s[:13]就是取s 0-12: We met at the\n",
      "len(s): 168\n",
      "開頭是不是We: True\n",
      "結尾是不是.: False \n",
      "\n",
      "find: 10\n",
      "index: 10\n",
      "rfind: 144\n",
      "rindex: 144 \n",
      "\n",
      "'the'在s共出現幾次: 5\n",
      "是否只有字母和數字: False\n",
      "查無此字串回傳-1: -1\n"
     ]
    }
   ],
   "source": [
    "###### 搜尋與選擇 #######\n",
    "\n",
    "# 先把句子中的标点符号统一替换为空格，然后在split()切割即可搞定。这时候就可以用上string.punctuation\n",
    "import string    # 注意使用前要先将string模块导入\n",
    " \n",
    "s='''We met at the wrong time, but separated ##at the right time. The most urgen\n",
    "t is to take the most bea***utiful scenery!!! the deepest wound was the most real \n",
    "emotions.'''\n",
    "\n",
    "for i in s:\n",
    "    if i in string.punctuation:  # 如果字符是标点符号的话就将其替换为空格\n",
    "        s = s.replace(i,\" \")\n",
    "\n",
    "print(\"s字串內有標點符號都轉換成空格:\",s,'\\n')\n",
    "\n",
    "\n",
    "###### 在字串中找出'the' #####\n",
    "word='the'\n",
    "\n",
    "print(\"s用空格split後變list:\",s.split(),'\\n')\n",
    "print(\"s[:13]就是取s 0-12:\",s[:13])\n",
    "print(\"len(s):\",len(s))\n",
    "print(\"開頭是不是We:\",s.startswith('We'))\n",
    "print(\"結尾是不是.:\",s.endswith('.'),'\\n')\n",
    "\n",
    "# 兩種方式在s字串找出第一個the從第幾個字元開始\n",
    "print(\"find:\",s.find(word))\n",
    "print(\"index:\",s.index(word))\n",
    "\n",
    "# 兩種方式在s字串找出最後一個the從第幾個字元開始\n",
    "print(\"rfind:\",s.rfind(word))\n",
    "print(\"rindex:\",s.rindex(word),'\\n')\n",
    "\n",
    "print(\"'the'在s共出現幾次:\",s.count(word))\n",
    "print(\"是否只有字母和數字:\",s.isalnum()) # 是false因為有標點符號\n",
    "print(\"查無此字串回傳-1:\",s.find('duck'))"
   ]
  },
  {
   "cell_type": "code",
   "execution_count": 1,
   "id": "12b0826e",
   "metadata": {
    "scrolled": true
   },
   "outputs": [
    {
     "name": "stdout",
     "output_type": "stream",
     "text": [
      "第一個字元改大寫: A duck get into a bar...\n",
      "每個單字的第一個字元改大寫: A Duck Get Into A Bar... \n",
      "\n",
      "全部改大寫: A DUCK GET INTO A BAR...\n",
      "全部改小寫: a duck get into a bar...\n",
      "大小寫對調: a DUCK GET INTO A BAR... \n",
      "\n",
      "在30個空格內置中對齊:    A duck get into a bar...   \n",
      "在30個空格內靠左對齊: A duck get into a bar...      \n",
      "在30個空格內靠右對齊:       A duck get into a bar...\n"
     ]
    }
   ],
   "source": [
    "##### 各種字串改變方式 #####\n",
    "\n",
    "setup='A duck get into a bar...'\n",
    "print(\"第一個字元改大寫:\",setup.capitalize())\n",
    "print(\"每個單字的第一個字元改大寫:\",setup.title(),'\\n')\n",
    "print(\"全部改大寫:\",setup.upper())\n",
    "print(\"全部改小寫:\",setup.lower())\n",
    "print(\"大小寫對調:\",setup.swapcase(),'\\n')\n",
    "print(\"在30個空格內置中對齊:\",setup.center(30))\n",
    "print(\"在30個空格內靠左對齊:\",setup.ljust(30))\n",
    "print(\"在30個空格內靠右對齊:\",setup.rjust(30))"
   ]
  },
  {
   "cell_type": "code",
   "execution_count": 165,
   "id": "aad7b2a3",
   "metadata": {},
   "outputs": [
    {
     "name": "stdout",
     "output_type": "stream",
     "text": [
      "woodchuck\n",
      "The woodchuck in lake\n",
      "The      woodchuck       in       lake as ###lake#### \n",
      "\n",
      "The lake in woodchuck\n",
      "The A in B\n",
      "The CC in DD \n",
      "\n",
      "The WOODCHUCK in       lake as lake or .....woodchuck......\n",
      "thing[:2] ='wo',place.title() ='Lake'\n",
      "['gg', 'hh']\n",
      "['gg', 'hh'] \n",
      "\n",
      "42.000000\n",
      "42%\n",
      "something is breaking my god!! big ball\n",
      "something is 28 weight big ball breaking my god!!\n"
     ]
    }
   ],
   "source": [
    "##### 常用的新式格式化字串 #####\n",
    "\n",
    "thing='woodchuck'\n",
    "place='lake'\n",
    "print(thing)\n",
    "print('The {} in {}'.format(thing,place))\n",
    "print('The {:^20} in {:>10s} as {:#^11s}'.format(thing,place,place),'\\n')\n",
    "\n",
    "print('The {1} in {0}'.format(thing,place))  # 指定位置\n",
    "print('The {thing} in {place}'.format(thing='A',place='B'))\n",
    "d={'thing':'CC','place':'DD'}  # 字典\n",
    "\n",
    "print('The {0[thing]} in {0[place]}'.format(d),'\\n')\n",
    "\n",
    "###### 最新式f-string內也可加入個運算式 ######\n",
    "\n",
    "print(f'The {thing.upper()} in {place.rjust(10)} as {place} or {thing:.^20}')\n",
    "print(f'{thing[:2] =},{place.title() =}')  # 控一格 =可以印出字面外觀 很方便\n",
    "\n",
    "# 兩種方式f-string\n",
    "print(f'{d}')\n",
    "print('{}'.format(d),'\\n')\n",
    "\n",
    "\n",
    "##### 舊式格式化字串 #####\n",
    "\n",
    "print('%f' % 42)\n",
    "print('%s%%' % 42)\n",
    "actor=' big ball'\n",
    "weight=28\n",
    "qoo1='something is breaking my god!!%s'\n",
    "qoo2='something is %s weight%s breaking my god!!'\n",
    "print(qoo1 % actor)\n",
    "print(qoo2 % (weight,actor))"
   ]
  },
  {
   "cell_type": "code",
   "execution_count": 175,
   "id": "971a4dec",
   "metadata": {
    "scrolled": true
   },
   "outputs": [
    {
     "name": "stdout",
     "output_type": "stream",
     "text": [
      "i am a smart child from Market get Money\n"
     ]
    }
   ],
   "source": [
    "#### 待辦 5.1 ####\n",
    "\n",
    "v='''i am a smart child from market get money'''\n",
    "print(v.replace(' m',' M'))"
   ]
  },
  {
   "cell_type": "code",
   "execution_count": 189,
   "id": "c005f187",
   "metadata": {
    "scrolled": true
   },
   "outputs": [
    {
     "name": "stdout",
     "output_type": "stream",
     "text": [
      "Q 0 : What's your name??  A: I am shanJie\n",
      "Q 1 : Are you a gay??  A: No, I am a Tomboy\n",
      "Q 2 : Do you love me??  A: I think so\n"
     ]
    }
   ],
   "source": [
    "#### 待辦 5.2 ####\n",
    "\n",
    "questions=[    \n",
    "    \"What's your name??\",\n",
    "    \"Are you a gay??\",\n",
    "    \"Do you love me??\"\n",
    "    ]\n",
    "answers=[\n",
    "    \"I am shanJie\",\n",
    "    \"No, I am a Tomboy\",\n",
    "    \"I think so\"\n",
    "    ]\n",
    "for i in range(len(answers)):\n",
    "    print('Q',i,': {}  A: {}'.format(questions[i],answers[i]))"
   ]
  },
  {
   "cell_type": "code",
   "execution_count": 192,
   "id": "b32acbd4",
   "metadata": {
    "scrolled": true
   },
   "outputs": [
    {
     "name": "stdout",
     "output_type": "stream",
     "text": [
      "my cat like beef\n",
      "my cat like beef\n"
     ]
    }
   ],
   "source": [
    "#### 待辦 5.3 ####\n",
    "\n",
    "a1='my cat like %s'\n",
    "a2='beef'\n",
    "\n",
    "print('my cat like %s' % 'beef')\n",
    "print(a1 % a2)"
   ]
  },
  {
   "cell_type": "code",
   "execution_count": 207,
   "id": "69c54307",
   "metadata": {
    "scrolled": false
   },
   "outputs": [
    {
     "name": "stdout",
     "output_type": "stream",
     "text": [
      "Dear {salutation} {name},\n",
      "Thank you for your {product} {verbed} in your {room}.\n",
      "be in your {room}, especially near any {animals}.\n",
      "\n",
      "send {amount} for your {product} that,\n",
      "is {percent}% less likely to have {verbed}.\n",
      "\n",
      "Sincerely,\n",
      "{spokesman}\n",
      "{job_title}\n",
      "\n"
     ]
    }
   ],
   "source": [
    "#### 待辦 5.4 ####\n",
    "\n",
    "letter='''Dear {salutation} {name},\n",
    "Thank you for your {product} {verbed} in your {room}.\n",
    "be in your {room}, especially near any {animals}.\n",
    "\n",
    "send {amount} for your {product} that,\n",
    "is {percent}% less likely to have {verbed}.\n",
    "\n",
    "Sincerely,\n",
    "{spokesman}\n",
    "{job_title}\n",
    "'''\n",
    "\n",
    "letter=f'{letter}'\n",
    "print(letter)"
   ]
  },
  {
   "cell_type": "code",
   "execution_count": 216,
   "id": "ac793430",
   "metadata": {
    "scrolled": true
   },
   "outputs": [
    {
     "name": "stdout",
     "output_type": "stream",
     "text": [
      "Dear HOENY ANNIE,\n",
      "Thank you for your PRODUCT OF THE BEST in your HOUSE.\n",
      "be in your HOUSE, especially near any DOGS.\n",
      "\n",
      "send ABCDE for your PRODUCT that,\n",
      "is 90% less likely to have OF THE BEST.\n",
      "\n",
      "Sincerely,\n",
      "BOSS\n",
      "PYTHON COMPAMY\n",
      "\n"
     ]
    }
   ],
   "source": [
    "#### 待辦 5.5 ####\n",
    "cc={'salutation':'HOENY','name':'ANNIE','product':'PRODUCT','verbed':'OF THE BEST','amount':'ABCDE',\n",
    "   'room':'HOUSE','animals':'DOGS','percent':'90','spokesman':'BOSS','job_title':'PYTHON COMPAMY'}  # 字典\n",
    "\n",
    "print(letter.format(salutation='HOENY',name='ANNIE',product='PRODUCT',verbed='OF THE BEST',amount='ABCDE',\n",
    "   room='HOUSE',animals='DOGS',percent='90',spokesman='BOSS',job_title='PYTHON COMPAMY'))\n"
   ]
  },
  {
   "cell_type": "code",
   "execution_count": 223,
   "id": "92c598de",
   "metadata": {
    "scrolled": true
   },
   "outputs": [
    {
     "name": "stdout",
     "output_type": "stream",
     "text": [
      "AAA:duck\n",
      "BBB:grund\n",
      "CCC:spitz\n"
     ]
    }
   ],
   "source": [
    "##### 5.6 待辦 ####\n",
    "\n",
    "print('AAA:%s' % 'duck')\n",
    "print('BBB:%s' % 'grund')\n",
    "print('CCC:%s' % 'spitz')"
   ]
  },
  {
   "cell_type": "code",
   "execution_count": 228,
   "id": "d145a83b",
   "metadata": {
    "scrolled": true
   },
   "outputs": [
    {
     "name": "stdout",
     "output_type": "stream",
     "text": [
      "AAA:duck\n",
      "BBB:grund\n",
      "CCC:spitz\n"
     ]
    }
   ],
   "source": [
    "##### 5.7 待辦 ####\n",
    "\n",
    "print('AAA:{}'.format('duck'))\n",
    "print('BBB:{}'.format('grund'))\n",
    "print('CCC:{}'.format('spitz'))"
   ]
  },
  {
   "cell_type": "code",
   "execution_count": 227,
   "id": "2ac1c6e4",
   "metadata": {},
   "outputs": [
    {
     "name": "stdout",
     "output_type": "stream",
     "text": [
      "AAA:duck\n",
      "BBB:grund\n",
      "CCC:spitz\n"
     ]
    }
   ],
   "source": [
    "##### 5.8 待辦 ####\n",
    "\n",
    "print(f'AAA:duck')\n",
    "print(f'BBB:grund')\n",
    "print(f'CCC:spitz')"
   ]
  }
 ],
 "metadata": {
  "kernelspec": {
   "display_name": "Python 3 (ipykernel)",
   "language": "python",
   "name": "python3"
  },
  "language_info": {
   "codemirror_mode": {
    "name": "ipython",
    "version": 3
   },
   "file_extension": ".py",
   "mimetype": "text/x-python",
   "name": "python",
   "nbconvert_exporter": "python",
   "pygments_lexer": "ipython3",
   "version": "3.8.12"
  }
 },
 "nbformat": 4,
 "nbformat_minor": 5
}
