{
 "cells": [
  {
   "cell_type": "code",
   "execution_count": 1,
   "id": "8d40d7e4",
   "metadata": {
    "scrolled": true
   },
   "outputs": [
    {
     "name": "stdout",
     "output_type": "stream",
     "text": [
      "ASCII一般字母:\n",
      "value=\"A\",name=\"LATIN CAPITAL LETTER A\",value2=\"A\"\n",
      "\n",
      "ASCII標點符號:\n",
      "value=\"$\",name=\"DOLLAR SIGN\",value2=\"$\"\n",
      "\n",
      "Unicode貨幣字元:\n",
      "value=\"¢\",name=\"CENT SIGN\",value2=\"¢\"\n",
      "\n",
      "Unicode貨幣字元2:\n",
      "value=\"€\",name=\"EURO SIGN\",value2=\"€\"\n",
      "\n",
      "Unicode符號:\n",
      "value=\"☃\",name=\"SNOWMAN\",value2=\"☃\"\n",
      "\n",
      "caf\"é\"顯示特殊字元:\n",
      "value=\"é\",name=\"LATIN SMALL LETTER E WITH ACUTE\",value2=\"é\"\n",
      "\n",
      "é用lokkup顯示特殊字元: é\n",
      "\n",
      "é用代碼指定字串caf\"é\": café\n",
      "\n",
      "é用名稱指定字串caf\"é\": café\n",
      "\n",
      " 🎅\n",
      "Now I can Go🎅y in a café\n",
      "len()計算是使用Unicode字元 不是byte: 4\n",
      "\n",
      "é\n",
      "é\n",
      "ῆ\n"
     ]
    }
   ],
   "source": [
    "### 關於Unicode ###\n",
    "\n",
    "import unicodedata\n",
    "def unicode_test(value):\n",
    "    import unicodedata\n",
    "    name=unicodedata.name(value)\n",
    "    value2=unicodedata.lookup(name)\n",
    "    print('value=\"%s\",name=\"%s\",value2=\"%s\"'%(value,name,value2))\n",
    "print('ASCII一般字母:')\n",
    "unicode_test('A')\n",
    "\n",
    "print('\\nASCII標點符號:')\n",
    "unicode_test('$')\n",
    "\n",
    "print('\\nUnicode貨幣字元:')\n",
    "unicode_test('\\u00a2')\n",
    "\n",
    "print('\\nUnicode貨幣字元2:')\n",
    "unicode_test('\\u20ac')\n",
    "\n",
    "print('\\nUnicode符號:')\n",
    "unicode_test('\\u2603')\n",
    "\n",
    "print('\\ncaf\"é\"顯示特殊字元:')\n",
    "unicode_test('\\u00E9')\n",
    "\n",
    "a=unicodedata.lookup('LATIN SMALL LETTER E WITH ACUTE')\n",
    "print('\\né用lokkup顯示特殊字元:',a)\n",
    "\n",
    "place='caf\\u00E9'\n",
    "print('\\né用代碼指定字串caf\"é\":',place)\n",
    "\n",
    "place='caf\\N{LATIN SMALL LETTER E WITH ACUTE}'\n",
    "print('\\né用名稱指定字串caf\"é\":',place)\n",
    "\n",
    "f='\\N{FATHER CHRISTMAS}'\n",
    "print('\\n',f)\n",
    "\n",
    "drink='Go'+f+'y'\n",
    "print('Now I can',drink,'in a',place)\n",
    "\n",
    "print(f'len()計算是使用Unicode字元 不是byte: {len(place)}\\n')\n",
    "\n",
    "print(chr(233))\n",
    "print(chr(0xe9))\n",
    "print(chr(0x1fc6))\n",
    "\n",
    "# 從é找代碼可嗎??"
   ]
  },
  {
   "cell_type": "code",
   "execution_count": 2,
   "id": "f3e55141",
   "metadata": {
    "scrolled": true
   },
   "outputs": [
    {
     "name": "stdout",
     "output_type": "stream",
     "text": [
      "任何東西都可編碼成UTF-8:\n",
      "☃\n",
      "1\n",
      "\n",
      "將unicode編碼成UTF-8 每個字編碼長度不一樣:\n",
      "b'\\xe2\\x98\\x83'\n",
      "3\n",
      "2\n",
      "\n",
      "encode()其他用法:\n",
      "b''\n",
      "b''\n",
      "b'\\\\u2603'\n",
      "b'&#9731;'\n"
     ]
    }
   ],
   "source": [
    "### 編碼 encode() ###\n",
    "\n",
    "print('任何東西都可編碼成UTF-8:')\n",
    "snowman='\\u2603'\n",
    "print(snowman)\n",
    "print(len(snowman))\n",
    "\n",
    "print('\\n將unicode編碼成UTF-8 每個字編碼長度不一樣:')\n",
    "ds=snowman.encode('utf-8')\n",
    "print(ds)\n",
    "print(len(ds))\n",
    "print(len('ds'))\n",
    "\n",
    "#ds=snowman.encode('ascii')  # 無法處理Unicode字串會出錯\n",
    "\n",
    "print('\\nencode()其他用法:')\n",
    "ds=snowman.encode('ascii','ignore')  # 用ignore丟棄無法編碼的東西\n",
    "print(ds)\n",
    "ds=snowman.encode('ascii','ignore')  # 用replace將位置字元轉換成?\n",
    "print(ds)\n",
    "ds=snowman.encode('ascii','backslashreplace')  # 用backslashreplace產生unicode字串\n",
    "print(ds)\n",
    "ds=snowman.encode('ascii','xmlcharrefreplace')  # 用xmlcharrefreplace製作html安全字串\n",
    "print(ds)"
   ]
  },
  {
   "cell_type": "code",
   "execution_count": 3,
   "id": "50530400",
   "metadata": {
    "scrolled": true
   },
   "outputs": [
    {
     "name": "stdout",
     "output_type": "stream",
     "text": [
      "café\n",
      "<class 'str'>\n",
      "\n",
      "encode('utf-8'):  b'caf\\xc3\\xa9'\n",
      "<class 'bytes'>\n",
      "\n",
      "decode('utf-8'):  café\n",
      "latin-1:  cafÃ©\n",
      "windows-1252:  cafÃ©\n"
     ]
    }
   ],
   "source": [
    "### 解碼 decode() ###\n",
    "\n",
    "place='caf\\u00e9'\n",
    "print(place)\n",
    "print(type(place))\n",
    "\n",
    "place_bytes=place.encode('utf-8')\n",
    "print(\"\\nencode('utf-8'): \",place_bytes)\n",
    "print(type(place_bytes))\n",
    "place2=place_bytes.decode('utf-8')\n",
    "\n",
    "print(\"\\ndecode('utf-8'): \",place2)\n",
    "\n",
    "#place3=place_bytes.decode('ascii') # byte值0xc3無效 打開會出錯\n",
    "\n",
    "place4=place_bytes.decode('latin-1')\n",
    "print('latin-1: ',place4)\n",
    "\n",
    "place5=place_bytes.decode('windows-1252')\n",
    "print('windows-1252: ',place5)"
   ]
  },
  {
   "cell_type": "code",
   "execution_count": 4,
   "id": "7477dc49",
   "metadata": {
    "scrolled": true
   },
   "outputs": [
    {
     "name": "stdout",
     "output_type": "stream",
     "text": [
      "\n",
      "HTML實體 unescape() 在處理網頁很實用:\n",
      "è\n",
      "é\n",
      "é\n",
      "\n",
      "匯入html.entities 也可以具名轉換 要把&拿掉:\n",
      "è\n",
      "è\n",
      "\n",
      "進行反向轉換(Unicode to Html) 要先用ord()取得十進字元:\n",
      "eacute\n",
      "\n",
      "處理多個Unicode字元轉Html 先encode再decode???:\n",
      "b'caf&#233;'\n",
      "caf&#233;\n"
     ]
    }
   ],
   "source": [
    "### HTML實體 unescape() ###\n",
    "\n",
    "# 這轉換可處理包含數字的實例 不管是十進制或十六進制\n",
    "print('\\nHTML實體 unescape() 在處理網頁很實用:')\n",
    "import html\n",
    "print(html.unescape(\"&egrave\")) # è和其他é 不太一樣\n",
    "print(html.unescape(\"&#233\"))\n",
    "print(html.unescape(\"&#xe9\"))\n",
    "\n",
    "print('\\n匯入html.entities 也可以具名轉換 要把&拿掉:')\n",
    "from html.entities import html5\n",
    "print(html5[\"egrave\"])\n",
    "print(html5[\"egrave;\"])\n",
    "\n",
    "print('\\n進行反向轉換(Unicode to Html) 要先用ord()取得十進字元:')\n",
    "import html\n",
    "char='\\u00e9'\n",
    "dec_value=ord(char)\n",
    "print(html.entities.codepoint2name[dec_value])\n",
    "\n",
    "print('\\n處理多個Unicode字元轉Html 先encode再decode???:')\n",
    "place='caf\\u00e9'\n",
    "byte_value=place.encode('ascii','xmlcharrefreplace')\n",
    "print(byte_value)\n",
    "byte_value=byte_value.decode()\n",
    "print(byte_value)"
   ]
  },
  {
   "cell_type": "code",
   "execution_count": 5,
   "id": "efcdc944",
   "metadata": {
    "scrolled": true
   },
   "outputs": [
    {
     "name": "stdout",
     "output_type": "stream",
     "text": [
      "é é é é é\n",
      "True\n",
      "1\n",
      "\n",
      "做些健全測試:\n",
      "LATIN SMALL LETTER E WITH ACUTE\n",
      "233\n",
      "233\n",
      "\n",
      "用一般e結合重音符號:\n",
      "é é é\n",
      "True\n",
      "2\n",
      "\n",
      "雖字一樣 但來源不同 所以長度不一:\n",
      "é é\n",
      "False\n",
      "\n",
      "將e_c1標準就ok了:\n",
      "1\n",
      "True\n"
     ]
    }
   ],
   "source": [
    "### 標準化 ###\n",
    "\n",
    "e1='é'  # UTF-8貼上\n",
    "e2='\\u00e9'  # Unicode碼位\n",
    "e3=\\\n",
    "'\\N{LATIN SMALL LETTER E WITH ACUTE}'   # Unicode名稱\n",
    "e4=chr(233)   # 十進制byte\n",
    "e5=chr(0xe9)  # 十六進制byte\n",
    "print(e1,e2,e3,e4,e5)\n",
    "print(e1==e2==e3==e4==e5)\n",
    "print(len(e1))\n",
    "\n",
    "print('\\n做些健全測試:')\n",
    "import unicodedata\n",
    "print(unicodedata.name(e1))\n",
    "print(ord(e1))\n",
    "print(0xe9)\n",
    "\n",
    "print('\\n用一般e結合重音符號:')\n",
    "e_c1='e\\u0301'\n",
    "e_c2='e\\N{COMBINING ACUTE ACCENT}'\n",
    "e_c3='e'+'\\u0301'\n",
    "print(e_c1,e_c2,e_c3)\n",
    "print(e_c1==e_c2==e_c3)\n",
    "print(len(e_c1))\n",
    "\n",
    "# 來源不同所以長度不一\n",
    "print('\\n雖字一樣 但來源不同 所以長度不一:')\n",
    "print(e1,e_c1)\n",
    "print(e1==e_c1)\n",
    "\n",
    "print('\\n將e_c1標準就ok了:')\n",
    "import unicodedata\n",
    "e_c1=unicodedata.normalize('NFC',e_c1)\n",
    "print(len(e_c1))\n",
    "print(e1==e_c1)"
   ]
  },
  {
   "cell_type": "code",
   "execution_count": 6,
   "id": "e651519d",
   "metadata": {
    "scrolled": true
   },
   "outputs": [
    {
     "name": "stdout",
     "output_type": "stream",
     "text": [
      "<re.Match object; span=(0, 3), match='You'>\n",
      "None\n",
      "\n",
      "用match()來確定開頭是否符合:\n",
      "找到了: You\n",
      "找到了: You\n",
      "找不到!!\n",
      "\n",
      "用search()找到第一個符合的對象:\n",
      "找到了: Frank\n"
     ]
    }
   ],
   "source": [
    "### 正規表達式 match() 與 search() ###\n",
    "\n",
    "import re\n",
    "source='Young Frankstein'\n",
    "result=re.match('You',source)\n",
    "\n",
    "y1=re.compile('You')\n",
    "result=y1.match(source)\n",
    "print(result) \n",
    "result=y1.match('Noung Frankstein')\n",
    "print(result) # 若不符合會顯示None\n",
    "\n",
    "# 用match()來確定開頭是否符合\n",
    "print('\\n用match()來確定開頭是否符合:')\n",
    "import re\n",
    "\n",
    "m=re.match('You',source)\n",
    "if m:\n",
    "    print('找到了:',m.group())\n",
    "    \n",
    "m=re.match('^You',source)  # 開頭是^也可以\n",
    "if m:\n",
    "    print('找到了:',m.group())\n",
    "    \n",
    "m=re.match('Frank',source) \n",
    "if m:\n",
    "    print('找到了:',m.group())\n",
    "else:\n",
    "    print('找不到!!')\n",
    "\n",
    "print('\\n用search()找到第一個符合的對象:')\n",
    "m=re.search('Frank',source) \n",
    "if m:\n",
    "    print('找到了:',m.group())\n",
    "else:\n",
    "    print('找不到!!')"
   ]
  },
  {
   "cell_type": "code",
   "execution_count": 7,
   "id": "39cc4720",
   "metadata": {
    "scrolled": true
   },
   "outputs": [
    {
     "name": "stdout",
     "output_type": "stream",
     "text": [
      "\n",
      "用海象運算子來縮短程式match():\n",
      "找不到!!\n",
      "\n",
      "用海象運算子來縮短程式 改用search():\n",
      "找到了: Frank\n",
      "\n",
      "海象運算 改用match(.*) .* 會找到最後一個符合的 列出前面全部字元:\n",
      "找到了: Young Frankstein gFrank\n"
     ]
    }
   ],
   "source": [
    "### 正規表達式 海象運算子 match() 與 search() ###\n",
    "\n",
    "print('\\n用海象運算子來縮短程式match():')\n",
    "import re\n",
    "if m:=re.match('Frank',source):  \n",
    "    print('找到了:',m.group())\n",
    "else:\n",
    "    print('找不到!!')\n",
    "    \n",
    "print('\\n用海象運算子來縮短程式 改用search():')\n",
    "import re\n",
    "if m:=re.search('Frank',source):  \n",
    "    print('找到了:',m.group())\n",
    "else:\n",
    "    print('找不到!!')\n",
    "\n",
    "# .* 會找到最後一個符合的 列出前面全部字元\n",
    "print('\\n海象運算 改用match(.*) .* 會找到最後一個符合的 列出前面全部字元:')\n",
    "import re\n",
    "source='Young Frankstein gFrank'\n",
    "if m:=re.match('.*Frank',source):  \n",
    "    print('找到了:',m.group())\n",
    "else:\n",
    "    print('找不到!!') "
   ]
  },
  {
   "cell_type": "code",
   "execution_count": 158,
   "id": "14537db5",
   "metadata": {
    "scrolled": true
   },
   "outputs": [
    {
     "name": "stdout",
     "output_type": "stream",
     "text": [
      "尋找字串中有幾個Frank:\n",
      "['Frank', 'Frank'] _ 2 個\n",
      "\n",
      "F. 尋找F後有任何字元模式:\n",
      "['Fr', 'Ft', 'Fr'] _ 3 個\n",
      "\n",
      "F.? 尋找F後有任何字元模式 包含最後一個也是F的話:\n",
      "['Fr', 'Ft', 'Fr', 'F'] _ 4 個\n",
      "\n",
      "split()在符合的地方拆開 會回傳一個list:\n",
      "['Young ', 'sFtein g', 'F']\n",
      "\n",
      "sub() 來替換符合的對象:\n",
      "Young !ranks!tein g!rank!\n",
      "\n",
      "replace() 來替換符合的對象:\n",
      "Young !ranks!tein g!rank!\n"
     ]
    }
   ],
   "source": [
    "### 正規表達式 findall() 與 split() 與 sub() ###\n",
    "\n",
    "import re\n",
    "source='Young FranksFtein gFrankF'\n",
    "\n",
    "# findall()尋找所有符合項目\n",
    "print('尋找字串中有幾個Frank:')\n",
    "m=re.findall('Frank',source)\n",
    "print(m,'_',len(m),'個')\n",
    "\n",
    "print('\\nF. 尋找F後有任何字元模式:')\n",
    "m=re.findall('F.',source)\n",
    "print(m,'_',len(m),'個')\n",
    "\n",
    "print('\\nF.? 尋找F後有任何字元模式 包含最後一個也是F的話:')\n",
    "m=re.findall('F.?',source)\n",
    "print(m,'_',len(m),'個')\n",
    "\n",
    "# split()在符合的地方拆開\n",
    "print('\\nsplit()在符合的地方拆開 會回傳一個list:')\n",
    "m=re.split('Frank',source)\n",
    "print(m)\n",
    "\n",
    "# sub() 來替換符合的對象 類似字串方法replace() 但sub()是使用模式\n",
    "print('\\nsub() 來替換符合的對象:')\n",
    "m=re.sub('F','!',source)\n",
    "print(m)\n",
    "\n",
    "print('\\nreplace() 來替換符合的對象:')\n",
    "m=source.replace('F','!')\n",
    "print(m)"
   ]
  },
  {
   "cell_type": "code",
   "execution_count": 8,
   "id": "43128f0c",
   "metadata": {
    "scrolled": true
   },
   "outputs": [
    {
     "name": "stdout",
     "output_type": "stream",
     "text": [
      "100\n",
      "0123456789abcdefghijklmnopqrstuvwxyzABCDEFGHIJKLMN\n",
      "OPQRSTUVWXYZ!\"#$%&'()*+,-./:;<=>?@[\\]^_`{|}~ \t\n",
      "\r",
      "\u000b",
      "\f",
      "\n",
      "printable哪些是 \\d 數字:\n",
      "['0', '1', '2', '3', '4', '5', '6', '7', '8', '9']\n",
      "10\n",
      "\n",
      "printable哪些是 \\D 非數字:\n",
      "['a', 'b', 'c', 'd', 'e', 'f', 'g', 'h', 'i', 'j', 'k', 'l', 'm', 'n', 'o', 'p', 'q', 'r', 's', 't', 'u', 'v', 'w', 'x', 'y', 'z', 'A', 'B', 'C', 'D', 'E', 'F', 'G', 'H', 'I', 'J', 'K', 'L', 'M', 'N', 'O', 'P', 'Q', 'R', 'S', 'T', 'U', 'V', 'W', 'X', 'Y', 'Z', '!', '\"', '#', '$', '%', '&', \"'\", '(', ')', '*', '+', ',', '-', '.', '/', ':', ';', '<', '=', '>', '?', '@', '[', '\\\\', ']', '^', '_', '`', '{', '|', '}', '~', ' ', '\\t', '\\n', '\\r', '\\x0b', '\\x0c']\n",
      "90\n",
      "\n",
      "printable哪些是 \\w 英數字:\n",
      "['0', '1', '2', '3', '4', '5', '6', '7', '8', '9', 'a', 'b', 'c', 'd', 'e', 'f', 'g', 'h', 'i', 'j', 'k', 'l', 'm', 'n', 'o', 'p', 'q', 'r', 's', 't', 'u', 'v', 'w', 'x', 'y', 'z', 'A', 'B', 'C', 'D', 'E', 'F', 'G', 'H', 'I', 'J', 'K', 'L', 'M', 'N', 'O', 'P', 'Q', 'R', 'S', 'T', 'U', 'V', 'W', 'X', 'Y', 'Z', '_']\n",
      "63\n",
      "\n",
      "printable哪些是 \\s 空白字元:\n",
      "[' ', '\\t', '\\n', '\\r', '\\x0b', '\\x0c']\n",
      "6\n",
      "\n",
      "printable哪些是 \\s 空白字元:\n",
      "abc-/*êĕ\n",
      "['a', 'b', 'c', 'ê', 'ĕ']\n"
     ]
    }
   ],
   "source": [
    "### 模式:特殊字元 ###\n",
    "\n",
    "import string\n",
    "printable=string.printable\n",
    "print(len(printable))\n",
    "\n",
    "print(printable[0:50])\n",
    "print(printable[50:])\n",
    "\n",
    "print('printable哪些是 \\d 數字:')\n",
    "p=re.findall('\\d',printable)\n",
    "print(p)\n",
    "print(len(p))\n",
    "\n",
    "print('\\nprintable哪些是 \\D 非數字:')\n",
    "p=re.findall('\\D',printable)\n",
    "print(p)\n",
    "print(len(p))\n",
    "\n",
    "print('\\nprintable哪些是 \\w 英數字:')\n",
    "p=re.findall('\\w',printable)\n",
    "print(p)\n",
    "print(len(p))\n",
    "\n",
    "print('\\nprintable哪些是 \\s 空白字元:')\n",
    "p=re.findall('\\s',printable)\n",
    "print(p)\n",
    "print(len(p))\n",
    "\n",
    "print('\\nprintable哪些是 \\s 空白字元:')\n",
    "x='abc'+'-/*'+'\\u00ea'+'\\u0115'\n",
    "p=re.findall('\\w',x)\n",
    "print(x)\n",
    "print(p)"
   ]
  },
  {
   "cell_type": "code",
   "execution_count": 9,
   "id": "b128ecda",
   "metadata": {
    "scrolled": false
   },
   "outputs": [
    {
     "name": "stdout",
     "output_type": "stream",
     "text": [
      "找source任何地方的wish:\n",
      "['wish', 'wish']\n",
      "\n",
      "找source任何地方的wish或fish:\n",
      "['wish', 'wish', 'fish']\n",
      "\n",
      "找source任何地方的wish或fish:\n",
      "['wish', 'wish', 'fish']\n",
      "\n",
      "找source任何地方的 o:\n",
      "[' o']\n",
      "\n",
      "用search找source開頭是wish:\n",
      "<re.Match object; span=(2, 6), match='wish'>\n",
      "\n",
      "^I wish 找source開頭是I wish:\n",
      "['I wish']\n",
      "\n",
      "tonight.$ 找source結尾是tonight.:\n",
      "['tonight.']\n",
      "\n",
      "tonight$ 找source結尾是tonight 沒打逗號所以找不到:\n",
      "[]\n",
      "\n",
      "tonight\\.$ 找source結尾是tonight. 使用\\轉譯句點:\n",
      "['tonight.']\n"
     ]
    }
   ],
   "source": [
    "### 模式:使用說明符 ###\n",
    "\n",
    "source='''I wish I may,I wish I might\n",
    "        Have a dish of fish tonight.'''\n",
    "\n",
    "print('找source任何地方的wish:')\n",
    "s=re.findall('wish',source)\n",
    "print(s)\n",
    "\n",
    "print('\\n找source任何地方的wish或fish:')\n",
    "s=re.findall('wish|fish',source)\n",
    "print(s)\n",
    "\n",
    "print('\\n找source任何地方的wish或fish:')\n",
    "s=re.findall('wish|fish',source)\n",
    "print(s)\n",
    "\n",
    "print('\\n找source任何地方的 o:')\n",
    "s=re.findall(' o',source)  # 有空白鍵 所以英文字內的o不算\n",
    "print(s)\n",
    "\n",
    "print('\\n用search找source開頭是wish:')\n",
    "s=re.search('wish',source)  \n",
    "print(s)\n",
    "\n",
    "print('\\n^I wish 找source開頭是I wish:')\n",
    "s=re.findall('^I wish',source)  \n",
    "print(s)\n",
    "\n",
    "print('\\ntonight.$ 找source結尾是tonight.:')\n",
    "s=re.findall('tonight.$',source)  \n",
    "print(s)\n",
    "\n",
    "print('\\ntonight$ 找source結尾是tonight 沒打逗號所以找不到:')\n",
    "s=re.findall('tonight$',source)  \n",
    "print(s)\n",
    "\n",
    "print('\\ntonight\\.$ 找source結尾是tonight. 使用\\轉譯句點:')\n",
    "s=re.findall('tonight\\.$',source)  \n",
    "print(s)"
   ]
  },
  {
   "cell_type": "code",
   "execution_count": 10,
   "id": "195d9208",
   "metadata": {
    "scrolled": true
   },
   "outputs": [
    {
     "name": "stdout",
     "output_type": "stream",
     "text": [
      "\n",
      "[wf]ish 找source內w或f接著是ish:\n",
      "['wish', 'wish', 'fish']\n",
      "\n",
      "w(?=ish) 找source的ish前面是w的:\n",
      "['w', 'w']\n",
      "\n",
      "[wsh]+ 找source一或多個 w s h:\n",
      "['w', 'sh', 'w', 'sh', 'h', 'sh', 'sh', 'h']\n",
      "\n",
      "ght\\W 找source的ght開頭是非英數字元:\n",
      "['ght\\n', 'ght.']\n",
      "\n",
      "I(?=wish) 找source的wish前的I:\n",
      "[]\n",
      "\n",
      "(?<=I) might 找source的I接下來是might:\n",
      "[' might']\n",
      "\n",
      "(?<=I )wish 或 (?<=I) wish 都可 找source的I之後的wish:\n",
      "['wish', 'wish']\n",
      "\n",
      "有時會有衝突:\n",
      "[]\n",
      "\n",
      "務必在正規表達式前加上r來停用py的轉義字元:\n",
      "[]\n"
     ]
    }
   ],
   "source": [
    "# 接續上面..模式:使用說明符\n",
    "\n",
    "print('\\n[wf]ish 找source內w或f接著是ish:')\n",
    "s=re.findall('[wf]ish',source)  \n",
    "print(s)\n",
    "\n",
    "print('\\nw(?=ish) 找source的ish前面是w的:')\n",
    "s=re.findall('w(?=ish)',source)\n",
    "print(s)\n",
    "\n",
    "print('\\n[wsh]+ 找source一或多個 w s h:')\n",
    "s=re.findall('[wsh]+',source)\n",
    "print(s)\n",
    "\n",
    "print('\\nght\\W 找source的ght開頭是非英數字元:')\n",
    "s=re.findall('ght\\W',source)\n",
    "print(s)\n",
    "\n",
    "print('\\nI(?=wish) 找source的wish前的I:')\n",
    "s=re.findall('I(?=wish)',source)\n",
    "print(s)\n",
    "\n",
    "print('\\n(?<=I) might 找source的I接下來是might:')\n",
    "s=re.findall('(?<=I) might',source)\n",
    "print(s)\n",
    "\n",
    "print('\\n(?<=I )wish 或 (?<=I) wish 都可 找source的I之後的wish:')  # 注意空格\n",
    "s=re.findall('(?<=I )wish',source)\n",
    "print(s)\n",
    "\n",
    "print('\\n有時會有衝突:')\n",
    "s=re.findall('\\bfish',source)\n",
    "print(s)\n",
    "\n",
    "print('\\n務必在正規表達式前加上r來停用py的轉義字元:')\n",
    "s=re.findall('r\\bfish',source)\n",
    "print(s)"
   ]
  },
  {
   "cell_type": "code",
   "execution_count": 11,
   "id": "c4d1a74b",
   "metadata": {
    "scrolled": true
   },
   "outputs": [
    {
     "name": "stdout",
     "output_type": "stream",
     "text": [
      "a dish of fish\n",
      "('a dish', 'fish')\n",
      "a dish of fish\n",
      "('a dish', 'fish')\n",
      "a dish\n",
      "fish\n"
     ]
    }
   ],
   "source": [
    "\n",
    "m=re.search(r'(. dish\\b).*(\\bfish)',source)\n",
    "print(m.group())\n",
    "print(m.groups())\n",
    "\n",
    "m=re.search(r'(?P<DISH>. dish\\b).*(?P<FISH>\\bfish)',source)\n",
    "print(m.group())\n",
    "print(m.groups())\n",
    "print(m.group('DISH'))\n",
    "print(m.group('FISH'))"
   ]
  },
  {
   "cell_type": "code",
   "execution_count": 12,
   "id": "959614d0",
   "metadata": {
    "scrolled": true
   },
   "outputs": [
    {
     "name": "stdout",
     "output_type": "stream",
     "text": [
      "bytes不可變:\n",
      "b'\\x01\\x02\\x03\\xff'\n",
      "\n",
      "bytearray可變:\n",
      "bytearray(b'\\x01\\x02\\x03\\xff')\n",
      "bytearray(b'\\x01\\x7f\\x03\\xff')\n",
      "\n",
      "建range byte:\n",
      "b'\\x00\\x01\\x02\\x03\\x04\\x05\\x06\\x07\\x08\\t\\n\\x0b\\x0c\\r\\x0e\\x0f\\x10\\x11\\x12\\x13\\x14\\x15\\x16\\x17\\x18\\x19\\x1a\\x1b\\x1c\\x1d\\x1e\\x1f !\"#$%&\\'()*+,-./0123456789:;<=>?@ABCDEFGHIJKLMNOPQRSTUVWXYZ[\\\\]^_`abcdefghijklmnopqrstuvwxyz{|}~\\x7f\\x80\\x81\\x82\\x83\\x84\\x85\\x86\\x87\\x88\\x89\\x8a\\x8b\\x8c\\x8d\\x8e\\x8f\\x90\\x91\\x92\\x93\\x94\\x95\\x96\\x97\\x98\\x99\\x9a\\x9b\\x9c\\x9d\\x9e\\x9f\\xa0\\xa1\\xa2\\xa3\\xa4\\xa5\\xa6\\xa7\\xa8\\xa9\\xaa\\xab\\xac\\xad\\xae\\xaf\\xb0\\xb1\\xb2\\xb3\\xb4\\xb5\\xb6\\xb7\\xb8\\xb9\\xba\\xbb\\xbc\\xbd\\xbe\\xbf\\xc0\\xc1\\xc2\\xc3\\xc4\\xc5\\xc6\\xc7\\xc8\\xc9\\xca\\xcb\\xcc\\xcd\\xce\\xcf\\xd0\\xd1\\xd2\\xd3\\xd4\\xd5\\xd6\\xd7\\xd8\\xd9\\xda\\xdb\\xdc\\xdd\\xde\\xdf\\xe0\\xe1\\xe2\\xe3\\xe4\\xe5\\xe6\\xe7\\xe8\\xe9\\xea\\xeb\\xec\\xed\\xee\\xef\\xf0\\xf1\\xf2\\xf3\\xf4\\xf5\\xf6\\xf7\\xf8\\xf9\\xfa\\xfb\\xfc\\xfd\\xfe\\xff' \n",
      "\n",
      "bytearray(b'\\x00\\x01\\x02\\x03\\x04\\x05\\x06\\x07\\x08\\t\\n\\x0b\\x0c\\r\\x0e\\x0f\\x10\\x11\\x12\\x13\\x14\\x15\\x16\\x17\\x18\\x19\\x1a\\x1b\\x1c\\x1d\\x1e\\x1f !\"#$%&\\'()*+,-./0123456789:;<=>?@ABCDEFGHIJKLMNOPQRSTUVWXYZ[\\\\]^_`abcdefghijklmnopqrstuvwxyz{|}~\\x7f\\x80\\x81\\x82\\x83\\x84\\x85\\x86\\x87\\x88\\x89\\x8a\\x8b\\x8c\\x8d\\x8e\\x8f\\x90\\x91\\x92\\x93\\x94\\x95\\x96\\x97\\x98\\x99\\x9a\\x9b\\x9c\\x9d\\x9e\\x9f\\xa0\\xa1\\xa2\\xa3\\xa4\\xa5\\xa6\\xa7\\xa8\\xa9\\xaa\\xab\\xac\\xad\\xae\\xaf\\xb0\\xb1\\xb2\\xb3\\xb4\\xb5\\xb6\\xb7\\xb8\\xb9\\xba\\xbb\\xbc\\xbd\\xbe\\xbf\\xc0\\xc1\\xc2\\xc3\\xc4\\xc5\\xc6\\xc7\\xc8\\xc9\\xca\\xcb\\xcc\\xcd\\xce\\xcf\\xd0\\xd1\\xd2\\xd3\\xd4\\xd5\\xd6\\xd7\\xd8\\xd9\\xda\\xdb\\xdc\\xdd\\xde\\xdf\\xe0\\xe1\\xe2\\xe3\\xe4\\xe5\\xe6\\xe7\\xe8\\xe9\\xea\\xeb\\xec\\xed\\xee\\xef\\xf0\\xf1\\xf2\\xf3\\xf4\\xf5\\xf6\\xf7\\xf8\\xf9\\xfa\\xfb\\xfc\\xfd\\xfe\\xff')\n"
     ]
    }
   ],
   "source": [
    "### 二進制資料 ###\n",
    "# bytes不可變  bytearray可變 \n",
    "\n",
    "print('bytes不可變:')\n",
    "blist=[1,2,3,255]\n",
    "t_blist=bytes(blist)\n",
    "print(t_blist)\n",
    "#t_blist[1]=127  # 轉bytes就不可變了 打開會出錯\n",
    "\n",
    "print('\\nbytearray可變:')\n",
    "t_byte_array=bytearray(blist)  \n",
    "print(t_byte_array)\n",
    "t_byte_array[1]=127\n",
    "print(t_byte_array)\n",
    "\n",
    "print('\\n建range byte:')\n",
    "t_byte_range=bytes(range(0,256))\n",
    "t_byte_array_range=bytearray(range(0,256))\n",
    "print(t_byte_range,'\\n')\n",
    "print(t_byte_array_range)"
   ]
  },
  {
   "cell_type": "code",
   "execution_count": 13,
   "id": "55d0519f",
   "metadata": {
    "scrolled": false
   },
   "outputs": [
    {
     "name": "stdout",
     "output_type": "stream",
     "text": [
      "Valid PNG,width 154 height 141\n",
      "b'\\x9a\\x00\\x00\\x00'\n",
      "\n",
      "使用struct pack()將python資料轉換成byte\n",
      "b'\\x00\\x00\\x00\\x9a'\n",
      "b'\\x00\\x00\\x00\\x8d'\n",
      "(154, 141)\n",
      "(154, 141)\n"
     ]
    }
   ],
   "source": [
    "### 用 Struct 來轉換二進制資料 ###\n",
    "\n",
    "import struct\n",
    "\n",
    "v_png_h=b'\\x89PNG\\r\\n\\x1a\\n'\n",
    "data=b'\\x89PNG\\r\\n\\x1a\\n\\x00\\x00\\x00\\rIHDR'+\\\n",
    "     b'\\x00\\x00\\x00\\x9a\\x00\\x00\\x00\\x8d\\x08\\x02\\x00\\x00\\x00\\xc0'\n",
    "if data[:8]==v_png_h:\n",
    "    width,height=struct.unpack('>LL',data[16:24])\n",
    "    print('Valid PNG,width',width,'height',height)\n",
    "else:\n",
    "    print('Not a valid PNG')\n",
    "print(data[19:23])\n",
    "\n",
    "\n",
    "# 使用struct pack()將python資料轉換成byte\n",
    "print('\\n使用struct pack()將python資料轉換成byte')\n",
    "print(struct.pack('>L',154))\n",
    "print(struct.pack('>L',141))\n",
    "print(struct.unpack('>2L',data[16:24]))\n",
    "print(struct.unpack('>16x2L6x',data))"
   ]
  },
  {
   "cell_type": "code",
   "execution_count": 281,
   "id": "e9e077af",
   "metadata": {
    "scrolled": false
   },
   "outputs": [
    {
     "ename": "ImportError",
     "evalue": "cannot import name 'Magic' from 'construct' (C:\\Users\\USER\\anaconda3\\envs\\LuvPython\\lib\\site-packages\\construct\\__init__.py)",
     "output_type": "error",
     "traceback": [
      "\u001b[1;31m---------------------------------------------------------------------------\u001b[0m",
      "\u001b[1;31mImportError\u001b[0m                               Traceback (most recent call last)",
      "\u001b[1;32m~\\AppData\\Local\\Temp/ipykernel_8156/2569270429.py\u001b[0m in \u001b[0;36m<module>\u001b[1;34m\u001b[0m\n\u001b[1;32m----> 1\u001b[1;33m \u001b[1;32mfrom\u001b[0m \u001b[0mconstruct\u001b[0m \u001b[1;32mimport\u001b[0m \u001b[0mStruct\u001b[0m\u001b[1;33m,\u001b[0m \u001b[0mMagic\u001b[0m\u001b[1;33m,\u001b[0m\u001b[0mUBInt32\u001b[0m\u001b[1;33m,\u001b[0m\u001b[0mConst\u001b[0m\u001b[1;33m,\u001b[0m\u001b[0mString\u001b[0m\u001b[1;33m\u001b[0m\u001b[1;33m\u001b[0m\u001b[0m\n\u001b[0m\u001b[0;32m      2\u001b[0m fmt=struct('png',\n\u001b[0;32m      3\u001b[0m           \u001b[0mMagic\u001b[0m\u001b[1;33m(\u001b[0m\u001b[1;34mb'\\x89PNG\\r\\n\\x1a\\n'\u001b[0m\u001b[1;33m)\u001b[0m\u001b[1;33m,\u001b[0m\u001b[1;33m\u001b[0m\u001b[1;33m\u001b[0m\u001b[0m\n\u001b[0;32m      4\u001b[0m           \u001b[0mUBInt32\u001b[0m\u001b[1;33m(\u001b[0m\u001b[1;34m'length'\u001b[0m\u001b[1;33m)\u001b[0m\u001b[1;33m,\u001b[0m\u001b[1;33m\u001b[0m\u001b[1;33m\u001b[0m\u001b[0m\n\u001b[0;32m      5\u001b[0m           \u001b[0mConst\u001b[0m\u001b[1;33m(\u001b[0m\u001b[0mString\u001b[0m\u001b[1;33m(\u001b[0m\u001b[1;34m'type'\u001b[0m\u001b[1;33m,\u001b[0m\u001b[1;36m4\u001b[0m\u001b[1;33m)\u001b[0m\u001b[1;33m,\u001b[0m\u001b[1;34mb'IHDR'\u001b[0m\u001b[1;33m)\u001b[0m\u001b[1;33m,\u001b[0m\u001b[1;33m\u001b[0m\u001b[1;33m\u001b[0m\u001b[0m\n",
      "\u001b[1;31mImportError\u001b[0m: cannot import name 'Magic' from 'construct' (C:\\Users\\USER\\anaconda3\\envs\\LuvPython\\lib\\site-packages\\construct\\__init__.py)"
     ]
    }
   ],
   "source": [
    "# 無法運行 是版本太舊了嗎??\n",
    "\n",
    "from construct import Struct,Magic,UBInt32,Const,String\n",
    "fmt=struct('png',\n",
    "          Magic(b'\\x89PNG\\r\\n\\x1a\\n'),\n",
    "          UBInt32('length'),\n",
    "          Const(String('type',4),b'IHDR'),\n",
    "          UBInt32('width'),\n",
    "          UBInt32('height')\n",
    "          )\n",
    "data=b'\\x89PNG\\r\\n\\x1a\\n\\x00\\x00\\x00\\rIHDR'+\\\n",
    "     b'\\x00\\x00\\x00\\x9a\\x00\\x00\\x00\\x8d\\x08\\x02\\x00\\x00\\x00\\xc0'\n",
    "result=fmt.parse(data)\n",
    "print(result)\n",
    "print(result.width,result.height)"
   ]
  },
  {
   "cell_type": "code",
   "execution_count": 14,
   "id": "4db9e30a",
   "metadata": {},
   "outputs": [
    {
     "name": "stdout",
     "output_type": "stream",
     "text": [
      "b'89504e470d0a1a0a'\n",
      "b'\\x89PNG\\r\\n\\x1a\\n'\n",
      "-6\n"
     ]
    }
   ],
   "source": [
    "# 用binascii()來轉換byte/字串\n",
    "\n",
    "import binascii\n",
    "v_png_h=b'\\x89PNG\\r\\n\\x1a\\n'\n",
    "v_png_h_N=binascii.hexlify(v_png_h)\n",
    "print(v_png_h_N)\n",
    "print(binascii.unhexlify(v_png_h_N)) # 也可以轉回去\n",
    "\n",
    "x=5\n",
    "print(~x)  # 位元翻轉"
   ]
  },
  {
   "cell_type": "code",
   "execution_count": 223,
   "id": "3845b1ba",
   "metadata": {
    "scrolled": false
   },
   "outputs": [
    {
     "name": "stdout",
     "output_type": "stream",
     "text": [
      "1.37 µs ± 15.3 ns per loop (mean ± std. dev. of 7 runs, 1000000 loops each)\n",
      "1.42 µs ± 18.5 ns per loop (mean ± std. dev. of 7 runs, 1000000 loops each)\n"
     ]
    }
   ],
   "source": [
    "%timeit s=re.findall('[w|f]ish',source)  \n",
    "%timeit s=re.findall('[wf]ish',source)  "
   ]
  },
  {
   "cell_type": "code",
   "execution_count": 15,
   "id": "949a4038",
   "metadata": {
    "scrolled": false
   },
   "outputs": [
    {
     "name": "stdout",
     "output_type": "stream",
     "text": [
      "1. UNICORN FACE\n",
      "\n",
      "2. b'\\xf0\\x9f\\xa6\\x84'\n",
      "\n",
      "3. 🦄\n"
     ]
    }
   ],
   "source": [
    "# 12.1待辦\n",
    "import unicodedata\n",
    "\n",
    "mystery='\\U0001f984'\n",
    "mystery_name=unicodedata.name(mystery)\n",
    "print('1.',mystery_name)\n",
    "\n",
    "\n",
    "# 12.2待辦\n",
    "pop_bytes=mystery.encode('utf-8')\n",
    "print('\\n2.',pop_bytes)\n",
    "\n",
    "\n",
    "# 12.3待辦 不一樣\n",
    "pop_string=pop_bytes.decode('utf-8')\n",
    "print('\\n3.',pop_string)\n"
   ]
  },
  {
   "cell_type": "code",
   "execution_count": 18,
   "id": "8f28f8bf",
   "metadata": {},
   "outputs": [
    {
     "name": "stdout",
     "output_type": "stream",
     "text": [
      "\n",
      "5. 單字: [' cohesion', ' century', ' choicest', ' cattle', ' canon']\n",
      "5. 句子: [' cohesion.', ' century.', ' choicest wheat it grows', ' cattle graze all the year round.', ' canon blows no storm terrific,']\n",
      "\n",
      "6. ['cohesion', 'choicest']\n",
      "\n",
      "7. 未處理符號: ['division,', 'cohesion.', 'statesmen ', 'nation\\n', 'federation,', 'soon ', 'opinion\\n', 'ominion.', 'soon ', 'therein ', 'askatchewan ', 'therein ', 'canon ']\n",
      "7. 已處理符號: ['division', 'cohesion', 'statesmen', 'nation', 'federation', 'soon', 'opinion', 'ominion', 'soon', 'therein', 'askatchewan', 'therein', 'canon']\n",
      "\n",
      "8. ['separate', 'statesmen', 'that', 'great', 'nation', 'federation', 'fountains', 'ountains', 'great', 'great', 'wheat', 'askatchewan', 'great', 'cattle', 'ountains']\n",
      "8. ['cohesion', 'choicest']\n"
     ]
    }
   ],
   "source": [
    "# 12.4待辦 故意複雜化匯入\n",
    "import re\n",
    "import pandas as pd\n",
    "\n",
    "mammoth=pd.read_table('practice_datas/mammoth.txt')\n",
    "mammoth=str(mammoth)  # 將dataframe型態轉成str\n",
    "mammoth=re.sub('[0-9]+','',mammoth)  # 拿掉數字\n",
    "#print('\\n4.',mammoth)  # 太長所以先關掉\n",
    "\n",
    "\n",
    "# 12.5待辦 \n",
    "#mammoth_c=re.findall(' c.',mammoth)  # 沒*只會顯示c開頭的2個字元\n",
    "c_mammoth=re.findall(r' [c][a-z]*',mammoth) # 找c開頭的單字\n",
    "c_mammoth_long=re.findall(r' c.*',mammoth)  # 找c開頭的句子\n",
    "print('\\n5. 單字:',c_mammoth)\n",
    "print('5. 句子:',c_mammoth_long)\n",
    "\n",
    "\n",
    "# 12.6待辦 改找8個字元 \n",
    "c4_cammoth=re.findall(r'[c][a-z]{7}',mammoth) \n",
    "print('\\n6.',c4_cammoth)\n",
    "\n",
    "\n",
    "# 12.7待辦 變化版把符號處理掉\n",
    "mammoth_n=re.findall(r'[a-z]+.n\\W',mammoth)\n",
    "print('\\n7. 未處理符號:',mammoth_n)\n",
    "\n",
    "mammoth_lst=[]\n",
    "for i in mammoth_n:\n",
    "    d=i.replace(',','')\n",
    "    d=d.replace('.','')\n",
    "    d=d.replace('\\n','')\n",
    "    d=d.replace(' ','')\n",
    "    # print('d:',d)\n",
    "    mammoth_lst.append(d)\n",
    "print('7. 已處理符號:',mammoth_lst)\n",
    "\n",
    "\n",
    "# 12.8待辦 改找ta和ohc不照順序的連續字串 發現不一定在中間才找得到\n",
    "ta_cammoth=re.findall(r'[a-z]*[ta]{2}[a-z]*',mammoth) \n",
    "ohc_cammoth=re.findall(r'[a-z]*[ohc]{3}[a-z]*',mammoth) \n",
    "print('\\n8.',ta_cammoth)\n",
    "print('8.',ohc_cammoth)\n"
   ]
  }
 ],
 "metadata": {
  "kernelspec": {
   "display_name": "Python 3 (ipykernel)",
   "language": "python",
   "name": "python3"
  },
  "language_info": {
   "codemirror_mode": {
    "name": "ipython",
    "version": 3
   },
   "file_extension": ".py",
   "mimetype": "text/x-python",
   "name": "python",
   "nbconvert_exporter": "python",
   "pygments_lexer": "ipython3",
   "version": "3.8.12"
  }
 },
 "nbformat": 4,
 "nbformat_minor": 5
}
