{
 "cells": [
  {
   "cell_type": "code",
   "execution_count": 1,
   "id": "d0ea2fe5",
   "metadata": {
    "scrolled": true
   },
   "outputs": [
    {
     "name": "stdout",
     "output_type": "stream",
     "text": [
      "False\n",
      "True\n",
      "True\n",
      "False\n",
      "\n",
      "Datetime()基本用法:\n",
      "2022-02-20\n",
      "20\n",
      "2\n",
      "2022\n",
      "2022-02-20\n",
      "\n",
      "使用timedelta為date日期加上時間間格:\n",
      "2022-02-21\n",
      "2022-02-22 _ 2022-02-20\n",
      "2022-03-10\n",
      "\n",
      "Time代表一天中的時間:\n",
      "17:23:59.002323\n",
      "17\n",
      "23\n",
      "59\n",
      "2323\n"
     ]
    }
   ],
   "source": [
    "### 日曆與時鐘 datetime模組 ###\n",
    "\n",
    "# 看是不是閏年\n",
    "import calendar\n",
    "print(calendar.isleap(1999))\n",
    "print(calendar.isleap(2000))\n",
    "print(calendar.isleap(2004))\n",
    "print(calendar.isleap(2022))\n",
    "\n",
    "\n",
    "# Datetime\n",
    "print('\\nDatetime()基本用法:')\n",
    "from datetime import date\n",
    "thisday=date(2022,2,20)\n",
    "print(thisday)\n",
    "print(thisday.day)\n",
    "print(thisday.month)\n",
    "print(thisday.year)\n",
    "print(thisday.isoformat()) # .isoformat() 將日期印出\n",
    "\n",
    "\n",
    "# 使用timedelta為date日期加上時間間格\n",
    "# Timedelta(days=0, seconds=0, microseconds=0, milliseconds=0, minutes=0, hours=0, weeks=0)\n",
    "\n",
    "print('\\n使用timedelta為date日期加上時間間格:')\n",
    "from datetime import timedelta\n",
    "\n",
    "# 用today()來產生今天的日期\n",
    "now=date.today()\n",
    "print(now)\n",
    "\n",
    "# Timedelta 加上時間間格\n",
    "one_day=timedelta(days=1)\n",
    "tomorrow=now+one_day\n",
    "yesterday=now-one_day\n",
    "print(tomorrow,'_',yesterday)\n",
    "ww=now+17*one_day   # 今天過了17天之後 日期會自動改變\n",
    "print(ww)\n",
    "\n",
    "\n",
    "# Time代表一天中的時間\n",
    "print('\\nTime代表一天中的時間:')\n",
    "from datetime import time\n",
    "noon=time(17,23,59,2323)   # time(時,分,秒,毫秒)\n",
    "print(noon)\n",
    "print(noon.hour)\n",
    "print(noon.minute)\n",
    "print(noon.second)\n",
    "print(noon.microsecond)"
   ]
  },
  {
   "cell_type": "code",
   "execution_count": 2,
   "id": "0ee3a873",
   "metadata": {
    "scrolled": true
   },
   "outputs": [
    {
     "name": "stdout",
     "output_type": "stream",
     "text": [
      "2022-01-02 03:04:05.000006\n",
      "\n",
      "datetime.isoformat() 用T分隔日期與時間:\n",
      "2022-01-02T03:04:05.000006\n",
      "\n",
      "datetime.now()可回傳目前時間與日期:\n",
      "2022-02-21 15:52:22.928736\n",
      "2022年 2月 21日\n",
      "15時 52分 22秒\n",
      "\n",
      "用cimbine()將一個dtae及一個time結合成一個datetime:\n",
      "2022-02-21 17:53:20\n",
      "2022-02-21\n",
      "17:53:20\n"
     ]
    }
   ],
   "source": [
    "### Datetime模組 其他常用方法 ###\n",
    "\n",
    "from datetime import datetime\n",
    "some_day=datetime(2022,1,2,3,4,5,6)\n",
    "print(some_day)\n",
    "\n",
    "\n",
    "# datetime.isoformat() 用T分隔日期與時間\n",
    "print('\\ndatetime.isoformat() 用T分隔日期與時間:')\n",
    "print(some_day.isoformat())\n",
    "\n",
    "\n",
    "# datetime.now()可回傳目前時間與日期\n",
    "print('\\ndatetime.now()可回傳目前時間與日期:')\n",
    "now=datetime.now()\n",
    "print(now)\n",
    "print(f'{now.year}年 {now.month}月 {now.day}日')\n",
    "print('{}時 {}分 {}秒'.format(now.hour,now.minute,now.second))\n",
    "\n",
    "\n",
    "# 用cimbine()將一個dtae及一個time結合成一個datetime\n",
    "print('\\n用cimbine()將一個dtae及一個time結合成一個datetime:')\n",
    "today=date.today()\n",
    "now=time(17,53,20)\n",
    "today_now=datetime.combine(today,now)\n",
    "print(today_now)\n",
    "\n",
    "# 就可以從中取出date()及time()方法了 記得要()\n",
    "print(today_now.date())\n",
    "print(today_now.time())\n",
    "\n"
   ]
  },
  {
   "cell_type": "code",
   "execution_count": 3,
   "id": "b145890c",
   "metadata": {
    "scrolled": true
   },
   "outputs": [
    {
     "name": "stdout",
     "output_type": "stream",
     "text": [
      "1645429945.0060897\n",
      "Mon Feb 21 15:52:25 2022\n",
      "\n",
      "Struct_time的localtime()可當成具名tuple:\n",
      "time.struct_time(tm_year=2022, tm_mon=2, tm_mday=21, tm_hour=15, tm_min=52, tm_sec=25, tm_wday=0, tm_yday=52, tm_isdst=0)\n",
      "15\n"
     ]
    }
   ],
   "source": [
    "### 獨立的time()模組 ###\n",
    "\n",
    "import time\n",
    "now=time.time()\n",
    "print(now)\n",
    "now=time.ctime(now)\n",
    "print(now)\n",
    "\n",
    "# 變成具名tuple\n",
    "print('\\nStruct_time的localtime()可當成具名tuple:')\n",
    "now=time.localtime()\n",
    "print(now)\n",
    "print(now[3])"
   ]
  },
  {
   "cell_type": "code",
   "execution_count": 4,
   "id": "b730550a",
   "metadata": {
    "scrolled": true
   },
   "outputs": [
    {
     "name": "stdout",
     "output_type": "stream",
     "text": [
      "自認寫入當下日期時間的最佳方法:\n",
      "Mon Feb 21 15:52:26 2022\n",
      "\n",
      "strftime()可將struct_time具名tuple轉換成時間字串:\n",
      "time.struct_time(tm_year=2022, tm_mon=2, tm_mday=21, tm_hour=15, tm_min=52, tm_sec=26, tm_wday=0, tm_yday=52, tm_isdst=0)\n",
      "it's Monday,February,21,2022,local time 03:52:26PM\n",
      "\n",
      "strftime()處理date物件 時間會被設為午夜:\n",
      "it's Sunday,February,20,2022,local time 12:00:00AM\n",
      "\n",
      "strftime()處理time物件 只會轉換時間部分:\n",
      "it's Monday,January,01,1900,local time 06:36:00PM\n",
      "\n",
      "使用strptime將字串轉換成日期或時間:\n",
      "time.struct_time(tm_year=2022, tm_mon=2, tm_mday=20, tm_hour=0, tm_min=0, tm_sec=0, tm_wday=6, tm_yday=51, tm_isdst=-1)\n",
      "time.struct_time(tm_year=2022, tm_mon=2, tm_mday=20, tm_hour=0, tm_min=0, tm_sec=0, tm_wday=6, tm_yday=51, tm_isdst=-1)\n"
     ]
    }
   ],
   "source": [
    "### 讀取寫入日期與時間  ###\n",
    "\n",
    "print('自認寫入當下日期時間的最佳方法:')\n",
    "import time\n",
    "now=time.time()\n",
    "now=time.ctime(now)\n",
    "print(now)\n",
    "\n",
    "# strftime()可將struct_time具名tuple轉換成時間字串\n",
    "print('\\nstrftime()可將struct_time具名tuple轉換成時間字串:')\n",
    "fmt=\"it's %A,%B,%d,%Y,local time %I:%M:%S%p\"\n",
    "t=time.localtime()\n",
    "print(t)\n",
    "print(time.strftime(fmt,t))\n",
    "\n",
    "print('\\nstrftime()處理date物件 時間會被設為午夜:')\n",
    "from datetime import date\n",
    "some_day=date(2022,2,20)\n",
    "print(some_day.strftime(fmt))\n",
    "\n",
    "print('\\nstrftime()處理time物件 只會轉換時間部分:')\n",
    "from datetime import time\n",
    "some_time=time(18,36)\n",
    "print(some_time.strftime(fmt))\n",
    "\n",
    "# 使用strptime將字串轉換成日期或時間\n",
    "print('\\n使用strptime將字串轉換成日期或時間:')\n",
    "import time\n",
    "fmt=\"%Y-%m-%d\"\n",
    "fmt_no=\"%Y %m %d\"\n",
    "#time.strptime(\"2022 02 20\",fmt)  # 給有-的變數 對 無-破折號 會出錯\n",
    "print(time.strptime(\"2022-02-20\",fmt))\n",
    "print(time.strptime(\"2022 02 20\",fmt_no))  # 給無破折號的變數就不會出錯\n",
    "#print(time.strptime(\"2022 02 30\",fmt_no))  # 時間日期值超出範圍 也會出錯\n"
   ]
  },
  {
   "cell_type": "code",
   "execution_count": 5,
   "id": "593038f3",
   "metadata": {
    "scrolled": true
   },
   "outputs": [
    {
     "name": "stdout",
     "output_type": "stream",
     "text": [
      "domingo,octubre,31\n",
      "dimanche,octobre,31\n",
      "Sonntag,Oktober,31\n",
      "domingo,octubre,31\n",
      "sunnudagur,okt鏏er,31\n",
      "\n",
      " dict_keys(['a3', 'a3_az', 'a3_az.koic', 'aa_dj', 'aa_er', 'aa_et', 'af', 'af_za', 'agr_pe', 'ak_gh', 'am', 'am_et', 'american', 'an_es', 'anp_in', 'ar', 'ar_aa', 'ar_ae', 'ar_bh', 'ar_dz', 'ar_eg', 'ar_in', 'ar_iq', 'ar_jo', 'ar_kw', 'ar_lb', 'ar_ly', 'ar_ma', 'ar_om', 'ar_qa', 'ar_sa', 'ar_sd', 'ar_ss', 'ar_sy', 'ar_tn', 'ar_ye', 'arabic', 'as', 'as_in', 'ast_es', 'ayc_pe', 'az', 'az_az', 'az_az.iso88599e', 'az_ir', 'be', 'be@latin', 'be_bg.utf8', 'be_by', 'be_by@latin', 'bem_zm', 'ber_dz', 'ber_ma', 'bg', 'bg_bg', 'bhb_in.utf8', 'bho_in', 'bho_np', 'bi_vu', 'bn_bd', 'bn_in', 'bo_cn', 'bo_in', 'bokmal', 'bokmål', 'br', 'br_fr', 'brx_in', 'bs', 'bs_ba', 'bulgarian', 'byn_er', 'c', 'c-french', 'c.ascii', 'c.en', 'c.iso88591', 'c.utf8', 'c_c', 'c_c.c', 'ca', 'ca_ad', 'ca_es', 'ca_es@valencia', 'ca_fr', 'ca_it', 'catalan', 'ce_ru', 'cextend', 'chinese-s', 'chinese-t', 'chr_us', 'ckb_iq', 'cmn_tw', 'crh_ua', 'croatian', 'cs', 'cs_cs', 'cs_cz', 'csb_pl', 'cv_ru', 'cy', 'cy_gb', 'cz', 'cz_cz', 'czech', 'da', 'da_dk', 'danish', 'dansk', 'de', 'de_at', 'de_be', 'de_ch', 'de_de', 'de_it', 'de_li.utf8', 'de_lu', 'deutsch', 'doi_in', 'dutch', 'dutch.iso88591', 'dv_mv', 'dz_bt', 'ee', 'ee_ee', 'eesti', 'el', 'el_cy', 'el_gr', 'el_gr@euro', 'en', 'en_ag', 'en_au', 'en_be', 'en_bw', 'en_ca', 'en_dk', 'en_dl.utf8', 'en_gb', 'en_hk', 'en_ie', 'en_il', 'en_in', 'en_ng', 'en_nz', 'en_ph', 'en_sc.utf8', 'en_sg', 'en_uk', 'en_us', 'en_us@euro@euro', 'en_za', 'en_zm', 'en_zw', 'en_zw.utf8', 'eng_gb', 'english', 'english.iso88591', 'english_uk', 'english_united-states', 'english_united-states.437', 'english_us', 'eo', 'eo.utf8', 'eo_eo', 'eo_us.utf8', 'eo_xx', 'es', 'es_ar', 'es_bo', 'es_cl', 'es_co', 'es_cr', 'es_cu', 'es_do', 'es_ec', 'es_es', 'es_gt', 'es_hn', 'es_mx', 'es_ni', 'es_pa', 'es_pe', 'es_pr', 'es_py', 'es_sv', 'es_us', 'es_uy', 'es_ve', 'estonian', 'et', 'et_ee', 'eu', 'eu_es', 'eu_fr', 'fa', 'fa_ir', 'fa_ir.isiri3342', 'ff_sn', 'fi', 'fi_fi', 'fil_ph', 'finnish', 'fo', 'fo_fo', 'fr', 'fr_be', 'fr_ca', 'fr_ch', 'fr_fr', 'fr_lu', 'français', 'fre_fr', 'french', 'french.iso88591', 'french_france', 'fur_it', 'fy_de', 'fy_nl', 'ga', 'ga_ie', 'galego', 'galician', 'gd', 'gd_gb', 'ger_de', 'german', 'german.iso88591', 'german_germany', 'gez_er', 'gez_et', 'gl', 'gl_es', 'greek', 'gu_in', 'gv', 'gv_gb', 'ha_ng', 'hak_tw', 'he', 'he_il', 'hebrew', 'hi', 'hi_in', 'hi_in.isciidev', 'hif_fj', 'hne', 'hne_in', 'hr', 'hr_hr', 'hrvatski', 'hsb_de', 'ht_ht', 'hu', 'hu_hu', 'hungarian', 'hy_am', 'hy_am.armscii8', 'ia', 'ia_fr', 'icelandic', 'id', 'id_id', 'ig_ng', 'ik_ca', 'in', 'in_id', 'is', 'is_is', 'iso-8859-1', 'iso-8859-15', 'iso8859-1', 'iso8859-15', 'iso_8859_1', 'iso_8859_15', 'it', 'it_ch', 'it_it', 'italian', 'iu', 'iu_ca', 'iu_ca.nunacom8', 'iw', 'iw_il', 'iw_il.utf8', 'ja', 'ja_jp', 'ja_jp.euc', 'ja_jp.mscode', 'ja_jp.pck', 'japan', 'japanese', 'japanese-euc', 'japanese.euc', 'jp_jp', 'ka', 'ka_ge', 'ka_ge.georgianacademy', 'ka_ge.georgianps', 'ka_ge.georgianrs', 'kab_dz', 'kk_kz', 'kl', 'kl_gl', 'km_kh', 'kn', 'kn_in', 'ko', 'ko_kr', 'ko_kr.euc', 'kok_in', 'korean', 'korean.euc', 'ks', 'ks_in', 'ks_in@devanagari.utf8', 'ku_tr', 'kw', 'kw_gb', 'ky', 'ky_kg', 'lb_lu', 'lg_ug', 'li_be', 'li_nl', 'lij_it', 'lithuanian', 'ln_cd', 'lo', 'lo_la', 'lo_la.cp1133', 'lo_la.ibmcp1133', 'lo_la.mulelao1', 'lt', 'lt_lt', 'lv', 'lv_lv', 'lzh_tw', 'mag_in', 'mai', 'mai_in', 'mai_np', 'mfe_mu', 'mg_mg', 'mhr_ru', 'mi', 'mi_nz', 'miq_ni', 'mjw_in', 'mk', 'mk_mk', 'ml', 'ml_in', 'mn_mn', 'mni_in', 'mr', 'mr_in', 'ms', 'ms_my', 'mt', 'mt_mt', 'my_mm', 'nan_tw', 'nb', 'nb_no', 'nds_de', 'nds_nl', 'ne_np', 'nhn_mx', 'niu_nu', 'niu_nz', 'nl', 'nl_aw', 'nl_be', 'nl_nl', 'nn', 'nn_no', 'no', 'no@nynorsk', 'no_no', 'no_no.iso88591@bokmal', 'no_no.iso88591@nynorsk', 'norwegian', 'nr', 'nr_za', 'nso', 'nso_za', 'ny', 'ny_no', 'nynorsk', 'oc', 'oc_fr', 'om_et', 'om_ke', 'or', 'or_in', 'os_ru', 'pa', 'pa_in', 'pa_pk', 'pap_an', 'pap_aw', 'pap_cw', 'pd', 'pd_de', 'pd_us', 'ph', 'ph_ph', 'pl', 'pl_pl', 'polish', 'portuguese', 'portuguese_brazil', 'posix', 'posix-utf2', 'pp', 'pp_an', 'ps_af', 'pt', 'pt_br', 'pt_pt', 'quz_pe', 'raj_in', 'ro', 'ro_ro', 'romanian', 'ru', 'ru_ru', 'ru_ua', 'rumanian', 'russian', 'rw', 'rw_rw', 'sa_in', 'sat_in', 'sc_it', 'sd', 'sd_in', 'sd_in@devanagari.utf8', 'sd_pk', 'se_no', 'serbocroatian', 'sgs_lt', 'sh', 'sh_ba.iso88592@bosnia', 'sh_hr', 'sh_hr.iso88592', 'sh_sp', 'sh_yu', 'shn_mm', 'shs_ca', 'si', 'si_lk', 'sid_et', 'sinhala', 'sk', 'sk_sk', 'sl', 'sl_cs', 'sl_si', 'slovak', 'slovene', 'slovenian', 'sm_ws', 'so_dj', 'so_et', 'so_ke', 'so_so', 'sp', 'sp_yu', 'spanish', 'spanish_spain', 'sq', 'sq_al', 'sq_mk', 'sr', 'sr@cyrillic', 'sr@latn', 'sr_cs', 'sr_cs.iso88592@latn', 'sr_cs@latn', 'sr_me', 'sr_rs', 'sr_rs@latn', 'sr_sp', 'sr_yu', 'sr_yu.cp1251@cyrillic', 'sr_yu.iso88592', 'sr_yu.iso88595', 'sr_yu.iso88595@cyrillic', 'sr_yu.microsoftcp1251@cyrillic', 'sr_yu.utf8', 'sr_yu.utf8@cyrillic', 'sr_yu@cyrillic', 'ss', 'ss_za', 'st', 'st_za', 'sv', 'sv_fi', 'sv_se', 'sw_ke', 'sw_tz', 'swedish', 'szl_pl', 'ta', 'ta_in', 'ta_in.tscii', 'ta_in.tscii0', 'ta_lk', 'tcy_in.utf8', 'te', 'te_in', 'tg', 'tg_tj', 'th', 'th_th', 'th_th.tactis', 'th_th.tis620', 'thai', 'the_np', 'ti_er', 'ti_et', 'tig_er', 'tk_tm', 'tl', 'tl_ph', 'tn', 'tn_za', 'to_to', 'tpi_pg', 'tr', 'tr_cy', 'tr_tr', 'ts', 'ts_za', 'tt', 'tt_ru', 'tt_ru.tatarcyr', 'tt_ru@iqtelif', 'turkish', 'ug_cn', 'uk', 'uk_ua', 'univ', 'universal', 'universal.utf8@ucs4', 'unm_us', 'ur', 'ur_in', 'ur_pk', 'uz', 'uz_uz', 'uz_uz@cyrillic', 've', 've_za', 'vi', 'vi_vn', 'vi_vn.tcvn', 'vi_vn.tcvn5712', 'vi_vn.viscii', 'vi_vn.viscii111', 'wa', 'wa_be', 'wae_ch', 'wal_et', 'wo_sn', 'xh', 'xh_za', 'yi', 'yi_us', 'yo_ng', 'yue_hk', 'yuw_pg', 'zh', 'zh_cn', 'zh_cn.big5', 'zh_cn.euc', 'zh_hk', 'zh_hk.big5hk', 'zh_sg', 'zh_sg.gbk', 'zh_tw', 'zh_tw.euc', 'zh_tw.euctw', 'zu', 'zu_za'])\n",
      "\n",
      "取得所有雙字元國家源碼 [:5]前五個:\n",
      "['a3_az', 'aa_dj', 'aa_er', 'aa_et', 'af_za']\n",
      "\n",
      "取得所有德國de環境語言:\n",
      "['de_at', 'de_be', 'de_ch', 'de_de', 'de_it', 'de_lu']\n"
     ]
    }
   ],
   "source": [
    "### setlocale()更改語言環境 可印出不同月份和日期\n",
    "\n",
    "import locale\n",
    "from datetime import date\n",
    "halloween=date(2021,10,31)\n",
    "for lang_country in ['es_us','fr_fr','de_de','es_es','is_is',]:\n",
    "    locale.setlocale(locale.LC_TIME,lang_country)\n",
    "    print(halloween.strftime('%A,%B,%d'))\n",
    "\n",
    "names=locale.locale_alias.keys()\n",
    "print('\\n',names)\n",
    "\n",
    "# 取得所有雙字元國家源碼\n",
    "print('\\n取得所有雙字元國家源碼 [:5]前五個:')\n",
    "good_names=[name for name in names if\\\n",
    "           len(name)==5 and name[2]=='_']\n",
    "print(good_names[:5])\n",
    "\n",
    "# 取得所有德國de環境語言\n",
    "print('\\n取得所有德國de環境語言:')\n",
    "de=[name for name in good_names if name.startswith('de')]\n",
    "print(de)"
   ]
  },
  {
   "cell_type": "code",
   "execution_count": 10,
   "id": "722e4706",
   "metadata": {
    "scrolled": true
   },
   "outputs": [
    {
     "name": "stdout",
     "output_type": "stream",
     "text": [
      "1. 2022-02-21\n",
      "1. 2022年2月21日\n",
      "\n",
      "2. 2022-02-21\n",
      "\n",
      "4. 1987-08-01\n",
      "\n",
      "5. 六\n",
      "\n",
      "6. 2014-12-17\n"
     ]
    }
   ],
   "source": [
    "# 13.1待辦 故意複雜化\n",
    "\n",
    "from datetime import date\n",
    "import os,csv\n",
    "import pandas as pd\n",
    "import codecs\n",
    "\n",
    "today=date.today()\n",
    "print('1.',today)\n",
    "today_txt=str(today.year)+'年'+str(today.month)+'月'+str(today.day)+'日'\n",
    "print('1.',today_txt)\n",
    "\n",
    "path = 'practice_datas/today.txt'\n",
    "f = open(path, 'w')\n",
    "f.writelines(today_txt)\n",
    "f.close()\n",
    "\n",
    "\n",
    "# 13.2待辦 所以再變回去\n",
    "\n",
    "today_string=open('practice_datas/today.txt').read()\n",
    "today_string=today.isoformat()\n",
    "print('\\n2.',today_string)\n",
    "\n",
    "\n",
    "# 13.3待辦\n",
    "\n",
    "\n",
    "\n",
    "# 13.4待辦\n",
    "my_birthday=date(1987,8,1)\n",
    "print('\\n4.',my_birthday)\n",
    "\n",
    "\n",
    "# 13.5待辦 \n",
    "week_all=['一','二','三','四','五','六','七']\n",
    "week_wh=my_birthday.weekday()\n",
    "for i in range(len(week_all)):\n",
    "    if week_wh==i:\n",
    "        print('\\n5.',week_all[i])\n",
    "\n",
    "        \n",
    "# 13.6待辦\n",
    "from datetime import timedelta\n",
    "\n",
    "many_var=timedelta(days=10000)\n",
    "many_day=my_birthday+many_var\n",
    "print('\\n6.',many_day)"
   ]
  }
 ],
 "metadata": {
  "kernelspec": {
   "display_name": "Python 3 (ipykernel)",
   "language": "python",
   "name": "python3"
  },
  "language_info": {
   "codemirror_mode": {
    "name": "ipython",
    "version": 3
   },
   "file_extension": ".py",
   "mimetype": "text/x-python",
   "name": "python",
   "nbconvert_exporter": "python",
   "pygments_lexer": "ipython3",
   "version": "3.8.12"
  }
 },
 "nbformat": 4,
 "nbformat_minor": 5
}
