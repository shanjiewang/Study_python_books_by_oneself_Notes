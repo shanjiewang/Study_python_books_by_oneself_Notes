{
 "cells": [
  {
   "cell_type": "code",
   "execution_count": 1,
   "id": "c868bf74",
   "metadata": {
    "scrolled": false
   },
   "outputs": [
    {
     "name": "stdout",
     "output_type": "stream",
     "text": [
      "用print()寫入txt:\n",
      "\n",
      "用write()寫入txt:\n",
      "344\n",
      "\n",
      "用print()來寫入文字檔 加上sep=''及end='':\n"
     ]
    }
   ],
   "source": [
    "### 檔案與目錄 ###\n",
    "\n",
    "# 用print()寫入文字檔 預設txt\n",
    "print('用print()寫入txt:')\n",
    "t='Have fun!!'\n",
    "path='proficient_No14/oops.txt'\n",
    "filleobj = open(path,'wt')\n",
    "print(t,file=filleobj)\n",
    "filleobj.close()\n",
    "\n",
    "\n",
    "# 用write()來寫入文字檔 預設txt\n",
    "print('\\n用write()寫入txt:')\n",
    "poem='''My heart rages around like an ocean in my head\n",
    "Because there are so many things that I left unsaid\n",
    "I can almost feel you\n",
    "Wa-, wa- walking in the distance\n",
    "But I know that is not reality\n",
    "If you are echoing around\n",
    "Inside these parallel dimensions all along\n",
    "Know I'll find you in my dreams\n",
    "Find you in my\n",
    "Walking in the distance\n",
    "That is not reality'''\n",
    "print(len(poem))\n",
    "fout=open('proficient_No14/Dreams_Pt_II.txt','wt')\n",
    "fout.write(poem)\n",
    "fout.close()\n",
    "\n",
    "\n",
    "# 用print()來寫入文字檔 加上sep=''及end=''就跟write方式一樣 預設txt \n",
    "print(\"\\n用print()來寫入文字檔 加上sep=''及end='':\")\n",
    "fout=open('proficient_No14/Dreams_Pt_II.txt','wt')\n",
    "print(poem,file=fout,sep='',end='')  \n",
    "fout.close()"
   ]
  },
  {
   "cell_type": "code",
   "execution_count": 2,
   "id": "15b7ecef",
   "metadata": {
    "scrolled": true
   },
   "outputs": [
    {
     "name": "stdout",
     "output_type": "stream",
     "text": [
      "offset 0\n",
      "offset寫入後+chunk 讓slice位置對: 100\n",
      "offset 100\n",
      "offset寫入後+chunk 讓slice位置對: 200\n",
      "offset 200\n",
      "offset寫入後+chunk 讓slice位置對: 300\n",
      "offset 300\n",
      "offset寫入後+chunk 讓slice位置對: 400\n",
      "offset 400\n",
      "寫入完成\n"
     ]
    }
   ],
   "source": [
    "### 檔案太大 用slice分段寫入 避免當機 爬蟲適用 ###\n",
    "\n",
    "fout=open('proficient_No14/Dreams_Pt_II.txt','wt')  # 改'xt'可防止覆寫\n",
    "size=len(poem)\n",
    "offset=0\n",
    "chunk=100\n",
    "while True:\n",
    "    print('offset',offset)\n",
    "    if offset>size:\n",
    "        print('寫入完成')\n",
    "        break\n",
    "    fout.write(poem[offset:offset+chunk])\n",
    "    offset+=chunk\n",
    "    print('offset寫入後+chunk 讓slice位置對:',offset)\n",
    "fout.close()"
   ]
  },
  {
   "cell_type": "code",
   "execution_count": 3,
   "id": "b4a55d62",
   "metadata": {
    "scrolled": false
   },
   "outputs": [
    {
     "name": "stdout",
     "output_type": "stream",
     "text": [
      "xt_no_copy.txt存在喔 不要想覆寫他\n"
     ]
    }
   ],
   "source": [
    "### 防止覆寫 xt 的例外程式 try ###\n",
    "\n",
    "#fout=open('proficient_No14/xt_no_copy.txt','xt')  # 只有這行會出錯\n",
    "\n",
    "try:\n",
    "    fout=open('proficient_No14/xt_no_copy.txt','xt')\n",
    "    fout.write('xt_no_copy xt_no_copy xt_no_copy')\n",
    "    fout.close()\n",
    "except FileExistsError:\n",
    "    print('xt_no_copy.txt存在喔 不要想覆寫他')"
   ]
  },
  {
   "cell_type": "code",
   "execution_count": 4,
   "id": "97d0da5c",
   "metadata": {},
   "outputs": [
    {
     "name": "stdout",
     "output_type": "stream",
     "text": [
      "\n",
      "等待空就是結束: test123456798\n",
      "..............\n",
      "My heart rages around like an ocean in my head\n",
      "Because there are so man\n",
      "\n",
      "一段一段讀進來: test123456798\n",
      "..............\n",
      "My heart rages around like an ocean in my head\n",
      "Because there are so man\n",
      "\n",
      "讀進加入後的: test123456798\n",
      "..............\n",
      "My heart rages around like an ocean in my head\n",
      "Because there are so man\n",
      "\n",
      "等待空就是結束: y things that I left unsaid\n",
      "I can almost feel you\n",
      "Wa-, wa- walking in the distance\n",
      "But I know that i\n",
      "\n",
      "一段一段讀進來: y things that I left unsaid\n",
      "I can almost feel you\n",
      "Wa-, wa- walking in the distance\n",
      "But I know that i\n",
      "\n",
      "讀進加入後的: test123456798\n",
      "..............\n",
      "My heart rages around like an ocean in my head\n",
      "Because there are so many things that I left unsaid\n",
      "I can almost feel you\n",
      "Wa-, wa- walking in the distance\n",
      "But I know that i\n",
      "\n",
      "等待空就是結束: s not reality\n",
      "If you are echoing around\n",
      "Inside these parallel dimensions all along\n",
      "Know I'll find yo\n",
      "\n",
      "一段一段讀進來: s not reality\n",
      "If you are echoing around\n",
      "Inside these parallel dimensions all along\n",
      "Know I'll find yo\n",
      "\n",
      "讀進加入後的: test123456798\n",
      "..............\n",
      "My heart rages around like an ocean in my head\n",
      "Because there are so many things that I left unsaid\n",
      "I can almost feel you\n",
      "Wa-, wa- walking in the distance\n",
      "But I know that is not reality\n",
      "If you are echoing around\n",
      "Inside these parallel dimensions all along\n",
      "Know I'll find yo\n",
      "\n",
      "等待空就是結束: u in my dreams\n",
      "Find you in my\n",
      "Walking in the distance\n",
      "That is not reality\n",
      "\n",
      "一段一段讀進來: u in my dreams\n",
      "Find you in my\n",
      "Walking in the distance\n",
      "That is not reality\n",
      "\n",
      "讀進加入後的: test123456798\n",
      "..............\n",
      "My heart rages around like an ocean in my head\n",
      "Because there are so many things that I left unsaid\n",
      "I can almost feel you\n",
      "Wa-, wa- walking in the distance\n",
      "But I know that is not reality\n",
      "If you are echoing around\n",
      "Inside these parallel dimensions all along\n",
      "Know I'll find you in my dreams\n",
      "Find you in my\n",
      "Walking in the distance\n",
      "That is not reality\n",
      "\n",
      "等待空就是結束: \n",
      "\n",
      "空字串就跳出迴圈 表示讀完囉\n"
     ]
    }
   ],
   "source": [
    "### 讀取文字檔 ###\n",
    "\n",
    "# 這方法遇到大型檔案 電腦記憶體會爆掉\n",
    "test_path='proficient_No14/test.txt'\n",
    "fin=open(test_path,'rt')\n",
    "test1=fin.read()\n",
    "fin.close()\n",
    "# print(test1)\n",
    "\n",
    "# 正確方法 提供最大字元數量限制read()每次回傳的自訂數量\n",
    "test2=''\n",
    "fin=open(test_path,'rt')\n",
    "chunk=100\n",
    "while True:\n",
    "    frag=fin.read(chunk)\n",
    "    print('\\n等待空就是結束:',frag)\n",
    "    if not frag:\n",
    "        print('\\n空字串就跳出迴圈 表示讀完囉')\n",
    "        break\n",
    "    test2+=frag\n",
    "    print('\\n一段一段讀進來:',frag)\n",
    "    print('\\n讀進加入後的:', test2)\n",
    "fin.close()"
   ]
  },
  {
   "cell_type": "code",
   "execution_count": 13,
   "id": "fc7a5418",
   "metadata": {},
   "outputs": [
    {
     "name": "stdout",
     "output_type": "stream",
     "text": [
      "\n",
      "一次讀一行 等待空就是結束: 14\n",
      "\n",
      "讀進加入後的: test123456798\n",
      "\n",
      "\n",
      "一次讀一行 等待空就是結束: 15\n",
      "\n",
      "讀進加入後的: test123456798\n",
      "..............\n",
      "\n",
      "\n",
      "一次讀一行 等待空就是結束: 47\n",
      "\n",
      "讀進加入後的: test123456798\n",
      "..............\n",
      "My heart rages around like an ocean in my head\n",
      "\n",
      "\n",
      "一次讀一行 等待空就是結束: 52\n",
      "\n",
      "讀進加入後的: test123456798\n",
      "..............\n",
      "My heart rages around like an ocean in my head\n",
      "Because there are so many things that I left unsaid\n",
      "\n",
      "\n",
      "一次讀一行 等待空就是結束: 22\n",
      "\n",
      "讀進加入後的: test123456798\n",
      "..............\n",
      "My heart rages around like an ocean in my head\n",
      "Because there are so many things that I left unsaid\n",
      "I can almost feel you\n",
      "\n",
      "\n",
      "一次讀一行 等待空就是結束: 33\n",
      "\n",
      "讀進加入後的: test123456798\n",
      "..............\n",
      "My heart rages around like an ocean in my head\n",
      "Because there are so many things that I left unsaid\n",
      "I can almost feel you\n",
      "Wa-, wa- walking in the distance\n",
      "\n",
      "\n",
      "一次讀一行 等待空就是結束: 31\n",
      "\n",
      "讀進加入後的: test123456798\n",
      "..............\n",
      "My heart rages around like an ocean in my head\n",
      "Because there are so many things that I left unsaid\n",
      "I can almost feel you\n",
      "Wa-, wa- walking in the distance\n",
      "But I know that is not reality\n",
      "\n",
      "\n",
      "一次讀一行 等待空就是結束: 26\n",
      "\n",
      "讀進加入後的: test123456798\n",
      "..............\n",
      "My heart rages around like an ocean in my head\n",
      "Because there are so many things that I left unsaid\n",
      "I can almost feel you\n",
      "Wa-, wa- walking in the distance\n",
      "But I know that is not reality\n",
      "If you are echoing around\n",
      "\n",
      "\n",
      "一次讀一行 等待空就是結束: 43\n",
      "\n",
      "讀進加入後的: test123456798\n",
      "..............\n",
      "My heart rages around like an ocean in my head\n",
      "Because there are so many things that I left unsaid\n",
      "I can almost feel you\n",
      "Wa-, wa- walking in the distance\n",
      "But I know that is not reality\n",
      "If you are echoing around\n",
      "Inside these parallel dimensions all along\n",
      "\n",
      "\n",
      "一次讀一行 等待空就是結束: 32\n",
      "\n",
      "讀進加入後的: test123456798\n",
      "..............\n",
      "My heart rages around like an ocean in my head\n",
      "Because there are so many things that I left unsaid\n",
      "I can almost feel you\n",
      "Wa-, wa- walking in the distance\n",
      "But I know that is not reality\n",
      "If you are echoing around\n",
      "Inside these parallel dimensions all along\n",
      "Know I'll find you in my dreams\n",
      "\n",
      "\n",
      "一次讀一行 等待空就是結束: 15\n",
      "\n",
      "讀進加入後的: test123456798\n",
      "..............\n",
      "My heart rages around like an ocean in my head\n",
      "Because there are so many things that I left unsaid\n",
      "I can almost feel you\n",
      "Wa-, wa- walking in the distance\n",
      "But I know that is not reality\n",
      "If you are echoing around\n",
      "Inside these parallel dimensions all along\n",
      "Know I'll find you in my dreams\n",
      "Find you in my\n",
      "\n",
      "\n",
      "一次讀一行 等待空就是結束: 24\n",
      "\n",
      "讀進加入後的: test123456798\n",
      "..............\n",
      "My heart rages around like an ocean in my head\n",
      "Because there are so many things that I left unsaid\n",
      "I can almost feel you\n",
      "Wa-, wa- walking in the distance\n",
      "But I know that is not reality\n",
      "If you are echoing around\n",
      "Inside these parallel dimensions all along\n",
      "Know I'll find you in my dreams\n",
      "Find you in my\n",
      "Walking in the distance\n",
      "\n",
      "\n",
      "一次讀一行 等待空就是結束: 19\n",
      "\n",
      "讀進加入後的: test123456798\n",
      "..............\n",
      "My heart rages around like an ocean in my head\n",
      "Because there are so many things that I left unsaid\n",
      "I can almost feel you\n",
      "Wa-, wa- walking in the distance\n",
      "But I know that is not reality\n",
      "If you are echoing around\n",
      "Inside these parallel dimensions all along\n",
      "Know I'll find you in my dreams\n",
      "Find you in my\n",
      "Walking in the distance\n",
      "That is not reality\n",
      "\n",
      "一次讀一行 等待空就是結束: 0\n",
      "\n",
      "空字串就跳出迴圈 表示讀完囉\n"
     ]
    }
   ],
   "source": [
    "### 使用while & readline()一次讀取一行 ###\n",
    "\n",
    "test2=''\n",
    "fin=open(test_path,'rt')\n",
    "while True:\n",
    "    line=fin.readline()\n",
    "    print('\\n一次讀一行 等待空就是結束:',line)\n",
    "    if not line:\n",
    "        print('\\n空字串就跳出迴圈 表示讀完囉')\n",
    "        break\n",
    "    test2+=line\n",
    "    print('\\n讀進加入後的:', test2)\n",
    "fin.close()"
   ]
  },
  {
   "cell_type": "code",
   "execution_count": 12,
   "id": "866054b3",
   "metadata": {
    "scrolled": true
   },
   "outputs": [
    {
     "name": "stdout",
     "output_type": "stream",
     "text": [
      "24\n",
      "\n",
      "讀進加入後的: test123456798\n",
      "\n",
      "\n",
      "讀進加入後的: test123456798\n",
      "..............\n",
      "\n",
      "\n",
      "讀進加入後的: test123456798\n",
      "..............\n",
      "My heart rages around like an ocean in my head\n",
      "\n",
      "\n",
      "讀進加入後的: test123456798\n",
      "..............\n",
      "My heart rages around like an ocean in my head\n",
      "Because there are so many things that I left unsaid\n",
      "\n",
      "\n",
      "讀進加入後的: test123456798\n",
      "..............\n",
      "My heart rages around like an ocean in my head\n",
      "Because there are so many things that I left unsaid\n",
      "I can almost feel you\n",
      "\n",
      "\n",
      "讀進加入後的: test123456798\n",
      "..............\n",
      "My heart rages around like an ocean in my head\n",
      "Because there are so many things that I left unsaid\n",
      "I can almost feel you\n",
      "Wa-, wa- walking in the distance\n",
      "\n",
      "\n",
      "讀進加入後的: test123456798\n",
      "..............\n",
      "My heart rages around like an ocean in my head\n",
      "Because there are so many things that I left unsaid\n",
      "I can almost feel you\n",
      "Wa-, wa- walking in the distance\n",
      "But I know that is not reality\n",
      "\n",
      "\n",
      "讀進加入後的: test123456798\n",
      "..............\n",
      "My heart rages around like an ocean in my head\n",
      "Because there are so many things that I left unsaid\n",
      "I can almost feel you\n",
      "Wa-, wa- walking in the distance\n",
      "But I know that is not reality\n",
      "If you are echoing around\n",
      "\n",
      "\n",
      "讀進加入後的: test123456798\n",
      "..............\n",
      "My heart rages around like an ocean in my head\n",
      "Because there are so many things that I left unsaid\n",
      "I can almost feel you\n",
      "Wa-, wa- walking in the distance\n",
      "But I know that is not reality\n",
      "If you are echoing around\n",
      "Inside these parallel dimensions all along\n",
      "\n",
      "\n",
      "讀進加入後的: test123456798\n",
      "..............\n",
      "My heart rages around like an ocean in my head\n",
      "Because there are so many things that I left unsaid\n",
      "I can almost feel you\n",
      "Wa-, wa- walking in the distance\n",
      "But I know that is not reality\n",
      "If you are echoing around\n",
      "Inside these parallel dimensions all along\n",
      "Know I'll find you in my dreams\n",
      "\n",
      "\n",
      "讀進加入後的: test123456798\n",
      "..............\n",
      "My heart rages around like an ocean in my head\n",
      "Because there are so many things that I left unsaid\n",
      "I can almost feel you\n",
      "Wa-, wa- walking in the distance\n",
      "But I know that is not reality\n",
      "If you are echoing around\n",
      "Inside these parallel dimensions all along\n",
      "Know I'll find you in my dreams\n",
      "Find you in my\n",
      "\n",
      "\n",
      "讀進加入後的: test123456798\n",
      "..............\n",
      "My heart rages around like an ocean in my head\n",
      "Because there are so many things that I left unsaid\n",
      "I can almost feel you\n",
      "Wa-, wa- walking in the distance\n",
      "But I know that is not reality\n",
      "If you are echoing around\n",
      "Inside these parallel dimensions all along\n",
      "Know I'll find you in my dreams\n",
      "Find you in my\n",
      "Walking in the distance\n",
      "\n",
      "\n",
      "讀進加入後的: test123456798\n",
      "..............\n",
      "My heart rages around like an ocean in my head\n",
      "Because there are so many things that I left unsaid\n",
      "I can almost feel you\n",
      "Wa-, wa- walking in the distance\n",
      "But I know that is not reality\n",
      "If you are echoing around\n",
      "Inside these parallel dimensions all along\n",
      "Know I'll find you in my dreams\n",
      "Find you in my\n",
      "Walking in the distance\n",
      "That is not reality\n"
     ]
    }
   ],
   "source": [
    "### 使用 選代器 一次讀取一行 ###\n",
    "\n",
    "test2=''\n",
    "fin=open(test_path,'rt')\n",
    "\n",
    "for i in fin:\n",
    "    test2+=i\n",
    "    print('\\n讀進加入後的:', test2)\n",
    "fin.close()"
   ]
  },
  {
   "cell_type": "code",
   "execution_count": 14,
   "id": "2f83082b",
   "metadata": {
    "scrolled": false
   },
   "outputs": [
    {
     "name": "stdout",
     "output_type": "stream",
     "text": [
      "有幾行: 13\n",
      "test123456798\n",
      "..............\n",
      "My heart rages around like an ocean in my head\n",
      "Because there are so many things that I left unsaid\n",
      "I can almost feel you\n",
      "Wa-, wa- walking in the distance\n",
      "But I know that is not reality\n",
      "If you are echoing around\n",
      "Inside these parallel dimensions all along\n",
      "Know I'll find you in my dreams\n",
      "Find you in my\n",
      "Walking in the distance\n",
      "That is not reality"
     ]
    }
   ],
   "source": [
    "### readlines()更好 使用 選代器 一次讀取一行 ###\n",
    "\n",
    "fin=open(test_path,'rt')\n",
    "lines=fin.readlines()\n",
    "fin.close()\n",
    "print('有幾行:',len(lines))\n",
    "\n",
    "for i in lines:\n",
    "    print(i,end='')"
   ]
  },
  {
   "cell_type": "code",
   "execution_count": 15,
   "id": "7821fce7",
   "metadata": {
    "scrolled": false
   },
   "outputs": [
    {
     "name": "stdout",
     "output_type": "stream",
     "text": [
      "256\n",
      "b'\\x00\\x01\\x02\\x03\\x04\\x05\\x06\\x07\\x08\\t\\n\\x0b\\x0c\\r\\x0e\\x0f\\x10\\x11\\x12\\x13\\x14\\x15\\x16\\x17\\x18\\x19\\x1a\\x1b\\x1c\\x1d\\x1e\\x1f !\"#$%&\\'()*+,-./0123456789:;<=>?@ABCDEFGHIJKLMNOPQRSTUVWXYZ[\\\\]^_`abcdefghijklmnopqrstuvwxyz{|}~\\x7f\\x80\\x81\\x82\\x83\\x84\\x85\\x86\\x87\\x88\\x89\\x8a\\x8b\\x8c\\x8d\\x8e\\x8f\\x90\\x91\\x92\\x93\\x94\\x95\\x96\\x97\\x98\\x99\\x9a\\x9b\\x9c\\x9d\\x9e\\x9f\\xa0\\xa1\\xa2\\xa3\\xa4\\xa5\\xa6\\xa7\\xa8\\xa9\\xaa\\xab\\xac\\xad\\xae\\xaf\\xb0\\xb1\\xb2\\xb3\\xb4\\xb5\\xb6\\xb7\\xb8\\xb9\\xba\\xbb\\xbc\\xbd\\xbe\\xbf\\xc0\\xc1\\xc2\\xc3\\xc4\\xc5\\xc6\\xc7\\xc8\\xc9\\xca\\xcb\\xcc\\xcd\\xce\\xcf\\xd0\\xd1\\xd2\\xd3\\xd4\\xd5\\xd6\\xd7\\xd8\\xd9\\xda\\xdb\\xdc\\xdd\\xde\\xdf\\xe0\\xe1\\xe2\\xe3\\xe4\\xe5\\xe6\\xe7\\xe8\\xe9\\xea\\xeb\\xec\\xed\\xee\\xef\\xf0\\xf1\\xf2\\xf3\\xf4\\xf5\\xf6\\xf7\\xf8\\xf9\\xfa\\xfb\\xfc\\xfd\\xfe\\xff'\n"
     ]
    }
   ],
   "source": [
    "### 寫入及讀取二進制檔案 ###\n",
    "\n",
    "# 產生自製二進制詩\n",
    "bdata=bytes(range(0,256))\n",
    "print(len(bdata))\n",
    "\n",
    "fout=open('proficient_No14/bfile.txt','wb')\n",
    "fout.write(bdata)\n",
    "fout.close()\n",
    "\n",
    "fin=open('proficient_No14/bfile.txt','rb')\n",
    "bdata=fin.read()\n",
    "\n",
    "print(bdata)\n",
    "\n",
    "# 解碼不了..\n",
    "# g=bdata.decode('utf-8')\n",
    "# print(g)"
   ]
  },
  {
   "cell_type": "code",
   "execution_count": 16,
   "id": "dd89d2d7",
   "metadata": {
    "scrolled": false
   },
   "outputs": [
    {
     "name": "stdout",
     "output_type": "stream",
     "text": [
      "256\n",
      "154\n",
      "102\n",
      "154\n",
      "\n",
      "os模組有定義這些值:\n",
      "0\n",
      "1\n",
      "2\n",
      "410\n",
      "255\n",
      "1\n",
      "255\n"
     ]
    }
   ],
   "source": [
    "### 用seek()更改位置 ###\n",
    "\n",
    "fin=open('proficient_No14/bfile.txt','rb')\n",
    "bdata=fin.read()\n",
    "print(fin.tell())\n",
    "print(fin.seek(154))\n",
    "bdata=fin.read()  # 要在執行一次 不然會是fin.read()上一個seek()值\n",
    "print(len(bdata))\n",
    "print(bdata[0])\n",
    "\n",
    "fout.close()\n",
    "\n",
    "print('\\nos模組有定義這些值:')\n",
    "import os\n",
    "print(os.SEEK_SET)\n",
    "print(os.SEEK_CUR)\n",
    "print(os.SEEK_END)\n",
    "\n",
    "fin=open('proficient_No14/bfile.txt','rb')\n",
    "print(fin.seek(154,2))\n",
    "print(fin.seek(-1,2))\n",
    "bdata=fin.read()    # 要在執行一次 不然會是fin.read()上一個seek()值\n",
    "print(len(bdata))\n",
    "print(bdata[0])"
   ]
  },
  {
   "cell_type": "code",
   "execution_count": 18,
   "id": "3d5a0f7c",
   "metadata": {},
   "outputs": [],
   "source": [
    "### 使用with來自動關閉檔案 ###\n",
    "\n",
    "ff='''gehoqwo;oifm;oig\n",
    "edp9823u89jpv9shwr\n",
    "xinh9hw8jodpsfiojs09\n",
    "j9gjmmszpy928hp1un9fe\n",
    "'''\n",
    "with open('proficient_No14/ff.txt','wt') as files:\n",
    "    files.write(ff)\n"
   ]
  },
  {
   "cell_type": "code",
   "execution_count": 19,
   "id": "8399dbd6",
   "metadata": {
    "scrolled": true
   },
   "outputs": [
    {
     "name": "stdout",
     "output_type": "stream",
     "text": [
      "用exists來檢查是否存在:\n",
      "True\n",
      "True\n",
      "False\n",
      "True\n",
      "True\n",
      "\n",
      "用isfile()及isdir()來確認是檔案或目錄:\n",
      "True\n",
      "False\n",
      "True\n",
      "\n",
      "用isabs()來確認是不是絕對路徑:\n",
      "True\n"
     ]
    }
   ],
   "source": [
    "### os.path檔案操作 ###\n",
    "\n",
    "# 用exists()來檢查是否存在\n",
    "print('用exists來檢查是否存在:')\n",
    "import os\n",
    "oss=os.path.exists('proficient_No14/Dreams_Pt_II.txt')\n",
    "print(oss)\n",
    "oss=os.path.exists('./proficient_No14/Dreams_Pt_II.txt')\n",
    "print(oss)\n",
    "oss=os.path.exists('./proficient_No14/Dreams_Pt_II')\n",
    "print(oss)\n",
    "oss=os.path.exists('.')\n",
    "print(oss)\n",
    "oss=os.path.exists('..')\n",
    "print(oss)\n",
    "\n",
    "# 用isfile()及isdir()來確認是檔案或目錄\n",
    "print('\\n用isfile()及isdir()來確認是檔案或目錄:')\n",
    "name='proficient_No14/Dreams_Pt_II.txt'\n",
    "oss=os.path.isfile(name)\n",
    "print(oss)\n",
    "oss=os.path.isdir(name)\n",
    "print(oss)\n",
    "oss=os.path.isdir('.')  # 單.代表目前目錄 雙..代表父目錄\n",
    "print(oss)\n",
    "\n",
    "# 用isabs()來確認是不是絕對路徑\n",
    "print('\\n用isabs()來確認是不是絕對路徑:')\n",
    "oss=os.path.isabs('/proficient_No14/Dreams_Pt_II.txt')  \n",
    "print(oss)"
   ]
  },
  {
   "cell_type": "code",
   "execution_count": 20,
   "id": "37d7d3a7",
   "metadata": {
    "scrolled": false
   },
   "outputs": [
    {
     "name": "stdout",
     "output_type": "stream",
     "text": [
      "用copy()來複製:\n",
      "用move()來複製到新位置並移除原檔:\n",
      "用rename()來更改名稱:\n"
     ]
    },
    {
     "ename": "FileExistsError",
     "evalue": "[WinError 183] 當檔案已存在時，無法建立該檔案。: 'proficient_No14/Dreams_Pt_II2.txt' -> 'proficient_No14/Dreams_Pt_II3.txt'",
     "output_type": "error",
     "traceback": [
      "\u001b[1;31m---------------------------------------------------------------------------\u001b[0m",
      "\u001b[1;31mFileExistsError\u001b[0m                           Traceback (most recent call last)",
      "\u001b[1;32m~\\AppData\\Local\\Temp/ipykernel_16220/2724193806.py\u001b[0m in \u001b[0;36m<module>\u001b[1;34m\u001b[0m\n\u001b[0;32m     14\u001b[0m \u001b[0mprint\u001b[0m\u001b[1;33m(\u001b[0m\u001b[1;34m'用rename()來更改名稱:'\u001b[0m\u001b[1;33m)\u001b[0m\u001b[1;33m\u001b[0m\u001b[1;33m\u001b[0m\u001b[0m\n\u001b[0;32m     15\u001b[0m \u001b[1;32mimport\u001b[0m \u001b[0mos\u001b[0m\u001b[1;33m\u001b[0m\u001b[1;33m\u001b[0m\u001b[0m\n\u001b[1;32m---> 16\u001b[1;33m \u001b[0mos\u001b[0m\u001b[1;33m.\u001b[0m\u001b[0mrename\u001b[0m\u001b[1;33m(\u001b[0m\u001b[1;34m'proficient_No14/Dreams_Pt_II2.txt'\u001b[0m\u001b[1;33m,\u001b[0m\u001b[1;34m'proficient_No14/Dreams_Pt_II3.txt'\u001b[0m\u001b[1;33m)\u001b[0m\u001b[1;33m\u001b[0m\u001b[1;33m\u001b[0m\u001b[0m\n\u001b[0m",
      "\u001b[1;31mFileExistsError\u001b[0m: [WinError 183] 當檔案已存在時，無法建立該檔案。: 'proficient_No14/Dreams_Pt_II2.txt' -> 'proficient_No14/Dreams_Pt_II3.txt'"
     ]
    }
   ],
   "source": [
    "### os.path檔案操作 ###\n",
    "# 這段建議執行一次就好 因為rename()會有衝突: 當檔案已存在時，無法建立該檔案。\n",
    "\n",
    "# 用copy()來複製\n",
    "print('用copy()來複製:')\n",
    "import shutil\n",
    "shutil.copy('proficient_No14/Dreams_Pt_II.txt','Dreams_Pt_II2.txt')\n",
    "\n",
    "# 用move()來複製到新位置並移除原檔\n",
    "print('用move()來複製到新位置並移除原檔:')\n",
    "shutil.move('Dreams_Pt_II2.txt','proficient_No14/Dreams_Pt_II2.txt')\n",
    "\n",
    "# 用rename()來更改名稱\n",
    "print('用rename()來更改名稱:')\n",
    "import os\n",
    "os.rename('proficient_No14/Dreams_Pt_II2.txt','proficient_No14/Dreams_Pt_II3.txt')"
   ]
  },
  {
   "cell_type": "code",
   "execution_count": 21,
   "id": "287efc94",
   "metadata": {},
   "outputs": [
    {
     "ename": "FileExistsError",
     "evalue": "[WinError 183] 當檔案已存在時，無法建立該檔案。: 'proficient_No14/oops.txt' -> 'proficient_No14/oops_link.txt'",
     "output_type": "error",
     "traceback": [
      "\u001b[1;31m---------------------------------------------------------------------------\u001b[0m",
      "\u001b[1;31mFileExistsError\u001b[0m                           Traceback (most recent call last)",
      "\u001b[1;32m~\\AppData\\Local\\Temp/ipykernel_16220/254388396.py\u001b[0m in \u001b[0;36m<module>\u001b[1;34m\u001b[0m\n\u001b[0;32m      2\u001b[0m \u001b[1;33m\u001b[0m\u001b[0m\n\u001b[0;32m      3\u001b[0m \u001b[1;32mimport\u001b[0m \u001b[0mos\u001b[0m\u001b[1;33m\u001b[0m\u001b[1;33m\u001b[0m\u001b[0m\n\u001b[1;32m----> 4\u001b[1;33m \u001b[0mos\u001b[0m\u001b[1;33m.\u001b[0m\u001b[0mlink\u001b[0m\u001b[1;33m(\u001b[0m\u001b[1;34m'proficient_No14/oops.txt'\u001b[0m\u001b[1;33m,\u001b[0m\u001b[1;34m'proficient_No14/oops_link.txt'\u001b[0m\u001b[1;33m)\u001b[0m\u001b[1;33m\u001b[0m\u001b[1;33m\u001b[0m\u001b[0m\n\u001b[0m",
      "\u001b[1;31mFileExistsError\u001b[0m: [WinError 183] 當檔案已存在時，無法建立該檔案。: 'proficient_No14/oops.txt' -> 'proficient_No14/oops_link.txt'"
     ]
    }
   ],
   "source": [
    "# 檔案連結 改其中一個另一個會跟著改 好像不太實用\n",
    "\n",
    "import os\n",
    "os.link('proficient_No14/oops.txt','proficient_No14/oops_link.txt')"
   ]
  },
  {
   "cell_type": "code",
   "execution_count": 26,
   "id": "69e166fe",
   "metadata": {
    "scrolled": false
   },
   "outputs": [
    {
     "ename": "PermissionError",
     "evalue": "[Errno 13] Permission denied: 'proficient_No14/chmod_.txt'",
     "output_type": "error",
     "traceback": [
      "\u001b[1;31m---------------------------------------------------------------------------\u001b[0m",
      "\u001b[1;31mPermissionError\u001b[0m                           Traceback (most recent call last)",
      "\u001b[1;32m~\\AppData\\Local\\Temp/ipykernel_16220/2468208139.py\u001b[0m in \u001b[0;36m<module>\u001b[1;34m\u001b[0m\n\u001b[0;32m      2\u001b[0m \u001b[1;31m# 可參考這篇 https://www.runoob.com/python/os-chmod.html\u001b[0m\u001b[1;33m\u001b[0m\u001b[1;33m\u001b[0m\u001b[1;33m\u001b[0m\u001b[0m\n\u001b[0;32m      3\u001b[0m \u001b[1;33m\u001b[0m\u001b[0m\n\u001b[1;32m----> 4\u001b[1;33m \u001b[1;32mwith\u001b[0m \u001b[0mopen\u001b[0m\u001b[1;33m(\u001b[0m\u001b[1;34m'proficient_No14/chmod_.txt'\u001b[0m\u001b[1;33m,\u001b[0m\u001b[1;34m'wt'\u001b[0m\u001b[1;33m)\u001b[0m\u001b[1;32mas\u001b[0m \u001b[0mf\u001b[0m\u001b[1;33m:\u001b[0m\u001b[1;33m\u001b[0m\u001b[1;33m\u001b[0m\u001b[0m\n\u001b[0m\u001b[0;32m      5\u001b[0m     \u001b[0mf\u001b[0m\u001b[1;33m.\u001b[0m\u001b[0mwrite\u001b[0m\u001b[1;33m(\u001b[0m\u001b[1;34m'測試用'\u001b[0m\u001b[1;33m)\u001b[0m\u001b[1;33m\u001b[0m\u001b[1;33m\u001b[0m\u001b[0m\n\u001b[0;32m      6\u001b[0m \u001b[1;33m\u001b[0m\u001b[0m\n",
      "\u001b[1;31mPermissionError\u001b[0m: [Errno 13] Permission denied: 'proficient_No14/chmod_.txt'"
     ]
    }
   ],
   "source": [
    "### 檔案權限 ############ 連執行2個 最後是刪除\n",
    "# 可參考這篇 https://www.runoob.com/python/os-chmod.html\n",
    "\n",
    "with open('proficient_No14/chmod_.txt','wt')as f:\n",
    "    f.write('測試用')\n",
    "\n",
    "# 只讓此檔案被讀取 也就是唯獨檔 在哪都無法改檔案 就算直接用手打開\n",
    "import os\n",
    "os.chmod('proficient_No14/chmod_.txt',0o400)\n",
    "# 另一種方式\n",
    "import stat\n",
    "os.chmod('proficient_No14/chmod_.txt',stat.S_IRUSR)\n",
    "\n",
    "# # chmod後 此檔案無法寫入\n",
    "# ff='更改權限用測試檔123456'\n",
    "# with open('proficient_No14/chmod_.txt','wt') as file:\n",
    "#     file.write(ff)\n"
   ]
  },
  {
   "cell_type": "code",
   "execution_count": 27,
   "id": "bef56f80",
   "metadata": {},
   "outputs": [
    {
     "name": "stdout",
     "output_type": "stream",
     "text": [
      "True\n",
      "False\n"
     ]
    }
   ],
   "source": [
    " # 接續上個 改回此檔案權限可以讀寫 才能刪除\n",
    "import stat\n",
    "os.chmod('proficient_No14/chmod_.txt',stat.S_IRWXU)\n",
    "\n",
    "print(os.path.exists('proficient_No14/chmod_.txt'))\n",
    "os.remove('proficient_No14/chmod_.txt')  # 刪除檔案\n",
    "print(os.path.exists('proficient_No14/chmod_.txt'))"
   ]
  },
  {
   "cell_type": "code",
   "execution_count": 28,
   "id": "bc77efff",
   "metadata": {
    "scrolled": true
   },
   "outputs": [
    {
     "name": "stdout",
     "output_type": "stream",
     "text": [
      "True\n",
      "\n",
      " ['bfile.txt', 'Dreams_Pt_II.txt', 'Dreams_Pt_II2.txt', 'Dreams_Pt_II3.txt', 'ff.txt', 'oops.txt', 'oops_link.txt', 'os_mkdir', 'os_path_join', 'test.txt', 'xt_no_copy.txt']\n",
      "\n",
      " ['in']\n"
     ]
    }
   ],
   "source": [
    "### 目錄操作 ########### 連執行5個 最後是刪除\n",
    "\n",
    "import os\n",
    "\n",
    "# 用mkdir()建立目錄\n",
    "os.mkdir('proficient_No14/os_mkdir')\n",
    "print(os.path.exists('proficient_No14/os_mkdir'))\n",
    "os.mkdir('proficient_No14/os_mkdir/in')     # 建立子目錄\n",
    "\n",
    "# 用listdir()列出目錄內容 不論目錄或檔案\n",
    "print('\\n',os.listdir('proficient_No14')) \n",
    "print('\\n',os.listdir('proficient_No14/os_mkdir'))"
   ]
  },
  {
   "cell_type": "code",
   "execution_count": 30,
   "id": "31fa5a09",
   "metadata": {},
   "outputs": [
    {
     "data": {
      "text/plain": [
       "['tt.txt']"
      ]
     },
     "execution_count": 30,
     "metadata": {},
     "output_type": "execute_result"
    }
   ],
   "source": [
    "# 接續上個 建一個檔案到in資料夾內\n",
    "fout=open('proficient_No14/os_mkdir/in/tt.txt','wt')\n",
    "fout.write('''123\n",
    "456\n",
    "7890''')\n",
    "fout.close()\n",
    "\n",
    "os.listdir('proficient_No14/os_mkdir/in')"
   ]
  },
  {
   "cell_type": "code",
   "execution_count": 31,
   "id": "a062cd52",
   "metadata": {
    "scrolled": true
   },
   "outputs": [
    {
     "name": "stdout",
     "output_type": "stream",
     "text": [
      "\n",
      " ['in']\n"
     ]
    },
    {
     "data": {
      "text/plain": [
       "['.ipynb_checkpoints',\n",
       " \"O'Reilly_logo.png\",\n",
       " 'practice_datas',\n",
       " 'practice_myself.ipynb',\n",
       " 'practice_others.ipynb',\n",
       " 'proficient_No10.ipynb',\n",
       " 'proficient_No11',\n",
       " 'proficient_No11.ipynb',\n",
       " 'proficient_No12.ipynb',\n",
       " 'proficient_No13.ipynb',\n",
       " 'proficient_No14',\n",
       " 'proficient_No14.ipynb',\n",
       " 'proficient_No15',\n",
       " 'proficient_No15.ipynb',\n",
       " 'proficient_No1~4.ipynb',\n",
       " 'proficient_No5.ipynb',\n",
       " 'proficient_No6.ipynb',\n",
       " 'proficient_No7.ipynb',\n",
       " 'proficient_No8.ipynb',\n",
       " 'proficient_No9.ipynb',\n",
       " 'test.py',\n",
       " 'tt.txt',\n",
       " 'uwsgi',\n",
       " 'uwsgibuild.lastprofile',\n",
       " 'www.txt']"
      ]
     },
     "execution_count": 31,
     "metadata": {},
     "output_type": "execute_result"
    }
   ],
   "source": [
    "# 接續上個 切換目錄 在切回來\n",
    "\n",
    "import os\n",
    "os.chdir('proficient_No14/')\n",
    "os.chdir('os_mkdir/')\n",
    "print('\\n',os.listdir('.'))\n",
    "os.chdir('../')\n",
    "os.chdir('../') # 回上一層\n",
    "os.listdir('.')"
   ]
  },
  {
   "cell_type": "code",
   "execution_count": 32,
   "id": "f5b42b32",
   "metadata": {},
   "outputs": [
    {
     "name": "stdout",
     "output_type": "stream",
     "text": [
      "['proficient_No14']\n",
      "\n",
      " ['tt.txt', 'www.txt']\n"
     ]
    },
    {
     "data": {
      "text/plain": [
       "['proficient_No10.ipynb',\n",
       " 'proficient_No11',\n",
       " 'proficient_No11.ipynb',\n",
       " 'proficient_No12.ipynb',\n",
       " 'proficient_No13.ipynb',\n",
       " 'proficient_No14',\n",
       " 'proficient_No14.ipynb',\n",
       " 'proficient_No15',\n",
       " 'proficient_No15.ipynb',\n",
       " 'proficient_No1~4.ipynb',\n",
       " 'proficient_No5.ipynb',\n",
       " 'proficient_No6.ipynb',\n",
       " 'proficient_No7.ipynb',\n",
       " 'proficient_No8.ipynb',\n",
       " 'proficient_No9.ipynb']"
      ]
     },
     "execution_count": 32,
     "metadata": {},
     "output_type": "execute_result"
    }
   ],
   "source": [
    "# 接續上個 用glob()列出相符的檔案\n",
    "\n",
    "import glob\n",
    "print(glob.glob('p?????????????4'))   # p開頭 4結尾 ?字數要一樣才找得到\n",
    "print('\\n',glob.glob('[tw]*t'))   # t和w開頭 t結尾 含附檔名\n",
    "glob.glob('proficient*')"
   ]
  },
  {
   "cell_type": "code",
   "execution_count": 33,
   "id": "aa46fdc2",
   "metadata": {},
   "outputs": [
    {
     "name": "stdout",
     "output_type": "stream",
     "text": [
      "False\n"
     ]
    }
   ],
   "source": [
    "# 接續上個 刪除目錄 要把目錄內的檔案都刪乾淨 才刪得掉目錄\n",
    "\n",
    "os.remove('proficient_No14/os_mkdir/in/tt.txt')\n",
    "os.rmdir('proficient_No14/os_mkdir/in')\n",
    "os.rmdir('proficient_No14/os_mkdir')\n",
    "print(os.path.exists('proficient_No14/os_mkdir'))"
   ]
  },
  {
   "cell_type": "code",
   "execution_count": 41,
   "id": "a2f4a04e",
   "metadata": {},
   "outputs": [
    {
     "name": "stdout",
     "output_type": "stream",
     "text": [
      "使用雙\\:\n",
      "C:\\Users\\USER\\proficientPython\\proficient_No14\n",
      "\n",
      "前面加r 變原始字串:\n",
      "C:\\Users\\USER\\proficientPython\\proficient_No14\n",
      "\n",
      "用 abspath()取得路徑名稱 一定要在目前目錄下:\n",
      "C:\\Users\\USER\\proficientPython\\proficient_No14\\xt_no_copy.txt\n",
      "\n",
      "單純練習建立路徑名稱 :\n",
      "proficient_No14/os_path_join/join.txt\n",
      "\n",
      " I am os.path.join\n",
      "\n",
      "使用pathlib建立路徑:\n",
      "proficient_No14\\os_path_join\\join.txt\n",
      "\n",
      "裸斜線 / 可以介紹自己:\n",
      "join.txt\n",
      ".txt\n",
      "join\n"
     ]
    }
   ],
   "source": [
    "### 檔名與路徑 ###\n",
    "\n",
    "# 指定絕對路徑 使用雙\\\\\n",
    "print('使用雙\\:')\n",
    "fff='C:\\\\Users\\\\USER\\\\proficientPython\\\\proficient_No14'\n",
    "print(fff)\n",
    "\n",
    "# 指定絕對路徑 前面加r 變原始字串\n",
    "print('\\n前面加r 變原始字串:')\n",
    "fff=r'C:\\Users\\USER\\proficientPython\\proficient_No14'\n",
    "print(fff)\n",
    "\n",
    "# 用 abspath()取得路徑名稱 一定要在目前目錄下 算是轉換\n",
    "print('\\n用 abspath()取得路徑名稱 一定要在目前目錄下:')\n",
    "fff=os.path.abspath('proficient_No14/xt_no_copy.txt')\n",
    "print(fff)\n",
    "\n",
    "# 單純練習建立路徑名稱 \n",
    "print('\\n單純練習建立路徑名稱 :')\n",
    "fff=os.path.join('proficient_No14/','os_path_join/')\n",
    "fff=os.path.join(fff,'join.txt')\n",
    "print(fff)\n",
    "\n",
    "f=open(fff,'rt')\n",
    "ff=f.read()\n",
    "print('\\n',ff)\n",
    "f.close()\n",
    "# print(test1)\n",
    "\n",
    "# 使用pathlib建立路徑  \n",
    "print('\\n使用pathlib建立路徑:')\n",
    "from pathlib import Path\n",
    "fff=Path('proficient_No14') / 'os_path_join' / 'join.txt'\n",
    "print(fff)\n",
    "\n",
    "# 裸斜線 / 可以介紹自己\n",
    "print('\\n裸斜線 / 可以介紹自己:')\n",
    "print(fff.name)\n",
    "print(fff.suffix)\n",
    "print(fff.stem)"
   ]
  },
  {
   "cell_type": "code",
   "execution_count": 34,
   "id": "6e2f3bb7",
   "metadata": {
    "scrolled": true
   },
   "outputs": [
    {
     "name": "stdout",
     "output_type": "stream",
     "text": [
      "\n",
      " Python大法\n",
      "\n",
      " 玩家385\n",
      "\n",
      " 玩家385\n"
     ]
    }
   ],
   "source": [
    "# 二進制轉成字串\n",
    "b=['01010000', '01111001', '01110100', '01101000', '01101111', '01101110', '11100101', '10100100', '10100111', '11100110', '10110011', '10010101']\n",
    "s=bytes([int(x,2) for x in b]).decode('utf-8')\n",
    "print('\\n',s)\n",
    "\n",
    "# 十六進制轉成字串之一\n",
    "hexstring = b'\\xe7\\x8e\\xa9\\xe5\\xae\\xb6\\x33\\x38\\x35'\n",
    "f=hexstring.decode('utf-8')\n",
    "print('\\n',f)\n",
    "\n",
    "# 十六進制轉成字串之二\n",
    "import codecs\n",
    "hexstring = r'\\xe7\\x8e\\xa9\\xe5\\xae\\xb6\\x33\\x38\\x35'\n",
    "hexstring = hexstring.replace(r'\\x', '')\n",
    "h=codecs.decode(hexstring, \"hex\").decode('utf-8')\n",
    "print('\\n',h)"
   ]
  },
  {
   "cell_type": "code",
   "execution_count": 47,
   "id": "8240ac0e",
   "metadata": {
    "scrolled": true
   },
   "outputs": [
    {
     "name": "stdout",
     "output_type": "stream",
     "text": [
      "1. \n",
      "['.ipynb_checkpoints', \"O'Reilly_logo.png\", 'practice_datas', 'practice_myself.ipynb', 'practice_others.ipynb', 'proficient_No10.ipynb', 'proficient_No11', 'proficient_No11.ipynb', 'proficient_No12.ipynb', 'proficient_No13.ipynb', 'proficient_No14', 'proficient_No14.ipynb', 'proficient_No15', 'proficient_No15.ipynb', 'proficient_No1~4.ipynb', 'proficient_No5.ipynb', 'proficient_No6.ipynb', 'proficient_No7.ipynb', 'proficient_No8.ipynb', 'proficient_No9.ipynb', 'test.py', 'tt.txt', 'uwsgi', 'uwsgibuild.lastprofile', 'www.txt']\n",
      "\n",
      "2. \n",
      "['.bash_history', '.cache', '.conda', '.condarc', '.continuum', '.eclipse', '.gitconfig', '.ipython', '.jupyter', '.LineDiag', '.matplotlib', '.p2', '.python_history', '.QtWebEngineProcess', '.vscode', '3D Objects', 'anaconda3', 'AppData', 'Application Data', 'bashcodes', 'bashcodes.tar.gz', 'BullseyeCoverageError.txt', 'ChromeSetup.exe', 'Contacts', 'Cookies', 'data_analysis', 'Documents', 'Downloads', 'eclipse', 'Favorites', 'FinalTopic1', 'flask_YWT-student', 'git-repos', 'hands_on_Maths', 'IntelGraphicsProfiles', 'Links', 'Local Settings', 'MicrosoftEdgeBackups', 'Music', 'My Documents', 'NetHood', 'NTUSER.DAT', 'ntuser.dat.LOG1', 'ntuser.dat.LOG2', 'NTUSER.DAT{53b39e88-18c4-11ea-a811-000d3aa4692b}.TM.blf', 'NTUSER.DAT{53b39e88-18c4-11ea-a811-000d3aa4692b}.TMContainer00000000000000000001.regtrans-ms', 'NTUSER.DAT{53b39e88-18c4-11ea-a811-000d3aa4692b}.TMContainer00000000000000000002.regtrans-ms', 'ntuser.ini', 'OneDrive', 'PrintHood', 'proficientPython', 'pythoncodes', 'python_web_crawler', 'python_web_scraping-master', 'Recent', 'Saved Games', 'Searches', 'SendTo', 'Templates', 'Topic_go', 'uwsgibuild.lastprofile', 'Videos', '「開始」功能表']\n",
      "\n",
      "3. \n",
      "This is a test of the emergency text system\n",
      "\n",
      "4. \n",
      "This is a test of the emergency text system\n"
     ]
    }
   ],
   "source": [
    "# 14.1待辦\n",
    "import os\n",
    "\n",
    "print('1. ')\n",
    "print(os.listdir('.'))\n",
    "\n",
    "# 14.2待辦\n",
    "print('\\n2. ')\n",
    "print(os.listdir('../'))\n",
    "\n",
    "# 14.3待辦\n",
    "print('\\n3. ')\n",
    "test1='This is a test of the emergency text system'\n",
    "print(test1)\n",
    "with open('proficient_No14/test1.txt','wt')as file:\n",
    "    file.write(test1)\n",
    "\n",
    "# 14.4待辦 一樣\n",
    "print('\\n4. ')\n",
    "test2=open('proficient_No14/test1.txt','rt')\n",
    "test2=test2.read()\n",
    "print(test2)"
   ]
  },
  {
   "cell_type": "code",
   "execution_count": 81,
   "id": "72ff7d38",
   "metadata": {
    "scrolled": true
   },
   "outputs": [
    {
     "name": "stdout",
     "output_type": "stream",
     "text": [
      "77\n",
      "o: 0\n",
      "oo: \n",
      "This is a test of t\n",
      "i: 20\n",
      "ii \n",
      "This is a test of the emergency text sy\n",
      "o: 20\n",
      "oo: he emergency text sy\n",
      "i: 40\n",
      "ii \n",
      "This is a test of the emergency text system\n",
      "NIBNOUIIPUJMIOK\n",
      "o: 40\n",
      "oo: stem\n",
      "NIBNOUIIPUJMIOK\n",
      "i: 60\n",
      "ii \n",
      "This is a test of the emergency text system\n",
      "NIBNOUIIPUJMIOKPOKP}45646546465\n",
      "\n",
      "o: 60\n",
      "oo: POKP}45646546465\n",
      "\n",
      "i: 80\n",
      "ii \n",
      "This is a test of the emergency text system\n",
      "NIBNOUIIPUJMIOKPOKP}45646546465\n",
      "\n",
      "OK\n"
     ]
    }
   ],
   "source": [
    "test3='''\n",
    "This is a test of the emergency text system\n",
    "NIBNOUIIPUJMIOKPOKP}45646546465\n",
    "'''\n",
    "print(len(test3))\n",
    "start1=0\n",
    "stop=20\n",
    "size=len(test3)\n",
    "f1=open('test3.txt','wt')\n",
    "while True:\n",
    "    if start1>size:\n",
    "        print('OK')\n",
    "        break\n",
    "    print('o:',start1)\n",
    "    print('oo:',test3[start1:start1+stop])\n",
    "    f1.write(test3[start1:start1+stop])\n",
    "    start1+=stop\n",
    "    print('i:',start1)\n",
    "    print('ii',test3[0:start1+stop]) \n",
    "f1.close()"
   ]
  },
  {
   "cell_type": "code",
   "execution_count": 82,
   "id": "82070a2b",
   "metadata": {},
   "outputs": [
    {
     "name": "stdout",
     "output_type": "stream",
     "text": [
      "\n",
      "\n",
      "This is a test of the emergency text system\n",
      "\n",
      "NIBNOUIIPUJMIOKPOKP}45646546465\n",
      "\n",
      "NIBNOUIIPUJMIOKPOKP}45646546465\n",
      "\n"
     ]
    }
   ],
   "source": [
    "with open('test3.txt','rt')as f2:\n",
    "    dd=f2.readlines()\n",
    "    \n",
    "for i in dd:\n",
    "    f=i\n",
    "    print(f)\n",
    "print(f)"
   ]
  }
 ],
 "metadata": {
  "kernelspec": {
   "display_name": "Python 3 (ipykernel)",
   "language": "python",
   "name": "python3"
  },
  "language_info": {
   "codemirror_mode": {
    "name": "ipython",
    "version": 3
   },
   "file_extension": ".py",
   "mimetype": "text/x-python",
   "name": "python",
   "nbconvert_exporter": "python",
   "pygments_lexer": "ipython3",
   "version": "3.8.12"
  }
 },
 "nbformat": 4,
 "nbformat_minor": 5
}
