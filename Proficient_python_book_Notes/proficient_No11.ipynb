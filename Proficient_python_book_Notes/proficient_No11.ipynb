{
 "cells": [
  {
   "cell_type": "code",
   "execution_count": 1,
   "id": "965e4ce8",
   "metadata": {},
   "outputs": [
    {
     "name": "stdout",
     "output_type": "stream",
     "text": [
      "2022-02-21 15:48:58.513535\n",
      "2022-02-21\n",
      "2022-02-21\n",
      "3.141592653589793\n",
      "10.0\n"
     ]
    }
   ],
   "source": [
    "import datetime as dt\n",
    "print(dt.datetime.now())\n",
    "print(dt.date.today())\n",
    "\n",
    "from datetime import date  \n",
    "print(date.today())     \n",
    "\n",
    "import math\n",
    "print(math.pi)\n",
    "math.pi=10.0\n",
    "print(math.pi)"
   ]
  },
  {
   "cell_type": "code",
   "execution_count": 2,
   "id": "a8f9f3ed",
   "metadata": {
    "scrolled": false
   },
   "outputs": [
    {
     "name": "stdout",
     "output_type": "stream",
     "text": [
      "{'Hydrogen': 1, 'Helium': 2}\n",
      "\n",
      "setdefault印出變數只會顯示新增的值 不會顯示鍵:\n",
      "12\n",
      "{'Hydrogen': 1, 'Helium': 2, 'Carbon': 12}\n",
      "\n",
      "已有的鍵不會被改值:\n",
      "2\n",
      "{'Hydrogen': 1, 'Helium': 2, 'Carbon': 12}\n"
     ]
    }
   ],
   "source": [
    "# 用setdefault()處理缺漏的值\n",
    "\n",
    "periodic_table={'Hydrogen':1,'Helium':2}\n",
    "print(periodic_table)\n",
    "\n",
    "# 印出變數只會顯示新增的值 不會顯示鍵\n",
    "print('\\nsetdefault印出變數只會顯示新增的值 不會顯示鍵:')\n",
    "carbon=periodic_table.setdefault('Carbon',12)\n",
    "print(carbon)\n",
    "print(periodic_table)\n",
    "\n",
    "# 已有的鍵不會被改值\n",
    "print('\\n已有的鍵不會被改值:')\n",
    "vv=periodic_table.setdefault('Helium',4646)\n",
    "print(vv)\n",
    "print(periodic_table)\n"
   ]
  },
  {
   "cell_type": "code",
   "execution_count": 3,
   "id": "e177b68f",
   "metadata": {
    "scrolled": false
   },
   "outputs": [
    {
     "name": "stdout",
     "output_type": "stream",
     "text": [
      "建立全新字典defaultdict(缺漏值型態int):\n",
      "defaultdict(<class 'int'>, {})\n",
      "defaultdict(<class 'int'>, {'Hydrogen': 1, 'Hy45645': '213PPP', 'Lead': 0})\n",
      "\n",
      "defaultdict(框裡把缺漏值變函數):\n",
      "AAAA\n",
      "BBBB\n",
      "Huh?\n",
      "\n",
      "使用匿名函數呼叫:\n",
      "?????????\n",
      "\n",
      "透過defaultdict用int來製作自己的list計數器:\n",
      "spam 3\n",
      "eggs 1\n",
      "pop 1\n",
      "\n",
      "int用來製作自己的dict計數器要加if not才不會Error:\n",
      "spam 3\n",
      "eggs 1\n",
      "pop 1\n"
     ]
    }
   ],
   "source": [
    "# 用defaultdict()處理缺漏的值\n",
    "print('建立全新字典defaultdict(缺漏值型態int):')\n",
    "from collections import defaultdict\n",
    "periodic_table=defaultdict(int)\n",
    "print(periodic_table)\n",
    "periodic_table['Hydrogen']=1\n",
    "periodic_table['Hy45645']='213PPP'\n",
    "periodic_table['Lead']\n",
    "print(periodic_table)\n",
    "\n",
    "\n",
    "# defaultdict(框裡把缺漏值變函數)\n",
    "print('\\ndefaultdict(框裡把缺漏值變函數):')\n",
    "from collections import defaultdict\n",
    "\n",
    "def no_idea():\n",
    "    return 'Huh?'\n",
    "bestiary=defaultdict(no_idea)\n",
    "bestiary['A']='AAAA'\n",
    "bestiary['B']='BBBB'\n",
    "print(bestiary['A'])\n",
    "print(bestiary['B'])\n",
    "print(bestiary['Z'])  # 無此值 所以執行def no_idea\n",
    "\n",
    "\n",
    "# 也可使用匿名函數呼叫\n",
    "print('\\n使用匿名函數呼叫:')\n",
    "bestiary=defaultdict(lambda: '?????????')\n",
    "print(bestiary['E'])\n",
    "\n",
    "\n",
    "# 透過defaultdict用int來製作自己的list計數器\n",
    "print('\\n透過defaultdict用int來製作自己的list計數器:')\n",
    "from collections import defaultdict\n",
    "\n",
    "ff=['spam','spam','eggs','spam','pop']\n",
    "food_counter=defaultdict(int)\n",
    "for food in ff:\n",
    "    food_counter[food]+=1\n",
    "    \n",
    "for food,count in food_counter.items():\n",
    "    print(food,count)\n",
    "\n",
    "\n",
    "# int用來製作自己的dict計數器要加if not才不會Error\n",
    "print('\\nint用來製作自己的dict計數器要加if not才不會Error:')    \n",
    "dicts_counter={}\n",
    "for food in ['spam','spam','eggs','spam','pop']:\n",
    "    if not food in dicts_counter:\n",
    "        dicts_counter[food]=0\n",
    "    dicts_counter[food]+=1\n",
    "    \n",
    "for food,count in dicts_counter.items():\n",
    "    print(food,count)"
   ]
  },
  {
   "cell_type": "code",
   "execution_count": 4,
   "id": "7d6b0b7c",
   "metadata": {
    "scrolled": true
   },
   "outputs": [
    {
     "name": "stdout",
     "output_type": "stream",
     "text": [
      "Counter({'pop': 4, 'spam': 3, 'eggs': 1})\n",
      "[('pop', 4), ('spam', 3), ('eggs', 1)]\n",
      "[('pop', 4), ('spam', 3)]\n",
      "\n",
      "結合計數器:\n",
      "Counter({'eggs': 2, 'bacon': 1})\n",
      "Counter({'pop': 4, 'eggs': 3, 'spam': 3, 'bacon': 1})\n",
      "Counter({'eggs': 1, 'bacon': 1})\n",
      "Counter({'pop': 4, 'spam': 3})\n",
      "Counter({'eggs': 1})\n",
      "Counter({'pop': 4, 'spam': 3, 'eggs': 2, 'bacon': 1})\n",
      "\n",
      "結合計數器 內容照實際數量算:\n",
      "Counter({'a': 1})\n",
      "Counter()\n"
     ]
    }
   ],
   "source": [
    "# 用Counter當計數器比defaultdict更快更好用\n",
    "from collections import Counter\n",
    "breakfast=['spam','spam','eggs','spam','pop','pop','pop','pop']\n",
    "breakfast_counter=Counter(breakfast)\n",
    "print(breakfast_counter)   # 早餐內容\n",
    "print(breakfast_counter.most_common())   # 降敘方式回傳\n",
    "print(breakfast_counter.most_common(2))  # 顯示前兩個數量多的\n",
    "\n",
    "# 結合計數器\n",
    "print('\\n結合計數器:')\n",
    "dinner=['eggs','eggs','bacon']\n",
    "dinner_counter=Counter(dinner)\n",
    "print(dinner_counter)   # 晚餐內容\n",
    "print(dinner_counter+breakfast_counter)  # 晚餐和早餐加總\n",
    "print(dinner_counter-breakfast_counter)  # 晚餐-早餐\n",
    "print(breakfast_counter-dinner_counter)  # 早餐-晚餐\n",
    "print(breakfast_counter&dinner_counter)  # 晚餐和早餐都有的 交集\n",
    "print(breakfast_counter|dinner_counter)  # 晚餐和早餐 聯集 取較多的項目\n",
    "\n",
    "# 更易懂的範例\n",
    "print('\\n結合計數器 內容照實際數量算:')\n",
    "a=['a','a']\n",
    "b=['a']\n",
    "a=Counter(a)\n",
    "b=Counter(b)\n",
    "print(a-b)\n",
    "print(b-a)"
   ]
  },
  {
   "cell_type": "code",
   "execution_count": 5,
   "id": "7e41611b",
   "metadata": {},
   "outputs": [
    {
     "name": "stdout",
     "output_type": "stream",
     "text": [
      "M\n",
      "L\n",
      "C\n",
      "\n",
      "用deque測看看是否回文: \n",
      "True\n",
      "False\n",
      "True\n",
      "\n",
      "用slice找回文更快:\n",
      "True\n",
      "False\n"
     ]
    }
   ],
   "source": [
    "#  OrderedDict(鍵,值) 會記得被加入的鍵的順序 並用相同順序回傳\n",
    "from collections import OrderedDict\n",
    "quotes=OrderedDict([('M','m'),('L','l'),('C','c')])\n",
    "for i in quotes:\n",
    "    print(i)\n",
    "\n",
    "# 堆疊(後進先出)+佇列(先進先出)\n",
    "print('\\n用deque測看看是否回文: ')\n",
    "def palindrome(word):\n",
    "    from collections import deque\n",
    "    dq=deque(word)\n",
    "    while len(dq)>1:\n",
    "        if dq.popleft()!=dq.pop():   # popleft() 刪除最左並回傳\n",
    "            return False\n",
    "    return True\n",
    "print(palindrome('abcba'))   \n",
    "print(palindrome('apple'))\n",
    "print(palindrome('0 . 0'))\n",
    "\n",
    "# 用slice找回文更快\n",
    "print('\\n用slice找回文更快:')\n",
    "def easy_palindrome(word):\n",
    "    return word==word[::-1]\n",
    "print(easy_palindrome('8998'))\n",
    "print(easy_palindrome('qw'))"
   ]
  },
  {
   "cell_type": "code",
   "execution_count": 6,
   "id": "3a1bdd06",
   "metadata": {
    "scrolled": false
   },
   "outputs": [
    {
     "name": "stdout",
     "output_type": "stream",
     "text": [
      "itertools.chain會一次回傳一個項目:\n",
      "1\n",
      "2\n",
      "a\n",
      "b\n",
      "\n",
      "itertools.accumulate會累加總值:\n",
      "1\n",
      "5\n",
      "14\n",
      "30\n",
      "\n",
      "itertools.accumulate()第2個引數提供函式取代加法:\n",
      "1\n",
      "4\n",
      "36\n",
      "576\n"
     ]
    }
   ],
   "source": [
    "# 用itertools來選代程式結構\n",
    "import itertools\n",
    "# itertools.chain會一次回傳一個項目\n",
    "print('itertools.chain會一次回傳一個項目:')\n",
    "for i in itertools.chain([1,2],['a','b']):\n",
    "    print(i)\n",
    "\n",
    "# itertools.cycle會無限輪迴 所以先不打開\n",
    "# for i in itertools.cycle([1,2]):   \n",
    "#     print(i)\n",
    "\n",
    "# itertools.accumulate會累加總值\n",
    "print('\\nitertools.accumulate會累加總值:')\n",
    "for i in itertools.accumulate([1**2,2**2,3**2,4**2]):   \n",
    "    print(i)\n",
    "    \n",
    "# itertools.accumulate()第2個引數提供函式取代加法\n",
    "print('\\nitertools.accumulate()第2個引數提供函式取代加法:')\n",
    "def m (a,b):\n",
    "    return a*b\n",
    "for i in itertools.accumulate([1**2,2**2,3**2,4**2],m):   \n",
    "    print(i)"
   ]
  },
  {
   "cell_type": "code",
   "execution_count": 7,
   "id": "a982f678",
   "metadata": {
    "scrolled": true
   },
   "outputs": [
    {
     "name": "stdout",
     "output_type": "stream",
     "text": [
      "\n",
      "取得單一隨機值:\n",
      "9\n",
      "1\n",
      "150\n",
      "k\n",
      "\n",
      "使用sample可以一次使用多個值:\n",
      "[23, 46, 9]\n",
      "['0x123abc', 1100000]\n",
      "[9, 85, 48, 95]\n",
      "['d', 'e', 'o']\n",
      "\n",
      "random模組操作:\n",
      "35\n",
      "\n",
      "random(開始包含,結束不包含,step):\n",
      "64\n",
      "\n",
      "取得浮點數:\n",
      "0.17\n"
     ]
    }
   ],
   "source": [
    "### 取得隨機值 ###\n",
    "\n",
    "# 取得單一隨機值\n",
    "print('\\n取得單一隨機值:')\n",
    "from random import choice\n",
    "a=choice([23,9,46,'apple','0x123abc'])\n",
    "print(a)\n",
    "a=choice(('a',1,'one-two'))\n",
    "print(a)\n",
    "print(choice(range(100,200,50)))\n",
    "print(choice('afghsjkklj'))\n",
    "\n",
    "# 使用sample可以一次使用多個值\n",
    "print('\\n使用sample可以一次使用多個值:')\n",
    "from random import sample\n",
    "print(sample([23,9,46,'apple','0x123abc'],3))\n",
    "print(sample(['123',1100000,'0x123abc'],2))\n",
    "print(sample(range(100),4))\n",
    "print(sample('sedgghlohm',3))\n",
    "\n",
    "print('\\nrandom模組操作:')\n",
    "# randint取得範圍內隨機整數\n",
    "from random import randint\n",
    "a=randint(34,71)\n",
    "print(a)\n",
    "\n",
    "print('\\nrandom(開始包含,結束不包含,step):')\n",
    "# randrange取得範圍內隨機整數\n",
    "from random import randrange\n",
    "a=randrange(34,71,10)\n",
    "print(a)\n",
    "\n",
    "print('\\n取得浮點數:')\n",
    "from random import random\n",
    "a=random()\n",
    "a=round(a,2)  # round() 可決定取幾位小數\n",
    "print(float(a))"
   ]
  },
  {
   "cell_type": "code",
   "execution_count": 8,
   "id": "84c9d05c",
   "metadata": {
    "scrolled": false
   },
   "outputs": [
    {
     "name": "stdout",
     "output_type": "stream",
     "text": [
      "[['spam', 'eggs', 'lumberjack', 'knights', 'ni'], 'spam', 'eggs', 'lumberjack', 'knights', 'ni']\n",
      "\n",
      "indent=2 縮進:\n",
      "[ ['spam', 'eggs', 'lumberjack', 'knights', 'ni'],\n",
      "  'spam',\n",
      "  'eggs',\n",
      "  'lumberjack',\n",
      "  'knights',\n",
      "  'ni']\n",
      "\n",
      "width=41, compact=True:\n",
      "[['spam', 'eggs', 'lumberjack',\n",
      "  'knights', 'ni'],\n",
      " 'spam', 'eggs', 'lumberjack', 'knights',\n",
      " 'ni']\n",
      "\n",
      "depth=6 深度:\n",
      "('spam', ('eggs', ('lumberjack', ('knights', (...)))))\n"
     ]
    }
   ],
   "source": [
    "# pprint.PrettyPrinter(indent=1, width=80, depth=None, stream=None, *, compact=False, sort_dicts=True, underscore_numbers=False)\n",
    "\n",
    "import pprint\n",
    "stuff = ['spam', 'eggs', 'lumberjack', 'knights', 'ni']\n",
    "stuff.insert(0, stuff[:])\n",
    "print(stuff)\n",
    "\n",
    "print('\\nindent=2 縮進:')\n",
    "pp = pprint.PrettyPrinter(indent=2)  # 縮進\n",
    "pp.pprint(stuff)\n",
    "\n",
    "print('\\nwidth=41, compact=True:')\n",
    "pp = pprint.PrettyPrinter(width=41, compact=True)\n",
    "pp.pprint(stuff)\n",
    "\n",
    "print('\\ndepth=6 深度:')\n",
    "tup = ('spam', ('eggs', ('lumberjack', ('knights', ('ni', ('dead',\n",
    "('parrot', ('fresh fruit',))))))))\n",
    "pp = pprint.PrettyPrinter(depth=4)\n",
    "pp.pprint(tup)"
   ]
  },
  {
   "cell_type": "code",
   "execution_count": 9,
   "id": "efb83b17",
   "metadata": {},
   "outputs": [
    {
     "name": "stdout",
     "output_type": "stream",
     "text": [
      "[<Recursion on list with id=2481833040576>,\n",
      " 'spam',\n",
      " 'eggs',\n",
      " 'lumberjack',\n",
      " 'knights',\n",
      " 'ni']\n",
      "OrderedDict([('M', 'm'), ('L', 'l'), ('C', 'c')])\n",
      "OrderedDict([('M', 'm'), ('L', 'l'), ('C', 'c')])\n"
     ]
    },
    {
     "data": {
      "text/plain": [
       "\"[<Recursion on list with id=2481833040576>, 'spam', 'eggs', 'lumberjack', 'knights', 'ni']\""
      ]
     },
     "execution_count": 9,
     "metadata": {},
     "output_type": "execute_result"
    }
   ],
   "source": [
    "# pprint.pformat(object, indent=1, width=80, depth=None, *, compact=False)\n",
    "# pprint.pprint(object, stream=None, indent=1, width=80, depth=None, *, compact=False)\n",
    "\n",
    "import pprint\n",
    "stuff = ['spam', 'eggs', 'lumberjack', 'knights', 'ni']\n",
    "stuff.insert(0, stuff)\n",
    "pprint.pprint(stuff)\n",
    "\n",
    "# pprint\n",
    "quotes=OrderedDict([('M','m'),('L','l'),('C','c')])\n",
    "print(quotes)\n",
    "pp = pprint.PrettyPrinter(indent=4)\n",
    "pp.pprint(quotes)\n",
    "\n",
    "# pprint.isreadable(object) 确定 object 的格式化表示是否“可读”\n",
    "pprint.isreadable(stuff)\n",
    "pprint.saferepr(stuff)"
   ]
  },
  {
   "cell_type": "code",
   "execution_count": 10,
   "id": "41499db3",
   "metadata": {},
   "outputs": [
    {
     "name": "stdout",
     "output_type": "stream",
     "text": [
      "\n",
      "5.\n",
      "{'a': 1, 'b': 2, 'c': 3}\n",
      "\n",
      "6. 不一樣\n",
      "OrderedDict([('a', 1), ('b', 2), ('c', 3)])\n",
      "\n",
      "7.\n"
     ]
    },
    {
     "data": {
      "text/plain": [
       "'something for a'"
      ]
     },
     "execution_count": 10,
     "metadata": {},
     "output_type": "execute_result"
    }
   ],
   "source": [
    "# 11.5待辦\n",
    "print('\\n5.')\n",
    "plain={'a':1,'b':2,'c':3}\n",
    "print(plain)\n",
    "\n",
    "# 11.6待辦\n",
    "from collections import OrderedDict\n",
    "print('\\n6. 不一樣')\n",
    "fancy=OrderedDict({'a':1,'b':2,'c':3})\n",
    "print(fancy)\n",
    "\n",
    "# 11.7待辦\n",
    "print('\\n7.')\n",
    "from collections import defaultdict\n",
    "dicts_of_lists=defaultdict(list)\n",
    "dicts_of_lists['a']='something for a'\n",
    "dicts_of_lists['a']"
   ]
  }
 ],
 "metadata": {
  "kernelspec": {
   "display_name": "Python 3 (ipykernel)",
   "language": "python",
   "name": "python3"
  },
  "language_info": {
   "codemirror_mode": {
    "name": "ipython",
    "version": 3
   },
   "file_extension": ".py",
   "mimetype": "text/x-python",
   "name": "python",
   "nbconvert_exporter": "python",
   "pygments_lexer": "ipython3",
   "version": "3.8.12"
  }
 },
 "nbformat": 4,
 "nbformat_minor": 5
}
