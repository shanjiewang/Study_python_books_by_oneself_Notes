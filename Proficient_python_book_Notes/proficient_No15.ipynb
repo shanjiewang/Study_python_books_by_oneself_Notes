{
 "cells": [
  {
   "cell_type": "code",
   "execution_count": null,
   "id": "0549dc47",
   "metadata": {},
   "outputs": [],
   "source": [
    "# 目前的工作目錄\n",
    "\n",
    "import platform\n",
    "import os\n",
    "print(os.getpid())\n",
    "print(f'查看目前耕作的目錄: {os.getcwd()}') \n",
    "print(f'取得我的用戶ID: ')\n"
   ]
  },
  {
   "cell_type": "code",
   "execution_count": null,
   "id": "d64bbf04",
   "metadata": {
    "scrolled": true
   },
   "outputs": [],
   "source": [
    "# 用subprocess建立程序\n",
    "\n",
    "import subprocess\n",
    "ret=subprocess.getoutput('date')\n",
    "print(ret)\n",
    "ret=subprocess.getoutput('time')\n",
    "print(ret)\n",
    "ret=subprocess.getstatusoutput('date')\n",
    "print(ret)\n",
    "ret=subprocess.getstatusoutput('time')\n",
    "print(ret)\n",
    "\n",
    "import os\n",
    "os.system('date -u')"
   ]
  },
  {
   "cell_type": "code",
   "execution_count": null,
   "id": "0c46fe56",
   "metadata": {},
   "outputs": [],
   "source": [
    "import threading\n",
    "import time\n",
    " \n",
    "def scraper():\n",
    "    print(\"start\")\n",
    "    time.sleep(5)\n",
    "    print(\"sleep done\")\n",
    " \n",
    "t = threading.Thread(target=scraper)  #建立執行緒\n",
    "t.start()  #執行\n",
    "print(\"end\")"
   ]
  },
  {
   "cell_type": "code",
   "execution_count": null,
   "id": "34a63201",
   "metadata": {
    "scrolled": true
   },
   "outputs": [],
   "source": [
    "# 參考https://www.learncodewithmike.com/2020/11/multithreading-with-python-web-scraping.html\n",
    "\n",
    "from bs4 import BeautifulSoup\n",
    "import concurrent.futures\n",
    "import requests\n",
    "import time\n",
    " \n",
    "    \n",
    "def scrape(urls):\n",
    "    response = requests.get(urls)\n",
    " \n",
    "    soup = BeautifulSoup(response.content, \"lxml\")\n",
    " \n",
    "    # 爬取文章標題\n",
    "    titles = soup.find_all(\"h3\", {\"class\": \"post_title\"})\n",
    " \n",
    "    for title in titles:\n",
    "        print(title.getText().strip())\n",
    " \n",
    "    time.sleep(2)\n",
    " \n",
    " \n",
    "base_url = \"https://www.inside.com.tw/tag/AI\"\n",
    "urls = [f\"{base_url}?page={page}\" for page in range(1, 6)]  # 1~5頁的網址清單\n",
    " \n",
    "start_time = time.time()  # 開始時間\n",
    " \n",
    "# 同時建立及啟用10個執行緒\n",
    "with concurrent.futures.ThreadPoolExecutor(max_workers=10) as executor:\n",
    "    executor.map(scrape, urls)\n",
    "\n",
    "end_time = time.time()\n",
    "print(f\"{end_time - start_time} 秒爬取 {len(urls)} 頁的文章\")"
   ]
  },
  {
   "cell_type": "code",
   "execution_count": null,
   "id": "76f947b1",
   "metadata": {},
   "outputs": [],
   "source": [
    "# 用terminate()終止程式 用py可執\n",
    "import multiprocessing\n",
    "import time\n",
    "import os\n",
    "\n",
    "def whoami(name):\n",
    "    print(\"I'm %s,in process %s\" % (name, os.getpid()))\n",
    "\n",
    "def loopy(name):\n",
    "    whoami(\"main\")\n",
    "    start = 1\n",
    "    stop = 1000000\n",
    "    for num in range(start, stop):\n",
    "        print(\"\\tNumber %s of %s. Honk!\" % (num, stop))\n",
    "        time.sleep(1)\n",
    "\n",
    "if __name__ == \"__main__\":\n",
    "    p = multiprocessing.Process(target=loopy, args=(\"loopy\",))\n",
    "    p.start()\n",
    "    time.sleep(5)\n",
    "    p.terminate()"
   ]
  },
  {
   "cell_type": "code",
   "execution_count": null,
   "id": "beeb442d",
   "metadata": {
    "scrolled": true
   },
   "outputs": [],
   "source": [
    "# 用psutil取得程序資訊 看看就好不太會用到\n",
    "\n",
    "# 查看cpu運作多久\n",
    "import psutil\n",
    "print('查看cpu運作多久: ',psutil.cpu_times(True))\n",
    "print('\\ncpu現在有多忙: ',psutil.cpu_percent(True))\n",
    "print('\\ncpu現在有多忙: ',psutil.cpu_percent(percpu=True))\n"
   ]
  },
  {
   "cell_type": "code",
   "execution_count": null,
   "id": "52a040e6",
   "metadata": {
    "scrolled": true
   },
   "outputs": [],
   "source": [
    "import multiprocessing as mp\n",
    "\n",
    "\n",
    "def washer(dishes, output):\n",
    "    for dish in dishes:\n",
    "        print('Washing', dish, 'dish')\n",
    "        output.put(dish)\n",
    "\n",
    "\n",
    "def dryer(input):\n",
    "    while True:\n",
    "        dish = input.get()\n",
    "        print('Drying', dish, 'dish')\n",
    "        input.task_done()\n",
    "\n",
    "if __name__==\"__main__\":\n",
    "    dish_queue = mp.JoinableQueue()\n",
    "    dryer_proc = mp.Process(target=dryer, args=(dish_queue,))\n",
    "    dryer_proc.daemon = True\n",
    "    dryer_proc.start()\n",
    "\n",
    "    dishes = ['salad', 'bread', 'entree', 'dessert']\n",
    "    washer(dishes, dish_queue)\n",
    "    dish_queue.join()\n"
   ]
  },
  {
   "cell_type": "code",
   "execution_count": 10,
   "id": "da577efd",
   "metadata": {},
   "outputs": [
    {
     "name": "stdout",
     "output_type": "stream",
     "text": [
      "Child thread: 0\n",
      "Main thread: 0\n",
      "Child thread:Main thread: 1\n",
      " 1\n",
      "Child thread:Main thread: 2\n",
      " 2\n",
      "Child thread: 3\n",
      "Child thread: 4\n",
      "Done.\n"
     ]
    }
   ],
   "source": [
    "# 參考https://blog.gtwang.org/programming/python-threading-multithreaded-programming-tutorial/\n",
    "# 建立子執行緒\n",
    "\n",
    "import threading\n",
    "import time\n",
    "\n",
    "# 子執行緒的工作函數\n",
    "def job():\n",
    "    for i in range(5):\n",
    "        print(\"Child thread:\", i)\n",
    "        time.sleep(1)\n",
    "\n",
    "# 建立一個子執行緒\n",
    "t = threading.Thread(target = job)\n",
    "\n",
    "# 執行該子執行緒\n",
    "t.start()\n",
    "\n",
    "# 主執行緒繼續執行自己的工作\n",
    "for i in range(3):\n",
    "    print(\"Main thread:\", i)\n",
    "    time.sleep(1)\n",
    "\n",
    "# 等待 t 這個子執行緒結束\n",
    "t.join()\n",
    "\n",
    "print(\"Done.\")"
   ]
  },
  {
   "cell_type": "code",
   "execution_count": 17,
   "id": "3ffc635f",
   "metadata": {},
   "outputs": [
    {
     "name": "stdout",
     "output_type": "stream",
     "text": [
      "Thread 0 is 0\n",
      "Thread 1 is 1\n",
      "Thread 2 is 8\n",
      "Thread 3 is 27\n",
      "Thread 4 is 64\n",
      "Done. [<Thread(Thread-45, stopped 19680)>, <Thread(Thread-46, stopped 21100)>, <Thread(Thread-47, stopped 17884)>, <Thread(Thread-48, stopped 2696)>, <Thread(Thread-49, stopped 9648)>]\n"
     ]
    }
   ],
   "source": [
    "# 多個子執行緒與參數\n",
    "\n",
    "import threading\n",
    "import time\n",
    "\n",
    "# 子執行緒的工作函數\n",
    "def job(num,N):\n",
    "    print(\"Thread %s is %s\" % (num ,N))\n",
    "    time.sleep(1)\n",
    "\n",
    "# 建立 5 個子執行緒\n",
    "threads = []\n",
    "for i in range(5):\n",
    "    threads.append(threading.Thread(target = job, args = (i,i**3)))\n",
    "    threads[i].start()\n",
    "\n",
    "# 主執行緒繼續執行自己的工作\n",
    "# ...\n",
    "\n",
    "# 等待所有子執行緒結束\n",
    "for i in range(5):\n",
    "    threads[i].join()\n",
    "\n",
    "print(\"Done.\",threads)"
   ]
  }
 ],
 "metadata": {
  "kernelspec": {
   "display_name": "Python 3 (ipykernel)",
   "language": "python",
   "name": "python3"
  },
  "language_info": {
   "codemirror_mode": {
    "name": "ipython",
    "version": 3
   },
   "file_extension": ".py",
   "mimetype": "text/x-python",
   "name": "python",
   "nbconvert_exporter": "python",
   "pygments_lexer": "ipython3",
   "version": "3.8.12"
  }
 },
 "nbformat": 4,
 "nbformat_minor": 5
}
