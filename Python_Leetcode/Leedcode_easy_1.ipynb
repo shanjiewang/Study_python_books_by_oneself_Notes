{
 "cells": [
  {
   "cell_type": "code",
   "execution_count": null,
   "id": "72b29240",
   "metadata": {
    "scrolled": true
   },
   "outputs": [],
   "source": [
    "A=[1, 3, 6, 4, 1, 2]\n",
    "\n",
    "def hhh(A):\n",
    "    B=A[0]\n",
    "    return B\n",
    "\n",
    "hhh(A)"
   ]
  },
  {
   "cell_type": "code",
   "execution_count": null,
   "id": "dbae1d47",
   "metadata": {},
   "outputs": [],
   "source": [
    "import random\n",
    "\n",
    "lists=[]\n",
    "for i in range(1,100000):\n",
    "    num=random.randrange(-100000, 100000)\n",
    "    lists.append(num)\n",
    "print(lists)"
   ]
  },
  {
   "cell_type": "code",
   "execution_count": null,
   "id": "724699b3",
   "metadata": {},
   "outputs": [],
   "source": [
    "import random\n",
    "\n",
    "lists=[]\n",
    "for i in range(1,100000):\n",
    "    num=random.randrange(-100000, 100000)\n",
    "    lists.append(num)\n",
    "# print(lists)\n",
    "\n",
    "def Max_int_fn(lists):\n",
    "    A = set(lists)\n",
    "    max_num = 1\n",
    "    while max_num in A:\n",
    "        max_num += 1\n",
    "    return max_num\n",
    "\n",
    "Max_int_fn(lists)"
   ]
  },
  {
   "cell_type": "code",
   "execution_count": null,
   "id": "d36227f5",
   "metadata": {
    "scrolled": true
   },
   "outputs": [],
   "source": [
    "A=[4,2,5,8,7,3,7]\n",
    "#A=[4,2,6,8,8,6,4]\n",
    "#A=[14,21,16,35,22]\n",
    "lists=[]\n",
    "for i,o in enumerate(A):\n",
    "    if i!=len(A)-1:\n",
    "        a=A[i]\n",
    "        b=A[i+1]\n",
    "        print(a,'',b)\n",
    "        s=a+b\n",
    "        print(s)     \n",
    "        if s%2==0:\n",
    "            a='Y'\n",
    "        else:\n",
    "            a='N'\n",
    "    else:\n",
    "        print('最後')\n",
    "        s=A[i]+A[0]       \n",
    "        if s%2==0:\n",
    "            a='Y'\n",
    "        else:\n",
    "            a='N'\n",
    "    lists.append(a)\n",
    "lists"
   ]
  },
  {
   "cell_type": "code",
   "execution_count": null,
   "id": "630042f1",
   "metadata": {
    "scrolled": false
   },
   "outputs": [],
   "source": [
    "count=0\n",
    "for i in range(0,len(lists)):\n",
    "    if i!=len(A)-1:\n",
    "        if i%2==0:\n",
    "            print(i)\n",
    "            if lists[i]=='Y' or lists[i+1]=='Y':\n",
    "                print('YES')\n",
    "    else:\n",
    "        if lists[i-1]=='Y':\n",
    "            if lists[i]=='Y' or lists[0]=='Y':\n",
    "                print('NO')\n",
    "        if lists[i-1]=='N':\n",
    "            if lists[i]=='Y' or lists[0]=='Y':\n",
    "                print('YES')\n",
    "print(count)"
   ]
  },
  {
   "cell_type": "code",
   "execution_count": null,
   "id": "68d2639f",
   "metadata": {},
   "outputs": [],
   "source": [
    "A=[]\n",
    "for i in range(0,100000):\n",
    "    num=random.randrange(0, 100000)\n",
    "    A.append(num)\n",
    "print(A)"
   ]
  },
  {
   "cell_type": "code",
   "execution_count": null,
   "id": "2a03949a",
   "metadata": {},
   "outputs": [],
   "source": [
    "A=[6,6,5,6,5,6,5]\n",
    "\n",
    "# A=[]\n",
    "# for i in range(0,100000):\n",
    "#     num=random.randrange(-100000, 100000)\n",
    "#     A.append(num)\n",
    "def solution(A):\n",
    "    lists=[]\n",
    "    count=0\n",
    "    for i,o in enumerate(A):\n",
    "        if i!=len(A)-1:\n",
    "            a=A[i]\n",
    "            b=A[i+1]\n",
    "            s=a+b     \n",
    "            if s%2==0:\n",
    "                a='Y'\n",
    "            else:\n",
    "                a='N'\n",
    "        else:\n",
    "            s=A[i]+A[0]       \n",
    "            if s%2==0:\n",
    "                a='Y'\n",
    "            else:\n",
    "                a='N'\n",
    "        lists.append(a)  \n",
    "    for i in range(0,len(lists)):\n",
    "        if i!=len(A)-1:\n",
    "            if i%2==0:\n",
    "                if lists[i]=='Y' or lists[i+1]=='Y':\n",
    "                    count+=1\n",
    "        else:\n",
    "            if lists[i-1]=='N':\n",
    "                if lists[i]=='Y' or lists[0]=='Y':\n",
    "                    count+=1\n",
    "    return count\n",
    "\n",
    "solution(A)"
   ]
  },
  {
   "cell_type": "code",
   "execution_count": null,
   "id": "b6a32026",
   "metadata": {
    "scrolled": true
   },
   "outputs": [],
   "source": [
    "X='.....xx...x.x.x....x.xxxxx.'\n",
    "\n",
    "def solution(X):\n",
    "    count=0\n",
    "    for i in range(len(X)-1):\n",
    "        if X[i]=='x': \n",
    "            if X[i+1]=='.':\n",
    "                print('nn')\n",
    "                count+=1\n",
    "            else:\n",
    "                print('mm')\n",
    "\n",
    "    return count\n",
    "solution(X)"
   ]
  },
  {
   "cell_type": "code",
   "execution_count": 18,
   "id": "b63e8465",
   "metadata": {
    "scrolled": true
   },
   "outputs": [
    {
     "name": "stdout",
     "output_type": "stream",
     "text": [
      "NO\n",
      "NO\n",
      "NO\n",
      "NO\n"
     ]
    },
    {
     "data": {
      "text/plain": [
       "[1, 2]"
      ]
     },
     "execution_count": 18,
     "metadata": {},
     "output_type": "execute_result"
    }
   ],
   "source": [
    "# 1. Two Sum\n",
    "\n",
    "nums=[1,8,6,7,3]\n",
    "target=14\n",
    "\n",
    "#print(A[0]+A[1])\n",
    "def two_sum(nums,target):\n",
    "    global ans \n",
    "    for i in range(len(nums)):\n",
    "        if i != len(nums)-1:\n",
    "            sums=nums[i]+nums[i+1]\n",
    "            if sums==target:\n",
    "                ans=list([i,i+1])\n",
    "            else:\n",
    "                print('NO')\n",
    "        else:\n",
    "            print('NO')\n",
    "    return ans\n",
    "\n",
    "two_sum(nums,target)\n",
    "\n",
    "class Solution(object):\n",
    "    def twoSum(self, nums, target):\n",
    "        global ans \n",
    "        for i in range(len(nums)):\n",
    "            if i != len(nums)-1:\n",
    "                sums=nums[i]+nums[i+1]\n",
    "                if sums==target:\n",
    "                    ans=list([i,i+1])\n",
    "                else:\n",
    "                    print('NO')\n",
    "            else:\n",
    "                print('NO')\n",
    "        return ans\n"
   ]
  },
  {
   "cell_type": "code",
   "execution_count": 23,
   "id": "4e89927d",
   "metadata": {
    "scrolled": true
   },
   "outputs": [
    {
     "name": "stdout",
     "output_type": "stream",
     "text": [
      "[1, 3]\n"
     ]
    },
    {
     "data": {
      "text/plain": [
       "[1, 3]"
      ]
     },
     "execution_count": 23,
     "metadata": {},
     "output_type": "execute_result"
    }
   ],
   "source": [
    "A=[1,8,6,7,3]\n",
    "target=15\n",
    "    \n",
    "\n",
    "def twoSum(nums, target):\n",
    "    \"\"\"\n",
    "    :type nums: List[int]\n",
    "    :type target: int\n",
    "    :rtype: List[int]\n",
    "    \"\"\"\n",
    "    index_list = []\n",
    "    for i in range(len(nums)):\n",
    "        for j in range(i+1, len(nums)):\n",
    "            if nums[i] + nums[j] == target:\n",
    "                index_list.append(i)\n",
    "                index_list.append(j)\n",
    "    print(list(set(index_list)))\n",
    "    return index_list\n",
    "\n",
    "twoSum(A,target)"
   ]
  },
  {
   "cell_type": "code",
   "execution_count": 16,
   "id": "4d6e8747",
   "metadata": {},
   "outputs": [
    {
     "name": "stdout",
     "output_type": "stream",
     "text": [
      "<__main__.Solution object at 0x000001928819E250>\n"
     ]
    }
   ],
   "source": [
    "A=[1,8,6,7,3]\n",
    "target=15\n",
    "\n",
    "class Solution(object):   \n",
    "    def twoSum(self, nums, target):\n",
    "        \"\"\"\n",
    "        :type nums: List[int]\n",
    "        :type target: int\n",
    "        :rtype: List[int]\n",
    "        \"\"\"\n",
    "        index_list = []\n",
    "        for i in range(len(nums)):\n",
    "            for j in range(i+1, len(nums)):\n",
    "                if nums[i] + nums[j] == target:\n",
    "                    index_list.append(i)\n",
    "                    index_list.append(j)\n",
    "        print(list(set(index_list)))\n",
    "        return index_list\n",
    "\n",
    "d=Solution()\n",
    "print(d)"
   ]
  }
 ],
 "metadata": {
  "kernelspec": {
   "display_name": "Python 3 (ipykernel)",
   "language": "python",
   "name": "python3"
  },
  "language_info": {
   "codemirror_mode": {
    "name": "ipython",
    "version": 3
   },
   "file_extension": ".py",
   "mimetype": "text/x-python",
   "name": "python",
   "nbconvert_exporter": "python",
   "pygments_lexer": "ipython3",
   "version": "3.8.12"
  }
 },
 "nbformat": 4,
 "nbformat_minor": 5
}
