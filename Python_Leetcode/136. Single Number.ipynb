{
 "cells": [
  {
   "cell_type": "code",
   "execution_count": 1,
   "id": "b6344f0e",
   "metadata": {
    "scrolled": false
   },
   "outputs": [
    {
     "name": "stdout",
     "output_type": "stream",
     "text": [
      "YES\n",
      "YES\n",
      "1\n",
      "YES\n",
      "YES\n",
      "YES\n",
      "YES\n",
      "YES\n",
      "YES\n",
      "YES\n",
      "YES\n",
      "YES\n",
      "YES\n",
      "4\n",
      "0\n",
      "88\n",
      "99\n"
     ]
    },
    {
     "data": {
      "text/plain": [
       "[1, 4, 0, 88, 99]"
      ]
     },
     "execution_count": 1,
     "metadata": {},
     "output_type": "execute_result"
    }
   ],
   "source": [
    "# 正確答案 但速度太慢\n",
    "\n",
    "nums = [2,2,1,2,2,5,5,5,5,6,6,6,6,4,0,88,99]\n",
    "lists=[]\n",
    "\n",
    "def singleNumber(nums):\n",
    "    for i,n in enumerate(nums):\n",
    "        if list(nums).count(n)>1:\n",
    "            print('YES')\n",
    "        else:\n",
    "            print(n)\n",
    "            lists.append(n)\n",
    "    return lists\n",
    "\n",
    "singleNumber(nums)"
   ]
  },
  {
   "cell_type": "code",
   "execution_count": 2,
   "id": "12dc8f50",
   "metadata": {},
   "outputs": [
    {
     "data": {
      "text/plain": [
       "6"
      ]
     },
     "execution_count": 2,
     "metadata": {},
     "output_type": "execute_result"
    }
   ],
   "source": [
    "nums = [2,2,1,2,2,5,5,5,5,6]\n",
    "\n",
    "def singleNumber(nums):\n",
    "    num = nums.pop()\n",
    "    while num in nums:\n",
    "        nums.remove(num)\n",
    "        num = nums.pop()\n",
    "    return num\n",
    "singleNumber(nums)"
   ]
  }
 ],
 "metadata": {
  "kernelspec": {
   "display_name": "Python 3 (ipykernel)",
   "language": "python",
   "name": "python3"
  },
  "language_info": {
   "codemirror_mode": {
    "name": "ipython",
    "version": 3
   },
   "file_extension": ".py",
   "mimetype": "text/x-python",
   "name": "python",
   "nbconvert_exporter": "python",
   "pygments_lexer": "ipython3",
   "version": "3.8.12"
  }
 },
 "nbformat": 4,
 "nbformat_minor": 5
}
