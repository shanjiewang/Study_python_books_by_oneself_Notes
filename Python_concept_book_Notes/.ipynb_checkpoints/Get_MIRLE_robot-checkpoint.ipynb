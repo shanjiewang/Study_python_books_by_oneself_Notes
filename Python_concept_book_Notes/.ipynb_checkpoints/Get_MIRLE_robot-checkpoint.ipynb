{
 "cells": [
  {
   "cell_type": "code",
   "execution_count": 32,
   "id": "5b570752",
   "metadata": {
    "scrolled": true
   },
   "outputs": [
    {
     "name": "stdout",
     "output_type": "stream",
     "text": [
      "https://www.mirle.com.tw/Product/Sub/47/%E4%B8%AD%E6%96%87/%E6%A9%9F%E9%9B%BB%E7%94%A2%E6%A5%AD%E6%A9%9F%E5%99%A8%E4%BA%BA\n",
      "共4頁\n",
      "1\n",
      "雷射應用\n",
      "本公司自2003年起與德國TRUMPF合作，進行國內第一套六軸機器人雷射整合應用，同時以多年來之機電整合經驗，提供客戶完整之雷射應用系統售前及售後服務。至目前為止，已有多套雷射整合經驗，並於業界成功量產中，包含3D雷射焊接、3D雷射切割等。\n",
      "銲接應用\n",
      "機器人銲接應用廣泛, 除了可提高效率及產能，人員只負責上下料､銲接工作由機器人完成，使產能為原先之1.3倍。而且機器人之重現性高，電壓､電流､速度､距離穩定故銲道品質穩定，不良率大為減少。\n",
      "取放應用\n",
      "適用範圍：汽、機車及五金鑄體/機械五金加工體。優點：產量提升/定位精度高/解決人力短缺。\n",
      "2\n",
      "點銲應用\n",
      "由於汽車底板長，進行點銲時需使用加長之點銲槍，且需點銲之點又多，若由操作員拿手動點銲槍點銲不但辛苦且易影響工作品質，系統導入後，操作員只需做置料及預打之工作，二台機器人會自動判別前後底板及車型自動執行不同程式，且二台機器人具互鎖功能，不會互相碰撞，且對於不同點設定不同點銲條件及壓力，每一打點都獲得到最佳品質。\n",
      "水刀切割\n",
      "水刀切割適用材料廣泛, 如金屬, 玻璃, 塑膠, 石材及各種複合材料等. 再搭配機器人應用, 更可擴充其應用彈性. 盟立公司二十多年機器人系統整合經驗及能力, 搭配世界最先進優異的KMT水刀超高壓幫浦設備, 提供您最佳的機器人水刀切割系統。\n",
      "沖床取放\n",
      "早期之沖床生產線大多以人員移載鈑件，然大鈑件尺寸大、重量重等因素人員移載不易，故產能不定、易碰撞工件而影響品質。機器人沖床線自動取放系統速度快、產能穩定、品質穩定之特色，是提升沖床生產線之效益最佳選擇。\n",
      "3\n",
      "塗膠應用\n",
      "適用範圍：鈑金件(引擎蓋板、 行李箱蓋板)/前後檔玻璃、側三角窗/油封/車燈。 優點：膠量穩定均勻/塗膠路徑平順/塗膠品質穩定。\n",
      "堆疊應用\n",
      "機器人荷重能力高﹐可長期操作﹐不虞體力不濟的情況。堆疊模式可以程式設定﹐富變化﹐操作容易。 可配合棧板供應設備﹑輸送設備及自動倉庫形成全線自動化。 可配合條碼辨識系統﹐作混線生產﹐彈性運用作業人員及生產設備﹐提高生產效率。\n",
      "其它應用\n",
      "鋁輪圈澆鑄/汽機車座椅發泡灌注/離型劑噴塗/座椅旁接板自動鉚接機/車門板自動超音波機\n",
      "4\n",
      "組裝應用\n",
      "擬人化設計的15軸機器人(SDA)，可應用於原件備料工程上及組立工程，以多樣性的作業力及判斷力針對多品種，少量組立的對應。\n",
      "玻璃瓶自動裝箱系統\n",
      "玻璃產業目前仍為勞力密集的產業之一，要延續產業的生命力及強化產業的競爭力，除了不斷開創新產品外，業者也已開始思考藉由自動化來提升產能效率及改善生產品質。 國內某玻璃瓶業者，過去未曾導入機器人系統，盟立自動化近期以豐富的機器人應用經驗及優越的系統整合能力，為業者成功開發玻璃瓶全自動裝箱系統。\n",
      "https://www.mirle.com.tw/Product/Sub/48/%E4%B8%AD%E6%96%87/%E5%85%89%E9%9B%BB%E7%94%A2%E6%A5%AD%E6%A9%9F%E5%99%A8%E4%BA%BA\n",
      "共2頁\n",
      "1\n",
      "玻璃裝箱/拆箱自動化系統\n",
      "隨著面板世代越來越大型化的趨勢，生產大尺寸面板的產線其搬運技術也相形重要。對於包裝、解包裝作業的需求也隨之產生，以因應跨廠使用需求或出貨包裝。盟立以多年來與面板廠配合的經驗，目前已成功應用在G5.5~G8.5世代的面板上。\n",
      "LCD裝拆箱/堆疊應用\n",
      "本系統主要功能是將LCD廠之TFT-LCD成品卡匣自動裝箱、堆疊、包裝及拆疊、拆箱，並結合MES 系統，以達到整廠物料流及資訊流之整合及管理之目的。\n",
      "CF整廠玻璃面板傳送設備整合系統\n",
      "盟立FPD傳送系統包含直行、移載、旋轉、暫存等各類輸送機、旋轉工作站、昇降機及存取機，對應G2~G8.5各世代尺寸，整合各式製程設備，提供CF輸送系統完整解決方案。\n",
      "2\n",
      "ODF/MVA/PI Line 玻璃面板傳送設備整合系統\n",
      "盟立FPD傳送系統包含直行、移載、旋轉、暫存等各類輸送機、旋轉工作站、昇降機及存取機，對應G2~G8.5各世代尺寸，整合各式製程設備，提供ODF/MVA/PI Line輸送系統完整解決方案。\n",
      "https://www.mirle.com.tw/Product/Sub/49/%E7%B9%81%E9%AB%94/%E5%8D%8A%E5%B0%8E%E9%AB%94%E7%94%A2%E6%A5%AD%E6%A9%9F%E5%99%A8%E4%BA%BA\n",
      "共0頁\n",
      "1\n",
      "晶圓卡匣取放系統\n",
      "高潔淨度/避免人工作業污染及作業風險/電腦作業料帳清楚/上下游資料傳送精確。\n"
     ]
    }
   ],
   "source": [
    "from selenium import webdriver\n",
    "from selenium.webdriver.common.by import By\n",
    "from selenium.webdriver.chrome.service import Service\n",
    "\n",
    "import time,csv\n",
    "\n",
    "# 啟動瀏覽器工具的選項\n",
    "options = webdriver.ChromeOptions()\n",
    "# options.add_argument(\"--headless\")              # 不開啟實體瀏覽器背景執行\n",
    "options.add_argument(\"--start-maximized\")         # 最大化視窗\n",
    "options.add_argument(\"--incognito\")               # 開啟無痕模式\n",
    "options.add_argument(\"--disable-popup-blocking \") # 禁用彈出攔截\n",
    "\n",
    "title_list,content_ist=[],[]\n",
    "\n",
    "driver_url='https://www.mirle.com.tw/'\n",
    "driver_path=Service('D:/chromedriver.exe')\n",
    "driver=webdriver.Chrome(service=driver_path)\n",
    "driver.get(driver_url)\n",
    "driver.maximize_window()\n",
    "\n",
    "product_btn=driver.find_element(By.CSS_SELECTOR,'.navbar-nav').find_elements(By.CSS_SELECTOR,'.nav-item')[2]\n",
    "product_btn.click()\n",
    "time.sleep(3)\n",
    "robot_btn=product_btn.find_elements(By.CSS_SELECTOR,'.dropdown-item')[2]\n",
    "robot_btn.click()\n",
    "robot_index_url=driver.current_url\n",
    "time.sleep(2)\n",
    "\n",
    "rr=driver.find_elements(By.CSS_SELECTOR,'.inner-sec-w3layouts-agileinfo a')\n",
    "for i in range(0,3):\n",
    "    in_side_url=rr[i].get_attribute('href')\n",
    "    driver.get(in_side_url)\n",
    "    print(in_side_url)\n",
    "    len_a=driver.find_elements(By.CSS_SELECTOR,'.pager a')\n",
    "    print(f'共{len(len_a)}頁')\n",
    "    if len(len_a)==0:\n",
    "        len_a='1'\n",
    "    time.sleep(2)\n",
    "    for j in range(1,len(len_a)+1):\n",
    "        print(j)\n",
    "        page_url=in_side_url+'?page='+str(j)\n",
    "        driver.get(page_url)\n",
    "        time.sleep(2)\n",
    "        \n",
    "        # 依照html設計取得內容\n",
    "        title=driver.find_elements(By.CSS_SELECTOR,'.d-block .col-lg-9 .font-weight-bold')\n",
    "        content=driver.find_elements(By.CSS_SELECTOR,'.d-block .col-lg-9 .card-text')\n",
    "        for k in range(len(title)):\n",
    "            print(title[k].text)\n",
    "            print(content[k].text)\n",
    "            title_list.append([title[k].text.strip(),content[k].text.strip()])\n",
    "        time.sleep(2)\n",
    "        \n",
    "    # 每頁整筆寫入csv\n",
    "    with open('vv.csv','w',newline='',encoding='utf-8')as csv_file:\n",
    "        csv_writer=csv.writer(csv_file)\n",
    "        for c in title_list:\n",
    "            csv_writer.writerow(c)\n",
    "        \n",
    "    # 回到機器人應用首頁\n",
    "    driver.get(robot_index_url)\n",
    "    rr=driver.find_elements(By.CSS_SELECTOR,'.inner-sec-w3layouts-agileinfo a')\n",
    "driver.close()"
   ]
  },
  {
   "cell_type": "code",
   "execution_count": 33,
   "id": "e28dd0ea",
   "metadata": {},
   "outputs": [
    {
     "name": "stdout",
     "output_type": "stream",
     "text": [
      "[['雷射應用', '本公司自2003年起與德國TRUMPF合作，進行國內第一套六軸機器人雷射整合應用，同時以多年來之機電整合經驗，提供客戶完整之雷射應用系統售前及售後服務。至目前為止，已有多套雷射整合經驗，並於業界成功量產中，包含3D雷射焊接、3D雷射切割等。'], ['銲接應用', '機器人銲接應用廣泛, 除了可提高效率及產能，人員只負責上下料､銲接工作由機器人完成，使產能為原先之1.3倍。而且機器人之重現性高，電壓､電流､速度､距離穩定故銲道品質穩定，不良率大為減少。'], ['取放應用', '適用範圍：汽、機車及五金鑄體/機械五金加工體。優點：產量提升/定位精度高/解決人力短缺。'], ['點銲應用', '由於汽車底板長，進行點銲時需使用加長之點銲槍，且需點銲之點又多，若由操作員拿手動點銲槍點銲不但辛苦且易影響工作品質，系統導入後，操作員只需做置料及預打之工作，二台機器人會自動判別前後底板及車型自動執行不同程式，且二台機器人具互鎖功能，不會互相碰撞，且對於不同點設定不同點銲條件及壓力，每一打點都獲得到最佳品質。'], ['水刀切割', '水刀切割適用材料廣泛, 如金屬, 玻璃, 塑膠, 石材及各種複合材料等. 再搭配機器人應用, 更可擴充其應用彈性. 盟立公司二十多年機器人系統整合經驗及能力, 搭配世界最先進優異的KMT水刀超高壓幫浦設備, 提供您最佳的機器人水刀切割系統。'], ['沖床取放', '早期之沖床生產線大多以人員移載鈑件，然大鈑件尺寸大、重量重等因素人員移載不易，故產能不定、易碰撞工件而影響品質。機器人沖床線自動取放系統速度快、產能穩定、品質穩定之特色，是提升沖床生產線之效益最佳選擇。'], ['塗膠應用', '適用範圍：鈑金件(引擎蓋板、 行李箱蓋板)/前後檔玻璃、側三角窗/油封/車燈。 優點：膠量穩定均勻/塗膠路徑平順/塗膠品質穩定。'], ['堆疊應用', '機器人荷重能力高﹐可長期操作﹐不虞體力不濟的情況。堆疊模式可以程式設定﹐富變化﹐操作容易。 可配合棧板供應設備﹑輸送設備及自動倉庫形成全線自動化。 可配合條碼辨識系統﹐作混線生產﹐彈性運用作業人員及生產設備﹐提高生產效率。'], ['其它應用', '鋁輪圈澆鑄/汽機車座椅發泡灌注/離型劑噴塗/座椅旁接板自動鉚接機/車門板自動超音波機'], ['組裝應用', '擬人化設計的15軸機器人(SDA)，可應用於原件備料工程上及組立工程，以多樣性的作業力及判斷力針對多品種，少量組立的對應。'], ['玻璃瓶自動裝箱系統', '玻璃產業目前仍為勞力密集的產業之一，要延續產業的生命力及強化產業的競爭力，除了不斷開創新產品外，業者也已開始思考藉由自動化來提升產能效率及改善生產品質。 國內某玻璃瓶業者，過去未曾導入機器人系統，盟立自動化近期以豐富的機器人應用經驗及優越的系統整合能力，為業者成功開發玻璃瓶全自動裝箱系統。'], ['玻璃裝箱/拆箱自動化系統', '隨著面板世代越來越大型化的趨勢，生產大尺寸面板的產線其搬運技術也相形重要。對於包裝、解包裝作業的需求也隨之產生，以因應跨廠使用需求或出貨包裝。盟立以多年來與面板廠配合的經驗，目前已成功應用在G5.5~G8.5世代的面板上。'], ['LCD裝拆箱/堆疊應用', '本系統主要功能是將LCD廠之TFT-LCD成品卡匣自動裝箱、堆疊、包裝及拆疊、拆箱，並結合MES 系統，以達到整廠物料流及資訊流之整合及管理之目的。'], ['CF整廠玻璃面板傳送設備整合系統', '盟立FPD傳送系統包含直行、移載、旋轉、暫存等各類輸送機、旋轉工作站、昇降機及存取機，對應G2~G8.5各世代尺寸，整合各式製程設備，提供CF輸送系統完整解決方案。'], ['ODF/MVA/PI Line 玻璃面板傳送設備整合系統', '盟立FPD傳送系統包含直行、移載、旋轉、暫存等各類輸送機、旋轉工作站、昇降機及存取機，對應G2~G8.5各世代尺寸，整合各式製程設備，提供ODF/MVA/PI Line輸送系統完整解決方案。'], ['晶圓卡匣取放系統', '高潔淨度/避免人工作業污染及作業風險/電腦作業料帳清楚/上下游資料傳送精確。']]\n"
     ]
    }
   ],
   "source": [
    "print(title_list)"
   ]
  }
 ],
 "metadata": {
  "kernelspec": {
   "display_name": "Python 3 (ipykernel)",
   "language": "python",
   "name": "python3"
  },
  "language_info": {
   "codemirror_mode": {
    "name": "ipython",
    "version": 3
   },
   "file_extension": ".py",
   "mimetype": "text/x-python",
   "name": "python",
   "nbconvert_exporter": "python",
   "pygments_lexer": "ipython3",
   "version": "3.8.12"
  }
 },
 "nbformat": 4,
 "nbformat_minor": 5
}
