{
 "cells": [
  {
   "cell_type": "code",
   "execution_count": 2,
   "id": "6a217206",
   "metadata": {},
   "outputs": [
    {
     "name": "stdout",
     "output_type": "stream",
     "text": [
      "['.xxxx.x..x.png', 'xxx.x..x.x.png', 'x.xx...xx..png', '....x...x..png', 'x.xx..xxxx.png']\n"
     ]
    }
   ],
   "source": [
    "# 更簡潔的假數據作法\n",
    "import random\n",
    "\n",
    "s=''\n",
    "s_list=[]\n",
    "c='.x'\n",
    "\n",
    "# 看要幾組\n",
    "for i in range(5):\n",
    "    s=''\n",
    "    # 看每個要多長\n",
    "    for j in range(10):\n",
    "        g=random.choice(c)   # 隨機出現c內的字串\n",
    "        s=s+g\n",
    "    s=s+'.png'\n",
    "    s_list.append(s)\n",
    "print(s_list)"
   ]
  },
  {
   "cell_type": "code",
   "execution_count": null,
   "id": "d4fd0d82",
   "metadata": {},
   "outputs": [],
   "source": [
    "# dict轉list,再用生成式轉dict\n",
    "\n",
    "lst=[]\n",
    "member={'Peter':21,'Mary':36,'Love':48,'Tina':55}\n",
    "for i,o in member.items():\n",
    "    lst.append([i,o])\n",
    "print(lst)\n",
    "\n",
    "d={m[0]:m[1] for m in lst}\n",
    "print(d)"
   ]
  },
  {
   "cell_type": "code",
   "execution_count": 7,
   "id": "077be997",
   "metadata": {},
   "outputs": [
    {
     "name": "stdout",
     "output_type": "stream",
     "text": [
      "for in list: [1, 4, 9, 16, 25]\n",
      "\n",
      "生成式: [1, 4, 9, 16, 25]\n",
      "\n",
      "map: [1, 4, 9, 16, 25]\n"
     ]
    }
   ],
   "source": [
    "# 從for in list到map\n",
    "mylist = [1, 2, 3, 4, 5]\n",
    "\n",
    "# for in list\n",
    "def test(x):\n",
    "    return x**2\n",
    "lst=[]\n",
    "for m in mylist:\n",
    "    lst.append(test(m))\n",
    "print('for in list:',lst)\n",
    "\n",
    "# 生成式\n",
    "lst_2=[test(m) for m in mylist]\n",
    "print('\\n生成式:',lst_2)\n",
    "\n",
    "# map\n",
    "lst_3=list(map(test,mylist))\n",
    "print('\\nmap:',lst_3)"
   ]
  }
 ],
 "metadata": {
  "kernelspec": {
   "display_name": "Python 3 (ipykernel)",
   "language": "python",
   "name": "python3"
  },
  "language_info": {
   "codemirror_mode": {
    "name": "ipython",
    "version": 3
   },
   "file_extension": ".py",
   "mimetype": "text/x-python",
   "name": "python",
   "nbconvert_exporter": "python",
   "pygments_lexer": "ipython3",
   "version": "3.8.12"
  }
 },
 "nbformat": 4,
 "nbformat_minor": 5
}
