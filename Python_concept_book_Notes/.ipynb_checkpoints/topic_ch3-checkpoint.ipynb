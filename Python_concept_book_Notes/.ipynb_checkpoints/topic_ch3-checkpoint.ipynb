{
 "cells": [
  {
   "cell_type": "code",
   "execution_count": 22,
   "id": "82eb0ff6",
   "metadata": {
    "scrolled": true
   },
   "outputs": [
    {
     "name": "stdout",
     "output_type": "stream",
     "text": [
      "[3, 'B', 'A', 2, 'C', 1]\n"
     ]
    }
   ],
   "source": [
    "### 3_1 ###\n",
    "### 將list內容打亂 ###\n",
    "import random\n",
    "\n",
    "pocker=['A','B','C',3,2,1]\n",
    "new=random.shuffle(pocker)\n",
    "print(new)"
   ]
  },
  {
   "cell_type": "code",
   "execution_count": 33,
   "id": "11db68ef",
   "metadata": {},
   "outputs": [
    {
     "name": "stdout",
     "output_type": "stream",
     "text": [
      "[6, 4, 'B', 'A', 2]\n"
     ]
    }
   ],
   "source": [
    "### 3_2 ###\n",
    "### 將list打散並隨機挑出指定數量的數字 ###\n",
    "import random\n",
    "\n",
    "pocker=['A','B','C',3,2,1,'D','E',6,5,4]\n",
    "new=random.sample(pocker,5)\n",
    "print(new)"
   ]
  },
  {
   "cell_type": "code",
   "execution_count": 62,
   "id": "5847539d",
   "metadata": {
    "scrolled": true
   },
   "outputs": [
    {
     "name": "stdout",
     "output_type": "stream",
     "text": [
      "24\n",
      "34\n",
      "38\n",
      "39\n",
      "91\n"
     ]
    }
   ],
   "source": [
    "### 3_3 ###\n",
    "### 在指定數值間取指定數量的隨機亂數 ###\n",
    "import random\n",
    "\n",
    "n=5\n",
    "min=0\n",
    "max=100\n",
    "for i in range(n):\n",
    "    new=random.randint(min,max)\n",
    "    print(new)"
   ]
  },
  {
   "cell_type": "code",
   "execution_count": 95,
   "id": "28d194a0",
   "metadata": {},
   "outputs": [
    {
     "name": "stdout",
     "output_type": "stream",
     "text": [
      "830\n",
      "-216\n",
      "-389\n",
      "-956\n",
      "-261\n",
      "-151\n",
      "-661\n"
     ]
    }
   ],
   "source": [
    "### 3_4 ###\n",
    "### 產生指定數值間的指定數量的隨機整數 ###\n",
    "import random\n",
    "\n",
    "n=7\n",
    "for i in range(n):\n",
    "    new=random.choice(range(-1000,1000))\n",
    "    print(new)"
   ]
  },
  {
   "cell_type": "code",
   "execution_count": 126,
   "id": "ca5c0a09",
   "metadata": {
    "scrolled": true
   },
   "outputs": [
    {
     "name": "stdout",
     "output_type": "stream",
     "text": [
      "69\n",
      "22\n",
      "84\n",
      "35\n",
      "91\n",
      "78\n",
      "97\n",
      "84\n",
      "73\n",
      "57\n"
     ]
    }
   ],
   "source": [
    "### 3_5 ###\n",
    "### 產生指定數值間的指定數量的固定整數 ###\n",
    "import random\n",
    "\n",
    "n=10\n",
    "min=-10\n",
    "max=100\n",
    "random.seed(5)   # seed內每個int出來的固定種子不一樣 \n",
    "for i in range(n):\n",
    "    new=random.randint(min,max)\n",
    "    print(new)"
   ]
  },
  {
   "cell_type": "code",
   "execution_count": 100,
   "id": "4d0c6a0c",
   "metadata": {
    "scrolled": true
   },
   "outputs": [
    {
     "name": "stdout",
     "output_type": "stream",
     "text": [
      "0.24608679063361372\n",
      "0.8194931666705297\n",
      "0.46220536041544236\n",
      "0.5124960121124476\n",
      "0.8927110919706659\n",
      "0.25089395624103406\n",
      "0.46284975937048245\n"
     ]
    }
   ],
   "source": [
    "### 3_6 ###\n",
    "### 產生0-1.0間的隨機浮點數 ###\n",
    "import random\n",
    "\n",
    "n=7\n",
    "for i in range(n):\n",
    "    new=random.random()\n",
    "    print(new)"
   ]
  },
  {
   "cell_type": "code",
   "execution_count": 131,
   "id": "6f625923",
   "metadata": {},
   "outputs": [
    {
     "name": "stdout",
     "output_type": "stream",
     "text": [
      "0.01774862202534644\n",
      "8.714047447242821\n",
      "2.094563824951179\n",
      "2.1548116922473226\n",
      "9.824211088259252\n"
     ]
    }
   ],
   "source": [
    "### 3_7 ###\n",
    "### 產生指定數值間的指定數量的浮點數 ###\n",
    "import random\n",
    "\n",
    "n=5\n",
    "min=0  # 不管給小數幾位 都是出現浮點數\n",
    "max=10.00     # 不含\n",
    "for i in range(n):\n",
    "    new=random.uniform(min,max)\n",
    "    print(new)"
   ]
  },
  {
   "cell_type": "code",
   "execution_count": 135,
   "id": "2668dbe4",
   "metadata": {
    "scrolled": true
   },
   "outputs": [
    {
     "name": "stdout",
     "output_type": "stream",
     "text": [
      "HI VIVI 印出\n",
      ".__doc__查看函數註解: python函數需傳遞名字name\n"
     ]
    }
   ],
   "source": [
    "### 3_8 ###\n",
    "### python docstring ###\n",
    "\n",
    "def greeting(name):\n",
    "    '''python函數需傳遞名字name'''\n",
    "    print('HI',name,'印出')\n",
    "greeting('VIVI')\n",
    "print(f'.__doc__查看函數註解: {greeting.__doc__}')"
   ]
  },
  {
   "cell_type": "code",
   "execution_count": 143,
   "id": "935199f3",
   "metadata": {
    "scrolled": true
   },
   "outputs": [
    {
     "name": "stdout",
     "output_type": "stream",
     "text": [
      "c: 8\n",
      "f: None\n",
      "t: 5\n"
     ]
    }
   ],
   "source": [
    "### 3_9 ###\n",
    "### 全域變數與區域變數 ###\n",
    "\n",
    "def fun():\n",
    "    global a  # 設為全域變數\n",
    "    a=5\n",
    "    c=a+b\n",
    "    print('c:',c)\n",
    "def test():\n",
    "    return a\n",
    "b=3\n",
    "f=fun()\n",
    "t=test()\n",
    "print('f:',f)  # 因為該def沒有return值所以是None\n",
    "print('t:',t)"
   ]
  },
  {
   "cell_type": "code",
   "execution_count": 152,
   "id": "b782d8e5",
   "metadata": {},
   "outputs": [
    {
     "name": "stdout",
     "output_type": "stream",
     "text": [
      "1000\n",
      "12\n"
     ]
    }
   ],
   "source": [
    "### 3_10_11 ###\n",
    "### lambda匿名函數 ###\n",
    "\n",
    "cube1=lambda x:x*x*x\n",
    "cube2=lambda x,y:x*y\n",
    "print(cube1(10))\n",
    "print(cube2(2,6))"
   ]
  },
  {
   "cell_type": "code",
   "execution_count": 320,
   "id": "0b975822",
   "metadata": {},
   "outputs": [
    {
     "name": "stdout",
     "output_type": "stream",
     "text": [
      "[-11, -8, -5, -2, 1, 5, 9, 10, 12]\n",
      "[1, 5, 9, 10, 12, -2, -5, -8, -11]\n"
     ]
    }
   ],
   "source": [
    "### 3_12 ###\n",
    "### 用匿名函數由小到大排列 ###\n",
    "\n",
    "lst=[-8,5,9,-2,-11,12,1,10,-5]\n",
    "sorted_lst=sorted(lst,key=lambda x:x)\n",
    "print(sorted_lst)\n",
    "\n",
    "### 3_13 ###\n",
    "### 用匿名函數將正值由小到大排列,負值由大到小排列 ###\n",
    "sorted_lst2=sorted(lst,key=lambda x:(x<0,abs(x)))  # x>0 正值在後\n",
    "sorted_lst3=sorted(lst,key=lambda x:(abs(x))) # 不管正負值由小到大排列\n",
    "print(sorted_lst2)"
   ]
  },
  {
   "cell_type": "code",
   "execution_count": 321,
   "id": "61c9350d",
   "metadata": {
    "scrolled": true
   },
   "outputs": [
    {
     "name": "stdout",
     "output_type": "stream",
     "text": [
      "[{'name': 'Kevin', 'age': 29}, {'name': 'Mary', 'age': 22}, {'name': 'Peter', 'age': 25}, {'name': 'Tom', 'age': 18}]\n",
      "[{'name': 'Tom', 'age': 18}, {'name': 'Mary', 'age': 22}, {'name': 'Peter', 'age': 25}, {'name': 'Kevin', 'age': 29}]\n",
      "['Kevin', 'Mary', 'Peter', 'Tom'] \n",
      " [29, 25, 22, 18]\n"
     ]
    }
   ],
   "source": [
    "### 3_14  ###\n",
    "### 用匿名函數dict由大到小排列 ###\n",
    "\n",
    "member=[{'name':'Peter','age':25},{'name':'Mary','age':22},{'name':'Kevin','age':29},{'name':'Tom','age':18}]\n",
    "\n",
    "sorted_name=sorted(member,key=lambda x:x['name'])  # 將key為'name'的作排列\n",
    "print(sorted_name)\n",
    "sorted_age=sorted(member,key=lambda x:x['age'])  # 將key為'name'的作排列\n",
    "print(sorted_age)\n",
    "\n",
    "# 只取值排列,自己寫法\n",
    "n,a=[],[]\n",
    "\n",
    "for m in member:\n",
    "    #print(m['name'])\n",
    "    n.append(m['name'])\n",
    "    a.append(m['age'])\n",
    "n.sort()  # 正向由小到大\n",
    "a.sort(reverse=True)  # 反向由大到小\n",
    "print(n,'\\n',a)"
   ]
  },
  {
   "cell_type": "code",
   "execution_count": 333,
   "id": "8077b10a",
   "metadata": {},
   "outputs": [
    {
     "name": "stdout",
     "output_type": "stream",
     "text": [
      "[('Kevin', 24), ('Mary', 32), ('Peter', 35), ('Tom', 30)]\n",
      "[('Peter', 35), ('Mary', 32), ('Tom', 30), ('Kevin', 24)]\n"
     ]
    }
   ],
   "source": [
    "### 3_15 ###\n",
    "### 用匿名函數tuple由大到小排列 ###\n",
    "\n",
    "member=[('Tom',30),('Kevin',24),('Peter',35),('Mary',32)]\n",
    "# 依照索引0排序\n",
    "name=sorted(member,key=lambda x:x[0])\n",
    "print(name)\n",
    "# 依照索引1排序\n",
    "age=sorted(member,key=lambda x:x[1],reverse=True)  # 由大到小\n",
    "print(age)"
   ]
  },
  {
   "cell_type": "code",
   "execution_count": 339,
   "id": "0ce7c97b",
   "metadata": {},
   "outputs": [
    {
     "name": "stdout",
     "output_type": "stream",
     "text": [
      "[['Kevin', 24], ['Tom', 30], ['Mary', 32], ['Peter', 35]]\n",
      "[['Peter', 35], ['Mary', 32], ['Tom', 30], ['Kevin', 24]]\n"
     ]
    }
   ],
   "source": [
    "### 3_16 ###\n",
    "### 用匿名函數list由大到小排列 ###\n",
    "\n",
    "member=[['Tom',30],['Kevin',24],['Peter',35],['Mary',32]]\n",
    "# 依照索引0排序\n",
    "age=sorted(member,key=lambda x:x[1])\n",
    "print(age)\n",
    "name=sorted(member,key=lambda x:x[1],reverse=True)\n",
    "print(name)"
   ]
  }
 ],
 "metadata": {
  "kernelspec": {
   "display_name": "Python 3 (ipykernel)",
   "language": "python",
   "name": "python3"
  },
  "language_info": {
   "codemirror_mode": {
    "name": "ipython",
    "version": 3
   },
   "file_extension": ".py",
   "mimetype": "text/x-python",
   "name": "python",
   "nbconvert_exporter": "python",
   "pygments_lexer": "ipython3",
   "version": "3.8.12"
  }
 },
 "nbformat": 4,
 "nbformat_minor": 5
}
