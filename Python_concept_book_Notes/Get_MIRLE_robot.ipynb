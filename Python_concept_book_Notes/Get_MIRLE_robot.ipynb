{
 "cells": [
  {
   "cell_type": "code",
   "execution_count": 26,
   "id": "5b570752",
   "metadata": {},
   "outputs": [
    {
     "name": "stdout",
     "output_type": "stream",
     "text": [
      "https://www.mirle.com.tw/Product/Sub/47/%E4%B8%AD%E6%96%87/%E6%A9%9F%E9%9B%BB%E7%94%A2%E6%A5%AD%E6%A9%9F%E5%99%A8%E4%BA%BA\n",
      "https://www.mirle.com.tw/Product/Sub/48/%E4%B8%AD%E6%96%87/%E5%85%89%E9%9B%BB%E7%94%A2%E6%A5%AD%E6%A9%9F%E5%99%A8%E4%BA%BA\n",
      "https://www.mirle.com.tw/Product/Sub/49/%E7%B9%81%E9%AB%94/%E5%8D%8A%E5%B0%8E%E9%AB%94%E7%94%A2%E6%A5%AD%E6%A9%9F%E5%99%A8%E4%BA%BA\n"
     ]
    }
   ],
   "source": [
    "from selenium import webdriver\n",
    "from selenium.webdriver.common.by import By\n",
    "from selenium.webdriver.chrome.service import Service\n",
    "\n",
    "import time\n",
    "\n",
    "# 啟動瀏覽器工具的選項\n",
    "options = webdriver.ChromeOptions()\n",
    "# options.add_argument(\"--headless\")              # 不開啟實體瀏覽器背景執行\n",
    "options.add_argument(\"--start-maximized\")         # 最大化視窗\n",
    "options.add_argument(\"--incognito\")               # 開啟無痕模式\n",
    "options.add_argument(\"--disable-popup-blocking \") # 禁用彈出攔截\n",
    "\n",
    "driver_url='https://www.mirle.com.tw/'\n",
    "driver_path=Service('D:/chromedriver.exe')\n",
    "driver=webdriver.Chrome(service=driver_path)\n",
    "driver.get(driver_url)\n",
    "driver.maximize_window()\n",
    "\n",
    "product_btn=driver.find_element(By.CSS_SELECTOR,'.navbar-nav').find_elements(By.CSS_SELECTOR,'.nav-item')[2]\n",
    "product_btn.click()\n",
    "time.sleep(3)\n",
    "robot_btn=product_btn.find_elements(By.CSS_SELECTOR,'.dropdown-item')[2]\n",
    "robot_btn.click()\n",
    "time.sleep(2)\n",
    "\n",
    "rr=driver.find_elements(By.CSS_SELECTOR,'.inner-sec-w3layouts-agileinfo a')\n",
    "for i in range(0,3):\n",
    "    ww=rr[i].get_attribute('href')\n",
    "    driver.get(ww)\n",
    "    time.sleep(2)\n",
    "    driver.back() \n",
    "    print(ww)\n",
    "\n",
    "\n",
    "driver.close()"
   ]
  }
 ],
 "metadata": {
  "kernelspec": {
   "display_name": "Python 3 (ipykernel)",
   "language": "python",
   "name": "python3"
  },
  "language_info": {
   "codemirror_mode": {
    "name": "ipython",
    "version": 3
   },
   "file_extension": ".py",
   "mimetype": "text/x-python",
   "name": "python",
   "nbconvert_exporter": "python",
   "pygments_lexer": "ipython3",
   "version": "3.8.12"
  }
 },
 "nbformat": 4,
 "nbformat_minor": 5
}
