{
 "cells": [
  {
   "cell_type": "code",
   "execution_count": 97,
   "id": "eba8ff2f",
   "metadata": {},
   "outputs": [
    {
     "name": "stdout",
     "output_type": "stream",
     "text": [
      "找不到此檔案\n"
     ]
    }
   ],
   "source": [
    "### 4_1 ###\n",
    "### 使用send2trash可移除至資源回收桶,不會直接刪除 ###\n",
    "\n",
    "import send2trash\n",
    "\n",
    "fn='errtxt.txt'\n",
    "try:\n",
    "    send2trash.send2trash(fn)\n",
    "except FileNotFoundError:\n",
    "    print('找不到此檔案')\n",
    "else:\n",
    "    print(fn,'已丟入資源回收桶')"
   ]
  },
  {
   "cell_type": "code",
   "execution_count": null,
   "id": "f60e85ba",
   "metadata": {},
   "outputs": [],
   "source": [
    "### 4_2 ###\n",
    "### 使用zipfile將zip資料夾內的檔案全寫入同一個壓縮檔 ###\n",
    "\n",
    "import zipfile \n",
    "import glob,os\n",
    "\n",
    "# 等同寫入csv檔,file.write('...')\n",
    "fileZip=zipfile.ZipFile('test_all.zip','w')\n",
    "for name in glob.glob('zip_dir/*'):   #*=所有\n",
    "    fileZip.write(name,os.path.basename(name),zipfile.ZIP_DEFLATED)\n",
    "fileZip.close()"
   ]
  },
  {
   "cell_type": "code",
   "execution_count": null,
   "id": "427909c1",
   "metadata": {
    "scrolled": true
   },
   "outputs": [],
   "source": [
    "### 4_3 ###\n",
    "### 將zip檔解析,列出所有被壓縮的檔案屬性 ###\n",
    "\n",
    "import zipfile\n",
    "\n",
    "listZipInfo=zipfile.ZipFile('test_all.zip','r')\n",
    "print(f'用list列出檔案名稱: {listZipInfo.namelist()}')\n",
    "print('\\n')\n",
    "for info in listZipInfo.infolist():\n",
    "    print(f'檔案名稱:{info.filename}, 檔案原尺寸:{info.file_size}, 壓縮後尺寸:{info.compress_size}')\n"
   ]
  },
  {
   "cell_type": "code",
   "execution_count": null,
   "id": "3a752e85",
   "metadata": {},
   "outputs": [],
   "source": [
    "### 4_4 ###\n",
    "### 使用zipfile.extractall()將zip壓縮檔解壓縮 ###\n",
    "\n",
    "import zipfile\n",
    "\n",
    "fileUnZip=zipfile.ZipFile('test_all.zip')\n",
    "fileUnZip.extractall('zip_out')  # 放解壓縮檔案的資料夾名稱\n",
    "fileUnZip.close()"
   ]
  },
  {
   "cell_type": "code",
   "execution_count": null,
   "id": "ece58993",
   "metadata": {
    "scrolled": false
   },
   "outputs": [],
   "source": [
    "### 4_5 ###\n",
    "### 使用os.walk遍歷目錄及子目錄 ###\n",
    "\n",
    "import os\n",
    "\n",
    "for dirName,sub_dirNames,fileNames in os.walk('zip_dir'):\n",
    "    print('目前目錄名稱:',dirName)\n",
    "    print('目前子目錄名稱以list印出:',sub_dirNames)\n",
    "    print('目前檔案名稱以list印出:',fileNames,'\\n')"
   ]
  },
  {
   "cell_type": "code",
   "execution_count": 5,
   "id": "d55c1d9a",
   "metadata": {},
   "outputs": [
    {
     "name": "stdout",
     "output_type": "stream",
     "text": [
      "請輸入除數:10\n",
      "請輸入被除數:0\n",
      "除數不可為0\n",
      "None\n"
     ]
    }
   ],
   "source": [
    "### 4_6 ###\n",
    "### 使用try...except ZeroDivisionError設計除數為0不會異常終止,而是回傳None ###\n",
    "\n",
    "def division(x,y):\n",
    "    try:\n",
    "        return x/y\n",
    "    except ZeroDivisionError:\n",
    "        print('除數不可為0')\n",
    "x=eval(input('請輸入除數:'))\n",
    "y=eval(input('請輸入被除數:'))\n",
    "print(division(x,y))"
   ]
  },
  {
   "cell_type": "code",
   "execution_count": 4,
   "id": "61614ced",
   "metadata": {},
   "outputs": [
    {
     "name": "stdout",
     "output_type": "stream",
     "text": [
      "<class 'dict'>\n",
      "{'name': 'linux', 'age': 18}\n"
     ]
    }
   ],
   "source": [
    "# 可直接轉字典\n",
    "d=eval(\"{'name':'linux','age':18}\")\n",
    "print(type(d))\n",
    "print(d)"
   ]
  },
  {
   "cell_type": "code",
   "execution_count": 13,
   "id": "ba6ea8bd",
   "metadata": {
    "scrolled": true
   },
   "outputs": [
    {
     "name": "stdout",
     "output_type": "stream",
     "text": [
      "找不到檔案\n"
     ]
    }
   ],
   "source": [
    "### 4_7 ###\n",
    "### try...except FileNotFoundError為開啟檔案時找不到檔案 ###\n",
    "\n",
    "fn='what.csv'  # 沒這檔案\n",
    "#fn='xx.csv'   # 有這檔案\n",
    "try:\n",
    "    with open(fn,'r',newline='') as file:\n",
    "        data=file.read()\n",
    "except FileNotFoundError:\n",
    "    print('找不到檔案')\n",
    "else:\n",
    "    print(data)"
   ]
  },
  {
   "cell_type": "code",
   "execution_count": 17,
   "id": "7caadef8",
   "metadata": {
    "scrolled": true
   },
   "outputs": [
    {
     "name": "stdout",
     "output_type": "stream",
     "text": [
      "2.0\n",
      "除數不可為0\n",
      "None\n",
      "輸入類型錯誤\n",
      "None\n"
     ]
    }
   ],
   "source": [
    "### 4_8 ###\n",
    "### 使用一個except捕捉多個異常 ###\n",
    "\n",
    "def division(x,y):\n",
    "    try:\n",
    "        return x/y\n",
    "    except ZeroDivisionError:\n",
    "        print('除數不可為0')\n",
    "    except TypeError:\n",
    "        print('輸入類型錯誤')\n",
    "\n",
    "print(kk(10,5))\n",
    "print(kk(10,0))\n",
    "print(kk('a',5))"
   ]
  },
  {
   "cell_type": "code",
   "execution_count": 19,
   "id": "b6b6d1ce",
   "metadata": {
    "scrolled": false
   },
   "outputs": [
    {
     "name": "stdout",
     "output_type": "stream",
     "text": [
      "2.0\n",
      "division by zero\n",
      "None\n",
      "unsupported operand type(s) for /: 'str' and 'str'\n",
      "None\n"
     ]
    }
   ],
   "source": [
    "### 4_9 ###\n",
    "### 使用一個except捕捉多個異常 ###\n",
    "\n",
    "def division(x,y):\n",
    "    try:\n",
    "        return x/y\n",
    "    except (ZeroDivisionError,TypeError) as e:\n",
    "        print(e)\n",
    "\n",
    "print(division(10,5))\n",
    "print(division(10,0))\n",
    "print(division('a','b'))"
   ]
  },
  {
   "cell_type": "code",
   "execution_count": 23,
   "id": "b70aa47a",
   "metadata": {
    "scrolled": true
   },
   "outputs": [
    {
     "name": "stdout",
     "output_type": "stream",
     "text": [
      "2.0\n",
      "異常發生\n",
      "None\n",
      "異常發生\n",
      "None\n"
     ]
    }
   ],
   "source": [
    "### 4_10 ###\n",
    "### try...except捕捉所有的異常###\n",
    "\n",
    "def division(x,y):\n",
    "    try:\n",
    "        return x/y\n",
    "    except:   # 都沒寫就是捕捉所有的異常\n",
    "        print('異常發生')\n",
    "        \n",
    "print(division(10,5))\n",
    "print(division(10,0))\n",
    "print(division('a','b'))"
   ]
  },
  {
   "cell_type": "code",
   "execution_count": 25,
   "id": "d133fc6c",
   "metadata": {
    "scrolled": true
   },
   "outputs": [
    {
     "name": "stdout",
     "output_type": "stream",
     "text": [
      "密碼長度正確\n",
      "OK\n",
      "錯誤: 密碼長度不足\n",
      "錯誤: 密碼長度太長\n"
     ]
    }
   ],
   "source": [
    "### 4_11 ###\n",
    "### 使用raise Exception程式實例說明,會根據raise Exception判斷錯誤在哪 ###\n",
    "\n",
    "def passWord(pwd):\n",
    "    '''檢查密碼長度必須是5到8個字元'''\n",
    "    pwdlen=len(pwd)\n",
    "    if pwdlen<5:\n",
    "        raise Exception('密碼長度不足')  # 要回傳的錯誤\n",
    "    if pwdlen>8:\n",
    "        raise Exception('密碼長度太長')\n",
    "    print('密碼長度正確')\n",
    "lst=['aaaaaaaa','aaaa','aaaaaaaaaaa']\n",
    "for l in lst:\n",
    "    try:\n",
    "        passWord(l)\n",
    "        print('OK')\n",
    "    except Exception as e:\n",
    "        print('密碼長度錯誤:',e)"
   ]
  },
  {
   "cell_type": "code",
   "execution_count": 33,
   "id": "486f6560",
   "metadata": {
    "scrolled": true
   },
   "outputs": [
    {
     "name": "stdout",
     "output_type": "stream",
     "text": [
      "將traceback寫入errtxt.txt完成\n",
      "密碼長度錯誤: 密碼長度過長\n",
      "將traceback寫入errtxt.txt完成\n",
      "密碼長度錯誤: 密碼長度不足\n",
      "密碼長度正確\n",
      "OK\n"
     ]
    }
   ],
   "source": [
    "### 4_12 ###\n",
    "### 使用traceback保存異常錯誤###\n",
    "\n",
    "import traceback\n",
    "\n",
    "def passWord(pwd):\n",
    "    '''檢查密碼長度必須是5到8個字元'''\n",
    "    pwdlen=len(pwd)\n",
    "    if pwdlen<5:\n",
    "        raise Exception('密碼長度不足')\n",
    "    if pwdlen>8:\n",
    "        raise Exception('密碼長度過長')\n",
    "    print('密碼長度正確')\n",
    "lst=['aaaaaaaaaaa','aa','aaaaaa']\n",
    "\n",
    "# \n",
    "for l in lst:\n",
    "    try:\n",
    "        passWord(l)\n",
    "        print('OK')\n",
    "    except Exception as e:   \n",
    "        errlog=open('errtxt.txt','a')   # 錯誤檔案\n",
    "        errlog.write(traceback.format_exc()) # 紀錄異常\n",
    "        errlog.close()\n",
    "# 用with open也可        \n",
    "#         with open('errtxt1.txt','a') as errlog1:   # 錯誤檔案\n",
    "#             errlog1.write(traceback.format_exc()) # 紀錄異常\n",
    "\n",
    "        print('將traceback寫入errtxt.txt完成')\n",
    "        print('密碼長度錯誤:',e)"
   ]
  },
  {
   "cell_type": "code",
   "execution_count": 58,
   "id": "ec5e249c",
   "metadata": {
    "scrolled": true
   },
   "outputs": [
    {
     "name": "stdout",
     "output_type": "stream",
     "text": [
      "Hung 目前餘額: 1000\n",
      "存款 300 完成\n",
      "Hung 目前餘額: 1300\n"
     ]
    },
    {
     "ename": "AssertionError",
     "evalue": "存款金額不足",
     "output_type": "error",
     "traceback": [
      "\u001b[1;31m---------------------------------------------------------------------------\u001b[0m",
      "\u001b[1;31mAssertionError\u001b[0m                            Traceback (most recent call last)",
      "\u001b[1;32m~\\AppData\\Local\\Temp/ipykernel_18520/1408370234.py\u001b[0m in \u001b[0;36m<module>\u001b[1;34m\u001b[0m\n\u001b[0;32m     30\u001b[0m \u001b[0mhungbank\u001b[0m\u001b[1;33m.\u001b[0m\u001b[0msave_money\u001b[0m\u001b[1;33m(\u001b[0m\u001b[1;36m300\u001b[0m\u001b[1;33m)\u001b[0m    \u001b[1;31m# 存300元\u001b[0m\u001b[1;33m\u001b[0m\u001b[1;33m\u001b[0m\u001b[0m\n\u001b[0;32m     31\u001b[0m \u001b[0mhungbank\u001b[0m\u001b[1;33m.\u001b[0m\u001b[0mget_balance\u001b[0m\u001b[1;33m(\u001b[0m\u001b[1;33m)\u001b[0m\u001b[1;33m\u001b[0m\u001b[1;33m\u001b[0m\u001b[0m\n\u001b[1;32m---> 32\u001b[1;33m \u001b[0mhungbank\u001b[0m\u001b[1;33m.\u001b[0m\u001b[0mwithdraw_money\u001b[0m\u001b[1;33m(\u001b[0m\u001b[1;36m2000\u001b[0m\u001b[1;33m)\u001b[0m\u001b[1;33m\u001b[0m\u001b[1;33m\u001b[0m\u001b[0m\n\u001b[0m\u001b[0;32m     33\u001b[0m \u001b[0mhungbank\u001b[0m\u001b[1;33m.\u001b[0m\u001b[0mget_balance\u001b[0m\u001b[1;33m(\u001b[0m\u001b[1;33m)\u001b[0m\u001b[1;33m\u001b[0m\u001b[1;33m\u001b[0m\u001b[0m\n\u001b[0;32m     34\u001b[0m \u001b[0mhungbank\u001b[0m\u001b[1;33m.\u001b[0m\u001b[0msave_money\u001b[0m\u001b[1;33m(\u001b[0m\u001b[1;33m-\u001b[0m\u001b[1;36m300\u001b[0m\u001b[1;33m)\u001b[0m\u001b[1;33m\u001b[0m\u001b[1;33m\u001b[0m\u001b[0m\n",
      "\u001b[1;32m~\\AppData\\Local\\Temp/ipykernel_18520/1408370234.py\u001b[0m in \u001b[0;36mwithdraw_money\u001b[1;34m(self, money)\u001b[0m\n\u001b[0;32m     19\u001b[0m     \u001b[1;32mdef\u001b[0m \u001b[0mwithdraw_money\u001b[0m\u001b[1;33m(\u001b[0m\u001b[0mself\u001b[0m\u001b[1;33m,\u001b[0m\u001b[0mmoney\u001b[0m\u001b[1;33m)\u001b[0m\u001b[1;33m:\u001b[0m\u001b[1;33m\u001b[0m\u001b[1;33m\u001b[0m\u001b[0m\n\u001b[0;32m     20\u001b[0m         \u001b[1;32massert\u001b[0m \u001b[0mmoney\u001b[0m\u001b[1;33m>\u001b[0m\u001b[1;36m0\u001b[0m\u001b[1;33m,\u001b[0m\u001b[1;34m'提款必須大於0'\u001b[0m\u001b[1;33m\u001b[0m\u001b[1;33m\u001b[0m\u001b[0m\n\u001b[1;32m---> 21\u001b[1;33m         \u001b[1;32massert\u001b[0m \u001b[0mmoney\u001b[0m\u001b[1;33m<=\u001b[0m\u001b[0mself\u001b[0m\u001b[1;33m.\u001b[0m\u001b[0mbalance\u001b[0m\u001b[1;33m,\u001b[0m\u001b[1;34m'存款金額不足'\u001b[0m\u001b[1;33m\u001b[0m\u001b[1;33m\u001b[0m\u001b[0m\n\u001b[0m\u001b[0;32m     22\u001b[0m         \u001b[0mself\u001b[0m\u001b[1;33m.\u001b[0m\u001b[0mbalance\u001b[0m\u001b[1;33m-=\u001b[0m\u001b[0mmoney\u001b[0m\u001b[1;33m\u001b[0m\u001b[1;33m\u001b[0m\u001b[0m\n\u001b[0;32m     23\u001b[0m         \u001b[0mprint\u001b[0m\u001b[1;33m(\u001b[0m\u001b[1;34m'提款'\u001b[0m\u001b[1;33m,\u001b[0m\u001b[0mmoney\u001b[0m\u001b[1;33m,\u001b[0m\u001b[1;34m'完成'\u001b[0m\u001b[1;33m)\u001b[0m\u001b[1;33m\u001b[0m\u001b[1;33m\u001b[0m\u001b[0m\n",
      "\u001b[1;31mAssertionError\u001b[0m: 存款金額不足"
     ]
    }
   ],
   "source": [
    "### 4_13 ###\n",
    "### 使用assert確保程式執行的某個階段,必須符合依定的條件,如果不符合時會拋出異常 ###\n",
    "\n",
    "class Banks():\n",
    "    title='Taipei Bank'\n",
    "    \n",
    "    # 初始化\n",
    "    def __init__(self,uname,money):\n",
    "        self.name=uname      # 設定提款者名字\n",
    "        self.balance=money   # 設定所存的錢\n",
    "    \n",
    "    # 設計存款方法\n",
    "    def save_money(self,money):\n",
    "        assert money>0,'存款必須大於0'\n",
    "        self.balance+=money        # 將新存款加上原本存款\n",
    "        print('存款',money,'完成')\n",
    "    \n",
    "    # 設計提款方法\n",
    "    def withdraw_money(self,money):\n",
    "        assert money>0,'提款必須大於0'\n",
    "        assert money<=self.balance,'存款金額不足'\n",
    "        self.balance-=money\n",
    "        print('提款',money,'完成')\n",
    "    \n",
    "    def get_balance(self):\n",
    "        print(self.name.title(),'目前餘額:',self.balance)  # 首字大寫\n",
    "\n",
    "hungbank=Banks('hung',1000)  # 原本有100元\n",
    "hungbank.get_balance()       # 查看存款餘額\n",
    "hungbank.save_money(300)     # 存300元\n",
    "hungbank.get_balance()\n",
    "hungbank.withdraw_money(2000)   # 存款金額不足無法提款2000元\n",
    "hungbank.get_balance()\n",
    "hungbank.save_money(-300)    # 小於0無法存款\n",
    "hungbank.get_balance()"
   ]
  },
  {
   "cell_type": "code",
   "execution_count": 86,
   "id": "b0c83651",
   "metadata": {
    "scrolled": true
   },
   "outputs": [
    {
     "name": "stdout",
     "output_type": "stream",
     "text": [
      "1200\n",
      "ShanJie : 1200\n"
     ]
    },
    {
     "ename": "AssertionError",
     "evalue": "每次付款需大於0",
     "output_type": "error",
     "traceback": [
      "\u001b[1;31m---------------------------------------------------------------------------\u001b[0m",
      "\u001b[1;31mAssertionError\u001b[0m                            Traceback (most recent call last)",
      "\u001b[1;32m~\\AppData\\Local\\Temp/ipykernel_18520/2767290127.py\u001b[0m in \u001b[0;36m<module>\u001b[1;34m\u001b[0m\n\u001b[0;32m     20\u001b[0m \u001b[0mmy_deposit\u001b[0m\u001b[1;33m.\u001b[0m\u001b[0madds\u001b[0m\u001b[1;33m(\u001b[0m\u001b[1;36m200\u001b[0m\u001b[1;33m)\u001b[0m\u001b[1;33m\u001b[0m\u001b[1;33m\u001b[0m\u001b[0m\n\u001b[0;32m     21\u001b[0m \u001b[0mmy_deposit\u001b[0m\u001b[1;33m.\u001b[0m\u001b[0mnows\u001b[0m\u001b[1;33m(\u001b[0m\u001b[1;33m)\u001b[0m\u001b[1;33m\u001b[0m\u001b[1;33m\u001b[0m\u001b[0m\n\u001b[1;32m---> 22\u001b[1;33m \u001b[0mmy_deposit\u001b[0m\u001b[1;33m.\u001b[0m\u001b[0mreduces\u001b[0m\u001b[1;33m(\u001b[0m\u001b[1;33m-\u001b[0m\u001b[1;36m99\u001b[0m\u001b[1;33m)\u001b[0m\u001b[1;33m\u001b[0m\u001b[1;33m\u001b[0m\u001b[0m\n\u001b[0m\u001b[0;32m     23\u001b[0m \u001b[0mmy_deposit\u001b[0m\u001b[1;33m.\u001b[0m\u001b[0mnows\u001b[0m\u001b[1;33m(\u001b[0m\u001b[1;33m)\u001b[0m\u001b[1;33m\u001b[0m\u001b[1;33m\u001b[0m\u001b[0m\n",
      "\u001b[1;32m~\\AppData\\Local\\Temp/ipykernel_18520/2767290127.py\u001b[0m in \u001b[0;36mreduces\u001b[1;34m(self, money)\u001b[0m\n\u001b[0;32m     10\u001b[0m \u001b[1;33m\u001b[0m\u001b[0m\n\u001b[0;32m     11\u001b[0m     \u001b[1;32mdef\u001b[0m \u001b[0mreduces\u001b[0m\u001b[1;33m(\u001b[0m\u001b[0mself\u001b[0m\u001b[1;33m,\u001b[0m\u001b[0mmoney\u001b[0m\u001b[1;33m)\u001b[0m\u001b[1;33m:\u001b[0m\u001b[1;33m\u001b[0m\u001b[1;33m\u001b[0m\u001b[0m\n\u001b[1;32m---> 12\u001b[1;33m         \u001b[1;32massert\u001b[0m \u001b[0mmoney\u001b[0m\u001b[1;33m>\u001b[0m\u001b[1;36m0\u001b[0m\u001b[1;33m,\u001b[0m\u001b[1;34m'每次付款需大於0'\u001b[0m\u001b[1;33m\u001b[0m\u001b[1;33m\u001b[0m\u001b[0m\n\u001b[0m\u001b[0;32m     13\u001b[0m         \u001b[0mself\u001b[0m\u001b[1;33m.\u001b[0m\u001b[0mmoney\u001b[0m\u001b[1;33m-=\u001b[0m\u001b[0mmoney\u001b[0m\u001b[1;33m\u001b[0m\u001b[1;33m\u001b[0m\u001b[0m\n\u001b[0;32m     14\u001b[0m         \u001b[0mprint\u001b[0m\u001b[1;33m(\u001b[0m\u001b[0mself\u001b[0m\u001b[1;33m.\u001b[0m\u001b[0mmoney\u001b[0m\u001b[1;33m)\u001b[0m\u001b[1;33m\u001b[0m\u001b[1;33m\u001b[0m\u001b[0m\n",
      "\u001b[1;31mAssertionError\u001b[0m: 每次付款需大於0"
     ]
    }
   ],
   "source": [
    "# 自己寫的類別\n",
    "class myDeposit():\n",
    "    def __init__(self,name,money):\n",
    "        self.name=name\n",
    "        self.money=money\n",
    "    \n",
    "    def adds(self,money):\n",
    "        assert money>=100,'每次儲值需大於100元'\n",
    "        self.money+=money   # 將新存款加上原本存款\n",
    "        print(self.money) \n",
    "        \n",
    "    def reduces(self,money):\n",
    "        assert money>0,'每次付款需大於0'\n",
    "        self.money-=money\n",
    "        print(self.money)\n",
    "    \n",
    "    def nows(self):\n",
    "        print(self.name,':',self.money)\n",
    "    \n",
    "my_deposit=myDeposit('ShanJie',1000)\n",
    "my_deposit.adds(200)\n",
    "my_deposit.nows()\n",
    "my_deposit.reduces(-99)\n",
    "my_deposit.nows()"
   ]
  },
  {
   "cell_type": "code",
   "execution_count": 87,
   "id": "43d15544",
   "metadata": {
    "scrolled": true
   },
   "outputs": [
    {
     "name": "stderr",
     "output_type": "stream",
     "text": [
      "WARNING:root:warning message\n",
      "ERROR:root:error message\n",
      "CRITICAL:root:critical message\n"
     ]
    }
   ],
   "source": [
    "### 問答4_10 ###\n",
    "\n",
    "import logging\n",
    "\n",
    "logging.debug('debug message')\n",
    "logging.info('info message')\n",
    "logging.warning('warning message')\n",
    "logging.error('error message')\n",
    "logging.critical('critical message')"
   ]
  },
  {
   "cell_type": "raw",
   "id": "280dab1b",
   "metadata": {},
   "source": [
    "# 級別\t級別數字\t何時使用\n",
    "  DEBUG\t    10\t  細節信息，僅當診斷問題時適用。\n",
    "  INFO\t    20\t  確認程序按預期進行。\n",
    "  WARNING\t30\t  表明有已經或即將發生的意外（例如：磁盤空間不足）。程序仍按預計進行。\n",
    "  ERROR\t    40\t  由於嚴重問題，程序的某些功能已經不能正常運行。\n",
    "  CRITICAL\t50\t  嚴重的錯誤，表明程序已不能繼執行。"
   ]
  }
 ],
 "metadata": {
  "kernelspec": {
   "display_name": "Python 3 (ipykernel)",
   "language": "python",
   "name": "python3"
  },
  "language_info": {
   "codemirror_mode": {
    "name": "ipython",
    "version": 3
   },
   "file_extension": ".py",
   "mimetype": "text/x-python",
   "name": "python",
   "nbconvert_exporter": "python",
   "pygments_lexer": "ipython3",
   "version": "3.8.12"
  }
 },
 "nbformat": 4,
 "nbformat_minor": 5
}
