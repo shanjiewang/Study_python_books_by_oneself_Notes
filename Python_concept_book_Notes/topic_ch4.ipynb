{
 "cells": [
  {
   "cell_type": "code",
   "execution_count": 4,
   "id": "f60e85ba",
   "metadata": {},
   "outputs": [],
   "source": [
    "### 4_2 ###\n",
    "### 使用zipfile將zip資料夾內的檔案全寫入同一個壓縮檔 ###\n",
    "\n",
    "import zipfile \n",
    "import glob,os\n",
    "\n",
    "# 等同寫入csv檔,file.write('...')\n",
    "fileZip=zipfile.ZipFile('test_all.zip','w')\n",
    "for name in glob.glob('zip_dir/*'):   #*=所有\n",
    "    fileZip.write(name,os.path.basename(name),zipfile.ZIP_DEFLATED)\n",
    "fileZip.close()"
   ]
  },
  {
   "cell_type": "code",
   "execution_count": 7,
   "id": "427909c1",
   "metadata": {
    "scrolled": true
   },
   "outputs": [
    {
     "name": "stdout",
     "output_type": "stream",
     "text": [
      "用list列出檔案名稱: ['test.txt', 'test_copy.txt']\n",
      "\n",
      "\n",
      "檔案名稱:test.txt, 檔案原尺寸:10, 壓縮後尺寸:12\n",
      "檔案名稱:test_copy.txt, 檔案原尺寸:10, 壓縮後尺寸:12\n"
     ]
    }
   ],
   "source": [
    "### 4_3 ###\n",
    "### 將zip檔解析,列出所有被壓縮的檔案屬性 ###\n",
    "\n",
    "import zipfile\n",
    "\n",
    "listZipInfo=zipfile.ZipFile('test_all.zip','r')\n",
    "print(f'用list列出檔案名稱: {listZipInfo.namelist()}')\n",
    "print('\\n')\n",
    "for info in listZipInfo.infolist():\n",
    "    print(f'檔案名稱:{info.filename}, 檔案原尺寸:{info.file_size}, 壓縮後尺寸:{info.compress_size}')\n"
   ]
  },
  {
   "cell_type": "code",
   "execution_count": 9,
   "id": "3a752e85",
   "metadata": {},
   "outputs": [],
   "source": [
    "### 4_4 ###\n",
    "### 使用zipfile.extractall()將zip壓縮檔解壓縮 ###\n",
    "\n",
    "import zipfile\n",
    "\n",
    "fileUnZip=zipfile.ZipFile('test_all.zip')\n",
    "fileUnZip.extractall('zip_out')  # 放解壓縮檔案的資料夾名稱\n",
    "fileUnZip.close()"
   ]
  }
 ],
 "metadata": {
  "kernelspec": {
   "display_name": "Python 3 (ipykernel)",
   "language": "python",
   "name": "python3"
  },
  "language_info": {
   "codemirror_mode": {
    "name": "ipython",
    "version": 3
   },
   "file_extension": ".py",
   "mimetype": "text/x-python",
   "name": "python",
   "nbconvert_exporter": "python",
   "pygments_lexer": "ipython3",
   "version": "3.8.12"
  }
 },
 "nbformat": 4,
 "nbformat_minor": 5
}
