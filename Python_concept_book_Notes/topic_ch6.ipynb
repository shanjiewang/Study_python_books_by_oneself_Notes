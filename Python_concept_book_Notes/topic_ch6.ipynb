{
 "cells": [
  {
   "cell_type": "code",
   "execution_count": 1,
   "id": "559dab60",
   "metadata": {
    "scrolled": true
   },
   "outputs": [
    {
     "name": "stdout",
     "output_type": "stream",
     "text": [
      "4950\n"
     ]
    }
   ],
   "source": [
    "### 6_1 ###\n",
    "### 用一行程式計算1-100的和 ###\n",
    "\n",
    "print(sum(range(1,100)))"
   ]
  },
  {
   "cell_type": "code",
   "execution_count": 11,
   "id": "d3f2b831",
   "metadata": {
    "scrolled": true
   },
   "outputs": [
    {
     "name": "stdout",
     "output_type": "stream",
     "text": [
      "請輸入3位數:528\n",
      "520\n"
     ]
    }
   ],
   "source": [
    "### 6_2 ###\n",
    "### 將輸入的3位數捨去最後數字變0 ###\n",
    "\n",
    "num=input('請輸入3位數:')\n",
    "num=int(int(num)/10)\n",
    "num=str(num)+'0'\n",
    "print(num)"
   ]
  },
  {
   "cell_type": "code",
   "execution_count": 48,
   "id": "923ff6b0",
   "metadata": {
    "scrolled": true
   },
   "outputs": [
    {
     "name": "stdout",
     "output_type": "stream",
     "text": [
      "[1, 4, 7, 10]\n",
      "22\n",
      "請輸入起點:1\n",
      "請輸入終點:10\n",
      "請輸入間距:3\n",
      "1到10差值是3的數列總和是22\n"
     ]
    }
   ],
   "source": [
    "### 6_3 ###\n",
    "### 不使用迴圈計算總和 ###\n",
    "\n",
    "lst=[]\n",
    "for i in range(1,11,3):\n",
    "    lst.append(i)\n",
    "print(lst)\n",
    "n=0\n",
    "for l in lst:\n",
    "    n+=l\n",
    "print(n)\n",
    "\n",
    "s=eval(input('請輸入起點:'))  # 要從1開始\n",
    "e=eval(input('請輸入終點:'))\n",
    "d=eval(input('請輸入間距:'))\n",
    "dist=int((e-s)/d)+1\n",
    "sum=int((s+e)*dist/2)\n",
    "print('{}到{}差值是{}的數列總和是{}'.format(s,e,d,sum))  # 包含終點數,但range不包含終點數"
   ]
  }
 ],
 "metadata": {
  "kernelspec": {
   "display_name": "Python 3 (ipykernel)",
   "language": "python",
   "name": "python3"
  },
  "language_info": {
   "codemirror_mode": {
    "name": "ipython",
    "version": 3
   },
   "file_extension": ".py",
   "mimetype": "text/x-python",
   "name": "python",
   "nbconvert_exporter": "python",
   "pygments_lexer": "ipython3",
   "version": "3.8.12"
  }
 },
 "nbformat": 4,
 "nbformat_minor": 5
}
