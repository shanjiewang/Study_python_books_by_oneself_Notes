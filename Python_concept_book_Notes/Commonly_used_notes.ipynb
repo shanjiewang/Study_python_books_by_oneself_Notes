{
 "cells": [
  {
   "cell_type": "code",
   "execution_count": 2,
   "id": "6a217206",
   "metadata": {},
   "outputs": [
    {
     "name": "stdout",
     "output_type": "stream",
     "text": [
      "['.xxxx.x..x.png', 'xxx.x..x.x.png', 'x.xx...xx..png', '....x...x..png', 'x.xx..xxxx.png']\n"
     ]
    }
   ],
   "source": [
    "# 更簡潔的假數據作法\n",
    "import random\n",
    "\n",
    "s=''\n",
    "s_list=[]\n",
    "c='.x'\n",
    "\n",
    "# 看要幾組\n",
    "for i in range(5):\n",
    "    s=''\n",
    "    # 看每個要多長\n",
    "    for j in range(10):\n",
    "        g=random.choice(c)   # 隨機出現c內的字串\n",
    "        s=s+g\n",
    "    s=s+'.png'\n",
    "    s_list.append(s)\n",
    "print(s_list)"
   ]
  },
  {
   "cell_type": "code",
   "execution_count": 1,
   "id": "d4fd0d82",
   "metadata": {},
   "outputs": [
    {
     "name": "stdout",
     "output_type": "stream",
     "text": [
      "[['Peter', 21], ['Mary', 36], ['Love', 48], ['Tina', 55]]\n",
      "{'Peter': 21, 'Mary': 36, 'Love': 48, 'Tina': 55}\n"
     ]
    }
   ],
   "source": [
    "# dict轉list,再用生成式轉dict\n",
    "\n",
    "lst=[]\n",
    "member={'Peter':21,'Mary':36,'Love':48,'Tina':55}\n",
    "for i,o in member.items():\n",
    "    lst.append([i,o])\n",
    "print(lst)\n",
    "\n",
    "d={m[0]:m[1] for m in lst}\n",
    "print(d)"
   ]
  },
  {
   "cell_type": "code",
   "execution_count": 19,
   "id": "18ebdca2",
   "metadata": {},
   "outputs": [
    {
     "name": "stdout",
     "output_type": "stream",
     "text": [
      "使用函數的for in list: [1, 4, 9, 16, 25]\n",
      "\n",
      "for in list: [1, 4, 9, 16, 25]\n",
      "\n",
      "生成式: [1, 4, 9, 16, 25]\n",
      "\n",
      "使用函數的map: [1, 4, 9, 16, 25]\n",
      "\n",
      "使用匿名函數的map: [1, 4, 9, 16, 25]\n"
     ]
    }
   ],
   "source": [
    "# 從for in list到map\n",
    "mylist = [1, 2, 3, 4, 5]\n",
    "\n",
    "# 使用函數的for in list\n",
    "def test(x):\n",
    "    return x**2\n",
    "lst=[]\n",
    "for m in mylist:\n",
    "    lst.append(test(m))\n",
    "print('使用函數的for in list:',lst)\n",
    "\n",
    "# for in list\n",
    "lst_1=[]\n",
    "for m in mylist:\n",
    "    lst_1.append(m**2)\n",
    "print('\\nfor in list:',lst_1)\n",
    "\n",
    "# 生成式\n",
    "lst_2=[test(m) for m in mylist]\n",
    "print('\\n生成式:',lst_2)\n",
    "\n",
    "# 使用函數的map\n",
    "lst_3=list(map(test,mylist))\n",
    "print('\\n使用函數的map:',lst_3)\n",
    "\n",
    "# 使用匿名函數的map\n",
    "lst_4=list(map(lambda x:x**2,mylist))\n",
    "print('\\n使用匿名函數的map:',lst_4)"
   ]
  }
 ],
 "metadata": {
  "kernelspec": {
   "display_name": "Python 3 (ipykernel)",
   "language": "python",
   "name": "python3"
  },
  "language_info": {
   "codemirror_mode": {
    "name": "ipython",
    "version": 3
   },
   "file_extension": ".py",
   "mimetype": "text/x-python",
   "name": "python",
   "nbconvert_exporter": "python",
   "pygments_lexer": "ipython3",
   "version": "3.8.12"
  }
 },
 "nbformat": 4,
 "nbformat_minor": 5
}
