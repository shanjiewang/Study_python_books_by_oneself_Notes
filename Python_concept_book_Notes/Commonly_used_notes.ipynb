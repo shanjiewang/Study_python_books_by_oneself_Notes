{
 "cells": [
  {
   "cell_type": "code",
   "execution_count": 2,
   "id": "6a217206",
   "metadata": {},
   "outputs": [
    {
     "name": "stdout",
     "output_type": "stream",
     "text": [
      "['.xxxx.x..x.png', 'xxx.x..x.x.png', 'x.xx...xx..png', '....x...x..png', 'x.xx..xxxx.png']\n"
     ]
    }
   ],
   "source": [
    "# 更簡潔的假數據作法\n",
    "import random\n",
    "\n",
    "s=''\n",
    "s_list=[]\n",
    "c='.x'\n",
    "\n",
    "# 看要幾組\n",
    "for i in range(5):\n",
    "    s=''\n",
    "    # 看每個要多長\n",
    "    for j in range(10):\n",
    "        g=random.choice(c)   # 隨機出現c內的字串\n",
    "        s=s+g\n",
    "    s=s+'.png'\n",
    "    s_list.append(s)\n",
    "print(s_list)"
   ]
  }
 ],
 "metadata": {
  "kernelspec": {
   "display_name": "Python 3 (ipykernel)",
   "language": "python",
   "name": "python3"
  },
  "language_info": {
   "codemirror_mode": {
    "name": "ipython",
    "version": 3
   },
   "file_extension": ".py",
   "mimetype": "text/x-python",
   "name": "python",
   "nbconvert_exporter": "python",
   "pygments_lexer": "ipython3",
   "version": "3.8.12"
  }
 },
 "nbformat": 4,
 "nbformat_minor": 5
}
