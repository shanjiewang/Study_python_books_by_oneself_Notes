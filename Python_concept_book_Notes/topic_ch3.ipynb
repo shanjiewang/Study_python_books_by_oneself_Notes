{
 "cells": [
  {
   "cell_type": "code",
   "execution_count": 22,
   "id": "82eb0ff6",
   "metadata": {
    "scrolled": true
   },
   "outputs": [
    {
     "name": "stdout",
     "output_type": "stream",
     "text": [
      "[3, 'B', 'A', 2, 'C', 1]\n"
     ]
    }
   ],
   "source": [
    "### 3_1 ###\n",
    "### 將list內容打亂 ###\n",
    "import random\n",
    "\n",
    "pocker=['A','B','C',3,2,1]\n",
    "new=random.shuffle(pocker)\n",
    "print(new)"
   ]
  },
  {
   "cell_type": "code",
   "execution_count": 33,
   "id": "11db68ef",
   "metadata": {},
   "outputs": [
    {
     "name": "stdout",
     "output_type": "stream",
     "text": [
      "[6, 4, 'B', 'A', 2]\n"
     ]
    }
   ],
   "source": [
    "### 3_2 ###\n",
    "### 將list打散並隨機挑出指定數量的數字 ###\n",
    "import random\n",
    "\n",
    "pocker=['A','B','C',3,2,1,'D','E',6,5,4]\n",
    "new=random.sample(pocker,5)\n",
    "print(new)"
   ]
  },
  {
   "cell_type": "code",
   "execution_count": 62,
   "id": "5847539d",
   "metadata": {
    "scrolled": true
   },
   "outputs": [
    {
     "name": "stdout",
     "output_type": "stream",
     "text": [
      "24\n",
      "34\n",
      "38\n",
      "39\n",
      "91\n"
     ]
    }
   ],
   "source": [
    "### 3_3 ###\n",
    "### 在指定數值間取指定數量的隨機亂數 ###\n",
    "import random\n",
    "\n",
    "n=5\n",
    "min=0\n",
    "max=100\n",
    "for i in range(n):\n",
    "    new=random.randint(min,max)\n",
    "    print(new)"
   ]
  },
  {
   "cell_type": "code",
   "execution_count": 95,
   "id": "28d194a0",
   "metadata": {},
   "outputs": [
    {
     "name": "stdout",
     "output_type": "stream",
     "text": [
      "830\n",
      "-216\n",
      "-389\n",
      "-956\n",
      "-261\n",
      "-151\n",
      "-661\n"
     ]
    }
   ],
   "source": [
    "### 3_4 ###\n",
    "### 產生指定數值間的指定數量的隨機整數 ###\n",
    "import random\n",
    "\n",
    "n=7\n",
    "for i in range(n):\n",
    "    new=random.choice(range(-1000,1000))\n",
    "    print(new)"
   ]
  },
  {
   "cell_type": "code",
   "execution_count": 126,
   "id": "ca5c0a09",
   "metadata": {
    "scrolled": true
   },
   "outputs": [
    {
     "name": "stdout",
     "output_type": "stream",
     "text": [
      "69\n",
      "22\n",
      "84\n",
      "35\n",
      "91\n",
      "78\n",
      "97\n",
      "84\n",
      "73\n",
      "57\n"
     ]
    }
   ],
   "source": [
    "### 3_5 ###\n",
    "### 產生指定數值間的指定數量的固定整數 ###\n",
    "import random\n",
    "\n",
    "n=10\n",
    "min=-10\n",
    "max=100\n",
    "random.seed(5)   # seed內每個int出來的固定種子不一樣 \n",
    "for i in range(n):\n",
    "    new=random.randint(min,max)\n",
    "    print(new)"
   ]
  },
  {
   "cell_type": "code",
   "execution_count": 100,
   "id": "4d0c6a0c",
   "metadata": {
    "scrolled": true
   },
   "outputs": [
    {
     "name": "stdout",
     "output_type": "stream",
     "text": [
      "0.24608679063361372\n",
      "0.8194931666705297\n",
      "0.46220536041544236\n",
      "0.5124960121124476\n",
      "0.8927110919706659\n",
      "0.25089395624103406\n",
      "0.46284975937048245\n"
     ]
    }
   ],
   "source": [
    "### 3_6 ###\n",
    "### 產生0-1.0間的隨機浮點數 ###\n",
    "import random\n",
    "\n",
    "n=7\n",
    "for i in range(n):\n",
    "    new=random.random()\n",
    "    print(new)"
   ]
  },
  {
   "cell_type": "code",
   "execution_count": 131,
   "id": "6f625923",
   "metadata": {},
   "outputs": [
    {
     "name": "stdout",
     "output_type": "stream",
     "text": [
      "0.01774862202534644\n",
      "8.714047447242821\n",
      "2.094563824951179\n",
      "2.1548116922473226\n",
      "9.824211088259252\n"
     ]
    }
   ],
   "source": [
    "### 3_7 ###\n",
    "### 產生指定數值間的指定數量的浮點數 ###\n",
    "import random\n",
    "\n",
    "n=5\n",
    "min=0  # 不管給小數幾位 都是出現浮點數\n",
    "max=10.00     # 不含\n",
    "for i in range(n):\n",
    "    new=random.uniform(min,max)\n",
    "    print(new)"
   ]
  },
  {
   "cell_type": "code",
   "execution_count": 135,
   "id": "2668dbe4",
   "metadata": {
    "scrolled": true
   },
   "outputs": [
    {
     "name": "stdout",
     "output_type": "stream",
     "text": [
      "HI VIVI 印出\n",
      ".__doc__查看函數註解: python函數需傳遞名字name\n"
     ]
    }
   ],
   "source": [
    "### 3_8 ###\n",
    "### python docstring ###\n",
    "\n",
    "def greeting(name):\n",
    "    '''python函數需傳遞名字name'''\n",
    "    print('HI',name,'印出')\n",
    "greeting('VIVI')\n",
    "print(f'.__doc__查看函數註解: {greeting.__doc__}')"
   ]
  },
  {
   "cell_type": "code",
   "execution_count": 143,
   "id": "935199f3",
   "metadata": {
    "scrolled": true
   },
   "outputs": [
    {
     "name": "stdout",
     "output_type": "stream",
     "text": [
      "c: 8\n",
      "f: None\n",
      "t: 5\n"
     ]
    }
   ],
   "source": [
    "### 3_9 ###\n",
    "### 全域變數與區域變數 ###\n",
    "\n",
    "def fun():\n",
    "    global a  # 設為全域變數\n",
    "    a=5\n",
    "    c=a+b\n",
    "    print('c:',c)\n",
    "def test():\n",
    "    return a\n",
    "b=3\n",
    "f=fun()\n",
    "t=test()\n",
    "print('f:',f)  # 因為該def沒有return值所以是None\n",
    "print('t:',t)"
   ]
  },
  {
   "cell_type": "code",
   "execution_count": 152,
   "id": "b782d8e5",
   "metadata": {},
   "outputs": [
    {
     "name": "stdout",
     "output_type": "stream",
     "text": [
      "1000\n",
      "12\n"
     ]
    }
   ],
   "source": [
    "### 3_10_11 ###\n",
    "### lambda匿名函數 ###\n",
    "\n",
    "cube1=lambda x:x*x*x\n",
    "cube2=lambda x,y:x*y\n",
    "print(cube1(10))\n",
    "print(cube2(2,6))"
   ]
  },
  {
   "cell_type": "code",
   "execution_count": 320,
   "id": "0b975822",
   "metadata": {},
   "outputs": [
    {
     "name": "stdout",
     "output_type": "stream",
     "text": [
      "[-11, -8, -5, -2, 1, 5, 9, 10, 12]\n",
      "[1, 5, 9, 10, 12, -2, -5, -8, -11]\n"
     ]
    }
   ],
   "source": [
    "### 3_12 ###\n",
    "### 用匿名函數由小到大排列 ###\n",
    "\n",
    "lst=[-8,5,9,-2,-11,12,1,10,-5]\n",
    "sorted_lst=sorted(lst,key=lambda x:x)\n",
    "print(sorted_lst)\n",
    "\n",
    "### 3_13 ###\n",
    "### 用匿名函數將正值由小到大排列,負值由大到小排列 ###\n",
    "sorted_lst2=sorted(lst,key=lambda x:(x<0,abs(x)))  # x>0 正值在後\n",
    "sorted_lst3=sorted(lst,key=lambda x:(abs(x))) # 不管正負值由小到大排列\n",
    "print(sorted_lst2)"
   ]
  },
  {
   "cell_type": "code",
   "execution_count": 321,
   "id": "61c9350d",
   "metadata": {
    "scrolled": true
   },
   "outputs": [
    {
     "name": "stdout",
     "output_type": "stream",
     "text": [
      "[{'name': 'Kevin', 'age': 29}, {'name': 'Mary', 'age': 22}, {'name': 'Peter', 'age': 25}, {'name': 'Tom', 'age': 18}]\n",
      "[{'name': 'Tom', 'age': 18}, {'name': 'Mary', 'age': 22}, {'name': 'Peter', 'age': 25}, {'name': 'Kevin', 'age': 29}]\n",
      "['Kevin', 'Mary', 'Peter', 'Tom'] \n",
      " [29, 25, 22, 18]\n"
     ]
    }
   ],
   "source": [
    "### 3_14  ###\n",
    "### 用匿名函數dict由大到小排列 ###\n",
    "\n",
    "member=[{'name':'Peter','age':25},{'name':'Mary','age':22},{'name':'Kevin','age':29},{'name':'Tom','age':18}]\n",
    "\n",
    "sorted_name=sorted(member,key=lambda x:x['name'])  # 將key為'name'的作排列\n",
    "print(sorted_name)\n",
    "sorted_age=sorted(member,key=lambda x:x['age'])  # 將key為'name'的作排列\n",
    "print(sorted_age)\n",
    "\n",
    "# 只取值排列,自己寫法\n",
    "n,a=[],[]\n",
    "\n",
    "for m in member:\n",
    "    #print(m['name'])\n",
    "    n.append(m['name'])\n",
    "    a.append(m['age'])\n",
    "n.sort()  # 正向由小到大\n",
    "a.sort(reverse=True)  # 反向由大到小\n",
    "print(n,'\\n',a)"
   ]
  },
  {
   "cell_type": "code",
   "execution_count": 333,
   "id": "8077b10a",
   "metadata": {},
   "outputs": [
    {
     "name": "stdout",
     "output_type": "stream",
     "text": [
      "[('Kevin', 24), ('Mary', 32), ('Peter', 35), ('Tom', 30)]\n",
      "[('Peter', 35), ('Mary', 32), ('Tom', 30), ('Kevin', 24)]\n"
     ]
    }
   ],
   "source": [
    "### 3_15 ###\n",
    "### 用匿名函數tuple由大到小排列 ###\n",
    "\n",
    "member=[('Tom',30),('Kevin',24),('Peter',35),('Mary',32)]\n",
    "# 依照索引0排序\n",
    "name=sorted(member,key=lambda x:x[0])\n",
    "print(name)\n",
    "# 依照索引1排序\n",
    "age=sorted(member,key=lambda x:x[1],reverse=True)  # 由大到小\n",
    "print(age)"
   ]
  },
  {
   "cell_type": "code",
   "execution_count": 339,
   "id": "0ce7c97b",
   "metadata": {
    "scrolled": true
   },
   "outputs": [
    {
     "name": "stdout",
     "output_type": "stream",
     "text": [
      "[['Kevin', 24], ['Tom', 30], ['Mary', 32], ['Peter', 35]]\n",
      "[['Peter', 35], ['Mary', 32], ['Tom', 30], ['Kevin', 24]]\n"
     ]
    }
   ],
   "source": [
    "### 3_16 ###\n",
    "### 用匿名函數list由大到小排列 ###\n",
    "\n",
    "member=[['Tom',30],['Kevin',24],['Peter',35],['Mary',32]]\n",
    "# 依照索引0排序\n",
    "age=sorted(member,key=lambda x:x[1])\n",
    "print(age)\n",
    "name=sorted(member,key=lambda x:x[1],reverse=True)\n",
    "print(name)"
   ]
  },
  {
   "cell_type": "code",
   "execution_count": 22,
   "id": "80424de9",
   "metadata": {
    "scrolled": true
   },
   "outputs": [
    {
     "name": "stdout",
     "output_type": "stream",
     "text": [
      "['Jack', 32]\n",
      "['Kevin', 24]\n",
      "['Mary', 32]\n",
      "['Peter', 35]\n",
      "['Tom', 30]\n",
      "\n",
      "['Kevin', 24]\n",
      "['Tom', 30]\n",
      "['Jack', 32]\n",
      "['Mary', 32]\n",
      "['Peter', 35]\n"
     ]
    }
   ],
   "source": [
    "### 3-17 ###\n",
    "### 用匿名函數list由大到小排列 ###\n",
    "\n",
    "member=[['Tom',30],['Kevin',24],['Peter',35],['Mary',32],['Jack',32]]\n",
    "\n",
    "# 依照姓名由小排到大(前排到後)\n",
    "name=sorted(member,key=lambda x:x[0])\n",
    "#print(name)\n",
    "for n in name:\n",
    "    print(n)\n",
    "print()   \n",
    "\n",
    "# 依照年齡由小排到大,若年齡相同就由名字排列\n",
    "age=sorted(member,key=lambda x:(x[1],x[0]))  # lambda x:在前面的優先排列,若前面相同才會依照後面順序排列\n",
    "#print(age)\n",
    "for a in age:\n",
    "    print(a)"
   ]
  },
  {
   "cell_type": "code",
   "execution_count": 52,
   "id": "2e4ad23a",
   "metadata": {
    "scrolled": true
   },
   "outputs": [
    {
     "name": "stdout",
     "output_type": "stream",
     "text": [
      "[('Peter', 20), ('Mary', 35), ('Love', 28)]\n",
      "[('Mary', 35), ('Love', 28), ('Peter', 20)]\n",
      "{'Mary': 35, 'Love': 28, 'Peter': 20}\n",
      "\n",
      "[('Peter', 20), ('Mary', 35), ('Love', 28)]\n",
      "[('Mary', 35), ('Love', 28), ('Peter', 20)]\n"
     ]
    },
    {
     "data": {
      "text/plain": [
       "{'Mary': 35, 'Love': 28, 'Peter': 20}"
      ]
     },
     "execution_count": 52,
     "metadata": {},
     "output_type": "execute_result"
    }
   ],
   "source": [
    "### 3_18 ###\n",
    "### 將字典轉成list,再將list內tuple轉成list,按照大到小順序排列後再轉成dict ###\n",
    "member={'Peter':20,'Mary':35,'Love':28}\n",
    "\n",
    "# 課本的方式\n",
    "mem_zip=zip(member.keys(),member.values())  # 單純轉成zip物件\n",
    "mem_lst=[z for z in mem_zip]  # 將zip轉成list\n",
    "print(mem_lst)\n",
    "sort_age=sorted(mem_lst,key=lambda x:x[1],reverse=True)\n",
    "print(sort_age)\n",
    "mem_dict={s[0]:s[1] for s in sort_age}\n",
    "print(mem_dict)\n",
    "print()\n",
    "\n",
    "# 自己寫的方式\n",
    "member_lst=list(zip(member.keys(),member.values()))\n",
    "print(member_lst)\n",
    "sorted_age=sorted(member_lst,key=lambda x:x[1],reverse=True)\n",
    "print(sorted_age)\n",
    "member_dict=dict(sorted_age)\n",
    "member_dict"
   ]
  },
  {
   "cell_type": "code",
   "execution_count": 44,
   "id": "2b7f4680",
   "metadata": {
    "scrolled": true
   },
   "outputs": [
    {
     "name": "stdout",
     "output_type": "stream",
     "text": [
      "[('Peter', 20), ('Apple', 28), ('Love', 28), ('Mary', 28), ('Vivi', 44)]\n"
     ]
    },
    {
     "data": {
      "text/plain": [
       "{'Peter': 20, 'Apple': 28, 'Love': 28, 'Mary': 28, 'Vivi': 44}"
      ]
     },
     "execution_count": 44,
     "metadata": {},
     "output_type": "execute_result"
    }
   ],
   "source": [
    "### 3_19 ###\n",
    "### 不使用zip將字典轉成list,再將list內tuple轉成list,按照大到小順序排列後再轉成dict ###\n",
    "\n",
    "member={'Peter':20,'Mary':28,'Love':28,'Apple':28,'Vivi':44}\n",
    "\n",
    "mem=member.items()\n",
    "sorted_mem=sorted(mem,key=lambda x:(x[1],x[0]))\n",
    "print(sorted_mem)\n",
    "mem_dict={s[0]:s[1] for s in sorted_mem}\n",
    "mem_dict"
   ]
  },
  {
   "cell_type": "code",
   "execution_count": 120,
   "id": "34cdfa1f",
   "metadata": {},
   "outputs": [
    {
     "data": {
      "text/plain": [
       "{'a': 4, 'b': 8, 'c': 6}"
      ]
     },
     "execution_count": 120,
     "metadata": {},
     "output_type": "execute_result"
    }
   ],
   "source": [
    "### 3_20 ###\n",
    "### 將lst當鍵,並隨機跑1~10當值 ###\n",
    "import random\n",
    "\n",
    "lst=['a','b','c']\n",
    "    \n",
    "dd={i:random.randint(1,10) for i in lst}  # random.randint(1,10)放for裡面才會每次變\n",
    "dd"
   ]
  },
  {
   "cell_type": "code",
   "execution_count": 145,
   "id": "3921ce99",
   "metadata": {
    "scrolled": false
   },
   "outputs": [
    {
     "name": "stdout",
     "output_type": "stream",
     "text": [
      "['abcd', 'abc', 'ab', 'a']\n",
      "['abcd', 'abc', 'ab', 'a']\n"
     ]
    }
   ],
   "source": [
    "### 3_21 ###\n",
    "### 用sorted及sort將list長度由多到少排序 ###\n",
    "\n",
    "lst=['abc','abcd','a','ab']\n",
    "#sorted_lst=sorted(lst,reverse=True)  # 這寫法也可以\n",
    "sorted_lst=sorted(lst,key=lambda x:len(x),reverse=True)  # 但用這寫法更好,明確指出len(x)\n",
    "print(sorted_lst) \n",
    "#lst.sort(reverse=True)  # 這寫法也可以\n",
    "lst.sort(key=len,reverse=True)  # 但用這寫法更好,明確指出key=len\n",
    "print(lst)"
   ]
  },
  {
   "cell_type": "code",
   "execution_count": 53,
   "id": "364d4726",
   "metadata": {
    "scrolled": true
   },
   "outputs": [
    {
     "name": "stdout",
     "output_type": "stream",
     "text": [
      "[3908529, 3932289, 3948169, 3956121]\n",
      "[3908529, 3932289, 3948169, 3956121]\n"
     ]
    }
   ],
   "source": [
    "### 3_22 ###\n",
    "### 使用map函數 map(函數,物件)###\n",
    "\n",
    "mylist=[1977,1983,1987,1989]\n",
    "\n",
    "map_test=list(map(lambda x:x**2,mylist))\n",
    "print(map_test)\n",
    "\n",
    "# 用生成式\n",
    "map_test=[m**2 for m in mylist]\n",
    "print(map_test)"
   ]
  },
  {
   "cell_type": "code",
   "execution_count": 74,
   "id": "ea4534ce",
   "metadata": {},
   "outputs": [
    {
     "name": "stdout",
     "output_type": "stream",
     "text": [
      "[1977, 1983, 1987, 1989]\n",
      "[1977, 1983, 1987, 1989]\n"
     ]
    }
   ],
   "source": [
    "### 3_23 ###\n",
    "### 使用filter函數,會將執行結果是True的函數組成新的list ###\n",
    "\n",
    "mylist=[1977,1983,1987,1989,1990]\n",
    "filter_test=list(filter(lambda x:(x%2==1),mylist))\n",
    "print(filter_test)\n",
    "\n",
    "# 用生成式\n",
    "filter_test=[m for m in mylist if m%2==1]\n",
    "print(filter_test)"
   ]
  },
  {
   "cell_type": "code",
   "execution_count": 95,
   "id": "6491d525",
   "metadata": {},
   "outputs": [
    {
     "name": "stdout",
     "output_type": "stream",
     "text": [
      "22\n",
      "24\n",
      "102020103\n",
      "102020103\n"
     ]
    }
   ],
   "source": [
    "### 3_24 ###\n",
    "### \n",
    "from functools import reduce\n",
    "\n",
    "# 課本範例\n",
    "def str_to_int(s):\n",
    "    def char_to_num(s):\n",
    "        return {'0':0,'1':1,'2':2,'3':3,'4':4,'5':5,'6':6,'7':7,'8':8,'9':9}[s]\n",
    "    return reduce(lambda x,y:10*x+y,map(char_to_num,s))\n",
    "    # '012': 10*0+1=1 > 10*1+2=12\n",
    "    # '1977': 10*1+9=19 > 10*19+7=197 > 10*197+7=1977\n",
    "    \n",
    "string='012'\n",
    "x=str_to_int(string)+10\n",
    "print(x)\n",
    "\n",
    "# 自己寫\n",
    "def pro(x,y):\n",
    "    return x*y\n",
    "dd=reduce(pro,[1,2,3,4])\n",
    "print(dd)\n",
    "\n",
    "# 自己寫\n",
    "def out(s):\n",
    "    def test(s):\n",
    "        return {'A':1,'B':2,'C':3}[s]\n",
    "    return reduce(lambda x,y:100*x+y,map(test,s))\n",
    "\n",
    "f='ABBAC'\n",
    "w=out(f)\n",
    "print(w)\n",
    "\n",
    "# 自己寫\n",
    "dicts={'A':1,'B':2,'C':3}\n",
    "def out(s):\n",
    "    def test(s):\n",
    "        return dicts[s]\n",
    "    return reduce(lambda x,y:100*x+y,map(test,s))\n",
    "\n",
    "f='ABBAC'\n",
    "t=out(f)\n",
    "print(t\n",
    "     )"
   ]
  },
  {
   "cell_type": "code",
   "execution_count": 44,
   "id": "9dec45aa",
   "metadata": {},
   "outputs": [
    {
     "name": "stdout",
     "output_type": "stream",
     "text": [
      "142\n",
      "5016\n",
      "(9, 41)\n",
      "(216, 81)\n"
     ]
    }
   ],
   "source": [
    "### 3_29 ###\n",
    "###\n",
    "\n",
    "# 課本範例\n",
    "def add(x,y):\n",
    "    return x+y\n",
    "def mul(x,y):\n",
    "    return x*y\n",
    "def running(func,a,b):\n",
    "    return(func(a,b))\n",
    "\n",
    "ff=running(add,66,76)\n",
    "print(ff)\n",
    "\n",
    "dd=running(mul,66,76)\n",
    "print(dd)\n",
    "\n",
    "# 自己寫\n",
    "def test1(x,y):\n",
    "    a=x+y\n",
    "    b=x**2+y**2\n",
    "    return a,b\n",
    "\n",
    "def test2(x,y):\n",
    "    a=x**3\n",
    "    b=y**4\n",
    "    return a,b\n",
    "\n",
    "def test3(func,a,b):\n",
    "    return func(a,b)\n",
    "e=test3(test1,5,4)\n",
    "f=test3(test2,6,3)\n",
    "print(e)\n",
    "print(f)"
   ]
  }
 ],
 "metadata": {
  "kernelspec": {
   "display_name": "Python 3 (ipykernel)",
   "language": "python",
   "name": "python3"
  },
  "language_info": {
   "codemirror_mode": {
    "name": "ipython",
    "version": 3
   },
   "file_extension": ".py",
   "mimetype": "text/x-python",
   "name": "python",
   "nbconvert_exporter": "python",
   "pygments_lexer": "ipython3",
   "version": "3.8.12"
  }
 },
 "nbformat": 4,
 "nbformat_minor": 5
}
