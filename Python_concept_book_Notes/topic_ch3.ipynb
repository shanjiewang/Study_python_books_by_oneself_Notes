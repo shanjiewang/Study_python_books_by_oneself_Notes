{
 "cells": [
  {
   "cell_type": "code",
   "execution_count": null,
   "id": "82eb0ff6",
   "metadata": {
    "scrolled": true
   },
   "outputs": [],
   "source": [
    "### 3_1 ###\n",
    "### 將list內容打亂 ###\n",
    "import random\n",
    "\n",
    "pocker=['A','B','C',3,2,1]\n",
    "new=random.shuffle(pocker)\n",
    "print(new)"
   ]
  },
  {
   "cell_type": "code",
   "execution_count": null,
   "id": "11db68ef",
   "metadata": {},
   "outputs": [],
   "source": [
    "### 3_2 ###\n",
    "### 將list打散並隨機挑出指定數量的數字 ###\n",
    "import random\n",
    "\n",
    "pocker=['A','B','C',3,2,1,'D','E',6,5,4]\n",
    "new=random.sample(pocker,5)\n",
    "print(new)"
   ]
  },
  {
   "cell_type": "code",
   "execution_count": null,
   "id": "5847539d",
   "metadata": {
    "scrolled": true
   },
   "outputs": [],
   "source": [
    "### 3_3 ###\n",
    "### 在指定數值間取指定數量的隨機亂數 ###\n",
    "import random\n",
    "\n",
    "n=5\n",
    "min=0\n",
    "max=100\n",
    "for i in range(n):\n",
    "    new=random.randint(min,max)\n",
    "    print(new)"
   ]
  },
  {
   "cell_type": "code",
   "execution_count": null,
   "id": "28d194a0",
   "metadata": {},
   "outputs": [],
   "source": [
    "### 3_4 ###\n",
    "### 產生指定數值間的指定數量的隨機整數 ###\n",
    "import random\n",
    "\n",
    "n=7\n",
    "for i in range(n):\n",
    "    new=random.choice(range(-1000,1000))\n",
    "    print(new)"
   ]
  },
  {
   "cell_type": "code",
   "execution_count": null,
   "id": "ca5c0a09",
   "metadata": {
    "scrolled": true
   },
   "outputs": [],
   "source": [
    "### 3_5 ###\n",
    "### 產生指定數值間的指定數量的固定整數 ###\n",
    "import random\n",
    "\n",
    "n=10\n",
    "min=-10\n",
    "max=100\n",
    "random.seed(5)   # seed內每個int出來的固定種子不一樣 \n",
    "for i in range(n):\n",
    "    new=random.randint(min,max)\n",
    "    print(new)"
   ]
  },
  {
   "cell_type": "code",
   "execution_count": null,
   "id": "4d0c6a0c",
   "metadata": {
    "scrolled": true
   },
   "outputs": [],
   "source": [
    "### 3_6 ###\n",
    "### 產生0-1.0間的隨機浮點數 ###\n",
    "import random\n",
    "\n",
    "n=7\n",
    "for i in range(n):\n",
    "    new=random.random()\n",
    "    print(new)"
   ]
  },
  {
   "cell_type": "code",
   "execution_count": null,
   "id": "6f625923",
   "metadata": {},
   "outputs": [],
   "source": [
    "### 3_7 ###\n",
    "### 產生指定數值間的指定數量的浮點數 ###\n",
    "import random\n",
    "\n",
    "n=5\n",
    "min=0  # 不管給小數幾位 都是出現浮點數\n",
    "max=10.00     # 不含\n",
    "for i in range(n):\n",
    "    new=random.uniform(min,max)\n",
    "    print(new)"
   ]
  },
  {
   "cell_type": "code",
   "execution_count": null,
   "id": "2668dbe4",
   "metadata": {
    "scrolled": true
   },
   "outputs": [],
   "source": [
    "### 3_8 ###\n",
    "### python docstring ###\n",
    "\n",
    "def greeting(name):\n",
    "    '''python函數需傳遞名字name'''\n",
    "    print('HI',name,'印出')\n",
    "greeting('VIVI')\n",
    "print(f'.__doc__查看函數註解: {greeting.__doc__}')"
   ]
  },
  {
   "cell_type": "code",
   "execution_count": null,
   "id": "935199f3",
   "metadata": {
    "scrolled": true
   },
   "outputs": [],
   "source": [
    "### 3_9 ###\n",
    "### 全域變數與區域變數 ###\n",
    "\n",
    "def fun():\n",
    "    global a  # 設為全域變數\n",
    "    a=5\n",
    "    c=a+b\n",
    "    print('c:',c)\n",
    "def test():\n",
    "    return a\n",
    "b=3\n",
    "f=fun()\n",
    "t=test()\n",
    "print('f:',f)  # 因為該def沒有return值所以是None\n",
    "print('t:',t)"
   ]
  },
  {
   "cell_type": "code",
   "execution_count": null,
   "id": "b782d8e5",
   "metadata": {},
   "outputs": [],
   "source": [
    "### 3_10_11 ###\n",
    "### lambda匿名函數 ###\n",
    "\n",
    "cube1=lambda x:x*x*x\n",
    "cube2=lambda x,y:x*y\n",
    "print(cube1(10))\n",
    "print(cube2(2,6))"
   ]
  },
  {
   "cell_type": "code",
   "execution_count": null,
   "id": "0b975822",
   "metadata": {},
   "outputs": [],
   "source": [
    "### 3_12 ###\n",
    "### 用匿名函數由小到大排列 ###\n",
    "\n",
    "lst=[-8,5,9,-2,-11,12,1,10,-5]\n",
    "sorted_lst=sorted(lst,key=lambda x:x)\n",
    "print(sorted_lst)\n",
    "\n",
    "### 3_13 ###\n",
    "### 用匿名函數將正值由小到大排列,負值由大到小排列 ###\n",
    "sorted_lst2=sorted(lst,key=lambda x:(x<0,abs(x)))  # x>0 正值在後\n",
    "sorted_lst3=sorted(lst,key=lambda x:(abs(x))) # 不管正負值由小到大排列\n",
    "print(sorted_lst2)"
   ]
  },
  {
   "cell_type": "code",
   "execution_count": null,
   "id": "61c9350d",
   "metadata": {
    "scrolled": true
   },
   "outputs": [],
   "source": [
    "### 3_14  ###\n",
    "### 用匿名函數dict由大到小排列 ###\n",
    "\n",
    "member=[{'name':'Peter','age':25},{'name':'Mary','age':22},{'name':'Kevin','age':29},{'name':'Tom','age':18}]\n",
    "\n",
    "sorted_name=sorted(member,key=lambda x:x['name'])  # 將key為'name'的作排列\n",
    "print(sorted_name)\n",
    "sorted_age=sorted(member,key=lambda x:x['age'])  # 將key為'name'的作排列\n",
    "print(sorted_age)\n",
    "\n",
    "# 只取值排列,自己寫法\n",
    "n,a=[],[]\n",
    "\n",
    "for m in member:\n",
    "    #print(m['name'])\n",
    "    n.append(m['name'])\n",
    "    a.append(m['age'])\n",
    "n.sort()  # 正向由小到大\n",
    "a.sort(reverse=True)  # 反向由大到小\n",
    "print(n,'\\n',a)"
   ]
  },
  {
   "cell_type": "code",
   "execution_count": null,
   "id": "8077b10a",
   "metadata": {},
   "outputs": [],
   "source": [
    "### 3_15 ###\n",
    "### 用匿名函數tuple由大到小排列 ###\n",
    "\n",
    "member=[('Tom',30),('Kevin',24),('Peter',35),('Mary',32)]\n",
    "# 依照索引0排序\n",
    "name=sorted(member,key=lambda x:x[0])\n",
    "print(name)\n",
    "# 依照索引1排序\n",
    "age=sorted(member,key=lambda x:x[1],reverse=True)  # 由大到小\n",
    "print(age)"
   ]
  },
  {
   "cell_type": "code",
   "execution_count": null,
   "id": "0ce7c97b",
   "metadata": {
    "scrolled": true
   },
   "outputs": [],
   "source": [
    "### 3_16 ###\n",
    "### 用匿名函數list由大到小排列 ###\n",
    "\n",
    "member=[['Tom',30],['Kevin',24],['Peter',35],['Mary',32]]\n",
    "# 依照索引0排序\n",
    "age=sorted(member,key=lambda x:x[1])\n",
    "print(age)\n",
    "name=sorted(member,key=lambda x:x[1],reverse=True)\n",
    "print(name)"
   ]
  },
  {
   "cell_type": "code",
   "execution_count": null,
   "id": "80424de9",
   "metadata": {
    "scrolled": true
   },
   "outputs": [],
   "source": [
    "### 3-17 ###\n",
    "### 用匿名函數list由大到小排列 ###\n",
    "\n",
    "member=[['Tom',30],['Kevin',24],['Peter',35],['Mary',32],['Jack',32]]\n",
    "\n",
    "# 依照姓名由小排到大(前排到後)\n",
    "name=sorted(member,key=lambda x:x[0])\n",
    "#print(name)\n",
    "for n in name:\n",
    "    print(n)\n",
    "print()   \n",
    "\n",
    "# 依照年齡由小排到大,若年齡相同就由名字排列\n",
    "age=sorted(member,key=lambda x:(x[1],x[0]))  # lambda x:在前面的優先排列,若前面相同才會依照後面順序排列\n",
    "#print(age)\n",
    "for a in age:\n",
    "    print(a)"
   ]
  },
  {
   "cell_type": "code",
   "execution_count": null,
   "id": "2e4ad23a",
   "metadata": {
    "scrolled": true
   },
   "outputs": [],
   "source": [
    "### 3_18 ###\n",
    "### 將字典轉成list,再將list內tuple轉成list,按照大到小順序排列後再轉成dict ###\n",
    "member={'Peter':20,'Mary':35,'Love':28}\n",
    "\n",
    "# 課本的方式\n",
    "mem_zip=zip(member.keys(),member.values())  # 單純轉成zip物件\n",
    "mem_lst=[z for z in mem_zip]  # 將zip轉成list\n",
    "print(mem_lst)\n",
    "sort_age=sorted(mem_lst,key=lambda x:x[1],reverse=True)\n",
    "print(sort_age)\n",
    "mem_dict={s[0]:s[1] for s in sort_age}\n",
    "print(mem_dict)\n",
    "print()\n",
    "\n",
    "# 自己寫的方式\n",
    "member_lst=list(zip(member.keys(),member.values()))\n",
    "print(member_lst)\n",
    "sorted_age=sorted(member_lst,key=lambda x:x[1],reverse=True)\n",
    "print(sorted_age)\n",
    "member_dict=dict(sorted_age)\n",
    "member_dict"
   ]
  },
  {
   "cell_type": "code",
   "execution_count": null,
   "id": "2b7f4680",
   "metadata": {
    "scrolled": true
   },
   "outputs": [],
   "source": [
    "### 3_19 ###\n",
    "### 不使用zip將字典轉成list,再將list內tuple轉成list,按照大到小順序排列後再轉成dict ###\n",
    "\n",
    "member={'Peter':20,'Mary':28,'Love':28,'Apple':28,'Vivi':44}\n",
    "\n",
    "mem=member.items()\n",
    "sorted_mem=sorted(mem,key=lambda x:(x[1],x[0]))\n",
    "print(sorted_mem)\n",
    "mem_dict={s[0]:s[1] for s in sorted_mem}\n",
    "mem_dict"
   ]
  },
  {
   "cell_type": "code",
   "execution_count": null,
   "id": "34cdfa1f",
   "metadata": {},
   "outputs": [],
   "source": [
    "### 3_20 ###\n",
    "### 將lst當鍵,並隨機跑1~10當值 ###\n",
    "import random\n",
    "\n",
    "lst=['a','b','c']\n",
    "    \n",
    "dd={i:random.randint(1,10) for i in lst}  # random.randint(1,10)放for裡面才會每次變\n",
    "dd"
   ]
  },
  {
   "cell_type": "code",
   "execution_count": null,
   "id": "3921ce99",
   "metadata": {
    "scrolled": false
   },
   "outputs": [],
   "source": [
    "### 3_21 ###\n",
    "### 用sorted及sort將list長度由多到少排序 ###\n",
    "\n",
    "lst=['abc','abcd','a','ab']\n",
    "#sorted_lst=sorted(lst,reverse=True)  # 這寫法也可以\n",
    "sorted_lst=sorted(lst,key=lambda x:len(x),reverse=True)  # 但用這寫法更好,明確指出len(x)\n",
    "print(sorted_lst) \n",
    "#lst.sort(reverse=True)  # 這寫法也可以\n",
    "lst.sort(key=len,reverse=True)  # 但用這寫法更好,明確指出key=len\n",
    "print(lst)"
   ]
  },
  {
   "cell_type": "code",
   "execution_count": null,
   "id": "364d4726",
   "metadata": {
    "scrolled": true
   },
   "outputs": [],
   "source": [
    "### 3_22 ###\n",
    "### 使用map函數 map(函數,物件)###\n",
    "\n",
    "mylist=[1977,1983,1987,1989]\n",
    "\n",
    "map_test=list(map(lambda x:x**2,mylist))\n",
    "print(map_test)\n",
    "\n",
    "# 用生成式\n",
    "map_test=[m**2 for m in mylist]\n",
    "print(map_test)"
   ]
  },
  {
   "cell_type": "code",
   "execution_count": null,
   "id": "ea4534ce",
   "metadata": {},
   "outputs": [],
   "source": [
    "### 3_23 ###\n",
    "### 使用filter函數,會將執行結果是True的函數組成新的list ###\n",
    "\n",
    "mylist=[1977,1983,1987,1989,1990]\n",
    "filter_test=list(filter(lambda x:(x%2==1),mylist))\n",
    "print(filter_test)\n",
    "\n",
    "# 用生成式\n",
    "filter_test=[m for m in mylist if m%2==1]\n",
    "print(filter_test)"
   ]
  },
  {
   "cell_type": "code",
   "execution_count": null,
   "id": "6491d525",
   "metadata": {},
   "outputs": [],
   "source": [
    "### 3_24 ###\n",
    "### \n",
    "from functools import reduce\n",
    "\n",
    "# 課本範例\n",
    "def str_to_int(s):\n",
    "    def char_to_num(s):\n",
    "        return {'0':0,'1':1,'2':2,'3':3,'4':4,'5':5,'6':6,'7':7,'8':8,'9':9}[s]\n",
    "    return reduce(lambda x,y:10*x+y,map(char_to_num,s))\n",
    "    # '012': 10*0+1=1 > 10*1+2=12\n",
    "    # '1977': 10*1+9=19 > 10*19+7=197 > 10*197+7=1977\n",
    "    \n",
    "string='012'\n",
    "x=str_to_int(string)+10\n",
    "print(x)\n",
    "print()\n",
    "\n",
    "# 自己寫\n",
    "def pro(x,y):\n",
    "    return x*y\n",
    "dd=reduce(pro,[1,2,3,4])\n",
    "print(dd)\n",
    "print()\n",
    "\n",
    "# 自己寫\n",
    "def out(s):\n",
    "    def test(s):\n",
    "        return {'A':1,'B':2,'C':3}[s]\n",
    "    return reduce(lambda x,y:100*x+y,map(test,s))\n",
    "\n",
    "f='ABBAC'\n",
    "w=out(f)\n",
    "print(w)\n",
    "print()\n",
    "\n",
    "# 自己寫\n",
    "dicts={'A':1,'B':2,'C':3}\n",
    "def out(s):\n",
    "    def test(s):\n",
    "        return dicts[s]\n",
    "    return reduce(lambda x,y:100*x+y,map(test,s))\n",
    "\n",
    "f='ABBAC'\n",
    "t=out(f)\n",
    "print(t)"
   ]
  },
  {
   "cell_type": "code",
   "execution_count": null,
   "id": "4200fe96",
   "metadata": {
    "scrolled": true
   },
   "outputs": [],
   "source": [
    "### 3_25 ###\n",
    "### 關鍵字參數 ###\n",
    "\n",
    "def interest(interest_type,subject):\n",
    "    '''顯示興趣和主題'''\n",
    "    print('我的興趣是 '+interest_type)\n",
    "    print('在 '+interest_type+' 中最喜歡的是 '+subject)\n",
    "    print()\n",
    "interest('爬山','探勘')   # 依序變數位置給值\n",
    "interest(subject='探勘',interest_type='爬山')    # 依照變數名稱給值,就不管位置了\n",
    "interest('爬山',subject='探勘')   "
   ]
  },
  {
   "cell_type": "code",
   "execution_count": null,
   "id": "b3220cb1",
   "metadata": {
    "scrolled": true
   },
   "outputs": [],
   "source": [
    "### 3_26_27 ###\n",
    "### 參數左邊加上*就可以傳遞任意數量的參數 ###\n",
    "\n",
    "def beef_noodle(types,*toppings):\n",
    "    print(types,'這個套餐含有:')\n",
    "    for t in toppings:\n",
    "        print(t)\n",
    "beef_noodle('甜蜜下午茶','冰鮮奶茶','奶油鬆餅','義式餅乾')\n",
    "beef_noodle('有點飽下午茶','牛肉起士堡','可樂','脆薯')"
   ]
  },
  {
   "cell_type": "code",
   "execution_count": null,
   "id": "85b68b23",
   "metadata": {},
   "outputs": [],
   "source": [
    "### 3_28 ###\n",
    "### *tuples為任意數量的參數為tuple,**dicts為任意數量的參數為dict ###\n",
    "\n",
    "def func(*tuples_,**dicts_):\n",
    "    global tuples,dicts\n",
    "    tuples=tuples_\n",
    "    dicts=dicts_\n",
    "    print('tuples:',tuples)\n",
    "    print('dicts:',dicts)\n",
    "\n",
    "func('哈','嘿',A='您好',B='我好')\n",
    "print(tuples,'_',dicts)"
   ]
  },
  {
   "cell_type": "code",
   "execution_count": null,
   "id": "9dec45aa",
   "metadata": {
    "scrolled": false
   },
   "outputs": [],
   "source": [
    "### 3_29 ###\n",
    "### 將函數當成參數被傳遞給其他函數 ###\n",
    "\n",
    "# 課本範例\n",
    "def add(x,y):\n",
    "    return x+y\n",
    "def mul(x,y):\n",
    "    return x*y\n",
    "def running(func,a,b):\n",
    "    return(func(a,b))\n",
    "\n",
    "ff=running(add,66,76)\n",
    "print(ff)\n",
    "\n",
    "dd=running(mul,66,76)\n",
    "print(dd)\n",
    "print()\n",
    "\n",
    "# 自己寫\n",
    "def test1(x,y):\n",
    "    a=x+y\n",
    "    b=x**2+y**2\n",
    "    return a,b  # 回傳兩個值以上\n",
    "\n",
    "def test2(x,y):\n",
    "    a=x**3\n",
    "    b=y**4\n",
    "    return a,b\n",
    "\n",
    "def test3(func,a,b):\n",
    "    return func(a,b)\n",
    "e=test3(test1,5,4)\n",
    "f=test3(test2,6,3)\n",
    "print(e)\n",
    "print(f)"
   ]
  },
  {
   "cell_type": "code",
   "execution_count": null,
   "id": "87466e68",
   "metadata": {},
   "outputs": [],
   "source": [
    "### 3_30 ###\n",
    "### 嵌套函數 ###\n",
    "\n",
    "# 課本範例\n",
    "def dist(x1,y1,x2,y2):\n",
    "    def mySqrt(z):\n",
    "        return z ** 0.5\n",
    "    dx=(x1-x2)**2\n",
    "    dy=(y1-y2)**2\n",
    "    return mySqrt(dx+dy)\n",
    "print(dist(0,0,1,1))\n",
    "print()\n",
    "\n",
    "# 自己寫\n",
    "def test1(x1,y1,x2,y2):\n",
    "    def test2(z):\n",
    "        return z**2\n",
    "    dx=(x1+x2)/2   # (1+3)/2\n",
    "    dy=(y1+y2)*2   # (2+4)*2\n",
    "    return test2(dx*dy)\n",
    "print(test1(1,2,3,4))"
   ]
  },
  {
   "cell_type": "code",
   "execution_count": null,
   "id": "d6f391a8",
   "metadata": {
    "scrolled": false
   },
   "outputs": [],
   "source": [
    "### 3_31 ###\n",
    "### 嵌套函數 ###\n",
    "\n",
    "def outer():\n",
    "    def inner(n):\n",
    "        print('inner running')\n",
    "        return sum(range(0,n))   # 0到n-1的總和\n",
    "    return inner\n",
    "\n",
    "f=outer()\n",
    "print(f)\n",
    "print(f(3))\n",
    "\n",
    "h=outer()\n",
    "print(h)\n",
    "print(h(5))"
   ]
  },
  {
   "cell_type": "code",
   "execution_count": null,
   "id": "53722fe3",
   "metadata": {
    "scrolled": true
   },
   "outputs": [],
   "source": [
    "### 3_32 ###\n",
    "### 閉包函數實例 ###\n",
    "\n",
    "def outer():\n",
    "    b=10\n",
    "    def inner(x):\n",
    "        return 5*x+b\n",
    "    return inner\n",
    "b=2\n",
    "f=outer()\n",
    "print(f(b))"
   ]
  },
  {
   "cell_type": "code",
   "execution_count": null,
   "id": "a8dbbebb",
   "metadata": {
    "scrolled": true
   },
   "outputs": [],
   "source": [
    "### 3_33 ###\n",
    "### 閉包函數另一個應用 ###\n",
    "\n",
    "# 裡面的def將最終線性函數確定下來,傳遞適當的值給外面的def就可以獲得結果\n",
    "def outer(a,b):\n",
    "    def inner(x):\n",
    "        return a*x+b\n",
    "    return inner\n",
    "\n",
    "o1=outer(10,5)  # 10x+5\n",
    "o2=outer(14,7)  # 14x+7\n",
    "\n",
    "print(o1(6))\n",
    "print()\n",
    "\n",
    "# 非閉包但一樣結果,每次都需要傳遞三個參數\n",
    "def outer(a,b,x):\n",
    "    return a*x+b\n",
    "o1=outer(10,5,6)\n",
    "print(o1)"
   ]
  },
  {
   "cell_type": "code",
   "execution_count": null,
   "id": "ece41a4d",
   "metadata": {
    "scrolled": true
   },
   "outputs": [],
   "source": [
    "### 3_34 ###\n",
    "### 關於yield、next、send的用法 ###\n",
    "\n",
    "# 課本範例\n",
    "def gen():\n",
    "    '''測試yield'''\n",
    "    print('進入gen()')\n",
    "    while True:\n",
    "        rtn=yield 10\n",
    "        print('rtn:',rtn)\n",
    "        \n",
    "g=gen()\n",
    "print('主程式:',next(g))\n",
    "print('*'*30)\n",
    "print('主程式:',next(g))  # 參考3-27\n",
    "print()\n",
    "\n",
    "# 網路範例\n",
    "def main():\n",
    "    data = [1, 2, 3, 4, 5]\n",
    "    data = iter(data)\n",
    "\n",
    "    for _ in range(6):\n",
    "        print(next(data, 777)) \n",
    "\n",
    "if __name__ == '__main__':\n",
    "    main()"
   ]
  },
  {
   "cell_type": "code",
   "execution_count": null,
   "id": "d6ae5fce",
   "metadata": {
    "scrolled": true
   },
   "outputs": [],
   "source": [
    "### 3_35 ###\n",
    "### 將值透過send傳送 ###\n",
    "\n",
    "def gen():\n",
    "    '''測試yield'''\n",
    "    print('進入gen()')\n",
    "    while True:\n",
    "        rtn=yield 10\n",
    "        print('rtn:',rtn)\n",
    "    \n",
    "g=gen()\n",
    "print('主程式:',next(g))\n",
    "print('*'*30)\n",
    "print('主程式:',g.send(100))   # 從yield後面開始執行\n",
    "print()"
   ]
  },
  {
   "cell_type": "code",
   "execution_count": null,
   "id": "e6f3584c",
   "metadata": {
    "scrolled": false
   },
   "outputs": [],
   "source": [
    "### 3_36 ###\n",
    "### 設計自己的range函數,此range稱為生成器 ###\n",
    "\n",
    "def myRange(start=0,stop=100,step=1):\n",
    "    n=start\n",
    "    while n<stop:\n",
    "        yield n\n",
    "        n+=step*2\n",
    "print(type(myRange))\n",
    "for x in myRange(0,10):\n",
    "    print(x)"
   ]
  },
  {
   "cell_type": "code",
   "execution_count": null,
   "id": "d1d1e420",
   "metadata": {
    "scrolled": true
   },
   "outputs": [],
   "source": [
    "### 3_37 ###\n",
    "### 手動裝飾器 ###\n",
    "\n",
    "# 課本範例\n",
    "def upper(func):\n",
    "    def New_Fn(args):\n",
    "        olds=func(args)\n",
    "        news=olds.upper()\n",
    "        print('函數名稱:',func.__name__)\n",
    "        print('函數參數:',args)\n",
    "        return news\n",
    "    return New_Fn\n",
    "\n",
    "def Greeting_Fn(String):\n",
    "    return String\n",
    "\n",
    "mygreeting=upper(Greeting_Fn)\n",
    "print(mygreeting('Hello! ShanJie'))  # 將'Hello! ShanJie'帶入Greeting_Fn,將Greeting_Fn帶入upper,Greeting_Fn的String就等於New_Fn的args\n",
    "print()\n",
    "\n",
    "# 自己寫\n",
    "def square(func):\n",
    "    def New_Fn(args):\n",
    "        olds=func(args)\n",
    "        news=olds/2\n",
    "        return int(news)\n",
    "    return New_Fn\n",
    "\n",
    "def ss(ints):\n",
    "    ints=ints**2\n",
    "    return ints\n",
    "\n",
    "lists=[2,4,6]\n",
    "myss=square(ss)\n",
    "\n",
    "print('原本的:')\n",
    "for l in lists:\n",
    "    print(ss(l))\n",
    "print('裝飾器後:')\n",
    "for l in lists:\n",
    "    print(myss(l))"
   ]
  },
  {
   "cell_type": "code",
   "execution_count": null,
   "id": "0abbe82c",
   "metadata": {
    "scrolled": true
   },
   "outputs": [],
   "source": [
    "### 3_38 ###\n",
    "### 使用@直接定義裝飾器 ###\n",
    "\n",
    "def upper(func):\n",
    "    def New_Fn(args):\n",
    "        olds=func(args)\n",
    "        news=olds+':盟立集團'\n",
    "        return news\n",
    "    return New_Fn\n",
    "\n",
    "@upper \n",
    "def strings(string):\n",
    "    return string\n",
    "\n",
    "lists=['您好','我好','大家好']\n",
    "for l in lists:\n",
    "    print(strings(l))"
   ]
  },
  {
   "cell_type": "code",
   "execution_count": null,
   "id": "adb71e05",
   "metadata": {
    "scrolled": true
   },
   "outputs": [],
   "source": [
    "### 3_39 ### \n",
    "### 被當模組import時,有if __name__=='__main__'就不會重複輸出原模組設定值  ###\n",
    "# 需用py檔執行才有效果,用jupyter無效果\n",
    "\n",
    "import old_makefood \n",
    "\n",
    "old_makefood.make_icecream_Fn('可可','咖啡')\n",
    "old_makefood.make_drink_Fn('small','coke')"
   ]
  },
  {
   "cell_type": "code",
   "execution_count": null,
   "id": "82e5c678",
   "metadata": {
    "scrolled": false
   },
   "outputs": [],
   "source": [
    "### 3_45 ###\n",
    "### 使用isinstance函數測試 ###\n",
    "\n",
    "class Grandfather():\n",
    "    '''定義祖父類別'''\n",
    "    pass\n",
    "class Father(Grandfather):\n",
    "    '''定義祖父類別'''\n",
    "    pass\n",
    "class Ivan(Father):\n",
    "    '''定義祖父類別'''\n",
    "    def fn(self):\n",
    "        pass\n",
    "\n",
    "grandfather=Grandfather()\n",
    "father=Father()\n",
    "ivan=Ivan()\n",
    "\n",
    "print('ivan屬於Ivan類別:',isinstance(ivan,Ivan))\n",
    "print('ivan屬於Father類別:',isinstance(ivan,Father))\n",
    "print('ivan屬於Grandfather類別:',isinstance(ivan,Grandfather))\n",
    "print('father屬於Ivan類別:',isinstance(father,Ivan))\n",
    "print('father屬於Father類別:',isinstance(father,Father))\n",
    "print('father屬於Grandfather類別:',isinstance(father,Grandfather))\n",
    "print('grandfather屬於Ivan類別:',isinstance(grandfather,Ivan))\n",
    "print('grandfather屬於Father類別:',isinstance(grandfather,Father))\n",
    "print('grandfather屬於Grandfather類別:',isinstance(grandfather,Grandfather))"
   ]
  },
  {
   "cell_type": "code",
   "execution_count": 2,
   "id": "f1e8025d",
   "metadata": {
    "scrolled": false
   },
   "outputs": [
    {
     "name": "stdout",
     "output_type": "stream",
     "text": [
      "(1, 1)\n",
      "(1, 2)\n",
      "(2, 4)\n",
      "(4, 7)\n",
      "(7, 11)\n"
     ]
    }
   ],
   "source": [
    "### 3_47 ###\n",
    "# 0+1=1,1+1=2,1+2=3,2+3=5...\n",
    "\n",
    "# 課本範例\n",
    "# class Fib():\n",
    "#     def __init__(self,max):\n",
    "#         self.max=max\n",
    "#     def __iter__(self):\n",
    "#         self.a=0\n",
    "#         self.b=1\n",
    "#         return self\n",
    "#     def __next__(self):\n",
    "#         fib=self.a\n",
    "#         if fib > self.max:\n",
    "#             raise StopIteration\n",
    "#         self.a,self.b=self.b,self.a+self.b\n",
    "#         return fib\n",
    "# for i in Fib(100):\n",
    "#     print(i)\n",
    "# print()\n",
    "\n",
    "n=1\n",
    "\n",
    "# 自己寫類似邏輯\n",
    "def nn(m):\n",
    "    global n\n",
    "    if m<100:      \n",
    "        m,n=n,m+n\n",
    "    return m,n\n",
    "\n",
    "for i in range(5):\n",
    "    o=nn(i)\n",
    "    print(o)"
   ]
  },
  {
   "cell_type": "code",
   "execution_count": 19,
   "id": "5e4fe134",
   "metadata": {},
   "outputs": [
    {
     "name": "stdout",
     "output_type": "stream",
     "text": [
      "1\n",
      "[1]\n",
      "[7, 3, 9, 2]\n",
      "2\n",
      "[1, 2]\n",
      "[7, 3, 9]\n",
      "3\n",
      "[1, 2, 3]\n",
      "[7, 9]\n",
      "7\n",
      "[1, 2, 3, 7]\n",
      "[9]\n",
      "9\n",
      "[1, 2, 3, 7, 9]\n",
      "[]\n",
      "空了\n"
     ]
    },
    {
     "data": {
      "text/plain": [
       "[1, 2, 3, 7, 9]"
      ]
     },
     "execution_count": 19,
     "metadata": {},
     "output_type": "execute_result"
    }
   ],
   "source": [
    "### 3_48 ###\n",
    "### 不使用sort將list排序 ###\n",
    "\n",
    "sort_lst=[]\n",
    "lst=[1,7,3,9,2]\n",
    "\n",
    "# 課本範例\n",
    "def rtn_min_1(lst):\n",
    "    min_=min(lst)\n",
    "    print(min_)\n",
    "    sort_lst.append(min_)\n",
    "    print(sort_lst)\n",
    "    lst.remove(min_)\n",
    "    print(lst)\n",
    "    if lst:  # 如果lst裡還有物件\n",
    "        rtn_min_1(lst)  # 繼續執行此def\n",
    "    else:\n",
    "        print('空了')\n",
    "    return sort_lst\n",
    "\n",
    "rtn_min_1(lst)\n"
   ]
  },
  {
   "cell_type": "code",
   "execution_count": 17,
   "id": "9c79ebb6",
   "metadata": {},
   "outputs": [
    {
     "name": "stdout",
     "output_type": "stream",
     "text": [
      "1\n",
      "[1]\n",
      "[7, 3, 9, 2]\n",
      "2\n",
      "[1, 2]\n",
      "[7, 3, 9]\n",
      "3\n",
      "[1, 2, 3]\n",
      "[7, 9]\n",
      "7\n",
      "[1, 2, 3, 7]\n",
      "[9]\n",
      "9\n",
      "[1, 2, 3, 7, 9]\n",
      "[]\n"
     ]
    }
   ],
   "source": [
    "# 自己寫\n",
    "sort_lst=[]\n",
    "lst=[1,7,3,9,2]\n",
    "def rtn_min(lst):\n",
    "    min_=min(lst)\n",
    "    print(min_)\n",
    "    sort_lst.append(min_)\n",
    "    print(sort_lst)\n",
    "    lst.remove(min_)\n",
    "    print(lst)\n",
    "for i in range(len(lst)):\n",
    "    rtn_min(lst)"
   ]
  }
 ],
 "metadata": {
  "kernelspec": {
   "display_name": "Python 3 (ipykernel)",
   "language": "python",
   "name": "python3"
  },
  "language_info": {
   "codemirror_mode": {
    "name": "ipython",
    "version": 3
   },
   "file_extension": ".py",
   "mimetype": "text/x-python",
   "name": "python",
   "nbconvert_exporter": "python",
   "pygments_lexer": "ipython3",
   "version": "3.8.12"
  }
 },
 "nbformat": 4,
 "nbformat_minor": 5
}
