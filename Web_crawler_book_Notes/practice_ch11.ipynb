{
 "cells": [
  {
   "cell_type": "code",
   "execution_count": null,
   "id": "ceba6cd9",
   "metadata": {
    "scrolled": true
   },
   "outputs": [],
   "source": [
    "# 建立資料庫 將id欄位作為識別碼 INTERGER PRIMARY KEY AUTOINCREMENT\n",
    "\n",
    "import sqlite3\n",
    "conn_1=sqlite3.connect('myInfo.db')\n",
    "conn_2=sqlite3.connect('myInfo2.db')\n",
    "# cursor=conn_1.cursor()  # 也可以省略\n",
    "sql_1='''Create table students(\n",
    "        id_ int,  \n",
    "        name TEXT,\n",
    "        gender TEXT)'''\n",
    "sql_2='''Create table student2(\n",
    "        id INTEGER PRIMARY KEY AUTOINCREMENT, \n",
    "        name TEXT,\n",
    "        gender TEXT)'''\n",
    "# cursor.execute(sql_1)\n",
    "# cursor.close()  # 也可以省略\n",
    "conn_1.execute(sql_1)\n",
    "conn_2.execute(sql_2)\n",
    "conn_1.close()\n",
    "conn_2.close()"
   ]
  },
  {
   "cell_type": "code",
   "execution_count": null,
   "id": "dc0611e3",
   "metadata": {
    "scrolled": false
   },
   "outputs": [],
   "source": [
    "# 建立資料庫 輸入3個欄位增加表單增加表單 myInfo.db 自行加上只能輸入y或n\n",
    "\n",
    "import sqlite3\n",
    "no='yes'\n",
    "conn=sqlite3.connect('myInfo.db')\n",
    "\n",
    "while True:\n",
    "    if no =='yes':\n",
    "        no='yes'\n",
    "        print('請輸入myInfo資料庫students表單資料')\n",
    "        new_id=int(input(\"請輸入id:\"))  # 轉成整數\n",
    "        new_name=input(\"請輸入name:\")\n",
    "        new_gender=input(\"請輸入gender:\")\n",
    "        new_datas=(new_id,new_name,new_gender)\n",
    "        sql='''insert into students values(?,?,?)'''  # 將輸入的資料增加到資料庫\n",
    "        conn.execute(sql,new_datas)\n",
    "        conn.commit()   # 更新資料庫\n",
    "        no='no'\n",
    "    else: \n",
    "        # 判斷只能輸入y或n\n",
    "        again=input(\"繼續(y/n)?\")      \n",
    "        if again[0].lower()=='n':\n",
    "            break\n",
    "        elif again[0].lower()=='y':\n",
    "            no='yes'\n",
    "            continue\n",
    "        else:\n",
    "            print('無效的字元')\n",
    "            no='no'\n",
    "conn.close()"
   ]
  },
  {
   "cell_type": "code",
   "execution_count": null,
   "id": "d180e8ae",
   "metadata": {
    "scrolled": true
   },
   "outputs": [],
   "source": [
    "# 使用id欄位自動增值的方式 myInfo2.db\n",
    "\n",
    "import sqlite3\n",
    "conn=sqlite3.connect('myInfo2.db')\n",
    "while True:\n",
    "    new_name=input(\"請輸入name:\")\n",
    "    new_gender=input(\"請輸入gender:\")\n",
    "    new_datas=(new_name,new_gender)\n",
    "    # 使用自動增值的方式 在表單內加上欄位student2(name, gender)\n",
    "    sql='''insert into student2(name,gender) values(?,?)''' \n",
    "    conn.execute(sql,new_datas)\n",
    "    conn.commit()\n",
    "    again=input('繼續(y/n)?')\n",
    "    if again.lower()=='n':\n",
    "        break\n",
    "conn.close()"
   ]
  },
  {
   "cell_type": "code",
   "execution_count": null,
   "id": "67013bae",
   "metadata": {
    "scrolled": true
   },
   "outputs": [],
   "source": [
    "# 列出所有資料表單\n",
    "\n",
    "import sqlite3\n",
    "conn=sqlite3.connect('myInfo.db')\n",
    "results=conn.execute('SELECT * from students')  # '''SELECT查詢 *所有的 from 表單名稱'''\n",
    "for r in results:\n",
    "    print('id:',r[0])\n",
    "    print('name:',r[1])\n",
    "    print('gender:',r[2])\n",
    "conn.close()"
   ]
  },
  {
   "cell_type": "code",
   "execution_count": null,
   "id": "2573b4a0",
   "metadata": {
    "scrolled": true
   },
   "outputs": [],
   "source": [
    "# 以fetchall()列出表單所有查詢到的人\n",
    "\n",
    "import sqlite3\n",
    "conn=sqlite3.connect('myInfo2.db')\n",
    "results=conn.execute('SELECT * from student2')         \n",
    "results_name=conn.execute('SELECT name from student2')  # 只印出想搜尋的欄位 '''SELECT 欄位名稱'''\n",
    "sql='''SELECT name,gender from student2 where gender=\"M\"'''\n",
    "results_gender=conn.execute(sql)  # where條件\n",
    "all_student2=results.fetchall()\n",
    "all_student2_name=results_name.fetchall()\n",
    "for s in all_student2:\n",
    "    print(s)  \n",
    "print('\\n只印出名字:')\n",
    "for s in all_student2_name:\n",
    "    print(s)\n",
    "print('\\n只印出男性:')\n",
    "for s in results_gender:\n",
    "    print(s)\n",
    "    \n",
    "# '''UPDATE更新表單 set 欄位=新內容 where要改哪個要註明好'''\n",
    "print('\\nUPDATE更新表單:')\n",
    "sql='''UPDATE student2 set name=\"Tommy\" where name=\"Chen\"'''\n",
    "results=conn.execute(sql)\n",
    "conn.commit()\n",
    "results=conn.execute('SELECT name from student2')\n",
    "all_student2=results.fetchall()\n",
    "for s in all_student2:\n",
    "    print(s)\n",
    "conn.close()"
   ]
  },
  {
   "cell_type": "code",
   "execution_count": null,
   "id": "c68b6bd4",
   "metadata": {
    "scrolled": true
   },
   "outputs": [],
   "source": [
    "# 同上 只是將更新資料庫及印出表單包成def函式 \n",
    "\n",
    "import sqlite3\n",
    "conn=sqlite3.connect('myInfo2.db')\n",
    "\n",
    "# 包成函式 更新資料庫及印出表單\n",
    "def conn_commit_fn(conn_,sql_):\n",
    "    conn_.commit()\n",
    "    results_=conn_.execute(sql_)\n",
    "    all_student_=results_.fetchall()\n",
    "    for s in all_student_:\n",
    "        print(s)\n",
    "        \n",
    "sql_1='''SELECT * from student2'''\n",
    "conn_commit_fn(conn,sql_1)\n",
    "\n",
    "sql_2='''SELECT name from student2'''  # 只印出想搜尋的欄位 '''SELECT 欄位名稱'''\n",
    "print('\\n只印出名字:')\n",
    "conn_commit_fn(conn,sql_2)\n",
    "\n",
    "# '''SELECT尋找 欄位1,欄位2 where條件'''\n",
    "sql_3='''SELECT name,gender from student2 where gender=\"M\"'''\n",
    "print('\\n只印出男性:')\n",
    "conn_commit_fn(conn,sql_3)\n",
    "    \n",
    "# '''UPDATE更新表單 set 欄位=新內容 where要改哪個要註明好'''\n",
    "print('\\nUPDATE更新表單:')\n",
    "sql_4='''UPDATE student2 set name=\"Tommy\" where name=\"Chen\"'''\n",
    "conn.commit()\n",
    "results_=conn.execute(sql_4)\n",
    "\n",
    "sql_5='''SELECT name from student2'''\n",
    "conn_commit_fn(conn,sql_5)\n",
    "\n",
    "# '''DELETE刪除表單 from 表單 where要改哪個要註明好'''\n",
    "print('\\nDELETE刪除表單:')\n",
    "sql_6='''DELETE from student2 where id=7'''\n",
    "conn.commit()\n",
    "results_=conn.execute(sql_6)\n",
    "conn_commit_fn(conn,sql_1)\n",
    "\n",
    "conn.close()"
   ]
  },
  {
   "cell_type": "code",
   "execution_count": 1,
   "id": "7818bb67",
   "metadata": {},
   "outputs": [
    {
     "data": {
      "text/plain": [
       "<sqlite3.Cursor at 0x1ee0d246960>"
      ]
     },
     "execution_count": 1,
     "metadata": {},
     "output_type": "execute_result"
    }
   ],
   "source": [
    "# 將台北人口儲存到SQLite\n",
    "\n",
    "import sqlite3,csv\n",
    "conn=sqlite3.connect('populations.db')  # 資料庫連線\n",
    "# 創建資料表時 注意逗號 因為是以逗號分欄位數\n",
    "sql='''CREATE table populations(\n",
    "        area TEXT,\n",
    "        male int,\n",
    "        female int,\n",
    "        total int)'''\n",
    "conn.execute(sql)"
   ]
  },
  {
   "cell_type": "code",
   "execution_count": 2,
   "id": "347c3568",
   "metadata": {},
   "outputs": [
    {
     "name": "stdout",
     "output_type": "stream",
     "text": [
      "區域:   松山區 \n",
      "男性人口數: 96357\n",
      "女性人口數: 109276\n",
      "總計人口數: 205633\n",
      "區域:   信義區 \n",
      "男性人口數: 106330\n",
      "女性人口數: 116783\n",
      "總計人口數: 223113\n",
      "區域:   大安區 \n",
      "男性人口數: 143905\n",
      "女性人口數: 164781\n",
      "總計人口數: 308686\n",
      "區域:   中山區 \n",
      "男性人口數: 106562\n",
      "女性人口數: 122747\n",
      "總計人口數: 229309\n",
      "區域:   中正區 \n",
      "男性人口數: 75840\n",
      "女性人口數: 83063\n",
      "總計人口數: 158903\n",
      "區域:   大同區 \n",
      "男性人口數: 62124\n",
      "女性人口數: 65527\n",
      "總計人口數: 127651\n",
      "區域:   萬華區 \n",
      "男性人口數: 92825\n",
      "女性人口數: 96562\n",
      "總計人口數: 189387\n",
      "區域:   文山區 \n",
      "男性人口數: 131114\n",
      "女性人口數: 142572\n",
      "總計人口數: 273686\n",
      "區域:   南港區 \n",
      "男性人口數: 59392\n",
      "女性人口數: 62184\n",
      "總計人口數: 121576\n",
      "區域:   內湖區 \n",
      "男性人口數: 137196\n",
      "女性人口數: 150246\n",
      "總計人口數: 287442\n",
      "區域:   士林區 \n",
      "男性人口數: 137965\n",
      "女性人口數: 148374\n",
      "總計人口數: 286339\n",
      "區域:   北投區 \n",
      "男性人口數: 122775\n",
      "女性人口數: 132408\n",
      "總計人口數: 255183\n"
     ]
    }
   ],
   "source": [
    "fn='Taipei_Population.csv'  \n",
    "with open(fn) as csv_file:\n",
    "    # 使用csv.reader讀取出來的rows會是一個二維的list 還是要記得轉成list\n",
    "    csv_reader=csv.reader(csv_file)\n",
    "    csv_list=list(csv_reader)\n",
    "    csv_data=csv_list[4:]   #前4行row不要 從第4行row開始\n",
    "\n",
    "    for c_d in csv_data:\n",
    "        area=c_d[0]\n",
    "        male=int(c_d[7])\n",
    "        female=int(c_d[8])\n",
    "        total=int(c_d[6])\n",
    "        new_data=(area,male,female,total)   # 將要新增至資料庫的資料轉成tuple\n",
    "        sql_1='''insert into populations values(?,?,?,?)'''   # 新增至資料庫 搭配下一行\n",
    "        conn.execute(sql_1,new_data)  \n",
    "        conn.commit()\n",
    "        \n",
    "results=conn.execute('SELECT * from populations')\n",
    "for r in results:\n",
    "    print('區域:',r[0])\n",
    "    print('男性人口數:',r[1])\n",
    "    print('女性人口數:',r[2])\n",
    "    print('總計人口數:',r[3])\n",
    "    \n",
    "conn.close()"
   ]
  },
  {
   "cell_type": "code",
   "execution_count": 26,
   "id": "7f3b8257",
   "metadata": {
    "scrolled": true
   },
   "outputs": [
    {
     "data": {
      "image/png": "[encoded data removed]",
      "text/plain": [
       "<Figure size 432x288 with 1 Axes>"
      ]
     },
     "metadata": {
      "needs_background": "light"
     },
     "output_type": "display_data"
    }
   ],
   "source": [
    "import sqlite3\n",
    "import matplotlib.pyplot as plt\n",
    "from pylab import mpl\n",
    "\n",
    "conn=sqlite3.connect('populations.db')\n",
    "sql='''SELECT * from populations'''\n",
    "results=conn.execute(sql)\n",
    "\n",
    "# 將每個row欄位建成list 方便畫圖用\n",
    "area_list,male_list,female_list,total_list=[],[],[],[]\n",
    "for r in results:\n",
    "    area_list.append(r[0])\n",
    "    male_list.append(r[1])\n",
    "    female_list.append(r[2])\n",
    "    total_list.append(r[3])\n",
    "conn.close()\n",
    "\n",
    " # 使用黑體 一定要設在顯示中文前\n",
    "mpl.rcParams[\"font.sans-serif\"]=[\"SimHei\"]   \n",
    "\n",
    "# 顯示中文\n",
    "plt.rcParams['font.sans-serif'] = ['Microsoft JhengHei'] \n",
    "plt.rcParams['axes.unicode_minus'] = False\n",
    "\n",
    "# 開始畫圖\n",
    "seq=area_list\n",
    "linemale,=plt.plot(seq,male_list,'-*',label='男性人口數')\n",
    "linefemale,=plt.plot(seq,female_list,'-o',label='女性人口數')\n",
    "linetotal,=plt.plot(seq,total_list,'-^',label='總計人口數')\n",
    "\n",
    "# 設立標題及細項\n",
    "plt.legend(handles=[linemale,linefemale,linetotal],loc='upper center')  # 顯示線條圖例 loc=位置\n",
    "plt.title(u\"台北市\",fontsize=24)\n",
    "plt.xlabel(u\"2019年\",fontsize=14)\n",
    "plt.ylabel(u\"人口數\",fontsize=14)\n",
    "plt.show()"
   ]
  }
 ],
 "metadata": {
  "kernelspec": {
   "display_name": "Python 3 (ipykernel)",
   "language": "python",
   "name": "python3"
  },
  "language_info": {
   "codemirror_mode": {
    "name": "ipython",
    "version": 3
   },
   "file_extension": ".py",
   "mimetype": "text/x-python",
   "name": "python",
   "nbconvert_exporter": "python",
   "pygments_lexer": "ipython3",
   "version": "3.8.12"
  }
 },
 "nbformat": 4,
 "nbformat_minor": 5
}
