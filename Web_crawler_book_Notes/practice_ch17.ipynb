{
 "cells": [
  {
   "cell_type": "code",
   "execution_count": 9,
   "id": "e54f4236",
   "metadata": {
    "scrolled": true
   },
   "outputs": [
    {
     "name": "stdout",
     "output_type": "stream",
     "text": [
      "南港 NanGang\n",
      "台北 TaiPei\n",
      "板橋 BanQiao\n",
      "桃園 TaoYuan\n",
      "新竹 XinZhu\n",
      "苗栗 MiaoLi\n",
      "台中 TaiZhong\n",
      "彰化 ZhangHua\n",
      "雲林 YunLin\n",
      "嘉義 JiaYi\n",
      "台南 TaiNan\n",
      "左營 ZuoYing\n"
     ]
    }
   ],
   "source": [
    "import requests,bs4\n",
    "\n",
    "url='https://www.thsrc.com.tw/'\n",
    "headers={'user-agent': 'Mozilla/5.0 (Windows NT 6.2; Win64; x64) AppleWebKit/537.36 (KHTML, like Gecko) Chrome/100.0.4896.75 Safari/537.36'}\n",
    "html=requests.get(url,headers=headers)\n",
    "html.encoding='utf-8'  # 要依照網頁編碼作轉碼\n",
    "obj_soup=bs4.BeautifulSoup(html.text,'lxml')\n",
    "\n",
    "obj_select=obj_soup.find('select',id='select_location01').find_all('option')\n",
    "for se in obj_select:\n",
    "    # 把下拉式表單內有'value'的值全印出來\n",
    "    if se['value']:\n",
    "        print(se.text.strip(),se['value'])"
   ]
  },
  {
   "cell_type": "code",
   "execution_count": 15,
   "id": "3bc899f3",
   "metadata": {},
   "outputs": [
    {
     "name": "stdout",
     "output_type": "stream",
     "text": [
      "22 - 30\n"
     ]
    }
   ],
   "source": [
    "# 要抓js寫得 一定要用selenium才抓得到\n",
    "\n",
    "from selenium import webdriver\n",
    "from selenium.webdriver.common.by import By\n",
    "from selenium.webdriver.chrome.service import Service\n",
    "import bs4\n",
    "\n",
    "url='https://www.cwb.gov.tw/V8/C/W/County/County.html?CID=63'\n",
    "driver_path=Service('D://chromedriver.exe')\n",
    "driver=webdriver.Chrome(service=driver_path)\n",
    "driver.get(url)\n",
    "\n",
    "obj_soup=bs4.BeautifulSoup(driver.page_source,'lxml')\n",
    "span=obj_soup.select_one('li:nth-child(2) > span.tem > span.tem-C.is-active')\n",
    "print(span.text)\n",
    "driver.close()"
   ]
  }
 ],
 "metadata": {
  "kernelspec": {
   "display_name": "Python 3 (ipykernel)",
   "language": "python",
   "name": "python3"
  },
  "language_info": {
   "codemirror_mode": {
    "name": "ipython",
    "version": 3
   },
   "file_extension": ".py",
   "mimetype": "text/x-python",
   "name": "python",
   "nbconvert_exporter": "python",
   "pygments_lexer": "ipython3",
   "version": "3.8.12"
  }
 },
 "nbformat": 4,
 "nbformat_minor": 5
}
