{
 "cells": [
  {
   "cell_type": "code",
   "execution_count": null,
   "id": "a0215e15",
   "metadata": {
    "scrolled": true
   },
   "outputs": [],
   "source": [
    "# 如何剖析JSON資料,如何剖析JSON Array\n",
    "\n",
    "#剖析json\n",
    "import json\n",
    "j = json.loads(\n",
    "    '{\"one\" : \"1\", \"two\" : \"2\", \"three\" : \"3\",\"twoDimension\" : {\"lv2id\":\"777\", \"lv2name\":\"superman\"}}')\n",
    "k = json.loads(\n",
    "    '{\"one\" : \"1\", \"two\" : \"2\", \"three\" : \"3\",\"twoDimension\" : [{\"lv2id\":\"777\", \"lv2name\":\"superman\"}]}')\n",
    "print(j['two'])\n",
    "print(j['twoDimension'][\"lv2id\"])\n",
    "print(type(j['twoDimension'][\"lv2id\"]))\n",
    "print(type(j))\n",
    "print(k['twoDimension'])  # 這是list\n",
    "print(type(k['twoDimension']) )  # 無法再進一層"
   ]
  },
  {
   "cell_type": "code",
   "execution_count": null,
   "id": "e989efaf",
   "metadata": {
    "scrolled": false
   },
   "outputs": [],
   "source": [
    "#剖析json array\n",
    "import json\n",
    "\n",
    "input_file = open ('myJSONArray.json')\n",
    "json_array = json.load(input_file)\n",
    "\n",
    "for item in json_array:\n",
    "    print(\"id:\" + item['id'])\n",
    "    print(\"name:\" + item['name'])\n",
    "    \n",
    "input_file.close()"
   ]
  },
  {
   "cell_type": "code",
   "execution_count": null,
   "id": "dd66c7f4",
   "metadata": {
    "scrolled": true
   },
   "outputs": [],
   "source": [
    "import json\n",
    "with open('myJSONarray.json', newline='') as jsonfile:\n",
    "    data = json.load(jsonfile)\n",
    "    # 或者這樣\n",
    "    # data = json.loads(jsonfile.read())\n",
    "    print(data)"
   ]
  },
  {
   "cell_type": "markdown",
   "id": "0950c977",
   "metadata": {},
   "source": [
    "### 序列化（encode）\n",
    "### json 模組也提供兩個方法來序列化（寫入） JSON 格式的資料，第一個參數都是要序列化的目標，兩個方法只差在第二個參數，其他的參數都一樣：\n",
    "### json.dump：第二個參數需要支援 .write() 方法（通常是文字檔案或二進位檔案實例）用來寫入資料。\n",
    "### json.dumps：不需要第二個參數，會直接回傳 JSON 格式的 str 實例。"
   ]
  },
  {
   "cell_type": "code",
   "execution_count": null,
   "id": "6e62fa9b",
   "metadata": {
    "scrolled": true
   },
   "outputs": [],
   "source": [
    "# append只能執行一次不然會不停的增加\n",
    "with open('myJSONarray.json', 'w', newline='') as jsonfile:\n",
    "    data.append({ \\\n",
    "        'id': 5, \\\n",
    "        'first_name': 'Vin', \\\n",
    "        'last_name': 'Sturdgess', \\\n",
    "        'gender': 'Male', \\\n",
    "        'country': 'Greece' \\\n",
    "    })\n",
    "    json.dump(data, jsonfile)\n",
    "    # 或者這樣\n",
    "    # jsonfile.write(json.dumps(data))\n",
    "print(data)    "
   ]
  },
  {
   "cell_type": "code",
   "execution_count": null,
   "id": "77826e77",
   "metadata": {},
   "outputs": [],
   "source": [
    "# 要開啟最好換下一格\n",
    "with open('myJSONarray.json', newline='') as jsonfile:\n",
    "    data = json.load(jsonfile)\n",
    "print(data)"
   ]
  },
  {
   "cell_type": "code",
   "execution_count": null,
   "id": "b7d3aa35",
   "metadata": {
    "scrolled": true
   },
   "outputs": [],
   "source": [
    "players = {'Stephen Curry':'Golden State Warriors',\n",
    "           'Kevin Durant':'Golden State Warriors',\n",
    "           'Lebron James':'Cleveland Cavaliers',\n",
    "           'James Harden':'Houston Rockets',\n",
    "           'Paul Gasol':'San Antonio Spurs',\n",
    " }\n",
    "\n",
    "# 沒排序速度比較快\n",
    "%timeit jsonObj1 = json.dumps(players)             \n",
    "%timeit jsonObj2 = json.dumps(players, sort_keys=True) \n",
    "jsonObj2 = json.dumps(players, sort_keys=True,indent=4) \n",
    "print(jsonObj2)"
   ]
  },
  {
   "cell_type": "code",
   "execution_count": null,
   "id": "5c495330",
   "metadata": {
    "scrolled": true
   },
   "outputs": [],
   "source": [
    "# try-except 底下可以放 else 陳述， else 處理例外沒有發生的情況， else 可有可無，此例 1 除以 1 不會發生例外，因此變數 m 被設定為字串 (string) \"Good!\"\n",
    "\n",
    "try:\n",
    "    a = 3 / 1\n",
    "except:\n",
    "    a = 0\n",
    "else:\n",
    "    m = \"Good!\"\n",
    "\n",
    "print(a)\n",
    "print(m)"
   ]
  },
  {
   "cell_type": "code",
   "execution_count": null,
   "id": "1ed026c9",
   "metadata": {
    "scrolled": true
   },
   "outputs": [],
   "source": [
    "# 與 for i in q: 結果一樣\n",
    "\n",
    "q=[113.232,1651561.4465465,15]\n",
    "r=q.copy()\n",
    "w=[]\n",
    "for i in range(len(q)):\n",
    "    q[i]=int(q[i])\n",
    "print(q)\n",
    "print(r)"
   ]
  },
  {
   "cell_type": "code",
   "execution_count": null,
   "id": "1274008f",
   "metadata": {},
   "outputs": [],
   "source": [
    "# 與 for i in range(len(q)): 結果一樣\n",
    "\n",
    "q=[113.232,1651561.4465465,15]\n",
    "w=[]\n",
    "for i in q:\n",
    "    k=int(i)\n",
    "    w.append(k)\n",
    "print(w)"
   ]
  },
  {
   "cell_type": "code",
   "execution_count": null,
   "id": "b32662d9",
   "metadata": {},
   "outputs": [],
   "source": [
    "# 字串就要先轉浮點數\n",
    "\n",
    "q=['113.232','1651561.4465465','15']\n",
    "r=q.copy()\n",
    "w=[]\n",
    "for i in range(len(q)):\n",
    "    q[i]=int(float(q[i]))\n",
    "print(q)\n",
    "print(r)"
   ]
  },
  {
   "cell_type": "code",
   "execution_count": null,
   "id": "e97d5e24",
   "metadata": {
    "scrolled": true
   },
   "outputs": [],
   "source": [
    "# ch1_16.py\n",
    "import json\n",
    "from pygal.maps.world import COUNTRIES\n",
    "\n",
    "'''輸入國家名稱回傳國家代碼'''\n",
    "for dictCode, dictName in sorted(COUNTRIES.items()):    # 搜尋國家與國家代碼字典\n",
    "    print(dictCode, dictName)"
   ]
  },
  {
   "cell_type": "code",
   "execution_count": null,
   "id": "0b372b66",
   "metadata": {
    "scrolled": true
   },
   "outputs": [],
   "source": [
    "#dicts用法 直接取值\n",
    "\n",
    "dicts={'A':'a','B':'b','C':'c'}\n",
    "print(dicts.items())\n",
    "for x,y in dicts.items():\n",
    "    print(x,y)"
   ]
  },
  {
   "cell_type": "code",
   "execution_count": null,
   "id": "9f658530",
   "metadata": {
    "scrolled": true
   },
   "outputs": [],
   "source": [
    "dicts={'A':'a','B':'b','C':'c'}\n",
    "gg=[{\"Country Name\": \"World\", \"Country Code\": \"WLD\", \"Year\": \"2000\", \"Numbers\": \"6117806174.56156\"}, \n",
    "    {\"Country Name\": \"a\", \"Country Code\": \"b\", \"Year\": \"2010\", \"Numbers\": \"6894595189.85751\"}]\n",
    "def ww(var):\n",
    "    for cCode, cName in sorted(dicts.items()):\n",
    "#         print(cCode, cName)\n",
    "        if cName == var:\n",
    "            return cCode\n",
    "    return 'None'\n",
    "\n",
    "for g in gg:\n",
    "    ff = g['Country Code']\n",
    "    ee=ww(ff)    # 可以接def的return值\n",
    "    print(ff,'_ee:',ee)\n",
    "    if ee=='None':\n",
    "        print('.....')\n"
   ]
  },
  {
   "cell_type": "code",
   "execution_count": null,
   "id": "9c9dd6a5",
   "metadata": {},
   "outputs": [],
   "source": [
    "for g in gg:\n",
    "    ff = g['Country Name']\n",
    "    ee=ww(ff)    # 可以接def的return值\n",
    "    print(ff)\n",
    "    print('ee:',ee)\n",
    "    if ee=='None':\n",
    "        print('.....')"
   ]
  },
  {
   "cell_type": "code",
   "execution_count": 1,
   "id": "99422959",
   "metadata": {
    "scrolled": false
   },
   "outputs": [
    {
     "name": "stdout",
     "output_type": "stream",
     "text": [
      "None\n",
      "YES\n",
      "None\n"
     ]
    }
   ],
   "source": [
    "# 簡單小練習 概念卻很重要 丟進def的出來就是結果ruturn的值可以用變數接 \n",
    "\n",
    "q='YES'\n",
    "ee=['y','YES','jk']\n",
    "\n",
    "def a(var):\n",
    "    if var==q:\n",
    "        return 'YES'\n",
    "    return None\n",
    "\n",
    "for e in ee:\n",
    "    s=a(e)\n",
    "    print(s)"
   ]
  },
  {
   "cell_type": "code",
   "execution_count": 23,
   "id": "c95d2158",
   "metadata": {
    "scrolled": true
   },
   "outputs": [
    {
     "name": "stdout",
     "output_type": "stream",
     "text": [
      "{'zw': 3072478, 'nl': 25951672, 'cn': 13926705}\n",
      "{'gu': 6117806174}\n",
      "{'nl': 25951672, 'cn': 13926705}\n",
      "{'zw': 3072478}\n"
     ]
    }
   ],
   "source": [
    "# 將json字典加入新寫法 \n",
    "\n",
    "import json\n",
    "import pygal.maps.world\n",
    "from pygal.maps.world import COUNTRIES\n",
    "\n",
    "dictss1,dictss2={},{}\n",
    "jsons=[{\"Country Name\": \"World\", \"Country Code\": \"gu\", \"Year\": \"2010\", \"Numbers\": \"6117806174.56156\"}, \n",
    "    {\"Country Name\": \"Albania\", \"Country Code\": \"zw\", \"Year\": \"2000\", \"Numbers\": \"3072478.0\"},\n",
    "    {\"Country Name\": \"Afghanistan\", \"Country Code\": \"nl\", \"Year\": \"2000\", \"Numbers\": \"25951672.5\"},\n",
    "    {\"Country Name\": \"Angola\", \"Country Code\": \"cn\", \"Year\": \"2000\", \"Numbers\": \"13926705.0\"}]\n",
    "for js in jsons: \n",
    "    c_code=js['Country Code']\n",
    "    c_num=js['Numbers']\n",
    "    if js['Year']=='2000':  \n",
    "        dictss1[c_code]=int(float(c_num))\n",
    "    elif js['Year']=='2010':\n",
    "        dictss2[c_code]=int(float(c_num))\n",
    "        \n",
    "print(dictss1)\n",
    "print(dictss2)\n",
    "\n",
    "dicts1={}\n",
    "dicts2={}\n",
    "\n",
    "for di_code,di_num in dictss1.items():\n",
    "    if di_num>10000000:\n",
    "        dicts1[di_code]=di_num\n",
    "    else:\n",
    "        dicts2[di_code]=di_num\n",
    "print(dicts1)  \n",
    "print(dicts2)\n",
    "\n",
    "worldMap = pygal.maps.world.World()\n",
    "worldMap.title = \"World Population in 2000\"\n",
    "worldMap.add('Over 1000000000', dicts1)\n",
    "worldMap.add('Under 1000000000', dicts2)\n",
    "worldMap.render_to_file('out1_22_myself.svg')              # 儲存地圖檔案"
   ]
  },
  {
   "cell_type": "code",
   "execution_count": 22,
   "id": "a4bf48fa",
   "metadata": {
    "scrolled": true
   },
   "outputs": [
    {
     "data": {
      "text/plain": [
       "6117806174"
      ]
     },
     "execution_count": 22,
     "metadata": {},
     "output_type": "execute_result"
    }
   ],
   "source": [
    "# 給字典標題列\n",
    "dictss3={'year 2010':dictss2}\n",
    "dictss3['year 2010']['zw']"
   ]
  }
 ],
 "metadata": {
  "kernelspec": {
   "display_name": "Python 3 (ipykernel)",
   "language": "python",
   "name": "python3"
  },
  "language_info": {
   "codemirror_mode": {
    "name": "ipython",
    "version": 3
   },
   "file_extension": ".py",
   "mimetype": "text/x-python",
   "name": "python",
   "nbconvert_exporter": "python",
   "pygments_lexer": "ipython3",
   "version": "3.8.12"
  }
 },
 "nbformat": 4,
 "nbformat_minor": 5
}
