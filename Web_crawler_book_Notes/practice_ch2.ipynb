{
 "cells": [
  {
   "cell_type": "code",
   "execution_count": 2,
   "id": "e9f1aac2",
   "metadata": {
    "scrolled": true
   },
   "outputs": [
    {
     "name": "stdout",
     "output_type": "stream",
     "text": [
      "Name,Year,Product,Price,Quantity,Revenue,Location\n",
      "Diana,2015,Black Tea,10,600,6000,New York\n",
      "Diana,2015,Green Tea,7,660,4620,New York\n",
      "Diana,2016,Black Tea,10,750,7500,New York\n",
      "Diana,2016,Green Tea,7,900,6300,New York\n",
      "Julia,2015,Black Tea,10,1200,12000,New York\n",
      "Julia,2016,Black Tea,10,1260,12600,New York\n",
      "Steve,2015,Black Tea,10,1170,11700,Chicago\n",
      "Steve,2015,Green Tea,7,1260,8820,Chicago\n",
      "Steve,2016,Black Tea,10,1350,13500,Chicago\n",
      "Steve,2016,Green Tea,7,1440,10080,Chicago\n",
      "\n"
     ]
    }
   ],
   "source": [
    "import csv \n",
    "\n",
    "with open('csvReport.csv','r')as csvFile:\n",
    "    c=csvFile.read()\n",
    "print(c)"
   ]
  },
  {
   "cell_type": "code",
   "execution_count": 5,
   "id": "c7fdb060",
   "metadata": {
    "scrolled": true
   },
   "outputs": [
    {
     "data": {
      "text/html": [
       "<div>\n",
       "<style scoped>\n",
       "    .dataframe tbody tr th:only-of-type {\n",
       "        vertical-align: middle;\n",
       "    }\n",
       "\n",
       "    .dataframe tbody tr th {\n",
       "        vertical-align: top;\n",
       "    }\n",
       "\n",
       "    .dataframe thead th {\n",
       "        text-align: right;\n",
       "    }\n",
       "</style>\n",
       "<table border=\"1\" class=\"dataframe\">\n",
       "  <thead>\n",
       "    <tr style=\"text-align: right;\">\n",
       "      <th></th>\n",
       "      <th>Name</th>\n",
       "      <th>Year</th>\n",
       "      <th>Product</th>\n",
       "      <th>Price</th>\n",
       "      <th>Quantity</th>\n",
       "      <th>Revenue</th>\n",
       "      <th>Location</th>\n",
       "    </tr>\n",
       "  </thead>\n",
       "  <tbody>\n",
       "    <tr>\n",
       "      <th>0</th>\n",
       "      <td>Diana</td>\n",
       "      <td>2015</td>\n",
       "      <td>Black Tea</td>\n",
       "      <td>10</td>\n",
       "      <td>600</td>\n",
       "      <td>6000</td>\n",
       "      <td>New York</td>\n",
       "    </tr>\n",
       "    <tr>\n",
       "      <th>1</th>\n",
       "      <td>Diana</td>\n",
       "      <td>2015</td>\n",
       "      <td>Green Tea</td>\n",
       "      <td>7</td>\n",
       "      <td>660</td>\n",
       "      <td>4620</td>\n",
       "      <td>New York</td>\n",
       "    </tr>\n",
       "    <tr>\n",
       "      <th>2</th>\n",
       "      <td>Diana</td>\n",
       "      <td>2016</td>\n",
       "      <td>Black Tea</td>\n",
       "      <td>10</td>\n",
       "      <td>750</td>\n",
       "      <td>7500</td>\n",
       "      <td>New York</td>\n",
       "    </tr>\n",
       "    <tr>\n",
       "      <th>3</th>\n",
       "      <td>Diana</td>\n",
       "      <td>2016</td>\n",
       "      <td>Green Tea</td>\n",
       "      <td>7</td>\n",
       "      <td>900</td>\n",
       "      <td>6300</td>\n",
       "      <td>New York</td>\n",
       "    </tr>\n",
       "    <tr>\n",
       "      <th>4</th>\n",
       "      <td>Julia</td>\n",
       "      <td>2015</td>\n",
       "      <td>Black Tea</td>\n",
       "      <td>10</td>\n",
       "      <td>1200</td>\n",
       "      <td>12000</td>\n",
       "      <td>New York</td>\n",
       "    </tr>\n",
       "    <tr>\n",
       "      <th>5</th>\n",
       "      <td>Julia</td>\n",
       "      <td>2016</td>\n",
       "      <td>Black Tea</td>\n",
       "      <td>10</td>\n",
       "      <td>1260</td>\n",
       "      <td>12600</td>\n",
       "      <td>New York</td>\n",
       "    </tr>\n",
       "    <tr>\n",
       "      <th>6</th>\n",
       "      <td>Steve</td>\n",
       "      <td>2015</td>\n",
       "      <td>Black Tea</td>\n",
       "      <td>10</td>\n",
       "      <td>1170</td>\n",
       "      <td>11700</td>\n",
       "      <td>Chicago</td>\n",
       "    </tr>\n",
       "    <tr>\n",
       "      <th>7</th>\n",
       "      <td>Steve</td>\n",
       "      <td>2015</td>\n",
       "      <td>Green Tea</td>\n",
       "      <td>7</td>\n",
       "      <td>1260</td>\n",
       "      <td>8820</td>\n",
       "      <td>Chicago</td>\n",
       "    </tr>\n",
       "    <tr>\n",
       "      <th>8</th>\n",
       "      <td>Steve</td>\n",
       "      <td>2016</td>\n",
       "      <td>Black Tea</td>\n",
       "      <td>10</td>\n",
       "      <td>1350</td>\n",
       "      <td>13500</td>\n",
       "      <td>Chicago</td>\n",
       "    </tr>\n",
       "    <tr>\n",
       "      <th>9</th>\n",
       "      <td>Steve</td>\n",
       "      <td>2016</td>\n",
       "      <td>Green Tea</td>\n",
       "      <td>7</td>\n",
       "      <td>1440</td>\n",
       "      <td>10080</td>\n",
       "      <td>Chicago</td>\n",
       "    </tr>\n",
       "  </tbody>\n",
       "</table>\n",
       "</div>"
      ],
      "text/plain": [
       "    Name  Year    Product  Price  Quantity  Revenue  Location\n",
       "0  Diana  2015  Black Tea     10       600     6000  New York\n",
       "1  Diana  2015  Green Tea      7       660     4620  New York\n",
       "2  Diana  2016  Black Tea     10       750     7500  New York\n",
       "3  Diana  2016  Green Tea      7       900     6300  New York\n",
       "4  Julia  2015  Black Tea     10      1200    12000  New York\n",
       "5  Julia  2016  Black Tea     10      1260    12600  New York\n",
       "6  Steve  2015  Black Tea     10      1170    11700   Chicago\n",
       "7  Steve  2015  Green Tea      7      1260     8820   Chicago\n",
       "8  Steve  2016  Black Tea     10      1350    13500   Chicago\n",
       "9  Steve  2016  Green Tea      7      1440    10080   Chicago"
      ]
     },
     "execution_count": 5,
     "metadata": {},
     "output_type": "execute_result"
    }
   ],
   "source": [
    "from pandas import DataFrame\n",
    "import pandas as pd\n",
    "\n",
    "csv=pd.read_csv('csvReport.csv')\n",
    "csv"
   ]
  },
  {
   "cell_type": "code",
   "execution_count": 7,
   "id": "c1c0986a",
   "metadata": {},
   "outputs": [],
   "source": [
    "import csv\n",
    "\n",
    "fn = '123.csv'\n",
    "with open(fn,'w') as csvFile: \n",
    "    csvFile.write('123456')"
   ]
  },
  {
   "cell_type": "code",
   "execution_count": 3,
   "id": "61ae103a",
   "metadata": {},
   "outputs": [
    {
     "name": "stdout",
     "output_type": "stream",
     "text": [
      "Eli Manning\n",
      "Kevin  James\n",
      "Mike Jordon\n"
     ]
    }
   ],
   "source": [
    "# ch2_6.py\n",
    "\n",
    "import csv\n",
    "\n",
    "fn = 'csvPeople.csv'\n",
    "with open(fn) as csvFile:                   # 開啟csv檔案\n",
    "    csvDictReader = csv.DictReader(csvFile) # 讀檔案建立DictReader物件   \n",
    "    for row in csvDictReader:               # 使用迴圈列出字典內容\n",
    "        print(row['first_name'], row['last_name'])"
   ]
  },
  {
   "cell_type": "code",
   "execution_count": 10,
   "id": "6d241fb2",
   "metadata": {},
   "outputs": [],
   "source": [
    "with open('fn.csv','w',newline='') as csvFile:  \n",
    "    out=csv.writer(csvFile)\n",
    "    out.writerow([row['first_name'],row['last_name']]) # 沒轉list 會變一個字一個字"
   ]
  },
  {
   "cell_type": "code",
   "execution_count": 13,
   "id": "31cdaf3b",
   "metadata": {
    "scrolled": false
   },
   "outputs": [
    {
     "name": "stdout",
     "output_type": "stream",
     "text": [
      "['A', 'B', 'C']\n",
      "['D', 'E', 'F']\n",
      "['G', 'H', 'I']\n"
     ]
    }
   ],
   "source": [
    "# ch2_10.py\n",
    "import csv\n",
    "\n",
    "pp=[['A','B','C'],['D','E','F'],['G','H','I']]\n",
    "\n",
    "\n",
    "fn = 'out2_10_myself.csv'\n",
    "with open(fn, 'w', newline = '') as csvFile:                    # 開啟csv檔案\n",
    "    fields = ['Name', 'Age', 'City']\n",
    "    dictWriter = csv.DictWriter(csvFile, fieldnames=fields)     # 建立Writer物件\n",
    "\n",
    "    dictWriter.writeheader()                                    # 寫入標題\n",
    "    for p in pp:\n",
    "        print(p)\n",
    "        dictWriter.writerow({'Name':p[0], 'Age':p[1], 'City':p[2]})"
   ]
  },
  {
   "cell_type": "code",
   "execution_count": 24,
   "id": "79d2bb7c",
   "metadata": {},
   "outputs": [],
   "source": [
    "dictList = [{'Name':'Hung', 'Age':'35', 'City':'Taipei'},       # 定義串列,元素是字典\n",
    "          {'Name':'James', 'Age':'40', 'City':'Chicago'}]\n",
    "\n",
    "fn = 'out2_11_myself.csv'\n",
    "with open(fn, 'w', newline = '') as csvFile:                    # 開啟csv檔案\n",
    "    fields = ['Name', 'Age', 'City']\n",
    "    dictWriter = csv.DictWriter(csvFile, fieldnames=fields)     # 建立Writer物件\n",
    "    \n",
    "    dictWriter.writeheader()\n",
    "    for p in dictList:\n",
    "        dictWriter.writerow(p)"
   ]
  },
  {
   "cell_type": "code",
   "execution_count": 1,
   "id": "4f17b0ee",
   "metadata": {
    "scrolled": true
   },
   "outputs": [
    {
     "name": "stdout",
     "output_type": "stream",
     "text": [
      "讀取文件下一行 就是不要把標題讀進去: ['姓名', '年齡', '職業']\n",
      "\n",
      "將內容一行行印出來:\n",
      "['張淳安', '38', '網頁設計師']\n",
      "['蔡佳芳', '32', '主治牙醫師']\n",
      "['許鈺晨', '44', '室內設計師']\n",
      "['王山珮', '', '資料工程師']\n",
      "有缺值的就不會畫出來\n",
      "['吳玲苡', '31', '商業設計師']\n",
      "\n",
      "畫圖\n",
      "[38, 32, 44, 31]\n",
      "['張淳安', '蔡佳芳', '許鈺晨', '吳玲苡']\n"
     ]
    },
    {
     "data": {
      "text/plain": [
       "<function matplotlib.pyplot.show(close=None, block=None)>"
      ]
     },
     "execution_count": 1,
     "metadata": {},
     "output_type": "execute_result"
    },
    {
     "data": {
      "image/png": "[encoded data removed]",
      "text/plain": [
       "<Figure size 432x288 with 1 Axes>"
      ]
     },
     "metadata": {
      "needs_background": "light"
     },
     "output_type": "display_data"
    }
   ],
   "source": [
    "# 練習讀取及寫入資料\n",
    "import csv\n",
    "\n",
    "then=[{'姓名':'張淳安','年齡':'38','職業':'網頁設計師'},\n",
    "    {'姓名':'蔡佳芳','年齡':'32','職業':'主治牙醫師'},\n",
    "    {'姓名':'許鈺晨','年齡':'44','職業':'室內設計師'},\n",
    "    {'姓名':'王山珮','年齡':'','職業':'資料工程師'},\n",
    "    {'姓名':'吳玲苡','年齡':'31','職業':'商業設計師'}]\n",
    "\n",
    "# 字典寫入csv 沒使用newline=''會有空格\n",
    "with open('then.csv','w',newline='',encoding='utf-8') as file:\n",
    "    title=['姓名','年齡','職業']\n",
    "    aa=csv.DictWriter(file,fieldnames=title)\n",
    "    aa.writeheader()\n",
    "    for d in then:\n",
    "        aa.writerow(d)\n",
    "\n",
    "namess,agess=[],[]\n",
    "        \n",
    "# 讀取字典\n",
    "with open('then.csv',encoding='utf-8') as files:\n",
    "    bb=csv.reader(files)\n",
    "    headerRow = next(bb)  # 讀取文件下一行 就是不要把標題讀進去的意思\n",
    "    print('讀取文件下一行 就是不要把標題讀進去:',headerRow)\n",
    "    print('\\n將內容一行行印出來:')\n",
    "    # 一行行印出來\n",
    "    for b in bb:\n",
    "        print(b)\n",
    "        try:\n",
    "            names=b[0]\n",
    "            ages=int(b[1])\n",
    "        except Exception:\n",
    "            print('有缺值的就不會畫出來')\n",
    "        else:\n",
    "            namess.append(names)\n",
    "            agess.append(ages)\n",
    "            \n",
    "import matplotlib.pyplot as plt\n",
    "\n",
    "# 劃出的圖才能顯示中文\n",
    "plt.rcParams['font.sans-serif'] = ['Microsoft JhengHei'] \n",
    "plt.rcParams['axes.unicode_minus'] = False\n",
    "\n",
    "s=[25,22,28,20]\n",
    "print('\\n畫圖')\n",
    "print(agess)\n",
    "print(namess)\n",
    "plt.plot(namess,agess)\n",
    "plt.plot(namess,s)\n",
    "plt.fill_between(namess,agess,s,color='b',alpha=0.1)\n",
    "plt.show\n"
   ]
  },
  {
   "cell_type": "code",
   "execution_count": 106,
   "id": "9ddd7c23",
   "metadata": {
    "scrolled": true
   },
   "outputs": [
    {
     "name": "stdout",
     "output_type": "stream",
     "text": [
      "\n",
      "dataframe轉list: [['張淳安', 38.0, '網頁設計師'], ['蔡佳芳', 32.0, '主治牙醫師'], ['許鈺晨', 44.0, '室內設計師'], ['王山珮', nan, '資料工程師'], ['吳玲苡', 31.0, '商業設計師']]\n",
      "\n",
      "list轉dataframe:\n",
      "      0     1      2\n",
      "0  張淳安  38.0  網頁設計師\n",
      "1  蔡佳芳  32.0  主治牙醫師\n",
      "2  許鈺晨  44.0  室內設計師\n",
      "3  王山珮   NaN  資料工程師\n",
      "4  吳玲苡  31.0  商業設計師\n",
      "\n",
      "列出csv檔的標題:\n",
      "姓名\n",
      "年齡\n",
      "職業\n"
     ]
    },
    {
     "data": {
      "text/html": [
       "<div>\n",
       "<style scoped>\n",
       "    .dataframe tbody tr th:only-of-type {\n",
       "        vertical-align: middle;\n",
       "    }\n",
       "\n",
       "    .dataframe tbody tr th {\n",
       "        vertical-align: top;\n",
       "    }\n",
       "\n",
       "    .dataframe thead th {\n",
       "        text-align: right;\n",
       "    }\n",
       "</style>\n",
       "<table border=\"1\" class=\"dataframe\">\n",
       "  <thead>\n",
       "    <tr style=\"text-align: right;\">\n",
       "      <th></th>\n",
       "      <th>姓名</th>\n",
       "      <th>年齡</th>\n",
       "      <th>職業</th>\n",
       "    </tr>\n",
       "  </thead>\n",
       "  <tbody>\n",
       "    <tr>\n",
       "      <th>0</th>\n",
       "      <td>張淳安</td>\n",
       "      <td>38.0</td>\n",
       "      <td>網頁設計師</td>\n",
       "    </tr>\n",
       "    <tr>\n",
       "      <th>1</th>\n",
       "      <td>蔡佳芳</td>\n",
       "      <td>32.0</td>\n",
       "      <td>主治牙醫師</td>\n",
       "    </tr>\n",
       "    <tr>\n",
       "      <th>2</th>\n",
       "      <td>許鈺晨</td>\n",
       "      <td>44.0</td>\n",
       "      <td>室內設計師</td>\n",
       "    </tr>\n",
       "    <tr>\n",
       "      <th>3</th>\n",
       "      <td>王山珮</td>\n",
       "      <td>NaN</td>\n",
       "      <td>資料工程師</td>\n",
       "    </tr>\n",
       "    <tr>\n",
       "      <th>4</th>\n",
       "      <td>吳玲苡</td>\n",
       "      <td>31.0</td>\n",
       "      <td>商業設計師</td>\n",
       "    </tr>\n",
       "  </tbody>\n",
       "</table>\n",
       "</div>"
      ],
      "text/plain": [
       "    姓名    年齡     職業\n",
       "0  張淳安  38.0  網頁設計師\n",
       "1  蔡佳芳  32.0  主治牙醫師\n",
       "2  許鈺晨  44.0  室內設計師\n",
       "3  王山珮   NaN  資料工程師\n",
       "4  吳玲苡  31.0  商業設計師"
      ]
     },
     "execution_count": 106,
     "metadata": {},
     "output_type": "execute_result"
    }
   ],
   "source": [
    "from pandas import DataFrame\n",
    "import pandas as pd\n",
    "import numpy as np\n",
    "\n",
    "hh=pd.read_csv('then.csv')\n",
    "tt=np.array(hh).tolist()  # dataframe轉list\n",
    "bb=pd.DataFrame(tt)     # list轉dataframe\n",
    "print('\\ndataframe轉list:',tt)\n",
    "print('\\nlist轉dataframe:\\n',bb)\n",
    "\n",
    "# 列出csv檔的標題\n",
    "print('\\n列出csv檔的標題:')\n",
    "for i,header in enumerate(hh):\n",
    "    print(header)\n",
    "hh"
   ]
  },
  {
   "cell_type": "code",
   "execution_count": 109,
   "id": "bc895081",
   "metadata": {},
   "outputs": [
    {
     "name": "stdout",
     "output_type": "stream",
     "text": [
      "[{'姓名': '張淳安', '年齡': '38', '職業': '網頁設計師'}, {'姓名': '蔡佳芳', '年齡': '32', '職業': '主治牙醫師'}, {'姓名': '許鈺晨', '年齡': '44', '職業': '室內設計師'}, {'姓名': '王山珮', '年齡': '34', '職業': '資料工程師'}, {'姓名': '吳玲苡', '年齡': '31', '職業': '商業設計師'}]\n"
     ]
    }
   ],
   "source": [
    "# 使用pickle存檔  \n",
    "\n",
    "import pickle\n",
    "\n",
    "then=[{'姓名':'張淳安','年齡':'38','職業':'網頁設計師'},\n",
    "    {'姓名':'蔡佳芳','年齡':'32','職業':'主治牙醫師'},\n",
    "    {'姓名':'許鈺晨','年齡':'44','職業':'室內設計師'},\n",
    "    {'姓名':'王山珮','年齡':'34','職業':'資料工程師'},\n",
    "    {'姓名':'吳玲苡','年齡':'31','職業':'商業設計師'}]\n",
    "\n",
    "fn='then.dat'\n",
    "with open(fn,'wb') as fn_dat:\n",
    "    pickle.dump(then,fn_dat)  # 將data轉成pickle\n",
    "    \n",
    "with open(fn,'rb') as fn_txt:\n",
    "    txt=pickle.load(fn_txt)\n",
    "    print(txt)"
   ]
  },
  {
   "cell_type": "code",
   "execution_count": 79,
   "id": "c6b73f09",
   "metadata": {
    "scrolled": false
   },
   "outputs": [
    {
     "data": {
      "image/png": "[encoded data removed]",
      "text/plain": [
       "<Figure size 480x320 with 1 Axes>"
      ]
     },
     "metadata": {
      "needs_background": "light"
     },
     "output_type": "display_data"
    }
   ],
   "source": [
    "import matplotlib.pyplot as plt\n",
    "\n",
    "years = [1000,1500,1600,1700,1750,1800,1850,\n",
    "        1900,1950,1960,1965,1970,1975,1980,\n",
    "        1985,1990,1995,2000,2005,2010,2015]\n",
    "\n",
    "pops = [200,400,458,580,662,791,1000,\n",
    "        1262,1650,2525,2758,3018,3322,3682,\n",
    "        4061,4440,4853,5310,6520,\n",
    "        6930,7349]\n",
    "\n",
    "# 使用plt.plot()，將years,pops資料內容放到函數內：\n",
    "fig=plt.figure(dpi=80,figsize=(6,4))\n",
    "plt.plot(years,pops)\n",
    "# 將x軸數字旋轉 一定要放plt.plot後面  rotation給角度\n",
    "fig.autofmt_xdate(rotation=60)\n",
    "# 接著要將圖表顯示出來：\n",
    "plt.show()"
   ]
  },
  {
   "cell_type": "code",
   "execution_count": 134,
   "id": "44775d01",
   "metadata": {},
   "outputs": [
    {
     "name": "stdout",
     "output_type": "stream",
     "text": [
      "['Phone', 'TV', 'Notebook']\n",
      "0\n",
      "Phone\n",
      "TV\n",
      "Notebook\n",
      "['35000', '18000', '28000']\n",
      "1\n",
      "35000\n",
      "18000\n",
      "28000\n",
      "\n",
      "可找到excel的sheet名稱: Sheet  0:<sheet1>\n",
      "\n",
      "\n",
      "['Phone', 'TV', 'Notebook']\n",
      "['35000', '18000', '28000']\n"
     ]
    }
   ],
   "source": [
    "# ch2_25.py 雙迴圈版\n",
    "\n",
    "# 寫入excel\n",
    "import xlwt\n",
    "\n",
    "fn = 'out2_25_myself.xls'\n",
    "rr = [['Phone', 'TV', 'Notebook'],['35000', '18000', '28000']]\n",
    "\n",
    "wb = xlwt.Workbook()  # 傳回活頁部物件\n",
    "# 建立一個worksheet名為'sheet1' cell_overwrite_ok=True 可以重設儲存內容\n",
    "sh = wb.add_sheet('sheet1', cell_overwrite_ok=True)\n",
    "for i in range(len(rr)):\n",
    "    print(rr[i])\n",
    "    print(i)\n",
    "    for j in range(len(rr[i])):\n",
    "        print(rr[i][j])\n",
    "        sh.write(i, j, rr[i][j])     # 寫入datahead list\n",
    "\n",
    "wb.save(fn)\n",
    "\n",
    "\n",
    "# 讀取excel\n",
    "import xlrd\n",
    "wb=xlrd.open_workbook(fn)\n",
    "sh=wb.sheets()[0]\n",
    "print('\\n可找到excel的sheet名稱:',sh) \n",
    "print('\\n')\n",
    "rows=sh.nrows\n",
    "for row in range(rows):\n",
    "    print(sh.row_values(row))"
   ]
  }
 ],
 "metadata": {
  "kernelspec": {
   "display_name": "Python 3 (ipykernel)",
   "language": "python",
   "name": "python3"
  },
  "language_info": {
   "codemirror_mode": {
    "name": "ipython",
    "version": 3
   },
   "file_extension": ".py",
   "mimetype": "text/x-python",
   "name": "python",
   "nbconvert_exporter": "python",
   "pygments_lexer": "ipython3",
   "version": "3.8.12"
  }
 },
 "nbformat": 4,
 "nbformat_minor": 5
}
